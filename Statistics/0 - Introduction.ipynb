{
 "cells": [
  {
   "cell_type": "markdown",
   "metadata": {},
   "source": [
    "# Introduction to Statistics "
   ]
  },
  {
   "cell_type": "markdown",
   "metadata": {},
   "source": [
    "Statistics is the science of collecting, organizing and analyzing the data. Statistics helps in BETTER DECISION MAKING."
   ]
  },
  {
   "cell_type": "markdown",
   "metadata": {},
   "source": [
    "## What is meant by Data? "
   ]
  },
  {
   "cell_type": "markdown",
   "metadata": {},
   "source": [
    "Data is facts of pieces of information that can be measured. Any data we consider it should be measurable.\n",
    "\n",
    "Eg. IQs of students of a class [12, 34, 56, 21], Ages of students in the class. "
   ]
  },
  {
   "cell_type": "markdown",
   "metadata": {},
   "source": [
    "## Types of Statistics"
   ]
  },
  {
   "cell_type": "markdown",
   "metadata": {},
   "source": [
    "### 1. Descriptive Statistics "
   ]
  },
  {
   "cell_type": "markdown",
   "metadata": {},
   "source": [
    "It consists of organizing and summarizing data.\n",
    "\n",
    "Consider there are math students in a class. Marks of the 1st Sem are 23, 45, 67, 83, 99, 95, 75, 65\n",
    "Descriptive Statistics: What is the average marks of the class?"
   ]
  },
  {
   "cell_type": "markdown",
   "metadata": {},
   "source": [
    "### 2. Inferential Statistics"
   ]
  },
  {
   "cell_type": "markdown",
   "metadata": {},
   "source": [
    "Technique where in we will use the data that we have measured to form conclusions.\n",
    "\n",
    "Consider the above example, using inferential statistics: Were the marks of this class students are similar to the marks of the Maths student class? Considered that above is the sample"
   ]
  },
  {
   "cell_type": "markdown",
   "metadata": {},
   "source": []
  }
 ],
 "metadata": {
  "language_info": {
   "name": "python"
  }
 },
 "nbformat": 4,
 "nbformat_minor": 2
}
