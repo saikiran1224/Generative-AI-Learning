{
 "cells": [
  {
   "cell_type": "markdown",
   "metadata": {},
   "source": [
    "# Introduction to Statistics "
   ]
  },
  {
   "cell_type": "markdown",
   "metadata": {},
   "source": [
    "Statistics is the science of collecting, organizing and analyzing the data. Statistics helps in BETTER DECISION MAKING."
   ]
  },
  {
   "cell_type": "markdown",
   "metadata": {},
   "source": [
    "## What is meant by Data? "
   ]
  },
  {
   "cell_type": "markdown",
   "metadata": {},
   "source": [
    "Data is facts of pieces of information that can be measured. Any data we consider it should be measurable.\n",
    "\n",
    "Eg. IQs of students of a class [12, 34, 56, 21], Ages of students in the class. "
   ]
  },
  {
   "cell_type": "markdown",
   "metadata": {},
   "source": [
    "## Types of Statistics"
   ]
  },
  {
   "cell_type": "markdown",
   "metadata": {},
   "source": [
    "### 1. Descriptive Statistics "
   ]
  },
  {
   "cell_type": "markdown",
   "metadata": {},
   "source": [
    "It consists of organizing and summarizing data.\n",
    "\n",
    "Consider there are math students in a class. Marks of the 1st Sem are 23, 45, 67, 83, 99, 95, 75, 65\n",
    "Descriptive Statistics: What is the average marks of the class?"
   ]
  },
  {
   "cell_type": "markdown",
   "metadata": {},
   "source": [
    "### 2. Inferential Statistics"
   ]
  },
  {
   "cell_type": "markdown",
   "metadata": {},
   "source": [
    "Technique where in we will use the data that we have measured to form conclusions.\n",
    "\n",
    "Consider the above example, using inferential statistics: Were the marks of this class students are similar to the marks of the Maths student class? Considered that above is the sample"
   ]
  },
  {
   "cell_type": "markdown",
   "metadata": {},
   "source": [
    "## Population "
   ]
  },
  {
   "cell_type": "markdown",
   "metadata": {},
   "source": [
    "Statistics is a way to understand and learn about numbers and information. It helps us to collect, organize, and analyze data. Data is like small pieces of information that we can measure, like how tall someone is or how many apples are in a basket. Statistics helps us make better decisions by finding patterns and making predictions based on the information we have. It's like solving puzzles with numbers to learn new things!"
   ]
  },
  {
   "cell_type": "markdown",
   "metadata": {},
   "source": [
    "## Sample"
   ]
  },
  {
   "cell_type": "markdown",
   "metadata": {},
   "source": [
    "In statistics, a sample is a small group of things or people that we use to learn about a larger group. It's like when you want to know what your friends like to eat, but you can't ask all of them. So you ask a few friends and use their answers as a sample to guess what all your friends might like to eat. Samples help us make predictions and understand things without having to look at everything all at once."
   ]
  },
  {
   "cell_type": "markdown",
   "metadata": {},
   "source": [
    "## Sampling Techniques\n",
    "\n",
    "From the population, we cant simply extract the samples. There are some standardized techniques which needs to be employed to define samples. Some of the main techniques are mentioned as follows:\n",
    "\n",
    "1. Random Sample Technique:"
   ]
  },
  {
   "cell_type": "markdown",
   "metadata": {},
   "source": []
  }
 ],
 "metadata": {
  "language_info": {
   "name": "python"
  }
 },
 "nbformat": 4,
 "nbformat_minor": 2
}
