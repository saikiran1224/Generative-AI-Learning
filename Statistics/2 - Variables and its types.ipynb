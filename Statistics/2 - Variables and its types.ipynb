{
 "cells": [
  {
   "cell_type": "markdown",
   "metadata": {},
   "source": [
    "# Variables"
   ]
  },
  {
   "cell_type": "markdown",
   "metadata": {},
   "source": [
    "Variable is a property which can take any value. \n",
    "\n",
    "Eg. Height = 100 cm, Weight = 92 kg."
   ]
  },
  {
   "cell_type": "markdown",
   "metadata": {},
   "source": [
    "## Types of variables\n",
    "\n",
    "Variables are divided into two types. They are the following: \n",
    "\n",
    "1. Qualitative variable or Categorical variable\n",
    "\n",
    "2. Quantitative variable"
   ]
  },
  {
   "cell_type": "markdown",
   "metadata": {},
   "source": [
    "## Qualitative or Categorical Variable "
   ]
  },
  {
   "cell_type": "markdown",
   "metadata": {},
   "source": [
    "Its a type of variable where it defines the characteristics. \n",
    "\n",
    "Eg. Gender, Blood group, IQ level, etc. "
   ]
  },
  {
   "cell_type": "markdown",
   "metadata": {},
   "source": [
    "## Quantitative Variable"
   ]
  },
  {
   "cell_type": "markdown",
   "metadata": {},
   "source": [
    "Its a type of variable where it is measured numerically. Arithemtic operations like Addition, Subtraction, Division and Multiplication can be performed on the variables.\n",
    "\n",
    "They are further divided into two types. They are: \n",
    "\n",
    "- Discrete variables: Whole number, no decimals \n",
    "  Eg. Number of students in class (60), Total population in country (121 Billion)\n",
    "\n",
    "- Continous variables: decimal number \n",
    "  Eg. Height (145.5 cm), Weight (102 kg)"
   ]
  },
  {
   "cell_type": "markdown",
   "metadata": {},
   "source": [
    "## Variable Measurement Scales"
   ]
  },
  {
   "cell_type": "markdown",
   "metadata": {},
   "source": [
    "There are total four types of variable measurement scales. They are as follows:\n",
    "\n",
    "**Measurement scales comes under Qualitative**\n",
    "\n",
    "- Nominal: categorical data, no ordering Eg. Name, Adress, Gender, etc.\n",
    "\n",
    "- Ordeal: order of data matters, but irrespective of the value Eg. Ranks of students in a class, {Worst, Average, Good, Very Good} etc.\n",
    "\n",
    "**Measurement scales comes under Quantitative**\n",
    "\n",
    "- Interval: Similar to the data intervals Eg. Temperature intervals - (30 - 60); (61 - 70); (71 - 90) etc.\n",
    "\n",
    "- Ration: Differences between measurements, True Zero exists. Eg. Weight ranges from (0 -> 150 kg), etc."
   ]
  },
  {
   "cell_type": "markdown",
   "metadata": {},
   "source": [
    "# Frequency Distribution"
   ]
  },
  {
   "cell_type": "markdown",
   "metadata": {},
   "source": [
    "Frequency Distribution is a visual representation of how often a value occurs in a dataset. It can be displayed as a table or graph. \n",
    "\n",
    "Consider a sample dataset - Rose, Lilly, Sunflower, Rose, Lilly, Sunflower, Rose, Lilly, Lilly.\n",
    "\n",
    "The below table can be visualized for the dataset: \n",
    "\n",
    "| Flower name | Frequency | Cumulative Frequency | \n",
    "| :---------: | :---------: | :---------: |\n",
    "| Rose | 3 | 3 |\n",
    "| Lilly | 4 | 4 + 3 = 7 | \n",
    "| Sunflower | 2 | 7 + 2 = 9 |\n",
    "\n",
    "From this data, we can visualize using a bar graph or histogram. \n",
    "\n"
   ]
  },
  {
   "cell_type": "markdown",
   "metadata": {},
   "source": [
    "## Visualizing above data using Bar graph"
   ]
  },
  {
   "cell_type": "code",
   "execution_count": 9,
   "metadata": {},
   "outputs": [
    {
     "data": {
      "text/plain": [
       "Text(0, 0.5, 'Count')"
      ]
     },
     "execution_count": 9,
     "metadata": {},
     "output_type": "execute_result"
    },
    {
     "data": {
      "image/png": "[encoded data removed]",
      "text/plain": [
       "<Figure size 640x480 with 1 Axes>"
      ]
     },
     "metadata": {},
     "output_type": "display_data"
    }
   ],
   "source": [
    "import matplotlib.pyplot as plt\n",
    "%matplotlib inline \n",
    "\n",
    "flowers_list = ['Rose', 'Lilly', 'Sunflower', 'Rose', 'Lilly', 'Sunflower', 'Rose', 'Lilly', 'Lilly']\n",
    "\n",
    "plt.bar(x=flowers_list, color='skyblue', height=[flowers_list.count(flower) for flower in flowers_list])\n",
    "plt.xlabel('Flowers')\n",
    "plt.ylabel('Count')"
   ]
  },
  {
   "cell_type": "markdown",
   "metadata": {},
   "source": [
    "## Visualizing students_marks data using Histogram"
   ]
  },
  {
   "cell_type": "code",
   "execution_count": 1,
   "metadata": {},
   "outputs": [
    {
     "name": "stdout",
     "output_type": "stream",
     "text": [
      "[60, 52, 81, 86, 90, 63, 38, 81, 93, 73, 96, 93, 55, 80, 81, 63, 27, 40, 41, 92, 60, 78, 80, 4, 5, 16, 56, 17, 26, 28, 57, 84, 65, 65, 76, 46, 77, 44, 27, 79, 10, 41, 36, 41, 18, 94, 13, 58, 88, 46]\n"
     ]
    },
    {
     "data": {
      "application/javascript": "\n        if (window._pyforest_update_imports_cell) { window._pyforest_update_imports_cell('import matplotlib.pyplot as plt'); }\n    ",
      "text/plain": [
       "<IPython.core.display.Javascript object>"
      ]
     },
     "metadata": {},
     "output_type": "display_data"
    },
    {
     "data": {
      "application/javascript": "\n        if (window._pyforest_update_imports_cell) { window._pyforest_update_imports_cell('import matplotlib.pyplot as plt'); }\n    ",
      "text/plain": [
       "<IPython.core.display.Javascript object>"
      ]
     },
     "metadata": {},
     "output_type": "display_data"
    },
    {
     "data": {
      "application/javascript": "\n        if (window._pyforest_update_imports_cell) { window._pyforest_update_imports_cell('import matplotlib.pyplot as plt'); }\n    ",
      "text/plain": [
       "<IPython.core.display.Javascript object>"
      ]
     },
     "metadata": {},
     "output_type": "display_data"
    },
    {
     "data": {
      "text/plain": [
       "Text(0, 0.5, 'Frequency of students')"
      ]
     },
     "execution_count": 1,
     "metadata": {},
     "output_type": "execute_result"
    },
    {
     "data": {
      "image/png": "[encoded data removed]",
      "text/plain": [
       "<Figure size 640x480 with 1 Axes>"
      ]
     },
     "metadata": {},
     "output_type": "display_data"
    }
   ],
   "source": [
    "import random\n",
    "\n",
    "students_marks = [random.randint(0, 100) for _ in range(1, 51)]\n",
    "\n",
    "print(students_marks)\n",
    "\n",
    "plt.hist(x=students_marks, color='green', bins=5)\n",
    "plt.xlabel('Marks')\n",
    "plt.ylabel('Frequency of students') "
   ]
  },
  {
   "cell_type": "code",
   "execution_count": null,
   "metadata": {},
   "outputs": [],
   "source": []
  }
 ],
 "metadata": {
  "kernelspec": {
   "display_name": "Python 3",
   "language": "python",
   "name": "python3"
  },
  "language_info": {
   "codemirror_mode": {
    "name": "ipython",
    "version": 3
   },
   "file_extension": ".py",
   "mimetype": "text/x-python",
   "name": "python",
   "nbconvert_exporter": "python",
   "pygments_lexer": "ipython3",
   "version": "3.13.0"
  }
 },
 "nbformat": 4,
 "nbformat_minor": 2
}
