{
 "cells": [
  {
   "cell_type": "markdown",
   "metadata": {},
   "source": [
    "# Measure of Dispersion"
   ]
  },
  {
   "cell_type": "markdown",
   "metadata": {},
   "source": [
    "Measure of Dispersion helps to understand how well the data is distributed in the dataset using two main measures. They are as follows: \n",
    "\n",
    "- Variance: (Population Variance $\\displaystyle \\sigma ^{2}$ and Sample variance $\\displaystyle s^{2}$)\n",
    "\n",
    "- Standard Deviation ($\\displaystyle \\sigma$ and $\\displaystyle s$)"
   ]
  },
  {
   "cell_type": "markdown",
   "metadata": {},
   "source": [
    "## Variance"
   ]
  },
  {
   "cell_type": "markdown",
   "metadata": {},
   "source": [
    "Variance is a measure of dispersion where it will help us to understand how well the data is dispersed. It is defined as the ratio of Sum of differences between mean and the member to the count of all the observations.\n",
    "\n",
    "It is further divided into two types: \n",
    "\n",
    "- Population Variance ($\\displaystyle \\sigma ^{2}$)\n",
    "\n",
    "- Sample Variance ($\\displaystyle s^{2}$)"
   ]
  },
  {
   "cell_type": "markdown",
   "metadata": {},
   "source": [
    "> ### Variance gives us an actual value to how much the numbers in the dataset vary from the mean."
   ]
  },
  {
   "cell_type": "markdown",
   "metadata": {},
   "source": [
    "### Population Variance"
   ]
  },
  {
   "cell_type": "markdown",
   "metadata": {},
   "source": [
    "The formula for calculating the population variance is given by:\n",
    "\n",
    "$\\ \\sigma^2 = \\frac{1}{N} \\sum_{i=1}^{N} (x_i - \\mu)^2\\ $\n",
    "\n",
    "Where:\n",
    "- $\\ \\sigma^2$ represents the population variance.\n",
    "- N is the total number of observations in the population.\n",
    "- $ x_i$ represents each individual observation.\n",
    "- $ \\mu$ is the population mean."
   ]
  },
  {
   "cell_type": "markdown",
   "metadata": {},
   "source": [
    "### Sample Variance"
   ]
  },
  {
   "cell_type": "markdown",
   "metadata": {},
   "source": [
    "The formula for calculating the sample variance is given by: \n",
    "\n",
    "$\\ s^2 = \\frac{1}{n-1} \\sum_{i=1}^{n} (x_i - \\bar{x})^2$\n",
    "\n",
    "\n",
    "Where:\n",
    "- $\\ s^2$ represents the sample variance.\n",
    "- $\\ n$ is the total number of observations in the sample.\n",
    "- $\\ x_i$ represents each individual observation.\n",
    "- $\\bar{x}$ is the sample mean."
   ]
  },
  {
   "cell_type": "markdown",
   "metadata": {},
   "source": [
    "## Standard Deviation "
   ]
  },
  {
   "cell_type": "markdown",
   "metadata": {},
   "source": [
    "Standard Deviation is defined as the square root of the variance. Its often defined as $\\displaystyle \\sigma$ and $\\displaystyle s$.\n",
    "\n",
    "In short we can depict that if the Standard Deviation is More, then the data is well distributed or vice-versa.\n",
    "\n",
    "Remember that **Most of the cases, the mean of the different datasets will be the same but the Standard deviation will differ**"
   ]
  },
  {
   "cell_type": "markdown",
   "metadata": {},
   "source": [
    "> ### Standard Deviation measures how far apart, numbers are distributed in the dataset. "
   ]
  },
  {
   "cell_type": "markdown",
   "metadata": {},
   "source": [
    "## Example"
   ]
  },
  {
   "cell_type": "markdown",
   "metadata": {},
   "source": [
    "In the below graph, we can clearly observe that mean is same for all the first three (Blue, Red, Yellow) but the Variance varied. As mentioned earlier, variance helps to determine how the data points are arranged apart from the Mean. \n",
    "\n",
    "Here, the higher Standard deviation (Yellow line) has well distributed data among others. "
   ]
  },
  {
   "cell_type": "markdown",
   "metadata": {},
   "source": [
    "![Standard Deviation Example](https://study.com/cimages/multimages/16/image635252320021205110306.jpg)"
   ]
  }
 ],
 "metadata": {
  "language_info": {
   "name": "python"
  }
 },
 "nbformat": 4,
 "nbformat_minor": 2
}
