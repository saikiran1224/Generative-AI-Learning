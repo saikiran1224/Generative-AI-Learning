{
 "cells": [
  {
   "cell_type": "markdown",
   "metadata": {},
   "source": [
    "# Population (N)"
   ]
  },
  {
   "cell_type": "markdown",
   "metadata": {},
   "source": [
    "Population is defined as the super set consisting of all the members with a common characteristic. Its simply a group from where we can draw the conclusions upon. It is often denoted as N. \n",
    "\n",
    "Eg. Population of City, Population of India, Population of students, etc."
   ]
  },
  {
   "cell_type": "markdown",
   "metadata": {},
   "source": [
    "# Sample (n)"
   ]
  },
  {
   "cell_type": "markdown",
   "metadata": {},
   "source": [
    "Its a subset of Population. Sample is a specific group taken out from the whole set of population. Each sample in a population may depict different types of characteristics, respectively. \n",
    "\n",
    "Eg. Survey of 100 students in a college, survey of heart patients in hospital, etc."
   ]
  },
  {
   "cell_type": "markdown",
   "metadata": {},
   "source": [
    "# Sampling Techniques\n",
    "\n",
    "We can't simply extract the samples from the population for which usually there are some pre-defined techniques which we can use for performing the correct sampling which therefore provides the better results."
   ]
  },
  {
   "cell_type": "markdown",
   "metadata": {},
   "source": [
    "## 1. Simple Random Sampling\n",
    "\n",
    "As the title says, we will simply select the members of the population by random irrepsective of any feature or characteristic and group them into samples. \n",
    "\n",
    "Remember, every member in the population has an equal characteristic for being selected in the sample ('n').\n",
    "\n",
    "Some of the examples include: \n",
    "\n",
    "- Sample of voters taken for calculating Exit polls"
   ]
  },
  {
   "cell_type": "markdown",
   "metadata": {},
   "source": [
    "## 2. Stratified Sampling "
   ]
  },
  {
   "cell_type": "markdown",
   "metadata": {},
   "source": [
    "Its a sampling technique where in which the member selected from population should not over-lap each other. In short, the population is split into **Non-Overlapping** groups.\n",
    "\n",
    "Eg. Sample containing only Males or Females, Sample containing patients of only A+ve blood group, etc.\n",
    "\n",
    "Simple Funda - The data in each sample should not overlap each other. "
   ]
  },
  {
   "cell_type": "markdown",
   "metadata": {},
   "source": [
    "## 3. Systematic Sampling"
   ]
  },
  {
   "cell_type": "markdown",
   "metadata": {},
   "source": [
    "A sampling technique where in which, we will select the n-th member of the population. \n",
    "\n",
    "For example, we will perform COVID test to every 8th person in a Shopping mall. "
   ]
  },
  {
   "cell_type": "markdown",
   "metadata": {},
   "source": [
    "## 4. Convenience Sampling"
   ]
  },
  {
   "cell_type": "markdown",
   "metadata": {},
   "source": [
    "A sampling technique where members grouped into a sample should have real domain knowledge, or really interested. \n",
    "\n",
    "For example, Survey which needs to be attempted by the data scientists in a company (Selected people should have domain knowledge ONLY)."
   ]
  }
 ],
 "metadata": {
  "language_info": {
   "name": "python"
  }
 },
 "nbformat": 4,
 "nbformat_minor": 2
}
