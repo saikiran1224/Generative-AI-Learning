{
 "cells": [
  {
   "cell_type": "markdown",
   "metadata": {},
   "source": [
    "# Percentiles and Quartiles"
   ]
  },
  {
   "cell_type": "markdown",
   "metadata": {},
   "source": [
    "Percentiles and quartiles are statistical measures used to describe the distribution of a dataset.\n",
    "\n",
    "Before proceeding to learn with Percentile and Quartile, we will first understand about Percentage. \n",
    "\n",
    " Q. Find the percentage of odd numbers in the dataset {1, 2, 3, 4, 5}\n",
    " \n",
    " Ans. Percentage of odd numbers = 3 / 5 = 0.6 = 60%"
   ]
  },
  {
   "cell_type": "markdown",
   "metadata": {},
   "source": [
    "## Percentiles"
   ]
  },
  {
   "cell_type": "markdown",
   "metadata": {},
   "source": [
    "Percentiles divide a dataset into equal parts based on the relative position of a specific value within the dataset. A percentile represents the value below which a certain percentage of the data falls. For example, the 75th percentile represents the value below which 75% of the data falls. Percentiles are often used to understand the spread and distribution of data."
   ]
  },
  {
   "cell_type": "markdown",
   "metadata": {},
   "source": [
    "Percentile Ranking of x = (No. of values below x) / (Total count of values n) * 100 \n",
    "\n",
    "Value at Percentile Ranking of x% = (Percentile (x) / 100) * (n+1)"
   ]
  },
  {
   "cell_type": "markdown",
   "metadata": {},
   "source": [
    "## Quartiles"
   ]
  },
  {
   "cell_type": "markdown",
   "metadata": {},
   "source": [
    "Quartiles are a specific type of percentiles that divide a dataset into four equal parts. The three quartiles, denoted as Q1, Q2, and Q3, represent the values below which 25%, 50%, and 75% of the data falls, respectively. The second quartile, Q2, is also known as the median and represents the middle value of the dataset when it is sorted in ascending order. Quartiles are commonly used to analyze the spread and central tendency of data."
   ]
  },
  {
   "cell_type": "markdown",
   "metadata": {},
   "source": [
    "## Example and Observations"
   ]
  },
  {
   "cell_type": "markdown",
   "metadata": {},
   "source": [
    "Consider a dataset of {2, 2, 3, 4, 5, 5, 5, 6, 7, 8, 8, 8, 8, 8, 9, 9, 10, 11, 11, 12}"
   ]
  },
  {
   "cell_type": "markdown",
   "metadata": {},
   "source": [
    "### Calculating Percentile Ranking using value from dataset"
   ]
  },
  {
   "cell_type": "markdown",
   "metadata": {},
   "source": [
    "Let us calculate the PERCENTILE RANKING of 10 \n",
    "\n",
    "To calculate we will use the above mentioned formula, \n",
    "\n",
    "Percentile ranking of (x = 10) = 16/20 * 100 = 80% \n",
    "\n",
    "It means that \"80% of the Entire Distribution is less than 10\"\n",
    "\n",
    "Similarly if we calculate for 11, Percentile Ranking of (x = 11) = 17/20 * 100 = 85%."
   ]
  },
  {
   "cell_type": "markdown",
   "metadata": {},
   "source": [
    "### The Other way: Calculating the value which exists at Percentile Ranking of x% "
   ]
  },
  {
   "cell_type": "markdown",
   "metadata": {},
   "source": [
    "Let us the calculate the value which exists at a percentile ranking of 25%. \n",
    "\n",
    "To calculate we will be use the above mentioned formula, \n",
    "\n",
    "Value at percentile (25%) = 25 / 100 * (20 + 1) = 1/4 * 21 = 5.25 (Index location)\n",
    "\n",
    "So  here the above formula returned 5.25 ~ 5. It means if we start counting from first in the dataset, the 5th Number in the dataset will be the desired value. Here, coincidentally the 5th position is 5.\n",
    "\n",
    "Similarly, if we need to calculate the value at percentile (75%) \n",
    "\n",
    "Value at percentile (75%) = 75 / 100 * (21) = 15.75 ~ 15th or 16th position is **9**.\n",
    "\n"
   ]
  }
 ],
 "metadata": {
  "language_info": {
   "name": "python"
  }
 },
 "nbformat": 4,
 "nbformat_minor": 2
}
