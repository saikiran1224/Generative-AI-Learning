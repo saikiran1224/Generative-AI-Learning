{
 "cells": [
  {
   "cell_type": "markdown",
   "metadata": {},
   "source": [
    "# Central Tendency Measures \n",
    "\n",
    "The following are the three main measures: \n",
    "\n",
    "1. Mean/Average\n",
    "2. Mode\n",
    "3. Median"
   ]
  }
 ],
 "metadata": {
  "language_info": {
   "name": "python"
  }
 },
 "nbformat": 4,
 "nbformat_minor": 2
}
