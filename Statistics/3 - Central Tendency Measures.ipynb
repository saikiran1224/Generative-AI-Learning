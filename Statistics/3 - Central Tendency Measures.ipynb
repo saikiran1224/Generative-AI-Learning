{
 "cells": [
  {
   "cell_type": "markdown",
   "metadata": {},
   "source": [
    "# Central Tendency Measures"
   ]
  },
  {
   "cell_type": "markdown",
   "metadata": {},
   "source": [
    "Central Tendency Measure is a measure used to determine the center of the distribution of the data. The three main measures used for calculation of central tendency are as follows: \n",
    "\n",
    "- Mean\n",
    "\n",
    "- Mode\n",
    "- Median"
   ]
  },
  {
   "cell_type": "markdown",
   "metadata": {},
   "source": [
    "## Mean or Average ($\\bar{x}$  = $\\frac{1}{n} \\sum_{i=i}^{n} x_{i}$)"
   ]
  },
  {
   "cell_type": "markdown",
   "metadata": {},
   "source": [
    "Mean is defined as the ratio of sum of all the observations to the number of observations. It is also defined as μ."
   ]
  },
  {
   "cell_type": "markdown",
   "metadata": {},
   "source": [
    "### Example and Observations"
   ]
  },
  {
   "cell_type": "markdown",
   "metadata": {},
   "source": [
    "Example: Consider the dataset - {1, 1, 1, 2, 2, 3, 4} \n",
    "\n",
    "Mean = (1+1+1+2+2+3+4) / 7 = 14 / 7 = 2. \n",
    "\n",
    "So, the mean value = 2. \n",
    "\n",
    "But consider, I have added a large amount of data at the end like 100. Then lets calculate the mean again - {1, 1, 1, 2, 2, 3, 4, 100}\n",
    "\n",
    "Mean = (1+1+1+2+2+3+4+100) / 8 = 114 / 8 = **14.25**\n",
    "\n",
    "If we observe clearly, there was a drastic increase in the mean value from 2 to 14.25 which affects the model performance. Here, 100 is considered as the Outlier. \n",
    "\n",
    "Since, once the outlier is added the mean value got increased, hence \"Mean is not suitable for handling outliers\"."
   ]
  },
  {
   "cell_type": "markdown",
   "metadata": {},
   "source": [
    "## Median "
   ]
  },
  {
   "cell_type": "markdown",
   "metadata": {},
   "source": [
    "Considering the drawbacks of Mean, in handling the outliers, Median solves that by simply calculating the average of numbers in the center (if count of dataset is even), else the central number of dataset will be Median (if count of dataset is odd). \n",
    "\n",
    "Below are the three main steps followed to calculate Median: \n",
    "\n",
    "1. Sort the numbers first (Very Important)\n",
    "2. Count the elements in the dataset (whether its odd or even)\n",
    "3. Median will be the Central Number in the dataset (if count is odd) or calculate avg. of two numbers in center (if count is even)."
   ]
  },
  {
   "cell_type": "markdown",
   "metadata": {},
   "source": [
    "### Example and Observations"
   ]
  },
  {
   "cell_type": "markdown",
   "metadata": {},
   "source": [
    "Consider the same dataset - {1, 1, 1, 2, 2, 3, 4}\n",
    "\n",
    "The dataset is already sorted, and the count of the dataset is 7 elements (Odd)\n",
    "\n",
    "Central Number in the dataset is **2** which is our Median. So here, even an outlier(100) is added at the end it won't affect the dataset. "
   ]
  },
  {
   "cell_type": "markdown",
   "metadata": {},
   "source": [
    "#### After adding outlier of 100, Calculating the median"
   ]
  },
  {
   "cell_type": "markdown",
   "metadata": {},
   "source": [
    "Let's see {1, 1, 1, 2, 2, 3, 4, 100}, now the updated count will be 8. \n",
    "\n",
    "Dataset is already sorted and count is Even (8 members). Now, the central numbers are [2, 2]\n",
    "\n",
    "Perform average of [2+2]/2 = 2. The Median remains as 2 even the Outlier is added to the dataset. Hence, it is said that Median is good with handling outliers."
   ]
  },
  {
   "cell_type": "markdown",
   "metadata": {},
   "source": [
    "## Mode"
   ]
  },
  {
   "cell_type": "markdown",
   "metadata": {},
   "source": [
    "Mode is defined as the most frequent element occurred in the dataset. \n",
    "\n",
    "Consider the same example as mentioned above - {1, 1, 1, 2, 2, 3, 4}.\n",
    "\n",
    "Mode will be 1, since among all the other numbers 1 is occurring three times. "
   ]
  },
  {
   "cell_type": "markdown",
   "metadata": {},
   "source": [
    "# Key Takeaways"
   ]
  },
  {
   "cell_type": "markdown",
   "metadata": {},
   "source": [
    "Consider a dataset is given,  \n",
    "\n",
    "If there is some missing data in a column **Mode** will be used and the most frequent occurred will be filled in-place of missing number fields. \n",
    "\n",
    "If the age data is missing in a students dataset then, we will use **Mean** to calculate average of all ages and fill them since in a class all the ages of students will be in a specific range only. \n",
    "\n",
    "If the dataset contains outliers, **Median** will be used to solve them.\n"
   ]
  }
 ],
 "metadata": {
  "language_info": {
   "name": "python"
  }
 },
 "nbformat": 4,
 "nbformat_minor": 2
}
