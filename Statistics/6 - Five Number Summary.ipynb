{
 "cells": [
  {
   "cell_type": "markdown",
   "metadata": {},
   "source": [
    "# Five Number Summary"
   ]
  },
  {
   "cell_type": "markdown",
   "metadata": {},
   "source": [
    "Five Number Summary is a way to define a distribution using 5 numbers. In a dataset the 5 values are considered (Minimum, Q1, Median, Q3, Maximum). All these five values are plotted over a graph. \n",
    "\n",
    "The main application of the Five Number Summary is to **Remove or to identify the outliers in the given dataset**. "
   ]
  },
  {
   "cell_type": "markdown",
   "metadata": {},
   "source": [
    "## Calculating Minimum (Lower fence) and Maximum (Higher fence)"
   ]
  },
  {
   "cell_type": "markdown",
   "metadata": {},
   "source": [
    "Before proceeding to remove the outliers, we need to first identify the lower fence and higher fence of the dataset. By calculating both of them, we can understand that all the dataset values should lie between the range of [Lower Fence <-> Higher fence]. \n",
    "\n",
    "No other values which are lying on either of the sides of both the values of fences, are considered to be the Outliers."
   ]
  },
  {
   "cell_type": "markdown",
   "metadata": {},
   "source": [
    "### Formulae"
   ]
  },
  {
   "cell_type": "markdown",
   "metadata": {},
   "source": [
    "$\\ Lower fence = Q1 - 1.5 * (IQR)$\n",
    "\n",
    "$\\ Higher fence = Q3 + 1.5 * (IQR)$\n",
    "\n",
    "where:\n",
    "\n",
    "- Q1 is the 1st Quartile (25%) value\n",
    "\n",
    "- Q3 is the 3rd Quartile(75%) value\n",
    "- IQR is the Inter Quartile range given by (Q3 - Q1)"
   ]
  },
  {
   "cell_type": "markdown",
   "metadata": {},
   "source": [
    "### Dataset"
   ]
  },
  {
   "cell_type": "markdown",
   "metadata": {},
   "source": [
    "Let us use the mentioned dataset:\n",
    "\n",
    "{1, 2, 2, 2, 3, 3, 4, 5, 5, 5, 6, 6, 6, 6, 7, 8, 8, 9, 27}\n",
    "\n",
    "Median from the above dataset (already sorted): 5"
   ]
  },
  {
   "cell_type": "markdown",
   "metadata": {},
   "source": [
    "### Identifying the values at Q1 and Q3"
   ]
  },
  {
   "cell_type": "markdown",
   "metadata": {},
   "source": [
    "Finding value at Q3 (75%). Let us use the formula which was defined in the previous tutorial. \n",
    "\n",
    "Q3 position = 75 / 100 * (19+1) = 75/100 * 20 = 15th Position => 7 (taken from Dataset)\n",
    "\n",
    "Q1 position = 25 / 100 * (20) = 25/100 * 20 = 5th position => 3 (taken from Dataset)\n",
    "\n",
    "IQR = Q3-Q1 = 7-3 = 4."
   ]
  },
  {
   "cell_type": "markdown",
   "metadata": {},
   "source": [
    "### Calculating Lower and higher fence values"
   ]
  },
  {
   "cell_type": "markdown",
   "metadata": {},
   "source": [
    "Lower fence = Q1 - 1.5 * (IQR) = 3 - 1.5 * (4) = -3\n",
    "\n",
    "Higher fence = Q3 + 1.5 * (IQR) = 7 + 1.5 * (4) = 13\n",
    "\n",
    "So it means the whole dataset should like between the above range [-3, 13]\n",
    "\n",
    "From this, we can able to know that **27 is our Outlier**. Hence, we will remove them for now."
   ]
  },
  {
   "cell_type": "markdown",
   "metadata": {},
   "source": [
    "## Plotting Boxplot"
   ]
  },
  {
   "cell_type": "markdown",
   "metadata": {},
   "source": [
    "- Minimum value = 1\n",
    "\n",
    "- Q1 value = 3\n",
    "- Median = 5\n",
    "- Q3 value = 7\n",
    "- Maximum value = 9\n",
    "\n",
    "Using the above five numbers, plot a Box plot on values on the X - axis and mark all the above parameters. Once marked, join the Q1, Median and Q3 which will form a box like structure. \n",
    "\n",
    "Then, join the Minimum and Maximum lines on the both ends, which will make it a complete Box plot.\n",
    "\n",
    "\n",
    "Since we have removed the outlier (27), the box plot looks perfect else a dot will be added at the end. "
   ]
  }
 ],
 "metadata": {
  "language_info": {
   "name": "python"
  }
 },
 "nbformat": 4,
 "nbformat_minor": 2
}
