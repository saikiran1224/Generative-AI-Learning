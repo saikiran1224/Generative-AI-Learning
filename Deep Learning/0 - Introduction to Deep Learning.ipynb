{
 "cells": [
  {
   "cell_type": "markdown",
   "metadata": {},
   "source": [
    "# Introduction to Deep Learning"
   ]
  },
  {
   "cell_type": "markdown",
   "metadata": {},
   "source": [
    "Deep Learning is subset of Machine Learning. The research of Deep Learning was started long back in the year 1958. The main aim of the Deep learning is to Mimic the human brain."
   ]
  },
  {
   "cell_type": "markdown",
   "metadata": {},
   "source": [
    "## AI vs ML vs DL vs Data Science"
   ]
  },
  {
   "cell_type": "markdown",
   "metadata": {},
   "source": [
    "Consider an application built using AI like Netflix, Amazon app, Sophia, etc. \n",
    "\n",
    "In such applications, Netflix uses recommendation system to recommend movies to users based on their search or watch history. Similarly Amazon does the same. Even though the underlying technology is build using Machine Learning, Deep Learning, NLP, etc. the end application will be called as AI application only. \n",
    "\n",
    "Data Science is the study where it will touch all the subjects starting from AI, ML, DL, etc."
   ]
  },
  {
   "cell_type": "markdown",
   "metadata": {},
   "source": [
    "## Why Deep Learning is popular?"
   ]
  },
  {
   "cell_type": "markdown",
   "metadata": {},
   "source": [
    "There are two main reasons making Deep Learning so much popular: \n",
    "\n",
    "- Large amount of data produced in the market. \n",
    "\n",
    "- Hardware Advancement (NIVIDA), production of high-end graphic cards, etc. making the computational efficiency fast."
   ]
  },
  {
   "cell_type": "markdown",
   "metadata": {},
   "source": [
    "## Understanding Perceptron (Single Layered Neural Network)"
   ]
  },
  {
   "cell_type": "markdown",
   "metadata": {},
   "source": [
    "Perceptron is a Single Layered Neural Network, and it is said to be the Simplest possible Neural network. Lets us first understand with the help of a picture: "
   ]
  },
  {
   "cell_type": "markdown",
   "metadata": {},
   "source": [
    "![Image](https://www.w3schools.com/ai/img_perceptron.jpg)"
   ]
  },
  {
   "cell_type": "markdown",
   "metadata": {},
   "source": [
    "If we observe the above picture, We have the Input layer (x1, x2, x3, x4 and x5), Hidden Layer (only single node in Red color), and the output node (black color at the end). \n",
    "\n",
    "Once the data is sent as Input to the Input layer, it will get processed in the hidden layer (Neural Network) and provides the output. "
   ]
  },
  {
   "cell_type": "markdown",
   "metadata": {},
   "source": [
    "### Real-time Example of understanding working of Neural Network\n",
    "\n",
    "Let us consider two scenarios in real-time. "
   ]
  },
  {
   "cell_type": "markdown",
   "metadata": {},
   "source": [
    "#### If a camera is shown to a ADULT, he/she will be able to easily identify the object as Camera. "
   ]
  },
  {
   "cell_type": "markdown",
   "metadata": {},
   "source": [
    "**How it works?** The (input layer) here will be our eyes, where it will see the object, and pass on the information to the neurons (hidden layer), and they will process and it provides the output to the Brain (Output layer)."
   ]
  },
  {
   "cell_type": "markdown",
   "metadata": {},
   "source": [
    "#### If a camera is shown to a NEW BORN, he/she will NOT BE able to identify the object as Camera. \n",
    "\n",
    "**Why?** The answer is simple since the neural network is not trained, so they were unable to answer which item it was. \n",
    "\n",
    "**How to train?** Parents will train the newborn like this is pencil, this is book, this is bottle, this is milk, etc. So in time baby will be able to learn which item it is, as his/her Human Neurological Network is now trained with the data. "
   ]
  }
 ],
 "metadata": {
  "language_info": {
   "name": "python"
  }
 },
 "nbformat": 4,
 "nbformat_minor": 2
}
