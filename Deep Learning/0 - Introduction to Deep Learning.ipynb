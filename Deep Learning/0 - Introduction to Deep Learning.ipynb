{
 "cells": [
  {
   "cell_type": "markdown",
   "metadata": {},
   "source": [
    "# Introduction to Deep Learning"
   ]
  },
  {
   "cell_type": "markdown",
   "metadata": {},
   "source": [
    "Deep Learning is subset of Machine Learning. The research of Deep Learning was started long back in the year 1958. The main aim of the Deep learning is to Mimic the human brain."
   ]
  },
  {
   "cell_type": "markdown",
   "metadata": {},
   "source": [
    "## AI vs ML vs DL vs Data Science"
   ]
  },
  {
   "cell_type": "markdown",
   "metadata": {},
   "source": [
    "Consider an application built using AI like Netflix, Amazon app, Sophia, etc. \n",
    "\n",
    "In such applications, Netflix uses recommendation system to recommend movies to users based on their search or watch history. Similarly Amazon does the same. Even though the underlying technology is build using Machine Learning, Deep Learning, NLP, etc. the end application will be called as AI application only. \n",
    "\n",
    "Data Science is the study where it will touch all the subjects starting from AI, ML, DL, etc."
   ]
  },
  {
   "cell_type": "markdown",
   "metadata": {},
   "source": [
    "## Why Deep Learning is popular?"
   ]
  },
  {
   "cell_type": "markdown",
   "metadata": {},
   "source": [
    "There are two main reasons making Deep Learning so much popular: \n",
    "\n",
    "- Large amount of data produced in the market. \n",
    "\n",
    "- Hardware Advancement (NIVIDA), production of high-end graphic cards, etc. making the computational efficiency fast."
   ]
  },
  {
   "cell_type": "markdown",
   "metadata": {},
   "source": [
    "## Understanding Perceptron (Single Layered Neural Network)"
   ]
  },
  {
   "cell_type": "markdown",
   "metadata": {},
   "source": [
    "Perceptron is a Single Layered Neural Network, and it is said to be the Simplest possible Neural network. Lets us first understand with the help of a picture: "
   ]
  },
  {
   "cell_type": "markdown",
   "metadata": {},
   "source": [
    "![Image](https://www.w3schools.com/ai/img_perceptron.jpg)"
   ]
  },
  {
   "cell_type": "markdown",
   "metadata": {},
   "source": [
    "If we observe the above picture, We have the Input layer (x1, x2, x3, x4 and x5), Hidden Layer (only single node in Red color), and the output node (black color at the end). \n",
    "\n",
    "Once the data is sent as Input to the Input layer, it will get processed in the hidden layer (Neural Network) and provides the output. "
   ]
  },
  {
   "cell_type": "markdown",
   "metadata": {},
   "source": [
    "### Real-time Example of understanding working of Neural Network\n",
    "\n",
    "Let us consider two scenarios in real-time. "
   ]
  },
  {
   "cell_type": "markdown",
   "metadata": {},
   "source": [
    "#### If a camera is shown to a ADULT, he/she will be able to easily identify the object as Camera. "
   ]
  },
  {
   "cell_type": "markdown",
   "metadata": {},
   "source": [
    "**How it works?** The (input layer) here will be our eyes, where it will see the object, and pass on the information to the neurons (hidden layer), and they will process and it provides the output to the Brain (Output layer)."
   ]
  },
  {
   "cell_type": "markdown",
   "metadata": {},
   "source": [
    "#### If a camera is shown to a NEW BORN, he/she will NOT BE able to identify the object as Camera. \n",
    "\n",
    "**Why?** The answer is simple since the neural network is not trained, so they were unable to answer which item it was. \n",
    "\n",
    "**How to train?** Parents will train the newborn like this is pencil, this is book, this is bottle, this is milk, etc. So in time baby will be able to learn which item it is, as his/her Human Neurological Network is now trained with the data. "
   ]
  },
  {
   "cell_type": "markdown",
   "metadata": {},
   "source": [
    "## Each Layer Importance and working"
   ]
  },
  {
   "cell_type": "markdown",
   "metadata": {},
   "source": [
    "Inside the perceptron, there are three main layers. They are:\n",
    "- Input Layer\n",
    "\n",
    "- Hidden layer (for feasability we have considered only one node)\n",
    "- Output layer\n",
    "\n",
    "Let us understand the tasks which are performed by each layer. "
   ]
  },
  {
   "cell_type": "markdown",
   "metadata": {},
   "source": [
    "### Input Layer"
   ]
  },
  {
   "cell_type": "markdown",
   "metadata": {},
   "source": [
    "As mentioned earlier, Input layer is the layer where in which the data is inserted/passed into the Neural network. \n",
    "\n",
    "In the above picture, we have total 5 types of features (x1, x2, x3, x4 and x5). Hence, we have initialized total 5 nodes. And also, for every input node we need to assign the weights (w1, w2, w3, w4 and w5) while passing the inputs to the hidden layer."
   ]
  },
  {
   "cell_type": "markdown",
   "metadata": {},
   "source": [
    "#### What is weights and their importance?"
   ]
  },
  {
   "cell_type": "markdown",
   "metadata": {},
   "source": [
    "Weights basically says that how much the neurons should get activated or deactivated. We will take care of the weights value so that we can control the activation of neuron whether to which level, the neuron should be activated.\n",
    "\n",
    "For example, consider a real-time example, our left hand touched a hot object, then automatically input layer here itself is our hand and its passed to the neurons in the hidden layer. So here, the weights basically regulates the activation of neurons to which level. So here the neurons gets activated very high, and it immediately Brain gives the signal to remove the hand."
   ]
  },
  {
   "cell_type": "markdown",
   "metadata": {},
   "source": [
    "### Hidden Layer "
   ]
  },
  {
   "cell_type": "markdown",
   "metadata": {},
   "source": [
    "Inside the hidden layer, there are two main steps are performed which are essential. They are:\n",
    "\n",
    "1. Calculation of summation of product of inputs and weights. ($\\sum x_i w_i$)\n",
    "\n",
    "2. Pass the ($\\sum x_i w_i$) to the Activation function"
   ]
  }
 ],
 "metadata": {
  "language_info": {
   "name": "python"
  }
 },
 "nbformat": 4,
 "nbformat_minor": 2
}
