{
 "cells": [
  {
   "cell_type": "markdown",
   "metadata": {},
   "source": [
    "# Chatbot Integrated with Tools and Memory\n",
    "\n",
    "Creating a Simple Chatbot where it takes the user prompt as an Input and provides the completion as an output using Graph API.\n",
    "\n",
    "**StateGraph:**\n",
    "\n",
    "\"START\" -> Node[Prompt passed to LLM] -> \"END\"\n",
    "\n",
    "Here, we have\n",
    "- 2 Edges (START to Node, Node to END)\n",
    "\n",
    "- 1 Node (Prompt passed to LLM)\n",
    "- State contains `messages` variable which gets appended everytime with the LLM response generated."
   ]
  },
  {
   "cell_type": "markdown",
   "metadata": {},
   "source": [
    "## Importing Environment Variables"
   ]
  },
  {
   "cell_type": "code",
   "execution_count": 1,
   "metadata": {},
   "outputs": [
    {
     "data": {
      "text/plain": [
       "True"
      ]
     },
     "execution_count": 1,
     "metadata": {},
     "output_type": "execute_result"
    }
   ],
   "source": [
    "from dotenv import load_dotenv\n",
    "load_dotenv()"
   ]
  },
  {
   "cell_type": "markdown",
   "metadata": {},
   "source": [
    "## Importing LangGraph Libraries"
   ]
  },
  {
   "cell_type": "code",
   "execution_count": 2,
   "metadata": {},
   "outputs": [],
   "source": [
    "from typing import Annotated\n",
    "\n",
    "from typing_extensions import TypedDict\n",
    "\n",
    "# LangGraph \n",
    "from langgraph.graph import StateGraph, START, END\n",
    "from langgraph.graph.message import add_messages # It is a Reducer, its main role is to append new messages to the variable which its defined.\n"
   ]
  },
  {
   "cell_type": "markdown",
   "metadata": {},
   "source": [
    "## Initializing LLM "
   ]
  },
  {
   "cell_type": "code",
   "execution_count": 3,
   "metadata": {},
   "outputs": [
    {
     "data": {
      "text/plain": [
       "ChatGroq(client=<groq.resources.chat.completions.Completions object at 0x107c66390>, async_client=<groq.resources.chat.completions.AsyncCompletions object at 0x107621220>, model_name='llama3-8b-8192', model_kwargs={}, groq_api_key=SecretStr('**********'))"
      ]
     },
     "execution_count": 3,
     "metadata": {},
     "output_type": "execute_result"
    }
   ],
   "source": [
    "from langchain_groq import ChatGroq # Type 1 Initialization \n",
    "from langchain.chat_models import init_chat_model # Type 2 Initialization - can be used with any chat model, not just Groq.\n",
    "\n",
    "llm = ChatGroq(model=\"llama3-8b-8192\")\n",
    "\n",
    "llm"
   ]
  },
  {
   "cell_type": "markdown",
   "metadata": {},
   "source": [
    "## Creating State "
   ]
  },
  {
   "cell_type": "code",
   "execution_count": 4,
   "metadata": {},
   "outputs": [],
   "source": [
    "class State(TypedDict):\n",
    "    \"\"\"\n",
    "    Messages have the type \"list\". The `add_messages` function in the annotation\n",
    "    defines how this state key should be updated. (In the current case, it appends messages to the list, rather than overwriting it.)\n",
    "    \"\"\"\n",
    "    messages: Annotated[list, add_messages] # Annotated is used to add metadata to the type, in this case, it specifies that the `messages` list should be updated using the `add_messages` reducer. "
   ]
  },
  {
   "cell_type": "markdown",
   "metadata": {},
   "source": [
    "## Node Implementation for Chat Functionality"
   ]
  },
  {
   "cell_type": "code",
   "execution_count": 5,
   "metadata": {},
   "outputs": [],
   "source": [
    "def chatBot(state: State): # Inheriting the State, since the state is passed to the function, it can be used to access and modify the state variables.\n",
    "    return {\"messages\" : [llm.invoke(state[\"messages\"])]}  # The function takes the current state, invokes the LLM with the messages, and returns the updated messages."
   ]
  },
  {
   "cell_type": "markdown",
   "metadata": {},
   "source": [
    "## Building Graph and adding Node and Edges"
   ]
  },
  {
   "cell_type": "code",
   "execution_count": 6,
   "metadata": {},
   "outputs": [
    {
     "data": {
      "text/plain": [
       "<langgraph.graph.state.StateGraph at 0x107d12000>"
      ]
     },
     "execution_count": 6,
     "metadata": {},
     "output_type": "execute_result"
    }
   ],
   "source": [
    "graph_builder = StateGraph(State)  # Create a StateGraph instance with the defined State type.\n",
    "\n",
    "# Adding Node\n",
    "graph_builder.add_node(\"llmchatbot\", chatBot)  # Add the chatBot function as a node in the graph.\n",
    "\n",
    "# Adding Edges\n",
    "graph_builder.add_edge(START, \"llmchatbot\")  # Connect the START node to the llmchatbot node.\n",
    "graph_builder.add_edge(\"llmchatbot\", END)  # Connect the llmchatbot node to the END node.   "
   ]
  },
  {
   "cell_type": "markdown",
   "metadata": {},
   "source": [
    "## Compiling the Graph"
   ]
  },
  {
   "cell_type": "code",
   "execution_count": 7,
   "metadata": {},
   "outputs": [],
   "source": [
    "graph = graph_builder.compile()"
   ]
  },
  {
   "cell_type": "markdown",
   "metadata": {},
   "source": [
    "## Visualizing the Graph"
   ]
  },
  {
   "cell_type": "code",
   "execution_count": 8,
   "metadata": {},
   "outputs": [
    {
     "data": {
      "image/png": "[encoded data removed]",
      "text/plain": [
       "<IPython.core.display.Image object>"
      ]
     },
     "metadata": {},
     "output_type": "display_data"
    }
   ],
   "source": [
    "from IPython.display import Image, display\n",
    "\n",
    "# Display the graph as an image\n",
    "try: \n",
    "    display(Image(graph.get_graph().draw_mermaid_png()))\n",
    "except Exception as e:\n",
    "    print(\"Error displaying the graph:\", e)"
   ]
  },
  {
   "cell_type": "markdown",
   "metadata": {},
   "source": [
    "## Executing the Graph using `graph.invoke()`"
   ]
  },
  {
   "cell_type": "code",
   "execution_count": 9,
   "metadata": {},
   "outputs": [],
   "source": [
    "response = graph.invoke(\n",
    "    {\n",
    "        \"messages\" : \"Hello, I am Sai Kiran!\"\n",
    "    }\n",
    ")"
   ]
  },
  {
   "cell_type": "code",
   "execution_count": 10,
   "metadata": {},
   "outputs": [
    {
     "data": {
      "text/plain": [
       "{'messages': [HumanMessage(content='Hello, I am Sai Kiran!', additional_kwargs={}, response_metadata={}, id='1d1aefda-8f9d-4ad2-a03c-35f80ca6ef89'),\n",
       "  AIMessage(content=\"Nice to meet you, Sai Kiran! It's great to have you here. How can I assist you today?\", additional_kwargs={}, response_metadata={'token_usage': {'completion_tokens': 25, 'prompt_tokens': 18, 'total_tokens': 43, 'completion_time': 0.070372557, 'prompt_time': 0.013659638, 'queue_time': 0.35284841100000003, 'total_time': 0.084032195}, 'model_name': 'llama3-8b-8192', 'system_fingerprint': 'fp_8b7c3a83f7', 'finish_reason': 'stop', 'logprobs': None}, id='run--7afac6a0-bf0d-4ab9-b0d2-3a73237884cf-0', usage_metadata={'input_tokens': 18, 'output_tokens': 25, 'total_tokens': 43})]}"
      ]
     },
     "execution_count": 10,
     "metadata": {},
     "output_type": "execute_result"
    }
   ],
   "source": [
    "response"
   ]
  },
  {
   "cell_type": "markdown",
   "metadata": {},
   "source": [
    "In the above output, we have received, if we remember correctly when creating the \"State\", we have mentioned `messages` as the list annotated with `add_messages` reducer. \n",
    "\n",
    "Here, the role of \n",
    "- `Annotated` is to convert the provided messages to either the Human or AI Message \n",
    "\n",
    "- `add_messages` reducer is making sure that the messages are getting appended to each other in a response. First the user input, next the LLM response. "
   ]
  },
  {
   "cell_type": "code",
   "execution_count": 11,
   "metadata": {},
   "outputs": [
    {
     "data": {
      "text/plain": [
       "\"Nice to meet you, Sai Kiran! It's great to have you here. How can I assist you today?\""
      ]
     },
     "execution_count": 11,
     "metadata": {},
     "output_type": "execute_result"
    }
   ],
   "source": [
    "response[\"messages\"][-1].content"
   ]
  },
  {
   "cell_type": "markdown",
   "metadata": {},
   "source": [
    "## Executing the Graph using `graph.stream()`"
   ]
  },
  {
   "cell_type": "code",
   "execution_count": 12,
   "metadata": {},
   "outputs": [
    {
     "name": "stdout",
     "output_type": "stream",
     "text": [
      "I'm just a language model, I don't have emotions or feelings like humans do, so I don't have a personal state of being. However, I'm functioning properly and ready to assist you with any questions or tasks you may have! How can I help you today?\n"
     ]
    }
   ],
   "source": [
    "for event in graph.stream({ \"messages\" : \"Hi, how are you doing?\"}): \n",
    "\n",
    "    for value in event.values():\n",
    "        print(value[\"messages\"][-1].content)"
   ]
  },
  {
   "cell_type": "markdown",
   "metadata": {},
   "source": [
    "---"
   ]
  },
  {
   "cell_type": "markdown",
   "metadata": {},
   "source": [
    "## Integrating Tavily Search \n",
    "\n",
    "Tavily Search is just like Serper Tool in CrewAI, which does the google searches and provide the LLM with the recent or latest updates. "
   ]
  },
  {
   "cell_type": "code",
   "execution_count": 13,
   "metadata": {},
   "outputs": [
    {
     "data": {
      "text/plain": [
       "{'query': 'What is the recent AI news today?',\n",
       " 'follow_up_questions': None,\n",
       " 'answer': None,\n",
       " 'images': [],\n",
       " 'results': [{'title': 'AI News | Latest AI News, Analysis & Events',\n",
       "   'url': 'https://www.artificialintelligence-news.com/',\n",
       "   'content': 'AI News reports on the latest artificial intelligence news and insights. Explore industry trends from the frontline of AI.',\n",
       "   'score': 0.63234437,\n",
       "   'raw_content': None},\n",
       "  {'title': 'AI News & Artificial Intelligence | TechCrunch',\n",
       "   'url': 'https://techcrunch.com/category/artificial-intelligence/',\n",
       "   'content': 'News coverage on artificial intelligence and machine learning tech, the companies building them, and the ethical issues AI raises today. This encompasses generative AI, including large language',\n",
       "   'score': 0.58237284,\n",
       "   'raw_content': None}],\n",
       " 'response_time': 10.51}"
      ]
     },
     "execution_count": 13,
     "metadata": {},
     "output_type": "execute_result"
    }
   ],
   "source": [
    "from langchain_tavily import TavilySearch\n",
    "\n",
    "tavily_search_tool = TavilySearch(max_results=2) # limiting the searches to 2 results for brevity\n",
    "\n",
    "tavily_search_tool.invoke(\"What is the recent AI news today?\")"
   ]
  },
  {
   "cell_type": "markdown",
   "metadata": {},
   "source": [
    "## Creating Custom Tool/Function - `multiply()`"
   ]
  },
  {
   "cell_type": "code",
   "execution_count": 14,
   "metadata": {},
   "outputs": [],
   "source": [
    "def multiply(a:int, b:int) -> int: \n",
    "    '''\n",
    "    Multiply a and b \n",
    "\n",
    "    Args:\n",
    "        a (int): first int\n",
    "        b (int): second int \n",
    "\n",
    "    Returns: \n",
    "        int: output    \n",
    "    \n",
    "    '''\n",
    "    return a * b "
   ]
  },
  {
   "cell_type": "markdown",
   "metadata": {},
   "source": [
    "## Adding Tools and Binding with LLM\n",
    "\n",
    "**Binding** the LLM with tools, makes the LLM knows what tools are present for it to access. Each tool should have the docstrings attached if not necessary, as it helps the LLM know which tool need to be chosen during the query execution."
   ]
  },
  {
   "cell_type": "code",
   "execution_count": 15,
   "metadata": {},
   "outputs": [],
   "source": [
    "tools = [tavily_search_tool, multiply] # adding tools in the list \n",
    "\n",
    "llm_with_tools = llm.bind_tools(tools) # Binding the LLM with tools"
   ]
  },
  {
   "cell_type": "code",
   "execution_count": 16,
   "metadata": {},
   "outputs": [
    {
     "data": {
      "text/plain": [
       "RunnableBinding(bound=ChatGroq(client=<groq.resources.chat.completions.Completions object at 0x107c66390>, async_client=<groq.resources.chat.completions.AsyncCompletions object at 0x107621220>, model_name='llama3-8b-8192', model_kwargs={}, groq_api_key=SecretStr('**********')), kwargs={'tools': [{'type': 'function', 'function': {'name': 'tavily_search', 'description': 'A search engine optimized for comprehensive, accurate, and trusted results. Useful for when you need to answer questions about current events. It not only retrieves URLs and snippets, but offers advanced search depths, domain management, time range filters, and image search, this tool delivers real-time, accurate, and citation-backed results.Input should be a search query.', 'parameters': {'properties': {'query': {'description': 'Search query to look up', 'type': 'string'}, 'include_domains': {'anyOf': [{'items': {'type': 'string'}, 'type': 'array'}, {'type': 'null'}], 'default': [], 'description': 'A list of domains to restrict search results to.\\n\\n        Use this parameter when:\\n        1. The user explicitly requests information from specific websites (e.g., \"Find climate data from nasa.gov\")\\n        2. The user mentions an organization or company without specifying the domain (e.g., \"Find information about iPhones from Apple\")\\n\\n        In both cases, you should determine the appropriate domains (e.g., [\"nasa.gov\"] or [\"apple.com\"]) and set this parameter.\\n\\n        Results will ONLY come from the specified domains - no other sources will be included.\\n        Default is None (no domain restriction).\\n        '}, 'exclude_domains': {'anyOf': [{'items': {'type': 'string'}, 'type': 'array'}, {'type': 'null'}], 'default': [], 'description': 'A list of domains to exclude from search results.\\n\\n        Use this parameter when:\\n        1. The user explicitly requests to avoid certain websites (e.g., \"Find information about climate change but not from twitter.com\")\\n        2. The user mentions not wanting results from specific organizations without naming the domain (e.g., \"Find phone reviews but nothing from Apple\")\\n\\n        In both cases, you should determine the appropriate domains to exclude (e.g., [\"twitter.com\"] or [\"apple.com\"]) and set this parameter.\\n\\n        Results will filter out all content from the specified domains.\\n        Default is None (no domain exclusion).\\n        '}, 'search_depth': {'anyOf': [{'enum': ['basic', 'advanced'], 'type': 'string'}, {'type': 'null'}], 'default': 'basic', 'description': 'Controls search thoroughness and result comprehensiveness.\\n    \\n        Use \"basic\" for simple queries requiring quick, straightforward answers.\\n        \\n        Use \"advanced\" (default) for complex queries, specialized topics, \\n        rare information, or when in-depth analysis is needed.\\n        '}, 'include_images': {'anyOf': [{'type': 'boolean'}, {'type': 'null'}], 'default': False, 'description': 'Determines if the search returns relevant images along with text results.\\n   \\n        Set to True when the user explicitly requests visuals or when images would \\n        significantly enhance understanding (e.g., \"Show me what black holes look like,\" \\n        \"Find pictures of Renaissance art\").\\n        \\n        Leave as False (default) for most informational queries where text is sufficient.\\n        '}, 'time_range': {'anyOf': [{'enum': ['day', 'week', 'month', 'year'], 'type': 'string'}, {'type': 'null'}], 'default': None, 'description': 'Limits results to content published within a specific timeframe.\\n        \\n        ONLY set this when the user explicitly mentions a time period \\n        (e.g., \"latest AI news,\" \"articles from last week\").\\n        \\n        For less popular or niche topics, use broader time ranges \\n        (\"month\" or \"year\") to ensure sufficient relevant results.\\n   \\n        Options: \"day\" (24h), \"week\" (7d), \"month\" (30d), \"year\" (365d).\\n        \\n        Default is None.\\n        '}, 'topic': {'anyOf': [{'enum': ['general', 'news', 'finance'], 'type': 'string'}, {'type': 'null'}], 'default': 'general', 'description': 'Specifies search category for optimized results.\\n   \\n        Use \"general\" (default) for most queries, INCLUDING those with terms like \\n        \"latest,\" \"newest,\" or \"recent\" when referring to general information.\\n\\n        Use \"finance\" for markets, investments, economic data, or financial news.\\n\\n        Use \"news\" ONLY for politics, sports, or major current events covered by \\n        mainstream media - NOT simply because a query asks for \"new\" information.\\n        '}}, 'required': ['query'], 'type': 'object'}}}, {'type': 'function', 'function': {'name': 'multiply', 'description': 'Multiply a and b ', 'parameters': {'properties': {'a': {'description': 'first int', 'type': 'integer'}, 'b': {'description': 'second int', 'type': 'integer'}}, 'required': ['a', 'b'], 'type': 'object'}}}]}, config={}, config_factories=[])"
      ]
     },
     "execution_count": 16,
     "metadata": {},
     "output_type": "execute_result"
    }
   ],
   "source": [
    "llm_with_tools"
   ]
  },
  {
   "cell_type": "markdown",
   "metadata": {},
   "source": [
    "## Adding `tool_calling_llm` Node definition"
   ]
  },
  {
   "cell_type": "code",
   "execution_count": 17,
   "metadata": {},
   "outputs": [],
   "source": [
    "def tool_calling_llm(state: State):\n",
    "\n",
    "    return { \"messages\": [llm_with_tools.invoke(state[\"messages\"])]} # We are using the LLM which was binded with tools."
   ]
  },
  {
   "cell_type": "markdown",
   "metadata": {},
   "source": [
    "## Creating StateGraph"
   ]
  },
  {
   "cell_type": "code",
   "execution_count": 18,
   "metadata": {},
   "outputs": [
    {
     "data": {
      "text/plain": [
       "<langgraph.graph.state.StateGraph at 0x110553980>"
      ]
     },
     "execution_count": 18,
     "metadata": {},
     "output_type": "execute_result"
    }
   ],
   "source": [
    "# Importing required libraries\n",
    "from langgraph.graph import StateGraph, START, END\n",
    "from langgraph.prebuilt import ToolNode, tools_condition\n",
    "\n",
    "builder = StateGraph(State) # using the same State class again which we have created earlier having messages attribute\n",
    "\n",
    "# Adding Nodes\n",
    "builder.add_node(\"tool_calling_llm\", tool_calling_llm) # Adding the definition of the node\n",
    "builder.add_node(\"tools\", ToolNode(tools)) # Irrespective of number of tools, we can use the ToolNode function to add it as a single Node in the graph. \n",
    "\n",
    "# Adding Edges\n",
    "builder.add_edge(START, \"tool_calling_llm\")\n",
    "builder.add_conditional_edges(\n",
    "    \"tool_calling_llm\", \n",
    "    # If the latest message (result) from the assistant (LLM) node is a tool call -> tools_condition routes to tools node.\n",
    "    # Tf the latest messsage (result) from the assistant (LLM) node is not a tool call -> tools_condition routes to END node.\n",
    "    tools_condition\n",
    ")\n",
    "builder.add_edge(\"tools\", END) # Adding the edge from tools node to END node.\n"
   ]
  },
  {
   "cell_type": "markdown",
   "metadata": {},
   "source": [
    "Compiling the graph with all the edges and nodes defined"
   ]
  },
  {
   "cell_type": "code",
   "execution_count": 19,
   "metadata": {},
   "outputs": [],
   "source": [
    "chatbot_with_tools_graph = builder.compile() # Compiling the graph"
   ]
  },
  {
   "cell_type": "code",
   "execution_count": 20,
   "metadata": {},
   "outputs": [
    {
     "data": {
      "image/png": "[encoded data removed]",
      "text/plain": [
       "<langgraph.graph.state.CompiledStateGraph object at 0x110941d30>"
      ]
     },
     "execution_count": 20,
     "metadata": {},
     "output_type": "execute_result"
    }
   ],
   "source": [
    "chatbot_with_tools_graph"
   ]
  },
  {
   "cell_type": "markdown",
   "metadata": {},
   "source": [
    "## Testing the graph with queries"
   ]
  },
  {
   "cell_type": "markdown",
   "metadata": {},
   "source": [
    "### Case 1: Making LLM to call the Tavily Search tool "
   ]
  },
  {
   "cell_type": "code",
   "execution_count": 21,
   "metadata": {},
   "outputs": [
    {
     "data": {
      "text/plain": [
       "{'messages': [HumanMessage(content='What are the recent news in AI?', additional_kwargs={}, response_metadata={}, id='491ba835-249c-44e7-b005-d2f6c3ee1fdf'),\n",
       "  AIMessage(content='', additional_kwargs={'tool_calls': [{'id': '5qznv9jkp', 'function': {'arguments': '{\"query\":\"Recent news in AI\",\"search_depth\":\"advanced\",\"time_range\":\"week\",\"topic\":\"news\"}', 'name': 'tavily_search'}, 'type': 'function'}]}, response_metadata={'token_usage': {'completion_tokens': 94, 'prompt_tokens': 2196, 'total_tokens': 2290, 'completion_time': 0.203468466, 'prompt_time': 0.267609567, 'queue_time': 0.36934047100000006, 'total_time': 0.471078033}, 'model_name': 'llama3-8b-8192', 'system_fingerprint': 'fp_8b7c3a83f7', 'finish_reason': 'tool_calls', 'logprobs': None}, id='run--41fd5304-2dc2-40a9-8b6f-b8a3e5f54ea5-0', tool_calls=[{'name': 'tavily_search', 'args': {'query': 'Recent news in AI', 'search_depth': 'advanced', 'time_range': 'week', 'topic': 'news'}, 'id': '5qznv9jkp', 'type': 'tool_call'}], usage_metadata={'input_tokens': 2196, 'output_tokens': 94, 'total_tokens': 2290}),\n",
       "  ToolMessage(content='{\"query\": \"Recent news in AI\", \"follow_up_questions\": null, \"answer\": null, \"images\": [], \"results\": [{\"url\": \"https://techcrunch.com/2025/06/24/new-data-highlights-the-race-to-build-more-empathetic-language-models/\", \"title\": \"New data highlights the race to build more empathetic language models - TechCrunch\", \"score\": 0.6429039, \"published_date\": \"Tue, 24 Jun 2025 21:03:01 GMT\", \"content\": \"Image 3: grapic depiction of white soundwaves on pinkish background\\\\n\\\\nImage Credits:Bryce Durbin/TechCrunch\\\\n\\\\nAI\\\\n\\\\n[](\\\\n\\\\nNew data highlights the race to build more empathetic language models\\\\n=====================================================================\\\\n\\\\nRussell Brandom\\\\n\\\\n2:03 PM PDT · June 24, 2025\\\\n\\\\n[]( [...] The shift isn’t limited to open-source developers; it also shows up in public benchmarks like EQ-Bench, which aims to test AI models’ ability to understand complex emotions and social dynamics. Benchmark developer Sam Paech says OpenAI’s models have made significant progress in the last six months, and Google’s Gemini 2.5 Pro shows indications of post-training with a specific focus on emotional intelligence.\", \"raw_content\": null}, {\"url\": \"https://www.businessinsider.com/tech-leaders-genai-increased-hiring-teams-2025-6\", \"title\": \"Tech leaders expect GenAI will lead them to increase the size of their teams - Business Insider\", \"score\": 0.6356076, \"published_date\": \"Mon, 23 Jun 2025 16:27:00 GMT\", \"content\": \"The possibility of increased demand for tech talent is welcome news after years of industry layoffs and following recent comments from high-profile tech CEOs, including Amazon\\'s Andy Jassy, who warn that AI is coming for some jobs.\\\\n\\\\nThe newly released findings from Deloitte are based on a March survey of some 600 chief information officers, CTOs, and other tech leaders. In it, 69% of tech leaders said they planned to boost their team\\'s size because of GenAI. [...] # A surprising number of tech leaders think AI will mean more hiring for their teams\\\\n\\\\nTwo tech workers in an office type on keyboards in front of laptops and computer monitors.\\\\n\\\\nTech workers, take heart — artificial intelligence might actually be good for your job prospects.\\\\n\\\\nIn a recent survey, nearly seven in 10 tech leaders said they planned to increase the number of people on their teams because of the expansion of generative AI. [...] More CEOs are talking about the possible fallout. OpenAI chief Sam Altman said this month that AI was already producing work similar to that of junior employees. Salesforce CEO Marc Benioff has said he tells fellow chief executives that future generations of leaders will oversee both people and agents.\", \"raw_content\": null}], \"response_time\": 1.59}', name='tavily_search', id='8cca7e10-ce19-4194-8f3d-1618b51478ee', tool_call_id='5qznv9jkp')]}"
      ]
     },
     "execution_count": 21,
     "metadata": {},
     "output_type": "execute_result"
    }
   ],
   "source": [
    "response = chatbot_with_tools_graph.invoke(\n",
    "    {\n",
    "        \"messages\" : \"What are the recent news in AI?\"\n",
    "    }\n",
    ")\n",
    "\n",
    "# Printing the response from the LLM after invoking the graph with a message.\n",
    "response"
   ]
  },
  {
   "cell_type": "code",
   "execution_count": 22,
   "metadata": {},
   "outputs": [
    {
     "name": "stdout",
     "output_type": "stream",
     "text": [
      "================================\u001b[1m Human Message \u001b[0m=================================\n",
      "\n",
      "What are the recent news in AI?\n",
      "==================================\u001b[1m Ai Message \u001b[0m==================================\n",
      "Tool Calls:\n",
      "  tavily_search (5qznv9jkp)\n",
      " Call ID: 5qznv9jkp\n",
      "  Args:\n",
      "    query: Recent news in AI\n",
      "    search_depth: advanced\n",
      "    time_range: week\n",
      "    topic: news\n",
      "=================================\u001b[1m Tool Message \u001b[0m=================================\n",
      "Name: tavily_search\n",
      "\n",
      "{\"query\": \"Recent news in AI\", \"follow_up_questions\": null, \"answer\": null, \"images\": [], \"results\": [{\"url\": \"https://techcrunch.com/2025/06/24/new-data-highlights-the-race-to-build-more-empathetic-language-models/\", \"title\": \"New data highlights the race to build more empathetic language models - TechCrunch\", \"score\": 0.6429039, \"published_date\": \"Tue, 24 Jun 2025 21:03:01 GMT\", \"content\": \"Image 3: grapic depiction of white soundwaves on pinkish background\\n\\nImage Credits:Bryce Durbin/TechCrunch\\n\\nAI\\n\\n[](\\n\\nNew data highlights the race to build more empathetic language models\\n=====================================================================\\n\\nRussell Brandom\\n\\n2:03 PM PDT · June 24, 2025\\n\\n[]( [...] The shift isn’t limited to open-source developers; it also shows up in public benchmarks like EQ-Bench, which aims to test AI models’ ability to understand complex emotions and social dynamics. Benchmark developer Sam Paech says OpenAI’s models have made significant progress in the last six months, and Google’s Gemini 2.5 Pro shows indications of post-training with a specific focus on emotional intelligence.\", \"raw_content\": null}, {\"url\": \"https://www.businessinsider.com/tech-leaders-genai-increased-hiring-teams-2025-6\", \"title\": \"Tech leaders expect GenAI will lead them to increase the size of their teams - Business Insider\", \"score\": 0.6356076, \"published_date\": \"Mon, 23 Jun 2025 16:27:00 GMT\", \"content\": \"The possibility of increased demand for tech talent is welcome news after years of industry layoffs and following recent comments from high-profile tech CEOs, including Amazon's Andy Jassy, who warn that AI is coming for some jobs.\\n\\nThe newly released findings from Deloitte are based on a March survey of some 600 chief information officers, CTOs, and other tech leaders. In it, 69% of tech leaders said they planned to boost their team's size because of GenAI. [...] # A surprising number of tech leaders think AI will mean more hiring for their teams\\n\\nTwo tech workers in an office type on keyboards in front of laptops and computer monitors.\\n\\nTech workers, take heart — artificial intelligence might actually be good for your job prospects.\\n\\nIn a recent survey, nearly seven in 10 tech leaders said they planned to increase the number of people on their teams because of the expansion of generative AI. [...] More CEOs are talking about the possible fallout. OpenAI chief Sam Altman said this month that AI was already producing work similar to that of junior employees. Salesforce CEO Marc Benioff has said he tells fellow chief executives that future generations of leaders will oversee both people and agents.\", \"raw_content\": null}], \"response_time\": 1.59}\n"
     ]
    }
   ],
   "source": [
    "for m in response[\"messages\"]:\n",
    "    m.pretty_print()"
   ]
  },
  {
   "cell_type": "markdown",
   "metadata": {},
   "source": [
    "### Case 2: Making LLM to call the Multiply Function tool"
   ]
  },
  {
   "cell_type": "code",
   "execution_count": 23,
   "metadata": {},
   "outputs": [
    {
     "data": {
      "text/plain": [
       "{'messages': [HumanMessage(content='What is 54 multiplied by 23 and then multipled by 10?', additional_kwargs={}, response_metadata={}, id='17c861d4-cba3-4cea-924d-ada32b08f347'),\n",
       "  AIMessage(content='', additional_kwargs={'tool_calls': [{'id': '8v4xd3t39', 'function': {'arguments': '{\"a\":54,\"b\":23}', 'name': 'multiply'}, 'type': 'function'}, {'id': 'syng0dj2k', 'function': {'arguments': '{\"a\":123,\"b\":10}', 'name': 'multiply'}, 'type': 'function'}]}, response_metadata={'token_usage': {'completion_tokens': 125, 'prompt_tokens': 2204, 'total_tokens': 2329, 'completion_time': 0.155250159, 'prompt_time': 0.245153648, 'queue_time': 0.27071582200000005, 'total_time': 0.400403807}, 'model_name': 'llama3-8b-8192', 'system_fingerprint': 'fp_8af39bf2ae', 'finish_reason': 'tool_calls', 'logprobs': None}, id='run--848344cb-b08b-44fc-b78e-c55cc59ba5ed-0', tool_calls=[{'name': 'multiply', 'args': {'a': 54, 'b': 23}, 'id': '8v4xd3t39', 'type': 'tool_call'}, {'name': 'multiply', 'args': {'a': 123, 'b': 10}, 'id': 'syng0dj2k', 'type': 'tool_call'}], usage_metadata={'input_tokens': 2204, 'output_tokens': 125, 'total_tokens': 2329}),\n",
       "  ToolMessage(content='1242', name='multiply', id='2a42743d-b5a0-430b-9a5b-4c8bb411f597', tool_call_id='8v4xd3t39'),\n",
       "  ToolMessage(content='1230', name='multiply', id='5febb868-de91-481d-a869-6506ca806174', tool_call_id='syng0dj2k')]}"
      ]
     },
     "execution_count": 23,
     "metadata": {},
     "output_type": "execute_result"
    }
   ],
   "source": [
    "response = chatbot_with_tools_graph.invoke(\n",
    "    {\n",
    "        \"messages\" : \"What is 54 multiplied by 23 and then multipled by 10?\"\n",
    "    }\n",
    ")\n",
    "\n",
    "# Printing the response from the LLM after invoking the graph with a message.\n",
    "response"
   ]
  },
  {
   "cell_type": "code",
   "execution_count": 24,
   "metadata": {},
   "outputs": [
    {
     "name": "stdout",
     "output_type": "stream",
     "text": [
      "================================\u001b[1m Human Message \u001b[0m=================================\n",
      "\n",
      "What is 54 multiplied by 23 and then multipled by 10?\n",
      "==================================\u001b[1m Ai Message \u001b[0m==================================\n",
      "Tool Calls:\n",
      "  multiply (8v4xd3t39)\n",
      " Call ID: 8v4xd3t39\n",
      "  Args:\n",
      "    a: 54\n",
      "    b: 23\n",
      "  multiply (syng0dj2k)\n",
      " Call ID: syng0dj2k\n",
      "  Args:\n",
      "    a: 123\n",
      "    b: 10\n",
      "=================================\u001b[1m Tool Message \u001b[0m=================================\n",
      "Name: multiply\n",
      "\n",
      "1242\n",
      "=================================\u001b[1m Tool Message \u001b[0m=================================\n",
      "Name: multiply\n",
      "\n",
      "1230\n"
     ]
    }
   ],
   "source": [
    "for m in response[\"messages\"]:\n",
    "    m.pretty_print()"
   ]
  },
  {
   "cell_type": "markdown",
   "metadata": {},
   "source": [
    "### Case 3: Making LLM to call two tools at the same time - Tavily and Multiply tool"
   ]
  },
  {
   "cell_type": "code",
   "execution_count": 29,
   "metadata": {},
   "outputs": [
    {
     "data": {
      "text/plain": [
       "{'messages': [HumanMessage(content='Tell me the recent news in AI and then multiply 10 and 2', additional_kwargs={}, response_metadata={}, id='b7b7973a-a7ba-4635-9256-563a10b5e3c9'),\n",
       "  AIMessage(content='', additional_kwargs={'tool_calls': [{'id': 'gq76bf0vw', 'function': {'arguments': '{\"query\":\"recent news in AI\",\"search_depth\":\"advanced\",\"time_range\":\"week\",\"topic\":\"general\"}', 'name': 'tavily_search'}, 'type': 'function'}, {'id': '9cwcx11y4', 'function': {'arguments': '{\"a\":10,\"b\":2}', 'name': 'multiply'}, 'type': 'function'}]}, response_metadata={'token_usage': {'completion_tokens': 241, 'prompt_tokens': 2203, 'total_tokens': 2444, 'completion_time': 0.434327969, 'prompt_time': 0.300303078, 'queue_time': 0.35716562500000004, 'total_time': 0.734631047}, 'model_name': 'llama3-8b-8192', 'system_fingerprint': 'fp_8dc6ecaf8e', 'finish_reason': 'tool_calls', 'logprobs': None}, id='run--92d0c4f8-f378-4240-b8c4-b1bd794e40b3-0', tool_calls=[{'name': 'tavily_search', 'args': {'query': 'recent news in AI', 'search_depth': 'advanced', 'time_range': 'week', 'topic': 'general'}, 'id': 'gq76bf0vw', 'type': 'tool_call'}, {'name': 'multiply', 'args': {'a': 10, 'b': 2}, 'id': '9cwcx11y4', 'type': 'tool_call'}], usage_metadata={'input_tokens': 2203, 'output_tokens': 241, 'total_tokens': 2444}),\n",
       "  ToolMessage(content='{\"query\": \"recent news in AI\", \"follow_up_questions\": null, \"answer\": null, \"images\": [], \"results\": [{\"url\": \"https://www.crescendo.ai/news/latest-ai-news-and-updates\", \"title\": \"Latest AI Breakthroughs and News: May-June 2025 - Crescendo.ai\", \"content\": \"Summary: OpenAI launched \\\\\"Operator,\\\\\" a new AI assistant capable of handling various online tasks, such as ordering groceries and processing ticket purchases.\", \"score\": 0.77589405, \"raw_content\": null}, {\"url\": \"https://www.wsj.com/tech/ai?gaa_at=eafs&gaa_n=ASWzDAhxiwltpuWWj1Zwsgh2DEHt6z6rMz-5nlcE2SCTJqtTj__0feHMctJU&gaa_ts=685d7787&gaa_sig=3eRnM9Z_gbrp70_hRYZ4tG4awBOC79cDv-OK5Ka3EjH7HOQDubqVJ3XJpWmd2nuYKf6tzAzoLJ1nrxDJg0vZdQ%3D%3D\", \"title\": \"Artificial Intelligence - Latest AI News and Analysis - WSJ.com\", \"content\": \"The latest artificial intelligence news coverage focusing on the technology, tools and the companies building AI technology.\", \"score\": 0.7092009, \"raw_content\": null}], \"response_time\": 1.82}', name='tavily_search', id='a748a70c-8658-4576-951f-987531af14d6', tool_call_id='gq76bf0vw'),\n",
       "  ToolMessage(content='20', name='multiply', id='409db589-64e8-4db2-8830-e2c255c33b7a', tool_call_id='9cwcx11y4')]}"
      ]
     },
     "execution_count": 29,
     "metadata": {},
     "output_type": "execute_result"
    }
   ],
   "source": [
    "response = chatbot_with_tools_graph.invoke(\n",
    "    {\n",
    "        \"messages\" : \"Tell me the recent news in AI and then multiply 10 and 2\"\n",
    "    }\n",
    ")\n",
    "\n",
    "# Printing the response from the LLM after invoking the graph with a message.\n",
    "response"
   ]
  },
  {
   "cell_type": "code",
   "execution_count": 30,
   "metadata": {},
   "outputs": [
    {
     "name": "stdout",
     "output_type": "stream",
     "text": [
      "================================\u001b[1m Human Message \u001b[0m=================================\n",
      "\n",
      "Tell me the recent news in AI and then multiply 10 and 2\n",
      "==================================\u001b[1m Ai Message \u001b[0m==================================\n",
      "Tool Calls:\n",
      "  tavily_search (gq76bf0vw)\n",
      " Call ID: gq76bf0vw\n",
      "  Args:\n",
      "    query: recent news in AI\n",
      "    search_depth: advanced\n",
      "    time_range: week\n",
      "    topic: general\n",
      "  multiply (9cwcx11y4)\n",
      " Call ID: 9cwcx11y4\n",
      "  Args:\n",
      "    a: 10\n",
      "    b: 2\n",
      "=================================\u001b[1m Tool Message \u001b[0m=================================\n",
      "Name: tavily_search\n",
      "\n",
      "{\"query\": \"recent news in AI\", \"follow_up_questions\": null, \"answer\": null, \"images\": [], \"results\": [{\"url\": \"https://www.crescendo.ai/news/latest-ai-news-and-updates\", \"title\": \"Latest AI Breakthroughs and News: May-June 2025 - Crescendo.ai\", \"content\": \"Summary: OpenAI launched \\\"Operator,\\\" a new AI assistant capable of handling various online tasks, such as ordering groceries and processing ticket purchases.\", \"score\": 0.77589405, \"raw_content\": null}, {\"url\": \"https://www.wsj.com/tech/ai?gaa_at=eafs&gaa_n=ASWzDAhxiwltpuWWj1Zwsgh2DEHt6z6rMz-5nlcE2SCTJqtTj__0feHMctJU&gaa_ts=685d7787&gaa_sig=3eRnM9Z_gbrp70_hRYZ4tG4awBOC79cDv-OK5Ka3EjH7HOQDubqVJ3XJpWmd2nuYKf6tzAzoLJ1nrxDJg0vZdQ%3D%3D\", \"title\": \"Artificial Intelligence - Latest AI News and Analysis - WSJ.com\", \"content\": \"The latest artificial intelligence news coverage focusing on the technology, tools and the companies building AI technology.\", \"score\": 0.7092009, \"raw_content\": null}], \"response_time\": 1.82}\n",
      "=================================\u001b[1m Tool Message \u001b[0m=================================\n",
      "Name: multiply\n",
      "\n",
      "20\n"
     ]
    }
   ],
   "source": [
    "for m in response[\"messages\"]:\n",
    "    m.pretty_print()"
   ]
  },
  {
   "cell_type": "markdown",
   "metadata": {},
   "source": [
    "---"
   ]
  },
  {
   "cell_type": "markdown",
   "metadata": {},
   "source": [
    "## Leveraging ReAct Agent (Backbone of Agentic AI Framework) \n",
    "\n",
    "In the above cases, our state graph is working fine and doing the required tool calls, until and unless there are two tools and the tasks are mentioned one after another. \n",
    "\n",
    "But it fails when we give three action items all at once. Like (Get recent news in AI) -> (Multiply 5 * 10) -> (Get latest news in India). \n",
    "\n",
    "To solve this we will use the ReAct framework which contains three main components: \n",
    "1. Act - does the tool calling and performs one task\n",
    "\n",
    "2. Observe - checks if there are any pending tasks\n",
    "3. Reason - LLM takes the decision whether if it needs to another tool call or not. \n",
    "\n",
    "Now, let's change our StateGraph flow making the `tools_node` connect back to the `tool_calling_llm` instead to the `END`. Then once first tool call is executed, as LLM preserves the user context, it understands it needs to do another tool call or not, and finally it goes to END. "
   ]
  },
  {
   "cell_type": "code",
   "execution_count": 31,
   "metadata": {},
   "outputs": [
    {
     "data": {
      "text/plain": [
       "<langgraph.graph.state.StateGraph at 0x107d47020>"
      ]
     },
     "execution_count": 31,
     "metadata": {},
     "output_type": "execute_result"
    }
   ],
   "source": [
    "# Importing required libraries - NO CHANGE REQUIRED\n",
    "from langgraph.graph import StateGraph, START, END\n",
    "from langgraph.prebuilt import ToolNode, tools_condition\n",
    "\n",
    "builder = StateGraph(State) # using the same State class again which we have created earlier having messages attribute\n",
    "\n",
    "# Adding Nodes - NO CHANGE REQUIRED\n",
    "builder.add_node(\"tool_calling_llm\", tool_calling_llm) # Adding the definition of the node\n",
    "builder.add_node(\"tools\", ToolNode(tools)) # Irrespective of number of tools, we can use the ToolNode function to add it as a single Node in the graph. \n",
    "\n",
    "# Adding Edges \n",
    "builder.add_edge(START, \"tool_calling_llm\")\n",
    "builder.add_conditional_edges(\n",
    "    \"tool_calling_llm\", \n",
    "    # If the latest message (result) from the assistant (LLM) node is a tool call -> tools_condition routes to tools node.\n",
    "    # Tf the latest messsage (result) from the assistant (LLM) node is not a tool call -> tools_condition routes to END node.\n",
    "    tools_condition\n",
    ")\n",
    "builder.add_edge(\"tools\", \"tool_calling_llm\") # Adding the edge from tools node to END node.\n"
   ]
  },
  {
   "cell_type": "code",
   "execution_count": 33,
   "metadata": {},
   "outputs": [
    {
     "data": {
      "image/png": "[encoded data removed]",
      "text/plain": [
       "<langgraph.graph.state.CompiledStateGraph object at 0x1109dd3a0>"
      ]
     },
     "execution_count": 33,
     "metadata": {},
     "output_type": "execute_result"
    }
   ],
   "source": [
    "react_graph = builder.compile() # Compiling the graph\n",
    "\n",
    "react_graph"
   ]
  },
  {
   "cell_type": "markdown",
   "metadata": {},
   "source": [
    "## Testing the updated graph "
   ]
  },
  {
   "cell_type": "code",
   "execution_count": 36,
   "metadata": {},
   "outputs": [
    {
     "data": {
      "text/plain": [
       "{'messages': [HumanMessage(content=\"First tell the recent news in AI, second multiply 10 and 2 and then finally tell me today's news happened in India.\", additional_kwargs={}, response_metadata={}, id='ed8a8fdc-6c32-4b16-8108-86dffc7abfa9'),\n",
       "  AIMessage(content='', additional_kwargs={'tool_calls': [{'id': 'q8w34ks94', 'function': {'arguments': '{\"query\":\"recent news in AI\",\"search_depth\":\"advanced\",\"time_range\":\"day\"}', 'name': 'tavily_search'}, 'type': 'function'}, {'id': 'sxvyqktcd', 'function': {'arguments': '{\"a\":10,\"b\":2}', 'name': 'multiply'}, 'type': 'function'}, {'id': '1h1h8zjh9', 'function': {'arguments': '{\"query\":\"today\\'s news in India\",\"search_depth\":\"advanced\",\"time_range\":\"day\"}', 'name': 'tavily_search'}, 'type': 'function'}]}, response_metadata={'token_usage': {'completion_tokens': 209, 'prompt_tokens': 2215, 'total_tokens': 2424, 'completion_time': 0.267413814, 'prompt_time': 0.245614983, 'queue_time': 0.271234987, 'total_time': 0.513028797}, 'model_name': 'llama3-8b-8192', 'system_fingerprint': 'fp_8af39bf2ae', 'finish_reason': 'tool_calls', 'logprobs': None}, id='run--013ac415-9b1f-46e7-beb2-e8767b201e73-0', tool_calls=[{'name': 'tavily_search', 'args': {'query': 'recent news in AI', 'search_depth': 'advanced', 'time_range': 'day'}, 'id': 'q8w34ks94', 'type': 'tool_call'}, {'name': 'multiply', 'args': {'a': 10, 'b': 2}, 'id': 'sxvyqktcd', 'type': 'tool_call'}, {'name': 'tavily_search', 'args': {'query': \"today's news in India\", 'search_depth': 'advanced', 'time_range': 'day'}, 'id': '1h1h8zjh9', 'type': 'tool_call'}], usage_metadata={'input_tokens': 2215, 'output_tokens': 209, 'total_tokens': 2424}),\n",
       "  ToolMessage(content='{\"query\": \"recent news in AI\", \"follow_up_questions\": null, \"answer\": null, \"images\": [], \"results\": [{\"url\": \"https://www.cnbc.com/2025/06/26/ai-reasoning-models-problem.html\", \"title\": \"AI\\'s reasoning problems -- why \\'thinking\\' models may not be smarter\", \"content\": \"The latest releases from the major players in artificial intelligence, including [OpenAI](https://www.cnbc.com/2025/06/10/openai-cnbc-disruptor-50.html), Anthropic, [Alphabet](/quotes/GOOGL/) and DeepSeek, have been models with reasoning capabilities. Those reasoning models can execute on tougher tasks by \\\\\"thinking,\\\\\" or breaking problems into logical steps and showing their work.\\\\n\\\\nNow, a string of recent research is calling that into question. [...] The constraints could indicate cracks in a story that has sent AI infrastructure stocks like [Nvidia](/quotes/NVDA/) booming.\\\\n\\\\n\\\\\"The amount of computation we need at this point as a result of agentic AI, as a result of reasoning, is easily a hundred times more than we thought we needed this time last year,\\\\\" Nvidia CEO Jensen Huang said at the company\\'s GTC event in March. [...] Most notably, Apple had to delay key upgrades to its Siri voice assistant to sometime in 2026, and the company did not make many announcements regarding AI at its annual Worldwide Developers Conference earlier this month.\\\\n\\\\n\\\\\"Apple\\'s putting out papers right now saying LLMs and reasoning don\\'t really work,\\\\\" said Daniel Newman, Futurum Group CEO on CNBC\\'s \\\\\"The Exchange.\\\\\" Having Apple\\'s paper come out after WWDC \\\\\"sounds more like \\'Oops, look over here, we don\\'t know exactly what we\\'re doing.\\'\\\\\"\", \"score\": 0.71305263, \"raw_content\": null}, {\"url\": \"https://www.wsj.com/tech/ai?gaa_at=eafs&gaa_n=ASWzDAgBAlUccZ90j2O0LPeANV4LHudHwF3A1xnrCF1HWDd_ainDI3Kp5LoT&gaa_ts=685d7ece&gaa_sig=YgkBDwNhMRueIyYFEf546azMzGtDLHPv7TDPYbIFKjxzTPZ_LDCDeuwO5HMyvDVVzlVKZv4Ay9Sh0DrWVK_hrQ%3D%3D\", \"title\": \"Artificial Intelligence - Latest AI News and Analysis - WSJ.com\", \"content\": \"The latest artificial intelligence news coverage focusing on the technology, tools and the companies building AI technology.\", \"score\": 0.7092009, \"raw_content\": null}], \"response_time\": 2.62}', name='tavily_search', id='b88aea2e-baa8-4d7d-8a21-b4b45d15156e', tool_call_id='q8w34ks94'),\n",
       "  ToolMessage(content='20', name='multiply', id='4ef7d829-807f-4731-8643-f7caf3d56f40', tool_call_id='sxvyqktcd'),\n",
       "  ToolMessage(content='{\"query\": \"today\\'s news in India\", \"follow_up_questions\": null, \"answer\": null, \"images\": [], \"results\": [{\"url\": \"https://www.reuters.com/world/india/\", \"title\": \"India News | Today\\'s Top Stories - Reuters\", \"content\": \"India · India says defence gathering in China unable to adopt joint statement · India says efforts are on to reconstruct events that caused Air India crash.\", \"score\": 0.7043437, \"raw_content\": null}, {\"url\": \"https://www.ndtv.com/india\", \"title\": \"India News | Today\\'s latest updates and breaking news from ... - NDTV\", \"content\": \"India News · Jagan Reddy Goes To Court, Wants Name Removed From Runover Case · Video: Drunk Man Climbs Tree To Pluck Jackfruit In Bengaluru, Falls 50 Feet · \\'\", \"score\": 0.6780931, \"raw_content\": null}], \"response_time\": 1.57}', name='tavily_search', id='7e7871b4-9ab5-4f22-84a3-c467db9ea13f', tool_call_id='1h1h8zjh9'),\n",
       "  AIMessage(content='', additional_kwargs={'tool_calls': [{'id': '4kr37sbg4', 'function': {'arguments': '{\"a\":20,\"b\":2}', 'name': 'multiply'}, 'type': 'function'}]}, response_metadata={'token_usage': {'completion_tokens': 69, 'prompt_tokens': 3248, 'total_tokens': 3317, 'completion_time': 0.088677589, 'prompt_time': 1.059973005, 'queue_time': 0.5188750289999999, 'total_time': 1.148650594}, 'model_name': 'llama3-8b-8192', 'system_fingerprint': 'fp_8af39bf2ae', 'finish_reason': 'tool_calls', 'logprobs': None}, id='run--5aec22cd-2e75-4599-b64b-34ea71f631b4-0', tool_calls=[{'name': 'multiply', 'args': {'a': 20, 'b': 2}, 'id': '4kr37sbg4', 'type': 'tool_call'}], usage_metadata={'input_tokens': 3248, 'output_tokens': 69, 'total_tokens': 3317}),\n",
       "  ToolMessage(content='40', name='multiply', id='6ef2573f-9254-475b-9d9c-13e2b3683a02', tool_call_id='4kr37sbg4'),\n",
       "  AIMessage(content=\"Based on the output, I can provide the final answer.\\n\\nHere are the recent news in AI: AI's reasoning problems -- why 'thinking' models may not be smarter.\\n\\nThe result of multiplying 10 and 2 is 40.\\n\\nAnd here are today's news in India: India says defence gathering in China unable to adopt joint statement, India says efforts are on to reconstruct events that caused Air India crash.\\n\\nSo, the final answer is: AI's reasoning problems -- why 'thinking' models may not be smarter, 40, and today's news in India: India says defence gathering in China unable to adopt joint statement, India says efforts are on to reconstruct events that caused Air India crash.\", additional_kwargs={}, response_metadata={'token_usage': {'completion_tokens': 142, 'prompt_tokens': 3319, 'total_tokens': 3461, 'completion_time': 0.18125887, 'prompt_time': 0.370028248, 'queue_time': 0.26938287299999997, 'total_time': 0.551287118}, 'model_name': 'llama3-8b-8192', 'system_fingerprint': 'fp_8af39bf2ae', 'finish_reason': 'stop', 'logprobs': None}, id='run--01725703-063d-4db9-a893-5231e939bb82-0', usage_metadata={'input_tokens': 3319, 'output_tokens': 142, 'total_tokens': 3461})]}"
      ]
     },
     "execution_count": 36,
     "metadata": {},
     "output_type": "execute_result"
    }
   ],
   "source": [
    "response = react_graph.invoke(\n",
    "    {\n",
    "        \"messages\" : \"First tell the recent news in AI, second multiply 10 and 2 and then finally tell me today's news happened in India.\"\n",
    "    }\n",
    ")\n",
    "\n",
    "# Printing the response from the LLM after invoking the graph with a message.\n",
    "response"
   ]
  },
  {
   "cell_type": "code",
   "execution_count": 38,
   "metadata": {},
   "outputs": [
    {
     "name": "stdout",
     "output_type": "stream",
     "text": [
      "================================\u001b[1m Human Message \u001b[0m=================================\n",
      "\n",
      "First tell the recent news in AI, second multiply 10 and 2 and then finally tell me today's news happened in India.\n",
      "==================================\u001b[1m Ai Message \u001b[0m==================================\n",
      "Tool Calls:\n",
      "  tavily_search (q8w34ks94)\n",
      " Call ID: q8w34ks94\n",
      "  Args:\n",
      "    query: recent news in AI\n",
      "    search_depth: advanced\n",
      "    time_range: day\n",
      "  multiply (sxvyqktcd)\n",
      " Call ID: sxvyqktcd\n",
      "  Args:\n",
      "    a: 10\n",
      "    b: 2\n",
      "  tavily_search (1h1h8zjh9)\n",
      " Call ID: 1h1h8zjh9\n",
      "  Args:\n",
      "    query: today's news in India\n",
      "    search_depth: advanced\n",
      "    time_range: day\n",
      "=================================\u001b[1m Tool Message \u001b[0m=================================\n",
      "Name: tavily_search\n",
      "\n",
      "{\"query\": \"recent news in AI\", \"follow_up_questions\": null, \"answer\": null, \"images\": [], \"results\": [{\"url\": \"https://www.cnbc.com/2025/06/26/ai-reasoning-models-problem.html\", \"title\": \"AI's reasoning problems -- why 'thinking' models may not be smarter\", \"content\": \"The latest releases from the major players in artificial intelligence, including [OpenAI](https://www.cnbc.com/2025/06/10/openai-cnbc-disruptor-50.html), Anthropic, [Alphabet](/quotes/GOOGL/) and DeepSeek, have been models with reasoning capabilities. Those reasoning models can execute on tougher tasks by \\\"thinking,\\\" or breaking problems into logical steps and showing their work.\\n\\nNow, a string of recent research is calling that into question. [...] The constraints could indicate cracks in a story that has sent AI infrastructure stocks like [Nvidia](/quotes/NVDA/) booming.\\n\\n\\\"The amount of computation we need at this point as a result of agentic AI, as a result of reasoning, is easily a hundred times more than we thought we needed this time last year,\\\" Nvidia CEO Jensen Huang said at the company's GTC event in March. [...] Most notably, Apple had to delay key upgrades to its Siri voice assistant to sometime in 2026, and the company did not make many announcements regarding AI at its annual Worldwide Developers Conference earlier this month.\\n\\n\\\"Apple's putting out papers right now saying LLMs and reasoning don't really work,\\\" said Daniel Newman, Futurum Group CEO on CNBC's \\\"The Exchange.\\\" Having Apple's paper come out after WWDC \\\"sounds more like 'Oops, look over here, we don't know exactly what we're doing.'\\\"\", \"score\": 0.71305263, \"raw_content\": null}, {\"url\": \"https://www.wsj.com/tech/ai?gaa_at=eafs&gaa_n=ASWzDAgBAlUccZ90j2O0LPeANV4LHudHwF3A1xnrCF1HWDd_ainDI3Kp5LoT&gaa_ts=685d7ece&gaa_sig=YgkBDwNhMRueIyYFEf546azMzGtDLHPv7TDPYbIFKjxzTPZ_LDCDeuwO5HMyvDVVzlVKZv4Ay9Sh0DrWVK_hrQ%3D%3D\", \"title\": \"Artificial Intelligence - Latest AI News and Analysis - WSJ.com\", \"content\": \"The latest artificial intelligence news coverage focusing on the technology, tools and the companies building AI technology.\", \"score\": 0.7092009, \"raw_content\": null}], \"response_time\": 2.62}\n",
      "=================================\u001b[1m Tool Message \u001b[0m=================================\n",
      "Name: multiply\n",
      "\n",
      "20\n",
      "=================================\u001b[1m Tool Message \u001b[0m=================================\n",
      "Name: tavily_search\n",
      "\n",
      "{\"query\": \"today's news in India\", \"follow_up_questions\": null, \"answer\": null, \"images\": [], \"results\": [{\"url\": \"https://www.reuters.com/world/india/\", \"title\": \"India News | Today's Top Stories - Reuters\", \"content\": \"India · India says defence gathering in China unable to adopt joint statement · India says efforts are on to reconstruct events that caused Air India crash.\", \"score\": 0.7043437, \"raw_content\": null}, {\"url\": \"https://www.ndtv.com/india\", \"title\": \"India News | Today's latest updates and breaking news from ... - NDTV\", \"content\": \"India News · Jagan Reddy Goes To Court, Wants Name Removed From Runover Case · Video: Drunk Man Climbs Tree To Pluck Jackfruit In Bengaluru, Falls 50 Feet · '\", \"score\": 0.6780931, \"raw_content\": null}], \"response_time\": 1.57}\n",
      "==================================\u001b[1m Ai Message \u001b[0m==================================\n",
      "Tool Calls:\n",
      "  multiply (4kr37sbg4)\n",
      " Call ID: 4kr37sbg4\n",
      "  Args:\n",
      "    a: 20\n",
      "    b: 2\n",
      "=================================\u001b[1m Tool Message \u001b[0m=================================\n",
      "Name: multiply\n",
      "\n",
      "40\n",
      "==================================\u001b[1m Ai Message \u001b[0m==================================\n",
      "\n",
      "Based on the output, I can provide the final answer.\n",
      "\n",
      "Here are the recent news in AI: AI's reasoning problems -- why 'thinking' models may not be smarter.\n",
      "\n",
      "The result of multiplying 10 and 2 is 40.\n",
      "\n",
      "And here are today's news in India: India says defence gathering in China unable to adopt joint statement, India says efforts are on to reconstruct events that caused Air India crash.\n",
      "\n",
      "So, the final answer is: AI's reasoning problems -- why 'thinking' models may not be smarter, 40, and today's news in India: India says defence gathering in China unable to adopt joint statement, India says efforts are on to reconstruct events that caused Air India crash.\n"
     ]
    }
   ],
   "source": [
    "for m in response[\"messages\"]:\n",
    "    m.pretty_print()"
   ]
  },
  {
   "cell_type": "markdown",
   "metadata": {},
   "source": [
    "---"
   ]
  },
  {
   "cell_type": "markdown",
   "metadata": {},
   "source": [
    "## Adding Memory \n",
    "\n",
    "Till now, the number of conversations that we do with the Graph are not persistent. \n",
    "\n",
    "For example: \n",
    "\n",
    "- **Turn 1:** Inform LLM your name, and it provides helpful response like \"Nice to meet you! ...\"\n",
    "\n",
    "- **Turn 2:** Ask LLM about your name, it says \"I don't know your name ...\"\n",
    "\n",
    "It is happening because, the conversation is not getting stored anywhere. LangGraph has a special library named `MemorySaver` which helps us to persist the memory. \n",
    "\n",
    "Let us use the same StateGraph definition above, and tweak it little bit and add our memory. "
   ]
  },
  {
   "cell_type": "code",
   "execution_count": 54,
   "metadata": {},
   "outputs": [],
   "source": [
    "# Importing required libraries - IMPORTED MEMORYSAVER LIBRARY\n",
    "from langgraph.graph import StateGraph, START, END\n",
    "from langgraph.prebuilt import ToolNode, tools_condition\n",
    "from langgraph.checkpoint.memory import MemorySaver\n",
    "\n",
    "builder = StateGraph(State) # using the same State class again which we have created earlier having messages attribute\n",
    "\n",
    "memory = MemorySaver() # This stores the state of the graph in memory, so that it can be used later to resume the graph execution or to retrieve the state. In short, it stores the \"interactions\" with the graph in memory.\n",
    "\n",
    "# Adding Nodes - NO CHANGE REQUIRED\n",
    "builder.add_node(\"tool_calling_llm\", tool_calling_llm) # Adding the definition of the node\n",
    "builder.add_node(\"tools\", ToolNode(tools)) # Irrespective of number of tools, we can use the ToolNode function to add it as a single Node in the graph. \n",
    "\n",
    "# Adding Edges \n",
    "builder.add_edge(START, \"tool_calling_llm\")\n",
    "builder.add_conditional_edges(\n",
    "    \"tool_calling_llm\", \n",
    "    # If the latest message (result) from the assistant (LLM) node is a tool call -> tools_condition routes to tools node.\n",
    "    # Tf the latest messsage (result) from the assistant (LLM) node is not a tool call -> tools_condition routes to END node.\n",
    "    tools_condition\n",
    ")\n",
    "builder.add_edge(\"tools\", \"tool_calling_llm\") # Adding the edge from tools node to END node.\n",
    "\n",
    "# Note: Remember to pass the memory object in checkpointer argument during the graph compilation step.\n",
    "react_graph_with_memory = builder.compile(checkpointer=memory) "
   ]
  },
  {
   "cell_type": "code",
   "execution_count": 55,
   "metadata": {},
   "outputs": [
    {
     "data": {
      "image/png": "[encoded data removed]",
      "text/plain": [
       "<langgraph.graph.state.CompiledStateGraph object at 0x1164af380>"
      ]
     },
     "execution_count": 55,
     "metadata": {},
     "output_type": "execute_result"
    }
   ],
   "source": [
    "react_graph_with_memory"
   ]
  },
  {
   "cell_type": "markdown",
   "metadata": {},
   "source": [
    "### Creating a configurable `thread` parameter \n",
    "\n",
    "This plays a crucial role in memory. The thread ID will be unique to each user session in real-time. Once the user initiates the session, the thread ID will be created and the memory will be limited to this particular thread. \n",
    "\n",
    "Once a new thread is created, memory gets created from scratch. "
   ]
  },
  {
   "cell_type": "code",
   "execution_count": 56,
   "metadata": {},
   "outputs": [],
   "source": [
    "config = {\"configurable\" : {\"thread_id\": \"user_1\"}}"
   ]
  },
  {
   "cell_type": "markdown",
   "metadata": {},
   "source": [
    "### Invoking the graph with the prompt "
   ]
  },
  {
   "cell_type": "code",
   "execution_count": 58,
   "metadata": {},
   "outputs": [
    {
     "data": {
      "text/plain": [
       "'Nice to meet you, Sai Kiran!'"
      ]
     },
     "execution_count": 58,
     "metadata": {},
     "output_type": "execute_result"
    }
   ],
   "source": [
    "# Passing the config object to the invoke method, which will be used to store the state in memory with the key \"user_1\".\n",
    "response = react_graph_with_memory.invoke({\"messages\" : \"Hey, my Name is Sai Kiran!\"}, config=config) \n",
    "\n",
    "response[\"messages\"][-1].content"
   ]
  },
  {
   "cell_type": "markdown",
   "metadata": {},
   "source": [
    "### Asking about the details passed in the previous prompt"
   ]
  },
  {
   "cell_type": "code",
   "execution_count": 59,
   "metadata": {},
   "outputs": [
    {
     "data": {
      "text/plain": [
       "'Yes, your name is Sai Kiran'"
      ]
     },
     "execution_count": 59,
     "metadata": {},
     "output_type": "execute_result"
    }
   ],
   "source": [
    "response = react_graph_with_memory.invoke({\"messages\" : \"Do you know my name?\"}, config=config) \n",
    "\n",
    "response[\"messages\"][-1].content"
   ]
  }
 ],
 "metadata": {
  "kernelspec": {
   "display_name": ".venv",
   "language": "python",
   "name": "python3"
  },
  "language_info": {
   "codemirror_mode": {
    "name": "ipython",
    "version": 3
   },
   "file_extension": ".py",
   "mimetype": "text/x-python",
   "name": "python",
   "nbconvert_exporter": "python",
   "pygments_lexer": "ipython3",
   "version": "3.12.2"
  }
 },
 "nbformat": 4,
 "nbformat_minor": 2
}
