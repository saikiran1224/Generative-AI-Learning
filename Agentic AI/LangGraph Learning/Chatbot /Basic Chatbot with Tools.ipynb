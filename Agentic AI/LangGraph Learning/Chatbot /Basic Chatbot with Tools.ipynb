{
 "cells": [
  {
   "cell_type": "markdown",
   "metadata": {},
   "source": [
    "# Chatbot Integrated with Tools\n",
    "\n",
    "Creating a Simple Chatbot where it takes the user prompt as an Input and provides the completion as an output using Graph API.\n",
    "\n",
    "**StateGraph:**\n",
    "\n",
    "\"START\" -> Node[Prompt passed to LLM] -> \"END\"\n",
    "\n",
    "Here, we have\n",
    "- 2 Edges (START to Node, Node to END)\n",
    "\n",
    "- 1 Node (Prompt passed to LLM)\n",
    "- State contains `messages` variable which gets appended everytime with the LLM response generated."
   ]
  },
  {
   "cell_type": "markdown",
   "metadata": {},
   "source": [
    "## Importing Environment Variables"
   ]
  },
  {
   "cell_type": "code",
   "execution_count": 7,
   "metadata": {},
   "outputs": [
    {
     "data": {
      "text/plain": [
       "True"
      ]
     },
     "execution_count": 7,
     "metadata": {},
     "output_type": "execute_result"
    }
   ],
   "source": [
    "from dotenv import load_dotenv\n",
    "load_dotenv()"
   ]
  },
  {
   "cell_type": "markdown",
   "metadata": {},
   "source": [
    "## Importing LangGraph Libraries"
   ]
  },
  {
   "cell_type": "code",
   "execution_count": 8,
   "metadata": {},
   "outputs": [],
   "source": [
    "from typing import Annotated\n",
    "\n",
    "from typing_extensions import TypedDict\n",
    "\n",
    "# LangGraph \n",
    "from langgraph.graph import StateGraph, START, END\n",
    "from langgraph.graph.message import add_messages # It is a Reducer, its main role is to append new messages to the variable which its defined.\n"
   ]
  },
  {
   "cell_type": "markdown",
   "metadata": {},
   "source": [
    "## Initializing LLM "
   ]
  },
  {
   "cell_type": "code",
   "execution_count": 9,
   "metadata": {},
   "outputs": [
    {
     "data": {
      "text/plain": [
       "ChatGroq(client=<groq.resources.chat.completions.Completions object at 0x12cb89e20>, async_client=<groq.resources.chat.completions.AsyncCompletions object at 0x12ccb9220>, model_name='llama3-8b-8192', model_kwargs={}, groq_api_key=SecretStr('**********'))"
      ]
     },
     "execution_count": 9,
     "metadata": {},
     "output_type": "execute_result"
    }
   ],
   "source": [
    "from langchain_groq import ChatGroq # Type 1 Initialization \n",
    "from langchain.chat_models import init_chat_model # Type 2 Initialization - can be used with any chat model, not just Groq.\n",
    "\n",
    "llm = ChatGroq(model=\"llama3-8b-8192\")\n",
    "\n",
    "llm"
   ]
  },
  {
   "cell_type": "markdown",
   "metadata": {},
   "source": [
    "## Creating State "
   ]
  },
  {
   "cell_type": "code",
   "execution_count": 10,
   "metadata": {},
   "outputs": [],
   "source": [
    "class State(TypedDict):\n",
    "    \"\"\"\n",
    "    Messages have the type \"list\". The `add_messages` function in the annotation\n",
    "    defines how this state key should be updated. (In the current case, it appends messages to the list, rather than overwriting it.)\n",
    "    \"\"\"\n",
    "    messages: Annotated[list, add_messages] # Annotated is used to add metadata to the type, in this case, it specifies that the `messages` list should be updated using the `add_messages` reducer. "
   ]
  },
  {
   "cell_type": "markdown",
   "metadata": {},
   "source": [
    "## Node Implementation for Chat Functionality"
   ]
  },
  {
   "cell_type": "code",
   "execution_count": 11,
   "metadata": {},
   "outputs": [],
   "source": [
    "def chatBot(state: State): # Inheriting the State, since the state is passed to the function, it can be used to access and modify the state variables.\n",
    "    return {\"messages\" : [llm.invoke(state[\"messages\"])]}  # The function takes the current state, invokes the LLM with the messages, and returns the updated messages."
   ]
  },
  {
   "cell_type": "markdown",
   "metadata": {},
   "source": [
    "## Building Graph and adding Node and Edges"
   ]
  },
  {
   "cell_type": "code",
   "execution_count": 12,
   "metadata": {},
   "outputs": [
    {
     "data": {
      "text/plain": [
       "<langgraph.graph.state.StateGraph at 0x12ccb9df0>"
      ]
     },
     "execution_count": 12,
     "metadata": {},
     "output_type": "execute_result"
    }
   ],
   "source": [
    "graph_builder = StateGraph(State)  # Create a StateGraph instance with the defined State type.\n",
    "\n",
    "# Adding Node\n",
    "graph_builder.add_node(\"llmchatbot\", chatBot)  # Add the chatBot function as a node in the graph.\n",
    "\n",
    "# Adding Edges\n",
    "graph_builder.add_edge(START, \"llmchatbot\")  # Connect the START node to the llmchatbot node.\n",
    "graph_builder.add_edge(\"llmchatbot\", END)  # Connect the llmchatbot node to the END node.   "
   ]
  },
  {
   "cell_type": "markdown",
   "metadata": {},
   "source": [
    "## Compiling the Graph"
   ]
  },
  {
   "cell_type": "code",
   "execution_count": 29,
   "metadata": {},
   "outputs": [],
   "source": [
    "graph = graph_builder.compile()"
   ]
  },
  {
   "cell_type": "markdown",
   "metadata": {},
   "source": [
    "## Visualizing the Graph"
   ]
  },
  {
   "cell_type": "code",
   "execution_count": 14,
   "metadata": {},
   "outputs": [
    {
     "data": {
      "image/png": "[encoded data removed]",
      "text/plain": [
       "<IPython.core.display.Image object>"
      ]
     },
     "metadata": {},
     "output_type": "display_data"
    }
   ],
   "source": [
    "from IPython.display import Image, display\n",
    "\n",
    "# Display the graph as an image\n",
    "try: \n",
    "    display(Image(graph.get_graph().draw_mermaid_png()))\n",
    "except Exception as e:\n",
    "    print(\"Error displaying the graph:\", e)"
   ]
  },
  {
   "cell_type": "markdown",
   "metadata": {},
   "source": [
    "## Executing the Graph using `graph.invoke()`"
   ]
  },
  {
   "cell_type": "code",
   "execution_count": 15,
   "metadata": {},
   "outputs": [],
   "source": [
    "response = graph.invoke(\n",
    "    {\n",
    "        \"messages\" : \"Hello, I am Sai Kiran!\"\n",
    "    }\n",
    ")"
   ]
  },
  {
   "cell_type": "code",
   "execution_count": 16,
   "metadata": {},
   "outputs": [
    {
     "data": {
      "text/plain": [
       "{'messages': [HumanMessage(content='Hello, I am Sai Kiran!', additional_kwargs={}, response_metadata={}, id='72c63685-07a5-4672-a6f1-e403ee378ab8'),\n",
       "  AIMessage(content=\"Nice to meet you, Sai Kiran! It's great to have you here. How can I assist or chat with you today?\", additional_kwargs={}, response_metadata={'token_usage': {'completion_tokens': 28, 'prompt_tokens': 18, 'total_tokens': 46, 'completion_time': 0.029516942, 'prompt_time': 0.004830941, 'queue_time': 0.270360258, 'total_time': 0.034347883}, 'model_name': 'llama3-8b-8192', 'system_fingerprint': 'fp_8dc6ecaf8e', 'finish_reason': 'stop', 'logprobs': None}, id='run--982a8d39-4243-4576-bb41-681d73211e5d-0', usage_metadata={'input_tokens': 18, 'output_tokens': 28, 'total_tokens': 46})]}"
      ]
     },
     "execution_count": 16,
     "metadata": {},
     "output_type": "execute_result"
    }
   ],
   "source": [
    "response"
   ]
  },
  {
   "cell_type": "markdown",
   "metadata": {},
   "source": [
    "In the above output, we have received, if we remember correctly when creating the \"State\", we have mentioned `messages` as the list annotated with `add_messages` reducer. \n",
    "\n",
    "Here, the role of \n",
    "- `Annotated` is to convert the provided messages to either the Human or AI Message \n",
    "\n",
    "- `add_messages` reducer is making sure that the messages are getting appended to each other in a response. First the user input, next the LLM response. "
   ]
  },
  {
   "cell_type": "code",
   "execution_count": 17,
   "metadata": {},
   "outputs": [
    {
     "data": {
      "text/plain": [
       "\"Nice to meet you, Sai Kiran! It's great to have you here. How can I assist or chat with you today?\""
      ]
     },
     "execution_count": 17,
     "metadata": {},
     "output_type": "execute_result"
    }
   ],
   "source": [
    "response[\"messages\"][-1].content"
   ]
  },
  {
   "cell_type": "markdown",
   "metadata": {},
   "source": [
    "## Executing the Graph using `graph.stream()`"
   ]
  },
  {
   "cell_type": "code",
   "execution_count": 18,
   "metadata": {},
   "outputs": [
    {
     "name": "stdout",
     "output_type": "stream",
     "text": [
      "I'm just a language model, I don't have emotions or feelings like humans do, so I don't have a good or bad day. I'm always \"on\" and ready to assist you with any questions or tasks you may have! It's great to chat with you, though! Is there something specific you'd like to talk about or ask?\n"
     ]
    }
   ],
   "source": [
    "for event in graph.stream({ \"messages\" : \"Hi, how are you doing?\"}): \n",
    "\n",
    "    for value in event.values():\n",
    "        print(value[\"messages\"][-1].content)"
   ]
  },
  {
   "cell_type": "markdown",
   "metadata": {},
   "source": [
    "---"
   ]
  },
  {
   "cell_type": "markdown",
   "metadata": {},
   "source": [
    "## Integrating Tavily Search \n",
    "\n",
    "Tavily Search is just like Serper Tool in CrewAI, which does the google searches and provide the LLM with the recent or latest updates. "
   ]
  },
  {
   "cell_type": "code",
   "execution_count": 19,
   "metadata": {},
   "outputs": [
    {
     "data": {
      "text/plain": [
       "{'query': 'What is the recent AI news today?',\n",
       " 'follow_up_questions': None,\n",
       " 'answer': None,\n",
       " 'images': [],\n",
       " 'results': [{'title': 'AI News | Latest AI News, Analysis & Events',\n",
       "   'url': 'https://www.artificialintelligence-news.com/',\n",
       "   'content': 'AI News reports on the latest artificial intelligence news and insights. Explore industry trends from the frontline of AI.',\n",
       "   'score': 0.63234437,\n",
       "   'raw_content': None},\n",
       "  {'title': 'AI News & Artificial Intelligence | TechCrunch',\n",
       "   'url': 'https://techcrunch.com/category/artificial-intelligence/',\n",
       "   'content': 'News coverage on artificial intelligence and machine learning tech, the companies building them, and the ethical issues AI raises today. This encompasses generative AI, including large language',\n",
       "   'score': 0.58237284,\n",
       "   'raw_content': None}],\n",
       " 'response_time': 1.52}"
      ]
     },
     "execution_count": 19,
     "metadata": {},
     "output_type": "execute_result"
    }
   ],
   "source": [
    "from langchain_tavily import TavilySearch\n",
    "\n",
    "tavily_search_tool = TavilySearch(max_results=2) # limiting the searches to 2 results for brevity\n",
    "\n",
    "tavily_search_tool.invoke(\"What is the recent AI news today?\")"
   ]
  },
  {
   "cell_type": "markdown",
   "metadata": {},
   "source": [
    "## Creating Custom Tool/Function - `multiply()`"
   ]
  },
  {
   "cell_type": "code",
   "execution_count": 20,
   "metadata": {},
   "outputs": [],
   "source": [
    "def multiply(a:int, b:int) -> int: \n",
    "    '''\n",
    "    Multiply a and b \n",
    "\n",
    "    Args:\n",
    "        a (int): first int\n",
    "        b (int): second int \n",
    "\n",
    "    Returns: \n",
    "        int: output    \n",
    "    \n",
    "    '''\n",
    "    return a * b "
   ]
  },
  {
   "cell_type": "markdown",
   "metadata": {},
   "source": [
    "## Adding Tools and Binding with LLM\n",
    "\n",
    "**Binding** the LLM with tools, makes the LLM knows what tools are present for it to access. Each tool should have the docstrings attached if not necessary, as it helps the LLM know which tool need to be chosen during the query execution."
   ]
  },
  {
   "cell_type": "code",
   "execution_count": 22,
   "metadata": {},
   "outputs": [],
   "source": [
    "tools = [tavily_search_tool, multiply] # adding tools in the list \n",
    "\n",
    "llm_with_tools = llm.bind_tools(tools) # Binding the LLM with tools"
   ]
  },
  {
   "cell_type": "code",
   "execution_count": 23,
   "metadata": {},
   "outputs": [
    {
     "data": {
      "text/plain": [
       "RunnableBinding(bound=ChatGroq(client=<groq.resources.chat.completions.Completions object at 0x12cb89e20>, async_client=<groq.resources.chat.completions.AsyncCompletions object at 0x12ccb9220>, model_name='llama3-8b-8192', model_kwargs={}, groq_api_key=SecretStr('**********')), kwargs={'tools': [{'type': 'function', 'function': {'name': 'tavily_search', 'description': 'A search engine optimized for comprehensive, accurate, and trusted results. Useful for when you need to answer questions about current events. It not only retrieves URLs and snippets, but offers advanced search depths, domain management, time range filters, and image search, this tool delivers real-time, accurate, and citation-backed results.Input should be a search query.', 'parameters': {'properties': {'query': {'description': 'Search query to look up', 'type': 'string'}, 'include_domains': {'anyOf': [{'items': {'type': 'string'}, 'type': 'array'}, {'type': 'null'}], 'default': [], 'description': 'A list of domains to restrict search results to.\\n\\n        Use this parameter when:\\n        1. The user explicitly requests information from specific websites (e.g., \"Find climate data from nasa.gov\")\\n        2. The user mentions an organization or company without specifying the domain (e.g., \"Find information about iPhones from Apple\")\\n\\n        In both cases, you should determine the appropriate domains (e.g., [\"nasa.gov\"] or [\"apple.com\"]) and set this parameter.\\n\\n        Results will ONLY come from the specified domains - no other sources will be included.\\n        Default is None (no domain restriction).\\n        '}, 'exclude_domains': {'anyOf': [{'items': {'type': 'string'}, 'type': 'array'}, {'type': 'null'}], 'default': [], 'description': 'A list of domains to exclude from search results.\\n\\n        Use this parameter when:\\n        1. The user explicitly requests to avoid certain websites (e.g., \"Find information about climate change but not from twitter.com\")\\n        2. The user mentions not wanting results from specific organizations without naming the domain (e.g., \"Find phone reviews but nothing from Apple\")\\n\\n        In both cases, you should determine the appropriate domains to exclude (e.g., [\"twitter.com\"] or [\"apple.com\"]) and set this parameter.\\n\\n        Results will filter out all content from the specified domains.\\n        Default is None (no domain exclusion).\\n        '}, 'search_depth': {'anyOf': [{'enum': ['basic', 'advanced'], 'type': 'string'}, {'type': 'null'}], 'default': 'basic', 'description': 'Controls search thoroughness and result comprehensiveness.\\n    \\n        Use \"basic\" for simple queries requiring quick, straightforward answers.\\n        \\n        Use \"advanced\" (default) for complex queries, specialized topics, \\n        rare information, or when in-depth analysis is needed.\\n        '}, 'include_images': {'anyOf': [{'type': 'boolean'}, {'type': 'null'}], 'default': False, 'description': 'Determines if the search returns relevant images along with text results.\\n   \\n        Set to True when the user explicitly requests visuals or when images would \\n        significantly enhance understanding (e.g., \"Show me what black holes look like,\" \\n        \"Find pictures of Renaissance art\").\\n        \\n        Leave as False (default) for most informational queries where text is sufficient.\\n        '}, 'time_range': {'anyOf': [{'enum': ['day', 'week', 'month', 'year'], 'type': 'string'}, {'type': 'null'}], 'default': None, 'description': 'Limits results to content published within a specific timeframe.\\n        \\n        ONLY set this when the user explicitly mentions a time period \\n        (e.g., \"latest AI news,\" \"articles from last week\").\\n        \\n        For less popular or niche topics, use broader time ranges \\n        (\"month\" or \"year\") to ensure sufficient relevant results.\\n   \\n        Options: \"day\" (24h), \"week\" (7d), \"month\" (30d), \"year\" (365d).\\n        \\n        Default is None.\\n        '}, 'topic': {'anyOf': [{'enum': ['general', 'news', 'finance'], 'type': 'string'}, {'type': 'null'}], 'default': 'general', 'description': 'Specifies search category for optimized results.\\n   \\n        Use \"general\" (default) for most queries, INCLUDING those with terms like \\n        \"latest,\" \"newest,\" or \"recent\" when referring to general information.\\n\\n        Use \"finance\" for markets, investments, economic data, or financial news.\\n\\n        Use \"news\" ONLY for politics, sports, or major current events covered by \\n        mainstream media - NOT simply because a query asks for \"new\" information.\\n        '}}, 'required': ['query'], 'type': 'object'}}}, {'type': 'function', 'function': {'name': 'multiply', 'description': 'Multiply a and b ', 'parameters': {'properties': {'a': {'description': 'first int', 'type': 'integer'}, 'b': {'description': 'second int', 'type': 'integer'}}, 'required': ['a', 'b'], 'type': 'object'}}}]}, config={}, config_factories=[])"
      ]
     },
     "execution_count": 23,
     "metadata": {},
     "output_type": "execute_result"
    }
   ],
   "source": [
    "llm_with_tools"
   ]
  },
  {
   "cell_type": "markdown",
   "metadata": {},
   "source": [
    "## Adding `tool_calling_llm` Node definition"
   ]
  },
  {
   "cell_type": "code",
   "execution_count": 25,
   "metadata": {},
   "outputs": [],
   "source": [
    "def tool_calling_llm(state: State):\n",
    "\n",
    "    return { \"messages\": [llm_with_tools.invoke(state[\"messages\"])]} # We are using the LLM which was binded with tools."
   ]
  },
  {
   "cell_type": "markdown",
   "metadata": {},
   "source": [
    "## Creating StateGraph"
   ]
  },
  {
   "cell_type": "code",
   "execution_count": 38,
   "metadata": {},
   "outputs": [
    {
     "data": {
      "text/plain": [
       "<langgraph.graph.state.StateGraph at 0x12cfce690>"
      ]
     },
     "execution_count": 38,
     "metadata": {},
     "output_type": "execute_result"
    }
   ],
   "source": [
    "# Importing required libraries\n",
    "from langgraph.graph import StateGraph, START, END\n",
    "from langgraph.prebuilt import ToolNode, tools_condition\n",
    "\n",
    "builder = StateGraph(State) # using the same State class again which we have created earlier having messages attribute\n",
    "\n",
    "# Adding Nodes\n",
    "builder.add_node(\"tool_calling_llm\", tool_calling_llm) # Adding the definition of the node\n",
    "builder.add_node(\"tools\", ToolNode(tools)) # Irrespective of number of tools, we can use the ToolNode function to add it as a single Node in the graph. \n",
    "\n",
    "# Adding Edges\n",
    "builder.add_edge(START, \"tool_calling_llm\")\n",
    "builder.add_conditional_edges(\n",
    "    \"tool_calling_llm\", \n",
    "    # If the latest message (result) from the assistant (LLM) node is a tool call -> tools_condition routes to tools node.\n",
    "    # Tf the latest messsage (result) from the assistant (LLM) node is not a tool call -> tools_condition routes to END node.\n",
    "    tools_condition\n",
    ")\n",
    "builder.add_edge(\"tools\", END) # Adding the edge from tools node to END node.\n"
   ]
  },
  {
   "cell_type": "markdown",
   "metadata": {},
   "source": [
    "Compiling the graph with all the edges and nodes defined"
   ]
  },
  {
   "cell_type": "code",
   "execution_count": 39,
   "metadata": {},
   "outputs": [],
   "source": [
    "chatbot_with_tools_graph = builder.compile() # Compiling the graph"
   ]
  },
  {
   "cell_type": "code",
   "execution_count": 40,
   "metadata": {},
   "outputs": [
    {
     "data": {
      "image/png": "[encoded data removed]",
      "text/plain": [
       "<langgraph.graph.state.CompiledStateGraph object at 0x12d30fad0>"
      ]
     },
     "execution_count": 40,
     "metadata": {},
     "output_type": "execute_result"
    }
   ],
   "source": [
    "chatbot_with_tools_graph"
   ]
  },
  {
   "cell_type": "markdown",
   "metadata": {},
   "source": [
    "## Testing the graph with queries"
   ]
  },
  {
   "cell_type": "markdown",
   "metadata": {},
   "source": [
    "### Case 1: Making LLM to call the Tavily Search tool "
   ]
  },
  {
   "cell_type": "code",
   "execution_count": 43,
   "metadata": {},
   "outputs": [
    {
     "data": {
      "text/plain": [
       "{'messages': [HumanMessage(content='What are the recent news in AI?', additional_kwargs={}, response_metadata={}, id='97ce63ec-580e-4370-bda4-3aea4dbff29a'),\n",
       "  AIMessage(content='', additional_kwargs={'tool_calls': [{'id': 'pc48by75v', 'function': {'arguments': '{\"query\":\"What are the recent news in AI?\",\"search_depth\":\"advanced\",\"time_range\":\"week\",\"topic\":\"news\"}', 'name': 'tavily_search'}, 'type': 'function'}]}, response_metadata={'token_usage': {'completion_tokens': 97, 'prompt_tokens': 2196, 'total_tokens': 2293, 'completion_time': 0.149492767, 'prompt_time': 0.243900387, 'queue_time': 0.27290222700000005, 'total_time': 0.393393154}, 'model_name': 'llama3-8b-8192', 'system_fingerprint': 'fp_8b7c3a83f7', 'finish_reason': 'tool_calls', 'logprobs': None}, id='run--8d5fcb58-02bf-486d-97a2-3cca4a4336ef-0', tool_calls=[{'name': 'tavily_search', 'args': {'query': 'What are the recent news in AI?', 'search_depth': 'advanced', 'time_range': 'week', 'topic': 'news'}, 'id': 'pc48by75v', 'type': 'tool_call'}], usage_metadata={'input_tokens': 2196, 'output_tokens': 97, 'total_tokens': 2293}),\n",
       "  ToolMessage(content='{\"query\": \"What are the recent news in AI?\", \"follow_up_questions\": null, \"answer\": null, \"images\": [], \"results\": [{\"url\": \"https://www.newsweek.com/nw-ai/ai-impact-awards-2025-science-engineering-2084754\", \"title\": \"AI Impact Awards 2025: The Changing Human Role in Science and Engineering - Newsweek\", \"score\": 0.74385756, \"published_date\": \"Wed, 25 Jun 2025 10:02:01 GMT\", \"content\": \"Newsweek _\\\\\\\\_will continue the conversation on meaningful AI innovations at our AI Impact Summit from June 23 to 25 in Sonoma, California. Click here to follow along on the live blog.\\\\\\\\__\\\\n\\\\nRequest Reprint & LicensingSubmit CorrectionView Editorial Guidelines\\\\n\\\\nSHARE:xfacebooklinkedinredditemailwhatsappCopy & Share\\\\n\\\\n✓ Link copied to clipboard!\\\\n\\\\nThe Latest in AI\\\\n----------------\\\\n\\\\nNEWSWEEK.AI\\\\n\\\\n06.09.25\\\\n\\\\n### Generative AI\\'s Mission to Explore Strange New Worlds [...] ### AI Will Connect Mercedes-Benz Places Residents to the World\\\\n\\\\nThe new Miami condo complex will have state-of-the-art technology.\\\\n\\\\nArtificial Intelligence Miami\\\\n\\\\nNEWS\\\\n\\\\n06.04.25\\\\n\\\\n### Reddit Sues AI Provider for Breach of Contract\\\\n\\\\nThe AI start up Anthropic has allegedly engaged in \\\\\"unlawful and unfair business acts.\\\\\"\\\\n\\\\nReddit AI\\\\n\\\\nTECHNOLOGY\\\\n\\\\n06.02.25\\\\n\\\\n### Could AI Save Small Businesses? Mindbody Makes a Case to Wellness Brands [...] So far, 87 percent of the top 100 predictions from the MATRIX platform have aligned with known effective treatments, and more than eight promising repurposing projects have been identified. Additionally, partnerships with seven major organizations have been established.\\\\n\\\\nEvery Cure also received new funding, including a $48.3 million contract from the Advanced Research Projects Agency for Health (ARPA-H) and $60 million in philanthropic funding through The Audacious Project.\", \"raw_content\": null}, {\"url\": \"https://www.cnn.com/2025/06/23/tech/ai-impact-on-jobs-callout\", \"title\": \"Do you think AI changing or threatening to take your job? Tell us about it here - CNN\", \"score\": 0.62770075, \"published_date\": \"Mon, 23 Jun 2025 13:00:00 GMT\", \"content\": \"Anthropic CEO Dario Amodei warned last month that AI could cause as much as 20% unemployment in the next one to five years. And last week, Amazon CEO Andy Jassy told his employees that AI agents would reduce the company’s workforce in the near future. [...] Tell us about it in the form below, and please leave your contact information. No named commentary will be used without following up with you, and we can discuss providing anonymity if you’re concerned about speaking on the record about work.\\\\n\\\\n1 comment\\\\n\\\\nUp next\\\\n-------\\\\n\\\\nImage 3Amazon says it will reduce its workforce as AI replaces human employees Jun 17, 2025 2 minute read min read\\\\n\\\\nImage 4Your AI use could have a hidden environmental cost Jun 23, 2025 5 minute read min read\", \"raw_content\": null}], \"response_time\": 1.61}', name='tavily_search', id='05d285fa-461e-4540-a84c-398c6e73142a', tool_call_id='pc48by75v')]}"
      ]
     },
     "execution_count": 43,
     "metadata": {},
     "output_type": "execute_result"
    }
   ],
   "source": [
    "response = chatbot_with_tools_graph.invoke(\n",
    "    {\n",
    "        \"messages\" : \"What are the recent news in AI?\"\n",
    "    }\n",
    ")\n",
    "\n",
    "# Printing the response from the LLM after invoking the graph with a message.\n",
    "response"
   ]
  },
  {
   "cell_type": "code",
   "execution_count": 48,
   "metadata": {},
   "outputs": [
    {
     "name": "stdout",
     "output_type": "stream",
     "text": [
      "================================\u001b[1m Human Message \u001b[0m=================================\n",
      "\n",
      "What is 54 multiplied by 23?\n",
      "==================================\u001b[1m Ai Message \u001b[0m==================================\n",
      "Tool Calls:\n",
      "  multiply (e44wcfh5b)\n",
      " Call ID: e44wcfh5b\n",
      "  Args:\n",
      "    a: 54\n",
      "    b: 23\n",
      "=================================\u001b[1m Tool Message \u001b[0m=================================\n",
      "Name: multiply\n",
      "\n",
      "1242\n"
     ]
    }
   ],
   "source": [
    "for m in response[\"messages\"]:\n",
    "    m.pretty_print()"
   ]
  },
  {
   "cell_type": "markdown",
   "metadata": {},
   "source": [
    "### Case 2: Making LLM to call the Multiply Function tool"
   ]
  },
  {
   "cell_type": "code",
   "execution_count": 53,
   "metadata": {},
   "outputs": [
    {
     "data": {
      "text/plain": [
       "{'messages': [HumanMessage(content='What is 54 multiplied by 23 and then multipled by 10?', additional_kwargs={}, response_metadata={}, id='d6a25799-9d7d-47b9-8a3a-cddd58dd2df1'),\n",
       "  AIMessage(content='', additional_kwargs={'tool_calls': [{'id': 'k3tngdgag', 'function': {'arguments': '{\"a\":54,\"b\":23}', 'name': 'multiply'}, 'type': 'function'}, {'id': 'ewc6rhkyx', 'function': {'arguments': '{\"a\":242,\"b\":10}', 'name': 'multiply'}, 'type': 'function'}]}, response_metadata={'token_usage': {'completion_tokens': 125, 'prompt_tokens': 2204, 'total_tokens': 2329, 'completion_time': 0.190218571, 'prompt_time': 0.24482589, 'queue_time': 0.27379989400000004, 'total_time': 0.435044461}, 'model_name': 'llama3-8b-8192', 'system_fingerprint': 'fp_8b7c3a83f7', 'finish_reason': 'tool_calls', 'logprobs': None}, id='run--2a782e8e-ae26-45c8-afe5-7bd94db7857f-0', tool_calls=[{'name': 'multiply', 'args': {'a': 54, 'b': 23}, 'id': 'k3tngdgag', 'type': 'tool_call'}, {'name': 'multiply', 'args': {'a': 242, 'b': 10}, 'id': 'ewc6rhkyx', 'type': 'tool_call'}], usage_metadata={'input_tokens': 2204, 'output_tokens': 125, 'total_tokens': 2329}),\n",
       "  ToolMessage(content='1242', name='multiply', id='f8d53fa9-78ba-481d-98bd-9daf959c3792', tool_call_id='k3tngdgag'),\n",
       "  ToolMessage(content='2420', name='multiply', id='bd716ccf-aecb-4909-9ddc-bcff64a059c4', tool_call_id='ewc6rhkyx')]}"
      ]
     },
     "execution_count": 53,
     "metadata": {},
     "output_type": "execute_result"
    }
   ],
   "source": [
    "response = chatbot_with_tools_graph.invoke(\n",
    "    {\n",
    "        \"messages\" : \"What is 54 multiplied by 23 and then multipled by 10?\"\n",
    "    }\n",
    ")\n",
    "\n",
    "# Printing the response from the LLM after invoking the graph with a message.\n",
    "response"
   ]
  },
  {
   "cell_type": "code",
   "execution_count": 54,
   "metadata": {},
   "outputs": [
    {
     "name": "stdout",
     "output_type": "stream",
     "text": [
      "================================\u001b[1m Human Message \u001b[0m=================================\n",
      "\n",
      "What is 54 multiplied by 23 and then multipled by 10?\n",
      "==================================\u001b[1m Ai Message \u001b[0m==================================\n",
      "Tool Calls:\n",
      "  multiply (k3tngdgag)\n",
      " Call ID: k3tngdgag\n",
      "  Args:\n",
      "    a: 54\n",
      "    b: 23\n",
      "  multiply (ewc6rhkyx)\n",
      " Call ID: ewc6rhkyx\n",
      "  Args:\n",
      "    a: 242\n",
      "    b: 10\n",
      "=================================\u001b[1m Tool Message \u001b[0m=================================\n",
      "Name: multiply\n",
      "\n",
      "1242\n",
      "=================================\u001b[1m Tool Message \u001b[0m=================================\n",
      "Name: multiply\n",
      "\n",
      "2420\n"
     ]
    }
   ],
   "source": [
    "for m in response[\"messages\"]:\n",
    "    m.pretty_print()"
   ]
  },
  {
   "cell_type": "markdown",
   "metadata": {},
   "source": [
    "### Case 3: Making LLM to call two tools at the same time - Tavily and Multiply tool"
   ]
  },
  {
   "cell_type": "code",
   "execution_count": 51,
   "metadata": {},
   "outputs": [
    {
     "data": {
      "text/plain": [
       "{'messages': [HumanMessage(content='Tell me the recent news in AI and then multiply 10 and 2.', additional_kwargs={}, response_metadata={}, id='8dfe49fa-b949-4553-96f2-24be7a471b93'),\n",
       "  AIMessage(content='', additional_kwargs={'tool_calls': [{'id': 'xhq5q504a', 'function': {'arguments': '{\"query\":\"recent AI news\",\"search_depth\":\"advanced\",\"topic\":\"news\"}', 'name': 'tavily_search'}, 'type': 'function'}, {'id': 'j1bzkwx9c', 'function': {'arguments': '{\"a\":10,\"b\":2}', 'name': 'multiply'}, 'type': 'function'}]}, response_metadata={'token_usage': {'completion_tokens': 184, 'prompt_tokens': 2204, 'total_tokens': 2388, 'completion_time': 0.202996133, 'prompt_time': 0.245820748, 'queue_time': 0.26864743, 'total_time': 0.448816881}, 'model_name': 'llama3-8b-8192', 'system_fingerprint': 'fp_8dc6ecaf8e', 'finish_reason': 'tool_calls', 'logprobs': None}, id='run--8086ef50-2957-46b4-8337-77167f839bd6-0', tool_calls=[{'name': 'tavily_search', 'args': {'query': 'recent AI news', 'search_depth': 'advanced', 'topic': 'news'}, 'id': 'xhq5q504a', 'type': 'tool_call'}, {'name': 'multiply', 'args': {'a': 10, 'b': 2}, 'id': 'j1bzkwx9c', 'type': 'tool_call'}], usage_metadata={'input_tokens': 2204, 'output_tokens': 184, 'total_tokens': 2388}),\n",
       "  ToolMessage(content='{\"query\": \"recent AI news\", \"follow_up_questions\": null, \"answer\": null, \"images\": [], \"results\": [{\"url\": \"https://www.newsweek.com/nw-ai/ai-impact-awards-2025-science-engineering-2084754\", \"title\": \"AI Impact Awards 2025: The Changing Human Role in Science and Engineering - Newsweek\", \"score\": 0.7251239, \"published_date\": \"Wed, 25 Jun 2025 10:02:01 GMT\", \"content\": \"Newsweek _\\\\\\\\_will continue the conversation on meaningful AI innovations at our AI Impact Summit from June 23 to 25 in Sonoma, California. Click here to follow along on the live blog.\\\\\\\\__\\\\n\\\\nRequest Reprint & LicensingSubmit CorrectionView Editorial Guidelines\\\\n\\\\nSHARE:xfacebooklinkedinredditemailwhatsappCopy & Share\\\\n\\\\n✓ Link copied to clipboard!\\\\n\\\\nThe Latest in AI\\\\n----------------\\\\n\\\\nNEWSWEEK.AI\\\\n\\\\n06.09.25\\\\n\\\\n### Generative AI\\'s Mission to Explore Strange New Worlds [...] ### AI Will Connect Mercedes-Benz Places Residents to the World\\\\n\\\\nThe new Miami condo complex will have state-of-the-art technology.\\\\n\\\\nArtificial Intelligence Miami\\\\n\\\\nNEWS\\\\n\\\\n06.04.25\\\\n\\\\n### Reddit Sues AI Provider for Breach of Contract\\\\n\\\\nThe AI start up Anthropic has allegedly engaged in \\\\\"unlawful and unfair business acts.\\\\\"\\\\n\\\\nReddit AI\\\\n\\\\nTECHNOLOGY\\\\n\\\\n06.02.25\\\\n\\\\n### Could AI Save Small Businesses? Mindbody Makes a Case to Wellness Brands\", \"raw_content\": null}, {\"url\": \"https://www.cnn.com/2025/06/23/tech/ai-impact-on-jobs-callout\", \"title\": \"Do you think AI changing or threatening to take your job? Tell us about it here - CNN\", \"score\": 0.6533265, \"published_date\": \"Mon, 23 Jun 2025 13:00:00 GMT\", \"content\": \"Anthropic CEO Dario Amodei warned last month that AI could cause as much as 20% unemployment in the next one to five years. And last week, Amazon CEO Andy Jassy told his employees that AI agents would reduce the company’s workforce in the near future.\", \"raw_content\": null}], \"response_time\": 1.5}', name='tavily_search', id='58417bc5-4a9f-4e55-a374-90321681194f', tool_call_id='xhq5q504a'),\n",
       "  ToolMessage(content='20', name='multiply', id='80ed7f19-f942-4d6b-9cfd-51915c49cfa3', tool_call_id='j1bzkwx9c')]}"
      ]
     },
     "execution_count": 51,
     "metadata": {},
     "output_type": "execute_result"
    }
   ],
   "source": [
    "response = chatbot_with_tools_graph.invoke(\n",
    "    {\n",
    "        \"messages\" : \"Tell me the recent news in AI and then multiply 10 and 2.\"\n",
    "    }\n",
    ")\n",
    "\n",
    "# Printing the response from the LLM after invoking the graph with a message.\n",
    "response"
   ]
  },
  {
   "cell_type": "code",
   "execution_count": 52,
   "metadata": {},
   "outputs": [
    {
     "name": "stdout",
     "output_type": "stream",
     "text": [
      "================================\u001b[1m Human Message \u001b[0m=================================\n",
      "\n",
      "Tell me the recent news in AI and then multiply 10 and 2.\n",
      "==================================\u001b[1m Ai Message \u001b[0m==================================\n",
      "Tool Calls:\n",
      "  tavily_search (xhq5q504a)\n",
      " Call ID: xhq5q504a\n",
      "  Args:\n",
      "    query: recent AI news\n",
      "    search_depth: advanced\n",
      "    topic: news\n",
      "  multiply (j1bzkwx9c)\n",
      " Call ID: j1bzkwx9c\n",
      "  Args:\n",
      "    a: 10\n",
      "    b: 2\n",
      "=================================\u001b[1m Tool Message \u001b[0m=================================\n",
      "Name: tavily_search\n",
      "\n",
      "{\"query\": \"recent AI news\", \"follow_up_questions\": null, \"answer\": null, \"images\": [], \"results\": [{\"url\": \"https://www.newsweek.com/nw-ai/ai-impact-awards-2025-science-engineering-2084754\", \"title\": \"AI Impact Awards 2025: The Changing Human Role in Science and Engineering - Newsweek\", \"score\": 0.7251239, \"published_date\": \"Wed, 25 Jun 2025 10:02:01 GMT\", \"content\": \"Newsweek _\\\\_will continue the conversation on meaningful AI innovations at our AI Impact Summit from June 23 to 25 in Sonoma, California. Click here to follow along on the live blog.\\\\__\\n\\nRequest Reprint & LicensingSubmit CorrectionView Editorial Guidelines\\n\\nSHARE:xfacebooklinkedinredditemailwhatsappCopy & Share\\n\\n✓ Link copied to clipboard!\\n\\nThe Latest in AI\\n----------------\\n\\nNEWSWEEK.AI\\n\\n06.09.25\\n\\n### Generative AI's Mission to Explore Strange New Worlds [...] ### AI Will Connect Mercedes-Benz Places Residents to the World\\n\\nThe new Miami condo complex will have state-of-the-art technology.\\n\\nArtificial Intelligence Miami\\n\\nNEWS\\n\\n06.04.25\\n\\n### Reddit Sues AI Provider for Breach of Contract\\n\\nThe AI start up Anthropic has allegedly engaged in \\\"unlawful and unfair business acts.\\\"\\n\\nReddit AI\\n\\nTECHNOLOGY\\n\\n06.02.25\\n\\n### Could AI Save Small Businesses? Mindbody Makes a Case to Wellness Brands\", \"raw_content\": null}, {\"url\": \"https://www.cnn.com/2025/06/23/tech/ai-impact-on-jobs-callout\", \"title\": \"Do you think AI changing or threatening to take your job? Tell us about it here - CNN\", \"score\": 0.6533265, \"published_date\": \"Mon, 23 Jun 2025 13:00:00 GMT\", \"content\": \"Anthropic CEO Dario Amodei warned last month that AI could cause as much as 20% unemployment in the next one to five years. And last week, Amazon CEO Andy Jassy told his employees that AI agents would reduce the company’s workforce in the near future.\", \"raw_content\": null}], \"response_time\": 1.5}\n",
      "=================================\u001b[1m Tool Message \u001b[0m=================================\n",
      "Name: multiply\n",
      "\n",
      "20\n"
     ]
    }
   ],
   "source": [
    "for m in response[\"messages\"]:\n",
    "    m.pretty_print()"
   ]
  }
 ],
 "metadata": {
  "kernelspec": {
   "display_name": ".venv",
   "language": "python",
   "name": "python3"
  },
  "language_info": {
   "codemirror_mode": {
    "name": "ipython",
    "version": 3
   },
   "file_extension": ".py",
   "mimetype": "text/x-python",
   "name": "python",
   "nbconvert_exporter": "python",
   "pygments_lexer": "ipython3",
   "version": "3.12.2"
  }
 },
 "nbformat": 4,
 "nbformat_minor": 2
}
