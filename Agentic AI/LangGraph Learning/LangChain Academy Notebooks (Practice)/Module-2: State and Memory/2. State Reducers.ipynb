{
 "cells": [
  {
   "cell_type": "markdown",
   "metadata": {},
   "source": [
    "# State Reducers\n",
    "\n",
    "As we know the default behaviour of a `State` is for every graph execution the parameters inside the `State` gets overriden. This is a problem when we want to have a track of user conversation which is required while developing chatbots."
   ]
  },
  {
   "cell_type": "markdown",
   "metadata": {},
   "source": [
    "## Without Reducers (Default overwriting State)\n",
    "\n",
    "Let us try to create a simple graph with a State having just only one variable and analyse its behaviour."
   ]
  },
  {
   "cell_type": "code",
   "execution_count": 8,
   "metadata": {},
   "outputs": [
    {
     "data": {
      "image/png": "[encoded data removed]",
      "text/plain": [
       "<langgraph.graph.state.CompiledStateGraph object at 0x10e2589b0>"
      ]
     },
     "execution_count": 8,
     "metadata": {},
     "output_type": "execute_result"
    }
   ],
   "source": [
    "from typing import TypedDict\n",
    "\n",
    "from langgraph.graph import StateGraph, START, END\n",
    "\n",
    "# Defining State with one variable\n",
    "class State(TypedDict):\n",
    "    foo: int\n",
    "\n",
    "# Defining a simple one node Graph\n",
    "def node(state: State) -> str: \n",
    "    return {\"foo\": state[\"foo\"] + 1} # incrementing the value by 1\n",
    "\n",
    "# Defining a simple one node graph \n",
    "builder = StateGraph(State) \n",
    "\n",
    "builder.add_node(\"update_value\", node)\n",
    "\n",
    "builder.add_edge(START, \"update_value\") \n",
    "builder.add_edge(\"update_value\", END)\n",
    "\n",
    "graph = builder.compile()\n",
    "\n",
    "graph"
   ]
  },
  {
   "cell_type": "code",
   "execution_count": 9,
   "metadata": {},
   "outputs": [
    {
     "data": {
      "text/plain": [
       "{'foo': 2}"
      ]
     },
     "execution_count": 9,
     "metadata": {},
     "output_type": "execute_result"
    }
   ],
   "source": [
    "graph.invoke({ \"foo\" : 1 })"
   ]
  },
  {
   "cell_type": "markdown",
   "metadata": {},
   "source": [
    "As we see above, the value is getting overiden inside our state. pdated on its own. \n",
    "\n",
    "> Langgraph doesn't know the preferred way to update its State on its own. Hence the expected behaviour is the state variable gets overwritten for each graph execution."
   ]
  },
  {
   "cell_type": "markdown",
   "metadata": {},
   "source": [
    "## Branching \n",
    "\n",
    "Let us create a scenario where will try to create branches of nodes, and update the same variable."
   ]
  },
  {
   "cell_type": "code",
   "execution_count": 12,
   "metadata": {},
   "outputs": [
    {
     "data": {
      "image/png": "[encoded data removed]",
      "text/plain": [
       "<langgraph.graph.state.CompiledStateGraph object at 0x10e25fa10>"
      ]
     },
     "execution_count": 12,
     "metadata": {},
     "output_type": "execute_result"
    }
   ],
   "source": [
    "from typing import TypedDict\n",
    "from langgraph.graph import StateGraph, START, END\n",
    "\n",
    "# Defining State with one variable\n",
    "class State(TypedDict):\n",
    "    foo: int\n",
    "\n",
    "# Defining a simple three nodes Graph\n",
    "def node_1(state: State) -> str: \n",
    "    print(\"__Node 1__\")\n",
    "    return {\"foo\": state[\"foo\"] + 1} # incrementing the value by 1\n",
    "\n",
    "def node_2(state: State) -> str: \n",
    "    print(\"__Node 2__\")\n",
    "    return {\"foo\": state[\"foo\"] + 1} # incrementing the value by 1\n",
    "\n",
    "def node_3(state: State) -> str: \n",
    "    print(\"__Node 3__\")\n",
    "    return {\"foo\": state[\"foo\"] + 1} # incrementing the value by 1\n",
    "\n",
    "# Defining a simple three nodes graph \n",
    "builder = StateGraph(State) \n",
    "\n",
    "builder.add_node(\"node_1\", node_1)\n",
    "builder.add_node(\"node_2\", node_2)\n",
    "builder.add_node(\"node_3\", node_3)\n",
    "\n",
    "builder.add_edge(START, \"node_1\") \n",
    "builder.add_edge(\"node_1\", \"node_2\")\n",
    "builder.add_edge(\"node_1\", \"node_3\")\n",
    "builder.add_edge(\"node_2\", END)\n",
    "builder.add_edge(\"node_3\", END)\n",
    "\n",
    "graph = builder.compile()\n",
    "\n",
    "graph"
   ]
  },
  {
   "cell_type": "code",
   "execution_count": 13,
   "metadata": {},
   "outputs": [
    {
     "name": "stdout",
     "output_type": "stream",
     "text": [
      "__Node 1__\n",
      "__Node 2__\n",
      "__Node 3__\n",
      "You are not allowed to update the same state variable simultaneously in multiple nodes.\n"
     ]
    }
   ],
   "source": [
    "from langgraph.errors import InvalidUpdateError \n",
    "\n",
    "try: \n",
    "    graph.invoke({ \"foo\" : 1 }) # passing data \n",
    "except InvalidUpdateError as e:\n",
    "    print(\"You are not allowed to update the same state variable simultaneously in multiple nodes.\")"
   ]
  },
  {
   "cell_type": "markdown",
   "metadata": {},
   "source": [
    "**Observation:** \n",
    "\n",
    "Node 1 branches to Node 2 and Node 3. Hence, whenever the graph gets executed the control tries to update the State variable both at the same time. "
   ]
  },
  {
   "cell_type": "markdown",
   "metadata": {},
   "source": [
    "## Introducing Reducers\n",
    "\n",
    "As we saw in the above cases, the default behaviour of State where its getting overwriten for every execuction.\n",
    "\n",
    "Reducers are trying to solve this problem, where we will try to address this issue using pre-built reducers like `add` and `add_messages` in LangGraph. These needs to be `Annotated` to the main key, hence if any node attempts to update the value of the State, based on the reducer its going to work accordingly. "
   ]
  },
  {
   "cell_type": "markdown",
   "metadata": {},
   "source": [
    "### Using `add` reducer\n",
    "\n",
    "Let us try using the same graph once again with a single node and use the add functionality, where we will add the new value after the execution."
   ]
  },
  {
   "cell_type": "code",
   "execution_count": 17,
   "metadata": {},
   "outputs": [
    {
     "data": {
      "image/png": "[encoded data removed]",
      "text/plain": [
       "<langgraph.graph.state.CompiledStateGraph object at 0x10e2a1790>"
      ]
     },
     "execution_count": 17,
     "metadata": {},
     "output_type": "execute_result"
    }
   ],
   "source": [
    "from typing import TypedDict, Annotated\n",
    "from langgraph.graph import StateGraph, START, END, add_messages\n",
    "\n",
    "from operator import add\n",
    "\n",
    "# Defining State with one variable\n",
    "class State(TypedDict):\n",
    "    foo: Annotated[list[int], add]\n",
    "\n",
    "# Defining a simple node Graph\n",
    "def node_1(state: State) -> str: \n",
    "    print(\"__Node 1__\")\n",
    "    return {\"foo\": [state[\"foo\"][0] + 1]} # incrementing the value by 1\n",
    "\n",
    "# Defining a simple node graph \n",
    "builder = StateGraph(State) \n",
    "\n",
    "builder.add_node(\"node_1\", node_1)\n",
    "\n",
    "builder.add_edge(START, \"node_1\") \n",
    "builder.add_edge(\"node_1\", END)\n",
    "\n",
    "graph = builder.compile()\n",
    "\n",
    "graph"
   ]
  },
  {
   "cell_type": "code",
   "execution_count": 19,
   "metadata": {},
   "outputs": [
    {
     "name": "stdout",
     "output_type": "stream",
     "text": [
      "__Node 1__\n"
     ]
    },
    {
     "data": {
      "text/plain": [
       "{'foo': [4, 5]}"
      ]
     },
     "execution_count": 19,
     "metadata": {},
     "output_type": "execute_result"
    }
   ],
   "source": [
    "graph.invoke({ \"foo\" : [4]})"
   ]
  },
  {
   "cell_type": "markdown",
   "metadata": {},
   "source": [
    "### Using `add_messages` reducer\n",
    "\n",
    "As we saw the functionality of `add` reducer, here it is basically adding any new value which was generated during the graph execution. \n",
    "\n",
    "Similarly, if we implement the same for storing the messages as well by creating `Annotated[list[BaseMessage], add]` this should be appending any new message generated in the graph execution. But, LangGraph supports Human-in-the-loop (HIL), if user wants to review any message in between or he modifies any then the modified one gets added as a new message since the message ID will be changed. \n",
    "\n",
    "To address this issue, `add_messages` reducers is built by LangGraph where its work is to update the messages if its completely new or if there was no message ID present already in the list, or else if the existing message got updated then it will only update the existing message and do not add a new message. \n",
    "\n",
    "By doing this, we are keeping the Messsages conversation intact and not making the conversation looks clumsy or irrelevant to the LLM."
   ]
  },
  {
   "cell_type": "code",
   "execution_count": 37,
   "metadata": {},
   "outputs": [
    {
     "data": {
      "image/png": "[encoded data removed]",
      "text/plain": [
       "<langgraph.graph.state.CompiledStateGraph object at 0x10dfef680>"
      ]
     },
     "execution_count": 37,
     "metadata": {},
     "output_type": "execute_result"
    }
   ],
   "source": [
    "from typing import TypedDict, Annotated\n",
    "from langgraph.graph import StateGraph, START, END, add_messages\n",
    "from operator import add\n",
    "\n",
    "# Defining State with one variable\n",
    "class State(TypedDict):\n",
    "    foo: int \n",
    "    messages: Annotated[list[str], add] # using the add_messages reducer\n",
    "\n",
    "# Defining a simple node Graph\n",
    "def node_1(state: State) -> str: \n",
    "    print(\"__Node 1__\")\n",
    "    return {\"messages\": [state[\"messages\"] + [\"Adding\"]]} # incrementing the value by 1\n",
    "\n",
    "# Defining a simple node graph \n",
    "builder = StateGraph(State) \n",
    "\n",
    "builder.add_node(\"node_1\", node_1)\n",
    "\n",
    "builder.add_edge(START, \"node_1\") \n",
    "builder.add_edge(\"node_1\", END)\n",
    "\n",
    "graph = builder.compile()\n",
    "\n",
    "graph"
   ]
  },
  {
   "cell_type": "code",
   "execution_count": 38,
   "metadata": {},
   "outputs": [
    {
     "name": "stdout",
     "output_type": "stream",
     "text": [
      "__Node 1__\n"
     ]
    },
    {
     "data": {
      "text/plain": [
       "{'messages': ['Hi there!', ['Hi there!', 'Adding']]}"
      ]
     },
     "execution_count": 38,
     "metadata": {},
     "output_type": "execute_result"
    }
   ],
   "source": [
    "graph.invoke({ \"messages\" : [\"Hi there!\"]})"
   ]
  }
 ],
 "metadata": {
  "kernelspec": {
   "display_name": "Python 3",
   "language": "python",
   "name": "python3"
  },
  "language_info": {
   "codemirror_mode": {
    "name": "ipython",
    "version": 3
   },
   "file_extension": ".py",
   "mimetype": "text/x-python",
   "name": "python",
   "nbconvert_exporter": "python",
   "pygments_lexer": "ipython3",
   "version": "3.12.2"
  }
 },
 "nbformat": 4,
 "nbformat_minor": 2
}
