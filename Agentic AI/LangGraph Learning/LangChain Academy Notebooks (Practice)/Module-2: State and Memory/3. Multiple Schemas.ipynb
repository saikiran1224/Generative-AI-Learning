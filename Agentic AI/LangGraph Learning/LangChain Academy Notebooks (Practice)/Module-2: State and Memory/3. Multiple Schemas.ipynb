{
 "cells": [
  {
   "cell_type": "markdown",
   "metadata": {},
   "source": [
    "# Multiple Schemas\n",
    "\n",
    "We have developed graphs which will depend only on one schema and once the graph is invoked, the complete graph is shown as output where sometimes this differ or we have special cases where we want to control this: \n",
    "\n",
    "- Nodes between may interact with a Private or Hidden state which doesn't have relation to the Graph\n",
    "\n",
    "- Graphs may have two different schemas for each Input and Output."
   ]
  },
  {
   "cell_type": "markdown",
   "metadata": {},
   "source": [
    "## Case 1: Private/Hidden State\n",
    "\n",
    "Let us create two different states each having individual variables. The Private/Hidden state lies in between but it returns back the Main State in return. So in-short, Private State acts as an intermediary, but not relevant for the overall graph input or output.\n",
    "\n",
    "**Node_1** - modifies the value inside `MainState` and returns to `PrivateState`\n",
    "\n",
    "**Node_2** - modifies the value inside `PrivateState` and returns to `MainState`"
   ]
  },
  {
   "cell_type": "code",
   "execution_count": 10,
   "metadata": {},
   "outputs": [
    {
     "data": {
      "image/png": "[encoded data removed]",
      "text/plain": [
       "<langgraph.graph.state.CompiledStateGraph object at 0x136ce2db0>"
      ]
     },
     "execution_count": 10,
     "metadata": {},
     "output_type": "execute_result"
    }
   ],
   "source": [
    "from langgraph.graph import StateGraph, START, END\n",
    "from typing import TypedDict\n",
    "\n",
    "class MainState(TypedDict):\n",
    "    foo: int \n",
    "\n",
    "class PrivateState(TypedDict):\n",
    "    bar: int \n",
    "\n",
    "# Defining Node functions\n",
    "def node_1(state: MainState) -> PrivateState: # MainState -> PrivateState\n",
    "    print(\"__Node 1__\")\n",
    "    # updating the bar value and sending payload in form of PrivateState\n",
    "    return { \"bar\" : state[\"foo\"] + 1 }\n",
    "\n",
    "def node_2(state: PrivateState) -> MainState: # PrivateState -> MainState\n",
    "    print(\"__Node 2__\")\n",
    "    # using the help of PrivateState bar value to update the foo variable\n",
    "    return { \"foo\" : state[\"bar\"] + 1 }\n",
    "\n",
    "# Creating graph \n",
    "builder = StateGraph(MainState)\n",
    "\n",
    "builder.add_node(\"Node_1\", node_1)\n",
    "builder.add_node(\"Node_2\", node_2)\n",
    "\n",
    "builder.add_edge(START, \"Node_1\")\n",
    "builder.add_edge(\"Node_1\", \"Node_2\")\n",
    "builder.add_edge(\"Node_2\", END)\n",
    "\n",
    "graph = builder.compile()\n",
    "\n",
    "graph\n"
   ]
  },
  {
   "cell_type": "code",
   "execution_count": 11,
   "metadata": {},
   "outputs": [
    {
     "name": "stdout",
     "output_type": "stream",
     "text": [
      "__Node 1__\n",
      "__Node 2__\n"
     ]
    },
    {
     "data": {
      "text/plain": [
       "{'foo': 3}"
      ]
     },
     "execution_count": 11,
     "metadata": {},
     "output_type": "execute_result"
    }
   ],
   "source": [
    "graph.invoke({\"foo\" : 1})"
   ]
  },
  {
   "cell_type": "markdown",
   "metadata": {},
   "source": [
    "## Case 2: Graphs may have separate Input and Output Schemas\n",
    "\n",
    "We will create three different state schemas - `InputState`, `OverallState` and `OutputState`\n",
    "\n",
    "User will provide the input schema in one type, and the output gets varied and it will be different. "
   ]
  },
  {
   "cell_type": "code",
   "execution_count": 16,
   "metadata": {},
   "outputs": [
    {
     "data": {
      "image/png": "[encoded data removed]",
      "text/plain": [
       "<langgraph.graph.state.CompiledStateGraph object at 0x1421f7c80>"
      ]
     },
     "execution_count": 16,
     "metadata": {},
     "output_type": "execute_result"
    }
   ],
   "source": [
    "from langgraph.graph import StateGraph, START, END\n",
    "from typing import TypedDict\n",
    "\n",
    "class InputState(TypedDict):\n",
    "    question: str \n",
    "\n",
    "class OutputState(TypedDict):\n",
    "    answer: str \n",
    "\n",
    "class OverallState(TypedDict):\n",
    "    question: str\n",
    "    answer: str\n",
    "    notes: str\n",
    "\n",
    "# Defining Node functions\n",
    "def node_1(state: InputState) -> OverallState: # InputState -> OverallState\n",
    "    print(\"__Node 1__\")\n",
    "    # updating the bar value and sending payload in form of Overall State\n",
    "    return { \"question\" : state[\"question\"], \"answer\" : \"Hello There! How can I help you?\", \"notes\" : \"This is a placeholder.\" }\n",
    "\n",
    "def node_2(state: OverallState) -> OutputState: # OverallState -> OutputState\n",
    "    print(\"__Node 2__\")\n",
    "    # using the help of PrivateState bar value to update the foo variable\n",
    "    return { \"answer\" : state[\"answer\"]}\n",
    "\n",
    "# Creating graph \n",
    "builder = StateGraph(OverallState, input=InputState, output=OutputState)\n",
    "\n",
    "builder.add_node(\"Node_1\", node_1)\n",
    "builder.add_node(\"Node_2\", node_2)\n",
    "\n",
    "builder.add_edge(START, \"Node_1\")\n",
    "builder.add_edge(\"Node_1\", \"Node_2\")\n",
    "builder.add_edge(\"Node_2\", END)\n",
    "\n",
    "graph = builder.compile()\n",
    "\n",
    "graph\n"
   ]
  },
  {
   "cell_type": "code",
   "execution_count": 17,
   "metadata": {},
   "outputs": [
    {
     "name": "stdout",
     "output_type": "stream",
     "text": [
      "__Node 1__\n",
      "__Node 2__\n"
     ]
    },
    {
     "data": {
      "text/plain": [
       "{'answer': 'Hello There! How can I help you?'}"
      ]
     },
     "execution_count": 17,
     "metadata": {},
     "output_type": "execute_result"
    }
   ],
   "source": [
    "graph.invoke({\"question\" : \"What is LangGraph?\"})"
   ]
  },
  {
   "cell_type": "code",
   "execution_count": null,
   "metadata": {},
   "outputs": [],
   "source": []
  }
 ],
 "metadata": {
  "kernelspec": {
   "display_name": "base",
   "language": "python",
   "name": "python3"
  },
  "language_info": {
   "codemirror_mode": {
    "name": "ipython",
    "version": 3
   },
   "file_extension": ".py",
   "mimetype": "text/x-python",
   "name": "python",
   "nbconvert_exporter": "python",
   "pygments_lexer": "ipython3",
   "version": "3.12.2"
  }
 },
 "nbformat": 4,
 "nbformat_minor": 2
}
