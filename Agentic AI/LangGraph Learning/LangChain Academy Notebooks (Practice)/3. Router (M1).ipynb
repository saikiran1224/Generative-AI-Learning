{
 "cells": [
  {
   "cell_type": "markdown",
   "metadata": {},
   "source": [
    "# Router \n",
    "\n",
    "Just like we learned how to integrate tools with an LLM, and also using messages state. Now, lets create a Router where basically as per the user input it either routes the query to the tool calling node, else to the END. \n",
    "\n",
    "As the name suggests, it simply routes the control over the graph either to the \"Tool node\" else to the \"END\". This is getting happened because of the conditional_edge feature in the langgraph which acts like an If condition."
   ]
  },
  {
   "cell_type": "code",
   "execution_count": null,
   "metadata": {},
   "outputs": [],
   "source": []
  }
 ],
 "metadata": {
  "language_info": {
   "name": "python"
  }
 },
 "nbformat": 4,
 "nbformat_minor": 2
}
