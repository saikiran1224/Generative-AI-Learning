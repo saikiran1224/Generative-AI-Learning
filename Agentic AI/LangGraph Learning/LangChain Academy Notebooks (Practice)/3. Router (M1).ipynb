{
 "cells": [
  {
   "cell_type": "markdown",
   "metadata": {},
   "source": [
    "# Router \n",
    "\n",
    "Just like we learned how to integrate tools with an LLM, and also using messages state. Now, lets create a Router where basically as per the user input it either routes the query to the tool calling node, else to the END. "
   ]
  },
  {
   "cell_type": "code",
   "execution_count": null,
   "metadata": {},
   "outputs": [],
   "source": []
  }
 ],
 "metadata": {
  "language_info": {
   "name": "python"
  }
 },
 "nbformat": 4,
 "nbformat_minor": 2
}
