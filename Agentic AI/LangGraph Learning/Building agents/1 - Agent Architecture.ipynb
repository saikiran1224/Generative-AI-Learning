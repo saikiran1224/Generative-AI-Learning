{
 "cells": [
  {
   "cell_type": "markdown",
   "metadata": {},
   "source": [
    "# Types of Agent Architectures\n",
    "\n",
    "1. Single Multi-agent (Sequential flow)\n",
    "\n",
    "2. Supervisor Multi-agent (Orchestrator based - supervisor delegates the tasks)\n",
    "3. Hierarchial Architecture"
   ]
  },
  {
   "cell_type": "markdown",
   "metadata": {},
   "source": [
    "## 1. Single Multi-agent Architecture\n",
    "\n",
    "Researcher and Writer Agents"
   ]
  },
  {
   "cell_type": "markdown",
   "metadata": {},
   "source": [
    "### Importing required libraries"
   ]
  },
  {
   "cell_type": "code",
   "execution_count": 6,
   "metadata": {},
   "outputs": [],
   "source": [
    "import os\n",
    "from typing import TypedDict, Annotated, List, Literal\n",
    "\n",
    "# For LangChain\n",
    "from langchain_core.messages import BaseMessage, HumanMessage, AIMessage, SystemMessage\n",
    "from langchain_groq import ChatGroq\n",
    "from langchain_core.tools import tool\n",
    "from langchain_community.tools.tavily_search import TavilySearchResults\n",
    "\n",
    "# For LangGraph\n",
    "from langgraph.graph import StateGraph, START, END, MessagesState\n",
    "from langgraph.prebuilt import create_react_agent\n",
    "from langgraph.checkpoint.memory import MemorySaver"
   ]
  },
  {
   "cell_type": "markdown",
   "metadata": {},
   "source": [
    "### Initializing Groq LLM"
   ]
  },
  {
   "cell_type": "code",
   "execution_count": 5,
   "metadata": {},
   "outputs": [
    {
     "data": {
      "text/plain": [
       "AIMessage(content='Hello, how are you today? Is there something I can help you with or would you like to chat?', additional_kwargs={}, response_metadata={'token_usage': {'completion_tokens': 23, 'prompt_tokens': 36, 'total_tokens': 59, 'completion_time': 0.030666667, 'prompt_time': 0.002014084, 'queue_time': 0.051407867, 'total_time': 0.032680751}, 'model_name': 'llama-3.1-8b-instant', 'system_fingerprint': 'fp_8ab2e50475', 'finish_reason': 'stop', 'logprobs': None}, id='run--3e80f8bd-8389-4e66-b155-41e227eca14d-0', usage_metadata={'input_tokens': 36, 'output_tokens': 23, 'total_tokens': 59})"
      ]
     },
     "execution_count": 5,
     "metadata": {},
     "output_type": "execute_result"
    }
   ],
   "source": [
    "from dotenv import load_dotenv\n",
    "load_dotenv()\n",
    "\n",
    "llm = ChatGroq(model=\"llama-3.1-8b-instant\")\n",
    "\n",
    "llm.invoke(\"Hello\")"
   ]
  },
  {
   "cell_type": "markdown",
   "metadata": {},
   "source": [
    "### Creating State"
   ]
  },
  {
   "cell_type": "code",
   "execution_count": 11,
   "metadata": {},
   "outputs": [],
   "source": [
    "def AgentState(MessagesState):\n",
    "    next_agent: str # The next agent to invoke"
   ]
  },
  {
   "cell_type": "markdown",
   "metadata": {},
   "source": [
    "### Creating TavilySearch Tool for `Researcher Agent`"
   ]
  },
  {
   "cell_type": "code",
   "execution_count": 8,
   "metadata": {},
   "outputs": [],
   "source": [
    "@tool\n",
    "def tavily_search_tool(query: str) -> str:\n",
    "    \"\"\" Search the web for latest information.  \"\"\"\n",
    "    search = TavilySearchResults(max_results=3)\n",
    "    results = search.invoke(query)\n",
    "\n",
    "    return str(results)"
   ]
  },
  {
   "cell_type": "markdown",
   "metadata": {},
   "source": [
    "### Creating WriteSummary Tool for `Content Writer Agent`"
   ]
  },
  {
   "cell_type": "code",
   "execution_count": 9,
   "metadata": {},
   "outputs": [],
   "source": [
    "@tool\n",
    "def write_summary(content: str) -> str: \n",
    "    \"\"\" Write a summary of the provided content. \"\"\"\n",
    "\n",
    "    summary = f\"Summary of findings:\\n\\n{content[:500]}\"\n",
    "    return summary"
   ]
  },
  {
   "cell_type": "markdown",
   "metadata": {},
   "source": [
    "### Defining `Researcher Agent` Node"
   ]
  },
  {
   "cell_type": "code",
   "execution_count": 12,
   "metadata": {},
   "outputs": [],
   "source": [
    "def researcher_agent(agentState: AgentState): \n",
    "\n",
    "    # fetching the messages from agentState\n",
    "    messages = agentState[\"messages\"]\n",
    "\n",
    "    # creating the system message for the agent\n",
    "    system_message = SystemMessage(content=\"You are a research assistant. Use the search_web tool to find information about the user's request.\")\n",
    "\n",
    "    # Binding tavily search tool with the llm\n",
    "    llm_with_tool = llm.bind_tools([tavily_search_tool])\n",
    "\n",
    "    # Invoking the LLM with the system message and user messages\n",
    "    response = llm_with_tool.invoke([system_message] + messages)\n",
    "\n",
    "    # Returning the response and routing to the next agent i.e., Content Writer\n",
    "    return {\n",
    "        \"messages\": [response],\n",
    "        \"next_agent\": \"writer\"\n",
    "    }"
   ]
  },
  {
   "cell_type": "markdown",
   "metadata": {},
   "source": [
    "### Defining `Writer Agent` Node"
   ]
  },
  {
   "cell_type": "code",
   "execution_count": 13,
   "metadata": {},
   "outputs": [],
   "source": [
    "def writer_agent(agentState: AgentState): \n",
    "\n",
    "    # fetching the messages from agentState\n",
    "    messages = agentState[\"messages\"]\n",
    "\n",
    "    # creating the system message for the agent\n",
    "    system_message = SystemMessage(content=\"You are a technical writer. Use the write_summary tool, review the conversation and create a clear, concise summary of the findings.\")\n",
    "\n",
    "    # Binding tavily search tool with the llm\n",
    "    llm_with_tool = llm.bind_tools([write_summary])\n",
    "\n",
    "    # Invoking the LLM with the system message and user messages\n",
    "    response = llm_with_tool.invoke([system_message] + messages)\n",
    "\n",
    "    # Returning the response and routing to the next agent i.e., Content Writer\n",
    "    return {\n",
    "        \"messages\": [response],\n",
    "        \"next_agent\": \"end\"\n",
    "    }"
   ]
  }
 ],
 "metadata": {
  "kernelspec": {
   "display_name": ".venv",
   "language": "python",
   "name": "python3"
  },
  "language_info": {
   "codemirror_mode": {
    "name": "ipython",
    "version": 3
   },
   "file_extension": ".py",
   "mimetype": "text/x-python",
   "name": "python",
   "nbconvert_exporter": "python",
   "pygments_lexer": "ipython3",
   "version": "3.12.2"
  }
 },
 "nbformat": 4,
 "nbformat_minor": 2
}
