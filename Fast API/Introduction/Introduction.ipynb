{
 "cells": [
  {
   "cell_type": "markdown",
   "metadata": {},
   "source": [
    "# Introduction"
   ]
  },
  {
   "cell_type": "markdown",
   "metadata": {},
   "source": [
    "FastAPI is a modern, fast(high-performane), web framework for building APIs with Python 3.6+ based on standard python type hints."
   ]
  },
  {
   "cell_type": "markdown",
   "metadata": {},
   "source": [
    "- Fast Very high performance at par with NodeJS\n",
    "- Fast to code\n",
    "- Fewer bugs\n",
    "- Easy\n",
    "- Short\n",
    "- Robust\n",
    "- Standards based"
   ]
  },
  {
   "cell_type": "markdown",
   "metadata": {},
   "source": [
    "# Difference between Flask and FastAPI\n",
    "\n",
    "Flask uses WSGI which is a synchronous\n",
    "\n",
    "FastAPI uses ASGI (Asynchronous Server Gateway Interface) and its a spiritual successor to WSGI. \n",
    "\n",
    "This was the main reason FastAPI got its name. To deploy FastAPI application we need Uvicorn library as it uses ASGI."
   ]
  },
  {
   "cell_type": "markdown",
   "metadata": {},
   "source": []
  }
 ],
 "metadata": {
  "language_info": {
   "name": "python"
  }
 },
 "nbformat": 4,
 "nbformat_minor": 2
}
