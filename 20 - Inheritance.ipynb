{
 "cells": [
  {
   "cell_type": "markdown",
   "metadata": {},
   "source": [
    "# Inheritance\n",
    "\n",
    "We are taking an exampple of **Car** class."
   ]
  },
  {
   "cell_type": "markdown",
   "metadata": {},
   "source": [
    "## Creating Car blueprint"
   ]
  },
  {
   "cell_type": "markdown",
   "metadata": {},
   "source": [
    "### Types of class variables\n",
    "\n",
    "1. **Public variables** - Will be directly initialized using self.\n",
    "\n",
    "2. **Protected variables** - Prefixed with single underscore. Eg. `self._windows = windows`\n",
    "\n",
    "3. **Private variables** - Prefixed with double underscore. Eg. `self.__windows = windows`"
   ]
  },
  {
   "cell_type": "code",
   "execution_count": 23,
   "metadata": {},
   "outputs": [],
   "source": [
    "# All the class variables are public, below is the car blueprint\n",
    "\n",
    "class Car():\n",
    "\n",
    "    # initializing the constructor\n",
    "    def __init__(self, windows, doors, enginetype):\n",
    "        self.windows = windows\n",
    "        self.doors = doors\n",
    "        self.enginetype = enginetype\n",
    "\n",
    "    def drive(self): # We are writing self since it refers to this particular object.\n",
    "        print (\"Person is driving the {} car\".format(self.enginetype))\n",
    "        "
   ]
  },
  {
   "cell_type": "markdown",
   "metadata": {},
   "source": [
    "## Instanting object"
   ]
  },
  {
   "cell_type": "code",
   "execution_count": 21,
   "metadata": {},
   "outputs": [],
   "source": [
    "car1 = Car(4, 5, \"Petrol\")"
   ]
  },
  {
   "cell_type": "code",
   "execution_count": 22,
   "metadata": {},
   "outputs": [
    {
     "name": "stdout",
     "output_type": "stream",
     "text": [
      "Person is driving the Petrol car\n"
     ]
    }
   ],
   "source": [
    "car1.drive()"
   ]
  },
  {
   "cell_type": "markdown",
   "metadata": {},
   "source": [
    "## Creating an Audi car using Inherticance property"
   ]
  },
  {
   "cell_type": "code",
   "execution_count": 24,
   "metadata": {},
   "outputs": [],
   "source": [
    "class audi(Car): # passing the earlier created Car class \n",
    "\n",
    "    # initializing constructor\n",
    "    def __init__(self, windows, doors, enginetype, enableAI): \n",
    "\n",
    "        # We can use help of super().__init__(variables...) to fetch the values that were initialized before in the parent class\n",
    "        super().__init__(windows, doors, enginetype)\n",
    "        self.enableAI = enableAI\n",
    "\n",
    "    def selfdriving(self):\n",
    "        print(\"Audi supports self driving.\")\n",
    "    "
   ]
  },
  {
   "cell_type": "markdown",
   "metadata": {},
   "source": [
    "### Instantiating object of Audi class"
   ]
  },
  {
   "cell_type": "code",
   "execution_count": 25,
   "metadata": {},
   "outputs": [],
   "source": [
    "audiQ7 = audi(4, 5, \"Petrol\", True)"
   ]
  },
  {
   "cell_type": "code",
   "execution_count": 30,
   "metadata": {},
   "outputs": [
    {
     "name": "stdout",
     "output_type": "stream",
     "text": [
      "Audi supports self driving.\n"
     ]
    }
   ],
   "source": [
    "audiQ7.selfdriving() # This method is initialized in the child/inherited class."
   ]
  },
  {
   "cell_type": "code",
   "execution_count": 27,
   "metadata": {},
   "outputs": [
    {
     "data": {
      "text/plain": [
       "5"
      ]
     },
     "execution_count": 27,
     "metadata": {},
     "output_type": "execute_result"
    }
   ],
   "source": [
    "audiQ7.doors"
   ]
  },
  {
   "cell_type": "code",
   "execution_count": 29,
   "metadata": {},
   "outputs": [
    {
     "name": "stdout",
     "output_type": "stream",
     "text": [
      "Person is driving the Petrol car\n"
     ]
    }
   ],
   "source": [
    "audiQ7.drive() # This method is initialized in the parent class"
   ]
  }
 ],
 "metadata": {
  "kernelspec": {
   "display_name": "Python 3",
   "language": "python",
   "name": "python3"
  },
  "language_info": {
   "codemirror_mode": {
    "name": "ipython",
    "version": 3
   },
   "file_extension": ".py",
   "mimetype": "text/x-python",
   "name": "python",
   "nbconvert_exporter": "python",
   "pygments_lexer": "ipython3",
   "version": "3.13.0"
  }
 },
 "nbformat": 4,
 "nbformat_minor": 2
}
