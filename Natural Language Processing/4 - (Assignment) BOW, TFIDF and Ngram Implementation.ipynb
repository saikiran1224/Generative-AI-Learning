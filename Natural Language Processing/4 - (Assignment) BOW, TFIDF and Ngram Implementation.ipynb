{
 "cells": [
  {
   "cell_type": "markdown",
   "metadata": {},
   "source": [
    "# Assignment"
   ]
  },
  {
   "cell_type": "markdown",
   "metadata": {},
   "source": [
    "Take dataset from UCI Machine Learning repositoy any Text dataset and perform\n",
    "\n",
    "- Bag of Words \n",
    "\n",
    "- TFIDF\n",
    "- Ngram"
   ]
  }
 ],
 "metadata": {
  "language_info": {
   "name": "python"
  }
 },
 "nbformat": 4,
 "nbformat_minor": 2
}
