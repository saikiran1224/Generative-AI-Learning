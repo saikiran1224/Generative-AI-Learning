{
 "cells": [
  {
   "cell_type": "markdown",
   "metadata": {},
   "source": [
    "# Introduction to Natural Language Processing\n",
    "\n",
    "Natural Language Processing is a branch of Artificial Language (AI), which can be applied in both Machine Learning (ML) and Deep learning (DL). \n",
    "\n",
    "NLP makes machines understand the language humans speak, and interprets it in-return. NLP uses various techniques to convert the human language into machine understandable language. \n",
    "\n",
    "Machines can only understand the binary lamnguage (vectors). NLP has multiple techniques where it converts the text input into binary information. Currently, as we write NLP is unable to identify or sense the sarcasm in the text."
   ]
  },
  {
   "cell_type": "markdown",
   "metadata": {},
   "source": [
    "## Applications of NLP\n",
    "\n",
    "NLP is almost used in all the applications that a person uses daily. Some of the applications are:\n",
    "- Translator (Google Translate)\n",
    "\n",
    "- Chatbot\n",
    "- Google search\n",
    "- Personal Assistant\n",
    "- Topic modeling\n",
    "- Spam Classification\n",
    "- Text Summarization\n",
    "- Language Translation\n",
    "- Sentiment Classification"
   ]
  },
  {
   "cell_type": "markdown",
   "metadata": {},
   "source": [
    "> #### NLP will be applicable where the dataset is of text format."
   ]
  }
 ],
 "metadata": {
  "language_info": {
   "name": "python"
  }
 },
 "nbformat": 4,
 "nbformat_minor": 2
}
