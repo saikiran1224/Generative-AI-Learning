{
 "cells": [
  {
   "cell_type": "markdown",
   "metadata": {},
   "source": [
    "# Terminologies in NLP"
   ]
  },
  {
   "cell_type": "markdown",
   "metadata": {},
   "source": [
    "In Natural Language processing, there are some terms which are necessary to understand before deep diving into the algorithms. \n",
    "\n",
    "Below listed are some of the most used terminologies:"
   ]
  },
  {
   "cell_type": "markdown",
   "metadata": {},
   "source": [
    "## 1. Corpus"
   ]
  },
  {
   "cell_type": "markdown",
   "metadata": {},
   "source": [
    "Corpus is defined as the raw dataset. In short, its the paragraph or set of multiple sentences. For example, an brief introduction of India in 500 words essay is called as Corpus. "
   ]
  },
  {
   "cell_type": "markdown",
   "metadata": {},
   "source": [
    "## 2. Document"
   ]
  },
  {
   "cell_type": "markdown",
   "metadata": {},
   "source": [
    "Corpus will be broken down into sentences which is also called as Documents. If the given paragraph is broke down into sentences, then each sentence is termed as Document. \n",
    "\n",
    "In real time implementation we will use the help of NLTK library and break down/tokenize the given corpus or paragraph into sentences and will be stored in the form of array. "
   ]
  },
  {
   "cell_type": "markdown",
   "metadata": {},
   "source": [
    "## 3. Vocabulary"
   ]
  },
  {
   "cell_type": "markdown",
   "metadata": {},
   "source": [
    "Vocabulary is defined as the set of unique words we have in the corpus. \n",
    "\n",
    "Usually post text processing, after lowering the words, removing stop words and after completion of lemmatization and stemming, vocabulary will be identified. "
   ]
  },
  {
   "cell_type": "markdown",
   "metadata": {},
   "source": [
    "## 4. Words"
   ]
  },
  {
   "cell_type": "markdown",
   "metadata": {},
   "source": [
    "Words are the part of the sentence. Collection of words together is called as Sentence."
   ]
  },
  {
   "cell_type": "markdown",
   "metadata": {},
   "source": [
    "## Example"
   ]
  },
  {
   "cell_type": "markdown",
   "metadata": {},
   "source": [
    "Now that we understood the definitions of each terminologies, let us understand it more better with an example. \n",
    "\n",
    "Consider a simple dataset which is used for Sentiment Analysis: \n",
    "\n",
    "| Document | Text | Output | \n",
    "| :---: | :---: | :---: |\n",
    "| D1 | Food is good | 1 | \n",
    "| D2 | Food is bad | 0 | \n",
    "| D3 | Pizza is good | 1 | \n",
    "| D4 | Burger is bad | 0 | \n",
    "\n",
    "Output 1 means User is happy, 0 means User is angry. "
   ]
  },
  {
   "cell_type": "markdown",
   "metadata": {},
   "source": [
    "- **Corpus**: Combination of all the documents D1, D2, D3 and D4 \n",
    "\n",
    "- **Documents**: Each document is sentence represented by D1, D2, D3 and D4.\n",
    "- **Vocabulary**: Food, good, bad, Pizza, Burger\n",
    "- **Words**: Same to words in the above mentioned documents"
   ]
  }
 ],
 "metadata": {
  "language_info": {
   "name": "python"
  }
 },
 "nbformat": 4,
 "nbformat_minor": 2
}
