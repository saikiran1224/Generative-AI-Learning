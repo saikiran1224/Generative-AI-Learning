{
 "cells": [
  {
   "cell_type": "markdown",
   "metadata": {},
   "source": [
    "# Words to Vectors Conversion Techniques\n",
    "\n",
    "Once the given dataset is preprocessed using text preprocessing techniques like Stemming and Lemmatization, we need to move to the next quarter where we need to convert the pre-processed text into vectors. \n",
    "\n",
    "Below listed are some of the conversion technqiques we use most often: \n",
    "\n",
    "1. One Hot Ecoding (OHE)\n",
    "\n",
    "2. Bag of Words\n",
    "3. N-grams\n"
   ]
  },
  {
   "cell_type": "markdown",
   "metadata": {},
   "source": [
    "## 1. One Hot Encoding"
   ]
  },
  {
   "cell_type": "markdown",
   "metadata": {},
   "source": [
    "It is a technique which is mostly used in Sentiment Analysis. The given corpus will be broken down into Sentences, and later unique words (Vocabulary) will be identified from all the sentences and an unique index is assigned for the same. \n",
    "\n",
    "Later, we will mark the value as 1 or 0 if its found in sentence. Hence, the whole sentence gets encoded as vector form which is called as One hot encoded vector. "
   ]
  },
  {
   "cell_type": "markdown",
   "metadata": {},
   "source": [
    "### Example"
   ]
  },
  {
   "cell_type": "markdown",
   "metadata": {},
   "source": [
    "corpus = [\"I love this movie\", \"this movie is terrible\", \"the plot is confusing\"]\n",
    "\n",
    "From this corpus, the vocabulary identified is \n",
    "[\"I\", \"love\", \"this\", \"movie\", \"is\", \"terrible\", \"the\", \"plot\", \"confusing\"]\n",
    "\n",
    "Now our first sentence (D1) can be encoded as [1, 1, 1, 1, 0, 0, 0, 0, 0]\n",
    "\n",
    "Similarly, (D2) can be encoded as [0, 0, 1, 1, 1, 1, 0, 0, 0]\n",
    "\n",
    "(D3) can be encoded as [0, 0, 0, 0, 1, 0, 1, 1, 1]\n",
    "\n"
   ]
  },
  {
   "cell_type": "markdown",
   "metadata": {},
   "source": [
    "### Advantages\n",
    "- Simple to Implement\n",
    "- Intuitive"
   ]
  },
  {
   "cell_type": "markdown",
   "metadata": {},
   "source": [
    "### Disadvantages\n",
    "\n",
    "- Sparse Matrix (array can be completely 0 if the test sentence does not match with vocabulary and highly computational for training -  requires more RAM usage)\n",
    "- Out of Vocabulary (OOV) - Will not be able to handle test data is new test data comes.\n",
    "\n",
    "- There is no fixed size\n",
    "- Semantic meaning between the words is not captured."
   ]
  },
  {
   "cell_type": "markdown",
   "metadata": {},
   "source": [
    "## 2. Bag of Words (BOW)"
   ]
  },
  {
   "cell_type": "markdown",
   "metadata": {},
   "source": [
    "This is a technique which is slightly better than One hot encoding. Consider bag of words is a bag containing popcorn. The given corpus is broken down into sentences and later text processing will be done. We will first remove the stop words, lower the sentences, perform stemming or lemmatization and then pass onto the bag of words model to get trained. \n",
    "\n",
    "Bag of words will first identify the vocabulary, and calculates the frequency of each word in vocabulary. Then, the features will be ranged from having maximum value to minimum value. In short, our features will be arranged in an order having high to low frequency. \n",
    "\n",
    "Once completed, for each document we will mark the frequency or if its binary BOW, then it will be marked as 1 or 0 if the word is found in that particular sentence or document."
   ]
  },
  {
   "cell_type": "markdown",
   "metadata": {},
   "source": [
    "### Example\n",
    "\n",
    "Consider a simple corpus containing three sentences: [\"*He* *is* *a* good boy\", \"*She* *is* *a* good girl\", \"Boy *and* Girl *is* good\"]\n",
    "\n",
    "**Step 1:** Remove the stop words, lower the sentences. Lets ignore stemming and lemmatization for now as its not required here. Then, the sentences/documents will be updated as:\n",
    "\n",
    "D1 -> [\"good\", \"boy\"]\n",
    "\n",
    "D2 -> [\"good\", \"girl\"]\n",
    "\n",
    "D3 -> [\"boy\", \"girl\", \"good\"]\n",
    "\n",
    "**Step 2:** Calculate the frequency of each word from the above corpus and arrange it in order from high to low\n",
    "\n",
    "f1 - good: 3,\n",
    "f2 - boy: 2, \n",
    "f3 - girl: 2\n",
    "\n",
    "**Step 3:** Now, we need to perform the encoding for each sentence. Lets consider ours is a Binary BOW if the particular word is present in the sentence then it will be marked as 0 or 1. \n",
    "\n",
    "| Features/Documents| f1 (good) | f2 (boy) | f3 (girl) |\n",
    "| :---: | :---: | :---: | :---: |\n",
    "| D1 | 1 | 1 | 0 |\n",
    "| D2 | 1 | 0 | 1 |\n",
    "| D3 | 1 | 1 | 1 |"
   ]
  },
  {
   "cell_type": "markdown",
   "metadata": {},
   "source": [
    "### Advantages\n",
    "\n",
    "- Simple and Intuitive"
   ]
  },
  {
   "cell_type": "markdown",
   "metadata": {},
   "source": [
    "### Disadvantages\n",
    "\n",
    "- Sparse Matrix (still we have 0s and 1s)\n",
    "\n",
    "- Out of Vocabulary unable to handle new test data\n",
    "- Order of the words will get displaced\n",
    "- Inability in capturing the semantic information."
   ]
  },
  {
   "cell_type": "markdown",
   "metadata": {},
   "source": [
    "### Practical Implementation"
   ]
  },
  {
   "cell_type": "code",
   "execution_count": 1,
   "metadata": {},
   "outputs": [
    {
     "name": "stdout",
     "output_type": "stream",
     "text": [
      "Requirement already satisfied: nltk in /Library/Frameworks/Python.framework/Versions/3.13/lib/python3.13/site-packages (3.9.1)\n",
      "Requirement already satisfied: click in /Library/Frameworks/Python.framework/Versions/3.13/lib/python3.13/site-packages (from nltk) (8.1.8)\n",
      "Requirement already satisfied: joblib in /Library/Frameworks/Python.framework/Versions/3.13/lib/python3.13/site-packages (from nltk) (1.4.2)\n",
      "Requirement already satisfied: regex>=2021.8.3 in /Library/Frameworks/Python.framework/Versions/3.13/lib/python3.13/site-packages (from nltk) (2024.11.6)\n",
      "Requirement already satisfied: tqdm in /Library/Frameworks/Python.framework/Versions/3.13/lib/python3.13/site-packages (from nltk) (4.67.1)\n",
      "Note: you may need to restart the kernel to use updated packages.\n"
     ]
    }
   ],
   "source": [
    "%pip install nltk # Installing nltk library"
   ]
  },
  {
   "cell_type": "markdown",
   "metadata": {},
   "source": [
    "#### Defining corpus"
   ]
  },
  {
   "cell_type": "code",
   "execution_count": 11,
   "metadata": {},
   "outputs": [],
   "source": [
    "corpus = '''Narendra Damodardas Modi[a] (born 17 September 1950)[b] is an Indian politician who has been serving as the prime minister of India since 2014. Modi was the chief minister of Gujarat from 2001 to 2014 and is the member of parliament (MP) for Varanasi. He is a member of the Bharatiya Janata Party (BJP) and of the Rashtriya Swayamsevak Sangh (RSS), a right-wing Hindu nationalist paramilitary volunteer organisation. He is the longest-serving prime minister outside the Indian National Congress.[4] Modi was born and raised in Vadnagar in northeastern Gujarat, where he completed his secondary education. He was introduced to the RSS at the age of eight. At the age of 18, he was married to Jashodaben Modi, whom he abandoned soon after, only publicly acknowledging her four decades later when legally required to do so. Modi became a full-time worker for the RSS in Gujarat in 1971. The RSS assigned him to the BJP in 1985 and he rose through the party hierarchy, becoming general secretary in 1998.[c] In 2001, Modi was appointed Chief Minister of Gujarat and elected to the legislative assembly soon after. His administration is considered complicit in the 2002 Gujarat riots,[d] and has been criticised for its management of the crisis. According to official records, a little over 1,000 people were killed, three-quarters of whom were Muslim; independent sources estimated 2,000 deaths, mostly Muslim.[13] A Special Investigation Team appointed by the Supreme Court of India in 2012 found no evidence to initiate prosecution proceedings against him.[e] While his policies as chief minister were credited for encouraging economic growth, his administration was criticised for failing to significantly improve health, poverty and education indices in the state.[f]'''"
   ]
  },
  {
   "cell_type": "code",
   "execution_count": 12,
   "metadata": {},
   "outputs": [
    {
     "data": {
      "text/plain": [
       "'Narendra Damodardas Modi[a] (born 17 September 1950)[b] is an Indian politician who has been serving as the prime minister of India since 2014. Modi was the chief minister of Gujarat from 2001 to 2014 and is the member of parliament (MP) for Varanasi. He is a member of the Bharatiya Janata Party (BJP) and of the Rashtriya Swayamsevak Sangh (RSS), a right-wing Hindu nationalist paramilitary volunteer organisation. He is the longest-serving prime minister outside the Indian National Congress.[4] Modi was born and raised in Vadnagar in northeastern Gujarat, where he completed his secondary education. He was introduced to the RSS at the age of eight. At the age of 18, he was married to Jashodaben Modi, whom he abandoned soon after, only publicly acknowledging her four decades later when legally required to do so. Modi became a full-time worker for the RSS in Gujarat in 1971. The RSS assigned him to the BJP in 1985 and he rose through the party hierarchy, becoming general secretary in 1998.[c] In 2001, Modi was appointed Chief Minister of Gujarat and elected to the legislative assembly soon after. His administration is considered complicit in the 2002 Gujarat riots,[d] and has been criticised for its management of the crisis. According to official records, a little over 1,000 people were killed, three-quarters of whom were Muslim; independent sources estimated 2,000 deaths, mostly Muslim.[13] A Special Investigation Team appointed by the Supreme Court of India in 2012 found no evidence to initiate prosecution proceedings against him.[e] While his policies as chief minister were credited for encouraging economic growth, his administration was criticised for failing to significantly improve health, poverty and education indices in the state.[f]'"
      ]
     },
     "execution_count": 12,
     "metadata": {},
     "output_type": "execute_result"
    }
   ],
   "source": [
    "corpus"
   ]
  },
  {
   "cell_type": "markdown",
   "metadata": {},
   "source": [
    "#### Tokenization\n",
    "\n",
    "Converts above paragraph into sentences"
   ]
  },
  {
   "cell_type": "code",
   "execution_count": 13,
   "metadata": {},
   "outputs": [
    {
     "data": {
      "application/javascript": "\n        if (window._pyforest_update_imports_cell) { window._pyforest_update_imports_cell('import nltk'); }\n    ",
      "text/plain": [
       "<IPython.core.display.Javascript object>"
      ]
     },
     "metadata": {},
     "output_type": "display_data"
    },
    {
     "name": "stderr",
     "output_type": "stream",
     "text": [
      "[nltk_data] Downloading package punkt_tab to\n",
      "[nltk_data]     /Users/saikiran/nltk_data...\n",
      "[nltk_data]   Package punkt_tab is already up-to-date!\n"
     ]
    },
    {
     "data": {
      "application/javascript": "\n        if (window._pyforest_update_imports_cell) { window._pyforest_update_imports_cell('import nltk'); }\n    ",
      "text/plain": [
       "<IPython.core.display.Javascript object>"
      ]
     },
     "metadata": {},
     "output_type": "display_data"
    }
   ],
   "source": [
    "nltk.download('punkt_tab') # Downloading punkt tokenizer\n",
    "\n",
    "sentences = nltk.sent_tokenize(corpus) # tokenizing paragraph into sentences"
   ]
  },
  {
   "cell_type": "code",
   "execution_count": 14,
   "metadata": {},
   "outputs": [
    {
     "data": {
      "text/plain": [
       "['Narendra Damodardas Modi[a] (born 17 September 1950)[b] is an Indian politician who has been serving as the prime minister of India since 2014.',\n",
       " 'Modi was the chief minister of Gujarat from 2001 to 2014 and is the member of parliament (MP) for Varanasi.',\n",
       " 'He is a member of the Bharatiya Janata Party (BJP) and of the Rashtriya Swayamsevak Sangh (RSS), a right-wing Hindu nationalist paramilitary volunteer organisation.',\n",
       " 'He is the longest-serving prime minister outside the Indian National Congress.',\n",
       " '[4] Modi was born and raised in Vadnagar in northeastern Gujarat, where he completed his secondary education.',\n",
       " 'He was introduced to the RSS at the age of eight.',\n",
       " 'At the age of 18, he was married to Jashodaben Modi, whom he abandoned soon after, only publicly acknowledging her four decades later when legally required to do so.',\n",
       " 'Modi became a full-time worker for the RSS in Gujarat in 1971.',\n",
       " 'The RSS assigned him to the BJP in 1985 and he rose through the party hierarchy, becoming general secretary in 1998.',\n",
       " '[c] In 2001, Modi was appointed Chief Minister of Gujarat and elected to the legislative assembly soon after.',\n",
       " 'His administration is considered complicit in the 2002 Gujarat riots,[d] and has been criticised for its management of the crisis.',\n",
       " 'According to official records, a little over 1,000 people were killed, three-quarters of whom were Muslim; independent sources estimated 2,000 deaths, mostly Muslim.',\n",
       " '[13] A Special Investigation Team appointed by the Supreme Court of India in 2012 found no evidence to initiate prosecution proceedings against him.',\n",
       " '[e] While his policies as chief minister were credited for encouraging economic growth, his administration was criticised for failing to significantly improve health, poverty and education indices in the state.',\n",
       " '[f]']"
      ]
     },
     "execution_count": 14,
     "metadata": {},
     "output_type": "execute_result"
    }
   ],
   "source": [
    "sentences"
   ]
  },
  {
   "cell_type": "code",
   "execution_count": 9,
   "metadata": {},
   "outputs": [
    {
     "name": "stdout",
     "output_type": "stream",
     "text": [
      "['Narendra Damodardas Modi[a] (born 17 September 1950)[b] is an Indian politician who has been serving as the prime minister of India since 2014.', 'Modi was the chief minister of Gujarat from 2001 to 2014 and is the member of parliament (MP) for Varanasi.', 'He is a member of the Bharatiya Janata Party (BJP) and of the Rashtriya Swayamsevak Sangh (RSS), a right-wing Hindu nationalist paramilitary volunteer organisation.', 'He is the longest-serving prime minister outside the Indian National Congress.', '[4] Modi was born and raised in Vadnagar in northeastern Gujarat, where he completed his secondary education.', 'He was introduced to the RSS at the age of eight.', 'At the age of 18, he was married to Jashodaben Modi, whom he abandoned soon after, only publicly acknowledging her four decades later when legally required to do so.', 'Modi became a full-time worker for the RSS in Gujarat in 1971.', 'The RSS assigned him to the BJP in 1985 and he rose through the party hierarchy, becoming general secretary in 1998.', '[c] In 2001, Modi was appointed Chief Minister of Gujarat and elected to the legislative assembly soon after.', 'His administration is considered complicit in the 2002 Gujarat riots,[d] and has been criticised for its management of the crisis.', 'According to official records, a little over 1,000 people were killed, three-quarters of whom were Muslim; independent sources estimated 2,000 deaths, mostly Muslim.', '[13] A Special Investigation Team appointed by the Supreme Court of India in 2012 found no evidence to initiate prosecution proceedings against him.', '[e] While his policies as chief minister were credited for encouraging economic growth, his administration was criticised for failing to significantly improve health, poverty and education indices in the state.', '[f]']\n",
      "<class 'list'>\n"
     ]
    }
   ],
   "source": [
    "print(sentences)\n",
    "\n",
    "print(type(sentences))"
   ]
  },
  {
   "cell_type": "markdown",
   "metadata": {},
   "source": [
    "#### Removing Stopwords and lowering the sentences"
   ]
  },
  {
   "cell_type": "code",
   "execution_count": 43,
   "metadata": {},
   "outputs": [
    {
     "data": {
      "application/javascript": "\n        if (window._pyforest_update_imports_cell) { window._pyforest_update_imports_cell('from sklearn.feature_extraction.text import CountVectorizer\\nfrom xlrd import open_workbook\\nimport nltk'); }\n    ",
      "text/plain": [
       "<IPython.core.display.Javascript object>"
      ]
     },
     "metadata": {},
     "output_type": "display_data"
    },
    {
     "name": "stderr",
     "output_type": "stream",
     "text": [
      "[nltk_data] Downloading package stopwords to\n",
      "[nltk_data]     /Users/saikiran/nltk_data...\n",
      "[nltk_data]   Package stopwords is already up-to-date!\n"
     ]
    }
   ],
   "source": [
    "nltk.download('stopwords') # downloading stopwords\n",
    "\n",
    "from nltk.corpus import stopwords # library used for removing stopwords\n",
    "\n",
    "from nltk.stem import PorterStemmer # library used for stemming\n",
    "from nltk.stem import WordNetLemmatizer # library used for lemmatization"
   ]
  },
  {
   "cell_type": "code",
   "execution_count": 44,
   "metadata": {},
   "outputs": [
    {
     "name": "stdout",
     "output_type": "stream",
     "text": [
      "['narendra damodardas modi born september b indian politician serving prime minister india since', 'modi chief minister gujarat member parliament mp varanasi', 'member bharatiya janata party bjp rashtriya swayamsevak sangh rss right wing hindu nationalist paramilitary volunteer organisation', 'longest serving prime minister outside indian national congress', 'modi born raised vadnagar northeastern gujarat completed secondary education', 'introduced rss age eight', 'age married jashodaben modi abandoned soon publicly acknowledging four decade later legally required', 'modi became full time worker rss gujarat', 'rss assigned bjp rose party hierarchy becoming general secretary', 'c modi appointed chief minister gujarat elected legislative assembly soon', 'administration considered complicit gujarat riot criticised management crisis', 'according official record little people killed three quarter muslim independent source estimated death mostly muslim', 'special investigation team appointed supreme court india found evidence initiate prosecution proceeding', 'e policy chief minister credited encouraging economic growth administration criticised failing significantly improve health poverty education index state', 'f']\n"
     ]
    }
   ],
   "source": [
    "import re # importing regular expression library\n",
    "\n",
    "stemmer = PorterStemmer() # creating object of PorterStemmer\n",
    "lemmatizer = WordNetLemmatizer() # creating object of WordNetLemmatizer\n",
    "\n",
    "corpus = []\n",
    "\n",
    "for sentence in sentences:\n",
    "\n",
    "    review = re.sub('[^a-zA-Z]', ' ', sentence) # removing special characters from the sentences and replacing them with space.\n",
    "    review = review.lower() # converting all the characters of the sentence to lower case.\n",
    "    review = review.split() # splitting the sentence into words.\n",
    "    review = [lemmatizer.lemmatize(word) for word in review if not word in set(stopwords.words('english'))] # removing the stopwords from the sentence.\n",
    "    review = ' '.join(review) # joining the words to form the sentence.\n",
    "    \n",
    "    corpus.append(review) # appending the cleaned sentence to the corpus list.\n",
    "\n",
    "print(corpus)"
   ]
  },
  {
   "cell_type": "markdown",
   "metadata": {},
   "source": [
    "We have removed the special characters using the regular expressions and lowered the sentences."
   ]
  },
  {
   "cell_type": "markdown",
   "metadata": {},
   "source": [
    "##### FR: Printing the stopwords in English language"
   ]
  },
  {
   "cell_type": "code",
   "execution_count": 25,
   "metadata": {},
   "outputs": [
    {
     "name": "stdout",
     "output_type": "stream",
     "text": [
      "['i', 'me', 'my', 'myself', 'we', 'our', 'ours', 'ourselves', 'you', \"you're\", \"you've\", \"you'll\", \"you'd\", 'your', 'yours', 'yourself', 'yourselves', 'he', 'him', 'his', 'himself', 'she', \"she's\", 'her', 'hers', 'herself', 'it', \"it's\", 'its', 'itself', 'they', 'them', 'their', 'theirs', 'themselves', 'what', 'which', 'who', 'whom', 'this', 'that', \"that'll\", 'these', 'those', 'am', 'is', 'are', 'was', 'were', 'be', 'been', 'being', 'have', 'has', 'had', 'having', 'do', 'does', 'did', 'doing', 'a', 'an', 'the', 'and', 'but', 'if', 'or', 'because', 'as', 'until', 'while', 'of', 'at', 'by', 'for', 'with', 'about', 'against', 'between', 'into', 'through', 'during', 'before', 'after', 'above', 'below', 'to', 'from', 'up', 'down', 'in', 'out', 'on', 'off', 'over', 'under', 'again', 'further', 'then', 'once', 'here', 'there', 'when', 'where', 'why', 'how', 'all', 'any', 'both', 'each', 'few', 'more', 'most', 'other', 'some', 'such', 'no', 'nor', 'not', 'only', 'own', 'same', 'so', 'than', 'too', 'very', 's', 't', 'can', 'will', 'just', 'don', \"don't\", 'should', \"should've\", 'now', 'd', 'll', 'm', 'o', 're', 've', 'y', 'ain', 'aren', \"aren't\", 'couldn', \"couldn't\", 'didn', \"didn't\", 'doesn', \"doesn't\", 'hadn', \"hadn't\", 'hasn', \"hasn't\", 'haven', \"haven't\", 'isn', \"isn't\", 'ma', 'mightn', \"mightn't\", 'mustn', \"mustn't\", 'needn', \"needn't\", 'shan', \"shan't\", 'shouldn', \"shouldn't\", 'wasn', \"wasn't\", 'weren', \"weren't\", 'won', \"won't\", 'wouldn', \"wouldn't\"]\n"
     ]
    }
   ],
   "source": [
    "print(stopwords.words('english'))"
   ]
  },
  {
   "cell_type": "markdown",
   "metadata": {},
   "source": [
    "#### Importing Bag of Words algorithm from sklearn libary"
   ]
  },
  {
   "cell_type": "code",
   "execution_count": 26,
   "metadata": {},
   "outputs": [],
   "source": [
    "from sklearn.feature_extraction.text import CountVectorizer # library used for creating bag of words model\n",
    "\n",
    "cv = CountVectorizer(binary=True) # creating object of CountVectorizer"
   ]
  },
  {
   "cell_type": "markdown",
   "metadata": {},
   "source": [
    "#### Training the bag of words model with our corpus"
   ]
  },
  {
   "cell_type": "code",
   "execution_count": 45,
   "metadata": {},
   "outputs": [],
   "source": [
    "X = cv.fit_transform(corpus)# creating bag of words model"
   ]
  },
  {
   "cell_type": "code",
   "execution_count": 46,
   "metadata": {},
   "outputs": [
    {
     "data": {
      "text/plain": [
       "{'narendra': 66,\n",
       " 'damodardas': 22,\n",
       " 'modi': 62,\n",
       " 'born': 12,\n",
       " 'september': 96,\n",
       " 'indian': 46,\n",
       " 'politician': 78,\n",
       " 'serving': 97,\n",
       " 'prime': 80,\n",
       " 'minister': 61,\n",
       " 'india': 45,\n",
       " 'since': 99,\n",
       " 'chief': 13,\n",
       " 'gujarat': 38,\n",
       " 'member': 60,\n",
       " 'parliament': 74,\n",
       " 'mp': 64,\n",
       " 'varanasi': 110,\n",
       " 'bharatiya': 10,\n",
       " 'janata': 50,\n",
       " 'party': 75,\n",
       " 'bjp': 11,\n",
       " 'rashtriya': 86,\n",
       " 'swayamsevak': 105,\n",
       " 'sangh': 93,\n",
       " 'rss': 92,\n",
       " 'right': 89,\n",
       " 'wing': 112,\n",
       " 'hindu': 41,\n",
       " 'nationalist': 68,\n",
       " 'paramilitary': 73,\n",
       " 'volunteer': 111,\n",
       " 'organisation': 71,\n",
       " 'longest': 57,\n",
       " 'outside': 72,\n",
       " 'national': 67,\n",
       " 'congress': 16,\n",
       " 'raised': 85,\n",
       " 'vadnagar': 109,\n",
       " 'northeastern': 69,\n",
       " 'completed': 14,\n",
       " 'secondary': 94,\n",
       " 'education': 26,\n",
       " 'introduced': 48,\n",
       " 'age': 4,\n",
       " 'eight': 27,\n",
       " 'married': 59,\n",
       " 'jashodaben': 51,\n",
       " 'abandoned': 0,\n",
       " 'soon': 100,\n",
       " 'publicly': 83,\n",
       " 'acknowledging': 2,\n",
       " 'four': 34,\n",
       " 'decade': 24,\n",
       " 'later': 53,\n",
       " 'legally': 54,\n",
       " 'required': 88,\n",
       " 'became': 8,\n",
       " 'full': 35,\n",
       " 'time': 108,\n",
       " 'worker': 113,\n",
       " 'assigned': 7,\n",
       " 'rose': 91,\n",
       " 'hierarchy': 40,\n",
       " 'becoming': 9,\n",
       " 'general': 36,\n",
       " 'secretary': 95,\n",
       " 'appointed': 5,\n",
       " 'elected': 28,\n",
       " 'legislative': 55,\n",
       " 'assembly': 6,\n",
       " 'administration': 3,\n",
       " 'considered': 17,\n",
       " 'complicit': 15,\n",
       " 'riot': 90,\n",
       " 'criticised': 21,\n",
       " 'management': 58,\n",
       " 'crisis': 20,\n",
       " 'according': 1,\n",
       " 'official': 70,\n",
       " 'record': 87,\n",
       " 'little': 56,\n",
       " 'people': 76,\n",
       " 'killed': 52,\n",
       " 'three': 107,\n",
       " 'quarter': 84,\n",
       " 'muslim': 65,\n",
       " 'independent': 43,\n",
       " 'source': 101,\n",
       " 'estimated': 30,\n",
       " 'death': 23,\n",
       " 'mostly': 63,\n",
       " 'special': 102,\n",
       " 'investigation': 49,\n",
       " 'team': 106,\n",
       " 'supreme': 104,\n",
       " 'court': 18,\n",
       " 'found': 33,\n",
       " 'evidence': 31,\n",
       " 'initiate': 47,\n",
       " 'prosecution': 82,\n",
       " 'proceeding': 81,\n",
       " 'policy': 77,\n",
       " 'credited': 19,\n",
       " 'encouraging': 29,\n",
       " 'economic': 25,\n",
       " 'growth': 37,\n",
       " 'failing': 32,\n",
       " 'significantly': 98,\n",
       " 'improve': 42,\n",
       " 'health': 39,\n",
       " 'poverty': 79,\n",
       " 'index': 44,\n",
       " 'state': 103}"
      ]
     },
     "execution_count": 46,
     "metadata": {},
     "output_type": "execute_result"
    }
   ],
   "source": [
    "cv.vocabulary_ # printing the vocabulary of the bag of words model with index\n",
    "\n",
    "# E.g., narendra is presented in the bag of words model at index 85."
   ]
  },
  {
   "cell_type": "markdown",
   "metadata": {},
   "source": [
    "#### Checking BOW for one sentence"
   ]
  },
  {
   "cell_type": "code",
   "execution_count": 47,
   "metadata": {},
   "outputs": [
    {
     "data": {
      "text/plain": [
       "'narendra damodardas modi born september b indian politician serving prime minister india since'"
      ]
     },
     "execution_count": 47,
     "metadata": {},
     "output_type": "execute_result"
    }
   ],
   "source": [
    "corpus[0]"
   ]
  },
  {
   "cell_type": "code",
   "execution_count": 48,
   "metadata": {},
   "outputs": [
    {
     "data": {
      "text/plain": [
       "array([[0, 0, 0, 0, 0, 0, 0, 0, 0, 0, 0, 0, 1, 0, 0, 0, 0, 0, 0, 0, 0, 0,\n",
       "        1, 0, 0, 0, 0, 0, 0, 0, 0, 0, 0, 0, 0, 0, 0, 0, 0, 0, 0, 0, 0, 0,\n",
       "        0, 1, 1, 0, 0, 0, 0, 0, 0, 0, 0, 0, 0, 0, 0, 0, 0, 1, 1, 0, 0, 0,\n",
       "        1, 0, 0, 0, 0, 0, 0, 0, 0, 0, 0, 0, 1, 0, 1, 0, 0, 0, 0, 0, 0, 0,\n",
       "        0, 0, 0, 0, 0, 0, 0, 0, 1, 1, 0, 1, 0, 0, 0, 0, 0, 0, 0, 0, 0, 0,\n",
       "        0, 0, 0, 0]])"
      ]
     },
     "execution_count": 48,
     "metadata": {},
     "output_type": "execute_result"
    }
   ],
   "source": [
    "X[0].toarray() # printing the bag of words model in the form of array"
   ]
  },
  {
   "cell_type": "markdown",
   "metadata": {},
   "source": [
    "## 3. N grams"
   ]
  },
  {
   "cell_type": "markdown",
   "metadata": {},
   "source": [
    "N grams solves the main drawback of both One hot encoding and Bag of words. It helps us to capture the semantic meaning in the given sentences. \n",
    "\n",
    "Let's reconsider the same example again. Earlier we only have three features \"good\", \"boy\", \"girl\". But understanding girl and boy seperately has no use. Hence, so we will create \"bigram\".\n",
    "\n",
    "For example, we will have two another features like \"good boy\" and \"good girl\". Also, some of the examples include like \"New York\", \"Artificial Intelligence\" instead of seperate words like New, York, Artificial, Intelligence. \n",
    "\n",
    "Here we have grouped only two words together so its a bigram, similarly if we group three words together then it is a trigram, like that the number of combinations we make it as n-gram."
   ]
  },
  {
   "cell_type": "markdown",
   "metadata": {},
   "source": [
    "### Example 1\n",
    "\n",
    "Consider a simple corpus containing three sentences: [\"*He* *is* *a* good boy\", \"*She* *is* *a* good girl\", \"Boy *and* Girl *is* good\"]\n",
    "\n",
    "**Step 1:** Remove the stop words, lower the sentences. Lets ignore stemming and lemmatization for now as its not required here. Then, the sentences/documents will be updated as:\n",
    "\n",
    "D1 -> [\"good\", \"boy\"]\n",
    "\n",
    "D2 -> [\"good\", \"girl\"]\n",
    "\n",
    "D3 -> [\"boy\", \"girl\", \"good\"]\n",
    "\n",
    "**Step 2:** Calculate the frequency of each word from the above corpus and arrange it in order from high to low\n",
    "\n",
    "f1 - good: 3,\n",
    "f2 - boy: 2, \n",
    "f3 - girl: 2,\n",
    " \n",
    "New features (bigrams) like \"good boy\" and \"good girl\" will be added.\n",
    "\n",
    "**Step 3:** Now, we need to perform the encoding for each sentence. Lets consider ours is a Binary BOW if the particular word is present in the sentence then it will be marked as 0 or 1. \n",
    "\n",
    "| Features/Documents| f1 (good) | f2 (boy) | f3 (girl) | f4 (good boy) | f5 (good girl) |\n",
    "| :---: | :---: | :---: | :---: | :--: | :--: | \n",
    "| D1 | 1 | 1 | 0 | 1 | 0 |\n",
    "| D2 | 1 | 0 | 1 | 0 | 1 |\n",
    "| D3 | 1 | 1 | 1 | 0 | 0 |"
   ]
  },
  {
   "cell_type": "markdown",
   "metadata": {},
   "source": [
    "### Example 2\n",
    "\n",
    "Sentence: Krish eats food \n",
    "\n",
    "Bigrams should be sequential in nature, here we cant form a bigram like Krish food.\n",
    "\n",
    "**Bigrams:** Krish eats, eats food"
   ]
  },
  {
   "cell_type": "markdown",
   "metadata": {},
   "source": [
    "### Example 3"
   ]
  },
  {
   "cell_type": "markdown",
   "metadata": {},
   "source": [
    "Sentence: I am not feeling well\n",
    "\n",
    "Trigrams should also be sequential in nature. \n",
    "\n",
    "**Trigrams:** I am not, am not feeling, not feeling well."
   ]
  }
 ],
 "metadata": {
  "kernelspec": {
   "display_name": "Python 3",
   "language": "python",
   "name": "python3"
  },
  "language_info": {
   "codemirror_mode": {
    "name": "ipython",
    "version": 3
   },
   "file_extension": ".py",
   "mimetype": "text/x-python",
   "name": "python",
   "nbconvert_exporter": "python",
   "pygments_lexer": "ipython3",
   "version": "3.13.0"
  }
 },
 "nbformat": 4,
 "nbformat_minor": 2
}
