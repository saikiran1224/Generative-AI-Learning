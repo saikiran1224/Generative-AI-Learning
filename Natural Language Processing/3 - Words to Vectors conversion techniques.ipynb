{
 "cells": [
  {
   "cell_type": "markdown",
   "metadata": {},
   "source": [
    "# Words to Vectors Conversion Techniques\n",
    "\n",
    "Once the given dataset is preprocessed using text preprocessing techniques like Stemming and Lemmatization, we need to move to the next quarter where we need to convert the pre-processed text into vectors. \n",
    "\n",
    "Below listed are some of the conversion techniques we use most often: \n",
    "\n",
    "1. One Hot Ecoding (OHE)\n",
    "\n",
    "2. Bag of Words\n",
    "3. N-grams\n",
    "4. TF-IDF"
   ]
  },
  {
   "cell_type": "markdown",
   "metadata": {},
   "source": [
    "## 1. One Hot Encoding"
   ]
  },
  {
   "cell_type": "markdown",
   "metadata": {},
   "source": [
    "It is a technique which is mostly used in Sentiment Analysis. The given corpus will be broken down into Sentences, and later unique words (Vocabulary) will be identified from all the sentences and an unique index is assigned for the same. \n",
    "\n",
    "Later, we will mark the value as 1 or 0 if its found in sentence. Hence, the whole sentence gets encoded as vector form which is called as One hot encoded vector. "
   ]
  },
  {
   "cell_type": "markdown",
   "metadata": {},
   "source": [
    "### Example"
   ]
  },
  {
   "cell_type": "markdown",
   "metadata": {},
   "source": [
    "corpus = [\"I love this movie\", \"this movie is terrible\", \"the plot is confusing\"]\n",
    "\n",
    "From this corpus, the vocabulary identified is \n",
    "[\"I\", \"love\", \"this\", \"movie\", \"is\", \"terrible\", \"the\", \"plot\", \"confusing\"]\n",
    "\n",
    "Now our first sentence (D1) can be encoded as [1, 1, 1, 1, 0, 0, 0, 0, 0]\n",
    "\n",
    "Similarly, (D2) can be encoded as [0, 0, 1, 1, 1, 1, 0, 0, 0]\n",
    "\n",
    "(D3) can be encoded as [0, 0, 0, 0, 1, 0, 1, 1, 1]\n",
    "\n"
   ]
  },
  {
   "cell_type": "markdown",
   "metadata": {},
   "source": [
    "### Advantages\n",
    "- Simple to Implement\n",
    "- Intuitive"
   ]
  },
  {
   "cell_type": "markdown",
   "metadata": {},
   "source": [
    "### Disadvantages\n",
    "\n",
    "- Sparse Matrix (array can be completely 0 if the test sentence does not match with vocabulary and highly computational for training -  requires more RAM usage)\n",
    "- Out of Vocabulary (OOV) - Will not be able to handle test data is new test data comes.\n",
    "\n",
    "- There is no fixed size\n",
    "- Semantic meaning between the words is not captured."
   ]
  },
  {
   "cell_type": "markdown",
   "metadata": {},
   "source": [
    "## 2. Bag of Words (BOW)"
   ]
  },
  {
   "cell_type": "markdown",
   "metadata": {},
   "source": [
    "This is a technique which is slightly better than One hot encoding. Consider bag of words is a bag containing popcorn. The given corpus is broken down into sentences and later text processing will be done. We will first remove the stop words, lower the sentences, perform stemming or lemmatization and then pass onto the bag of words model to get trained. \n",
    "\n",
    "Bag of words will first identify the vocabulary, and calculates the frequency of each word in vocabulary. Then, the features will be ranged from having maximum value to minimum value. In short, our features will be arranged in an order having high to low frequency. \n",
    "\n",
    "Once completed, for each document we will mark the frequency or if its binary BOW, then it will be marked as 1 or 0 if the word is found in that particular sentence or document."
   ]
  },
  {
   "cell_type": "markdown",
   "metadata": {},
   "source": [
    "### Example\n",
    "\n",
    "Consider a simple corpus containing three sentences: [\"*He* *is* *a* good boy\", \"*She* *is* *a* good girl\", \"Boy *and* Girl *is* good\"]\n",
    "\n",
    "**Step 1:** Remove the stop words, lower the sentences. Lets ignore stemming and lemmatization for now as its not required here. Then, the sentences/documents will be updated as:\n",
    "\n",
    "D1 -> [\"good\", \"boy\"]\n",
    "\n",
    "D2 -> [\"good\", \"girl\"]\n",
    "\n",
    "D3 -> [\"boy\", \"girl\", \"good\"]\n",
    "\n",
    "**Step 2:** Calculate the frequency of each word from the above corpus and arrange it in order from high to low\n",
    "\n",
    "f1 - good: 3,\n",
    "f2 - boy: 2, \n",
    "f3 - girl: 2\n",
    "\n",
    "**Step 3:** Now, we need to perform the encoding for each sentence. Lets consider ours is a Binary BOW if the particular word is present in the sentence then it will be marked as 0 or 1. \n",
    "\n",
    "| Features/Documents| f1 (good) | f2 (boy) | f3 (girl) |\n",
    "| :---: | :---: | :---: | :---: |\n",
    "| D1 | 1 | 1 | 0 |\n",
    "| D2 | 1 | 0 | 1 |\n",
    "| D3 | 1 | 1 | 1 |"
   ]
  },
  {
   "cell_type": "markdown",
   "metadata": {},
   "source": [
    "### Advantages\n",
    "\n",
    "- Simple and Intuitive"
   ]
  },
  {
   "cell_type": "markdown",
   "metadata": {},
   "source": [
    "### Disadvantages\n",
    "\n",
    "- Sparse Matrix (still we have 0s and 1s)\n",
    "\n",
    "- Out of Vocabulary unable to handle new test data\n",
    "- Order of the words will get displaced\n",
    "- Inability in capturing the semantic information."
   ]
  },
  {
   "cell_type": "markdown",
   "metadata": {},
   "source": [
    "### Practical Implementation"
   ]
  },
  {
   "cell_type": "code",
   "execution_count": 1,
   "metadata": {},
   "outputs": [
    {
     "name": "stdout",
     "output_type": "stream",
     "text": [
      "Requirement already satisfied: nltk in /Library/Frameworks/Python.framework/Versions/3.13/lib/python3.13/site-packages (3.9.1)\n",
      "Requirement already satisfied: click in /Library/Frameworks/Python.framework/Versions/3.13/lib/python3.13/site-packages (from nltk) (8.1.8)\n",
      "Requirement already satisfied: joblib in /Library/Frameworks/Python.framework/Versions/3.13/lib/python3.13/site-packages (from nltk) (1.4.2)\n",
      "Requirement already satisfied: regex>=2021.8.3 in /Library/Frameworks/Python.framework/Versions/3.13/lib/python3.13/site-packages (from nltk) (2024.11.6)\n",
      "Requirement already satisfied: tqdm in /Library/Frameworks/Python.framework/Versions/3.13/lib/python3.13/site-packages (from nltk) (4.67.1)\n",
      "\n",
      "\u001b[1m[\u001b[0m\u001b[34;49mnotice\u001b[0m\u001b[1;39;49m]\u001b[0m\u001b[39;49m A new release of pip is available: \u001b[0m\u001b[31;49m24.3.1\u001b[0m\u001b[39;49m -> \u001b[0m\u001b[32;49m25.0\u001b[0m\n",
      "\u001b[1m[\u001b[0m\u001b[34;49mnotice\u001b[0m\u001b[1;39;49m]\u001b[0m\u001b[39;49m To update, run: \u001b[0m\u001b[32;49mpip install --upgrade pip\u001b[0m\n",
      "Note: you may need to restart the kernel to use updated packages.\n"
     ]
    }
   ],
   "source": [
    "%pip install nltk # Installing nltk library"
   ]
  },
  {
   "cell_type": "markdown",
   "metadata": {},
   "source": [
    "#### Defining corpus"
   ]
  },
  {
   "cell_type": "code",
   "execution_count": 2,
   "metadata": {},
   "outputs": [],
   "source": [
    "corpus = '''Narendra Damodardas Modi[a] (born 17 September 1950)[b] is an Indian politician who has been serving as the prime minister of India since 2014. Modi was the chief minister of Gujarat from 2001 to 2014 and is the member of parliament (MP) for Varanasi. He is a member of the Bharatiya Janata Party (BJP) and of the Rashtriya Swayamsevak Sangh (RSS), a right-wing Hindu nationalist paramilitary volunteer organisation. He is the longest-serving prime minister outside the Indian National Congress.[4] Modi was born and raised in Vadnagar in northeastern Gujarat, where he completed his secondary education. He was introduced to the RSS at the age of eight. At the age of 18, he was married to Jashodaben Modi, whom he abandoned soon after, only publicly acknowledging her four decades later when legally required to do so. Modi became a full-time worker for the RSS in Gujarat in 1971. The RSS assigned him to the BJP in 1985 and he rose through the party hierarchy, becoming general secretary in 1998.[c] In 2001, Modi was appointed Chief Minister of Gujarat and elected to the legislative assembly soon after. His administration is considered complicit in the 2002 Gujarat riots,[d] and has been criticised for its management of the crisis. According to official records, a little over 1,000 people were killed, three-quarters of whom were Muslim; independent sources estimated 2,000 deaths, mostly Muslim.[13] A Special Investigation Team appointed by the Supreme Court of India in 2012 found no evidence to initiate prosecution proceedings against him.[e] While his policies as chief minister were credited for encouraging economic growth, his administration was criticised for failing to significantly improve health, poverty and education indices in the state.[f]'''"
   ]
  },
  {
   "cell_type": "code",
   "execution_count": 3,
   "metadata": {},
   "outputs": [
    {
     "data": {
      "text/plain": [
       "'Narendra Damodardas Modi[a] (born 17 September 1950)[b] is an Indian politician who has been serving as the prime minister of India since 2014. Modi was the chief minister of Gujarat from 2001 to 2014 and is the member of parliament (MP) for Varanasi. He is a member of the Bharatiya Janata Party (BJP) and of the Rashtriya Swayamsevak Sangh (RSS), a right-wing Hindu nationalist paramilitary volunteer organisation. He is the longest-serving prime minister outside the Indian National Congress.[4] Modi was born and raised in Vadnagar in northeastern Gujarat, where he completed his secondary education. He was introduced to the RSS at the age of eight. At the age of 18, he was married to Jashodaben Modi, whom he abandoned soon after, only publicly acknowledging her four decades later when legally required to do so. Modi became a full-time worker for the RSS in Gujarat in 1971. The RSS assigned him to the BJP in 1985 and he rose through the party hierarchy, becoming general secretary in 1998.[c] In 2001, Modi was appointed Chief Minister of Gujarat and elected to the legislative assembly soon after. His administration is considered complicit in the 2002 Gujarat riots,[d] and has been criticised for its management of the crisis. According to official records, a little over 1,000 people were killed, three-quarters of whom were Muslim; independent sources estimated 2,000 deaths, mostly Muslim.[13] A Special Investigation Team appointed by the Supreme Court of India in 2012 found no evidence to initiate prosecution proceedings against him.[e] While his policies as chief minister were credited for encouraging economic growth, his administration was criticised for failing to significantly improve health, poverty and education indices in the state.[f]'"
      ]
     },
     "execution_count": 3,
     "metadata": {},
     "output_type": "execute_result"
    }
   ],
   "source": [
    "corpus"
   ]
  },
  {
   "cell_type": "markdown",
   "metadata": {},
   "source": [
    "#### Tokenization\n",
    "\n",
    "Converts above paragraph into sentences"
   ]
  },
  {
   "cell_type": "code",
   "execution_count": 4,
   "metadata": {},
   "outputs": [
    {
     "data": {
      "application/javascript": "\n        if (window._pyforest_update_imports_cell) { window._pyforest_update_imports_cell('import nltk'); }\n    ",
      "text/plain": [
       "<IPython.core.display.Javascript object>"
      ]
     },
     "metadata": {},
     "output_type": "display_data"
    },
    {
     "name": "stderr",
     "output_type": "stream",
     "text": [
      "[nltk_data] Downloading package punkt_tab to\n",
      "[nltk_data]     /Users/saikiran/nltk_data...\n",
      "[nltk_data]   Package punkt_tab is already up-to-date!\n"
     ]
    },
    {
     "data": {
      "application/javascript": "\n        if (window._pyforest_update_imports_cell) { window._pyforest_update_imports_cell('import nltk'); }\n    ",
      "text/plain": [
       "<IPython.core.display.Javascript object>"
      ]
     },
     "metadata": {},
     "output_type": "display_data"
    }
   ],
   "source": [
    "nltk.download('punkt_tab') # Downloading punkt tokenizer\n",
    "\n",
    "sentences = nltk.sent_tokenize(corpus) # tokenizing paragraph into sentences"
   ]
  },
  {
   "cell_type": "code",
   "execution_count": 5,
   "metadata": {},
   "outputs": [
    {
     "data": {
      "text/plain": [
       "['Narendra Damodardas Modi[a] (born 17 September 1950)[b] is an Indian politician who has been serving as the prime minister of India since 2014.',\n",
       " 'Modi was the chief minister of Gujarat from 2001 to 2014 and is the member of parliament (MP) for Varanasi.',\n",
       " 'He is a member of the Bharatiya Janata Party (BJP) and of the Rashtriya Swayamsevak Sangh (RSS), a right-wing Hindu nationalist paramilitary volunteer organisation.',\n",
       " 'He is the longest-serving prime minister outside the Indian National Congress.',\n",
       " '[4] Modi was born and raised in Vadnagar in northeastern Gujarat, where he completed his secondary education.',\n",
       " 'He was introduced to the RSS at the age of eight.',\n",
       " 'At the age of 18, he was married to Jashodaben Modi, whom he abandoned soon after, only publicly acknowledging her four decades later when legally required to do so.',\n",
       " 'Modi became a full-time worker for the RSS in Gujarat in 1971.',\n",
       " 'The RSS assigned him to the BJP in 1985 and he rose through the party hierarchy, becoming general secretary in 1998.',\n",
       " '[c] In 2001, Modi was appointed Chief Minister of Gujarat and elected to the legislative assembly soon after.',\n",
       " 'His administration is considered complicit in the 2002 Gujarat riots,[d] and has been criticised for its management of the crisis.',\n",
       " 'According to official records, a little over 1,000 people were killed, three-quarters of whom were Muslim; independent sources estimated 2,000 deaths, mostly Muslim.',\n",
       " '[13] A Special Investigation Team appointed by the Supreme Court of India in 2012 found no evidence to initiate prosecution proceedings against him.',\n",
       " '[e] While his policies as chief minister were credited for encouraging economic growth, his administration was criticised for failing to significantly improve health, poverty and education indices in the state.',\n",
       " '[f]']"
      ]
     },
     "execution_count": 5,
     "metadata": {},
     "output_type": "execute_result"
    }
   ],
   "source": [
    "sentences"
   ]
  },
  {
   "cell_type": "code",
   "execution_count": 6,
   "metadata": {},
   "outputs": [
    {
     "name": "stdout",
     "output_type": "stream",
     "text": [
      "['Narendra Damodardas Modi[a] (born 17 September 1950)[b] is an Indian politician who has been serving as the prime minister of India since 2014.', 'Modi was the chief minister of Gujarat from 2001 to 2014 and is the member of parliament (MP) for Varanasi.', 'He is a member of the Bharatiya Janata Party (BJP) and of the Rashtriya Swayamsevak Sangh (RSS), a right-wing Hindu nationalist paramilitary volunteer organisation.', 'He is the longest-serving prime minister outside the Indian National Congress.', '[4] Modi was born and raised in Vadnagar in northeastern Gujarat, where he completed his secondary education.', 'He was introduced to the RSS at the age of eight.', 'At the age of 18, he was married to Jashodaben Modi, whom he abandoned soon after, only publicly acknowledging her four decades later when legally required to do so.', 'Modi became a full-time worker for the RSS in Gujarat in 1971.', 'The RSS assigned him to the BJP in 1985 and he rose through the party hierarchy, becoming general secretary in 1998.', '[c] In 2001, Modi was appointed Chief Minister of Gujarat and elected to the legislative assembly soon after.', 'His administration is considered complicit in the 2002 Gujarat riots,[d] and has been criticised for its management of the crisis.', 'According to official records, a little over 1,000 people were killed, three-quarters of whom were Muslim; independent sources estimated 2,000 deaths, mostly Muslim.', '[13] A Special Investigation Team appointed by the Supreme Court of India in 2012 found no evidence to initiate prosecution proceedings against him.', '[e] While his policies as chief minister were credited for encouraging economic growth, his administration was criticised for failing to significantly improve health, poverty and education indices in the state.', '[f]']\n",
      "<class 'list'>\n"
     ]
    }
   ],
   "source": [
    "print(sentences)\n",
    "\n",
    "print(type(sentences))"
   ]
  },
  {
   "cell_type": "markdown",
   "metadata": {},
   "source": [
    "#### Removing Stopwords and lowering the sentences"
   ]
  },
  {
   "cell_type": "code",
   "execution_count": 7,
   "metadata": {},
   "outputs": [
    {
     "data": {
      "application/javascript": "\n        if (window._pyforest_update_imports_cell) { window._pyforest_update_imports_cell('import nltk'); }\n    ",
      "text/plain": [
       "<IPython.core.display.Javascript object>"
      ]
     },
     "metadata": {},
     "output_type": "display_data"
    },
    {
     "name": "stderr",
     "output_type": "stream",
     "text": [
      "[nltk_data] Downloading package stopwords to\n",
      "[nltk_data]     /Users/saikiran/nltk_data...\n",
      "[nltk_data]   Package stopwords is already up-to-date!\n"
     ]
    }
   ],
   "source": [
    "nltk.download('stopwords') # downloading stopwords\n",
    "\n",
    "from nltk.corpus import stopwords # library used for removing stopwords\n",
    "\n",
    "from nltk.stem import PorterStemmer # library used for stemming\n",
    "from nltk.stem import WordNetLemmatizer # library used for lemmatization"
   ]
  },
  {
   "cell_type": "code",
   "execution_count": 8,
   "metadata": {},
   "outputs": [
    {
     "name": "stdout",
     "output_type": "stream",
     "text": [
      "['narendra damodardas modi born september b indian politician serving prime minister india since', 'modi chief minister gujarat member parliament mp varanasi', 'member bharatiya janata party bjp rashtriya swayamsevak sangh rss right wing hindu nationalist paramilitary volunteer organisation', 'longest serving prime minister outside indian national congress', 'modi born raised vadnagar northeastern gujarat completed secondary education', 'introduced rss age eight', 'age married jashodaben modi abandoned soon publicly acknowledging four decade later legally required', 'modi became full time worker rss gujarat', 'rss assigned bjp rose party hierarchy becoming general secretary', 'c modi appointed chief minister gujarat elected legislative assembly soon', 'administration considered complicit gujarat riot criticised management crisis', 'according official record little people killed three quarter muslim independent source estimated death mostly muslim', 'special investigation team appointed supreme court india found evidence initiate prosecution proceeding', 'e policy chief minister credited encouraging economic growth administration criticised failing significantly improve health poverty education index state', 'f']\n"
     ]
    }
   ],
   "source": [
    "import re # importing regular expression library\n",
    "\n",
    "stemmer = PorterStemmer() # creating object of PorterStemmer\n",
    "lemmatizer = WordNetLemmatizer() # creating object of WordNetLemmatizer\n",
    "\n",
    "corpus = []\n",
    "\n",
    "for sentence in sentences:\n",
    "\n",
    "    review = re.sub('[^a-zA-Z]', ' ', sentence) # removing special characters from the sentences and replacing them with space.\n",
    "    review = review.lower() # converting all the characters of the sentence to lower case.\n",
    "    review = review.split() # splitting the sentence into words.\n",
    "    review = [lemmatizer.lemmatize(word) for word in review if not word in set(stopwords.words('english'))] # removing the stopwords from the sentence.\n",
    "    review = ' '.join(review) # joining the words to form the sentence.\n",
    "    \n",
    "    corpus.append(review) # appending the cleaned sentence to the corpus list.\n",
    "\n",
    "print(corpus)"
   ]
  },
  {
   "cell_type": "markdown",
   "metadata": {},
   "source": [
    "We have removed the special characters using the regular expressions and lowered the sentences."
   ]
  },
  {
   "cell_type": "markdown",
   "metadata": {},
   "source": [
    "##### FR: Printing the stopwords in English language"
   ]
  },
  {
   "cell_type": "code",
   "execution_count": 9,
   "metadata": {},
   "outputs": [
    {
     "name": "stdout",
     "output_type": "stream",
     "text": [
      "['i', 'me', 'my', 'myself', 'we', 'our', 'ours', 'ourselves', 'you', \"you're\", \"you've\", \"you'll\", \"you'd\", 'your', 'yours', 'yourself', 'yourselves', 'he', 'him', 'his', 'himself', 'she', \"she's\", 'her', 'hers', 'herself', 'it', \"it's\", 'its', 'itself', 'they', 'them', 'their', 'theirs', 'themselves', 'what', 'which', 'who', 'whom', 'this', 'that', \"that'll\", 'these', 'those', 'am', 'is', 'are', 'was', 'were', 'be', 'been', 'being', 'have', 'has', 'had', 'having', 'do', 'does', 'did', 'doing', 'a', 'an', 'the', 'and', 'but', 'if', 'or', 'because', 'as', 'until', 'while', 'of', 'at', 'by', 'for', 'with', 'about', 'against', 'between', 'into', 'through', 'during', 'before', 'after', 'above', 'below', 'to', 'from', 'up', 'down', 'in', 'out', 'on', 'off', 'over', 'under', 'again', 'further', 'then', 'once', 'here', 'there', 'when', 'where', 'why', 'how', 'all', 'any', 'both', 'each', 'few', 'more', 'most', 'other', 'some', 'such', 'no', 'nor', 'not', 'only', 'own', 'same', 'so', 'than', 'too', 'very', 's', 't', 'can', 'will', 'just', 'don', \"don't\", 'should', \"should've\", 'now', 'd', 'll', 'm', 'o', 're', 've', 'y', 'ain', 'aren', \"aren't\", 'couldn', \"couldn't\", 'didn', \"didn't\", 'doesn', \"doesn't\", 'hadn', \"hadn't\", 'hasn', \"hasn't\", 'haven', \"haven't\", 'isn', \"isn't\", 'ma', 'mightn', \"mightn't\", 'mustn', \"mustn't\", 'needn', \"needn't\", 'shan', \"shan't\", 'shouldn', \"shouldn't\", 'wasn', \"wasn't\", 'weren', \"weren't\", 'won', \"won't\", 'wouldn', \"wouldn't\"]\n"
     ]
    }
   ],
   "source": [
    "print(stopwords.words('english'))"
   ]
  },
  {
   "cell_type": "markdown",
   "metadata": {},
   "source": [
    "#### Importing Bag of Words algorithm from sklearn libary"
   ]
  },
  {
   "cell_type": "code",
   "execution_count": 19,
   "metadata": {},
   "outputs": [],
   "source": [
    "from sklearn.feature_extraction.text import CountVectorizer # library used for creating bag of words model\n",
    "\n",
    "# creating object of CountVectorizer class\n",
    "cv = CountVectorizer(binary=True, # creating binary bag of words model\n",
    "                     ngram_range=(2,3)) # considering bigrams and trigrams \n",
    "                     # Syntax for ngram_range = (start range, end range) \n"
   ]
  },
  {
   "cell_type": "markdown",
   "metadata": {},
   "source": [
    "#### Training the bag of words model with our corpus"
   ]
  },
  {
   "cell_type": "code",
   "execution_count": 20,
   "metadata": {},
   "outputs": [],
   "source": [
    "X = cv.fit_transform(corpus)# creating bag of words model"
   ]
  },
  {
   "cell_type": "code",
   "execution_count": 21,
   "metadata": {},
   "outputs": [
    {
     "data": {
      "text/plain": [
       "{'narendra damodardas': 158,\n",
       " 'damodardas modi': 51,\n",
       " 'modi born': 149,\n",
       " 'born september': 32,\n",
       " 'september indian': 215,\n",
       " 'indian politician': 104,\n",
       " 'politician serving': 181,\n",
       " 'serving prime': 217,\n",
       " 'prime minister': 185,\n",
       " 'minister india': 139,\n",
       " 'india since': 101,\n",
       " 'narendra damodardas modi': 159,\n",
       " 'damodardas modi born': 52,\n",
       " 'modi born september': 151,\n",
       " 'born september indian': 33,\n",
       " 'september indian politician': 216,\n",
       " 'indian politician serving': 105,\n",
       " 'politician serving prime': 182,\n",
       " 'serving prime minister': 218,\n",
       " 'prime minister india': 186,\n",
       " 'minister india since': 140,\n",
       " 'modi chief': 152,\n",
       " 'chief minister': 34,\n",
       " 'minister gujarat': 136,\n",
       " 'gujarat member': 84,\n",
       " 'member parliament': 132,\n",
       " 'parliament mp': 171,\n",
       " 'mp varanasi': 155,\n",
       " 'modi chief minister': 153,\n",
       " 'chief minister gujarat': 36,\n",
       " 'minister gujarat member': 138,\n",
       " 'gujarat member parliament': 85,\n",
       " 'member parliament mp': 133,\n",
       " 'parliament mp varanasi': 172,\n",
       " 'member bharatiya': 130,\n",
       " 'bharatiya janata': 24,\n",
       " 'janata party': 112,\n",
       " 'party bjp': 173,\n",
       " 'bjp rashtriya': 26,\n",
       " 'rashtriya swayamsevak': 195,\n",
       " 'swayamsevak sangh': 229,\n",
       " 'sangh rss': 212,\n",
       " 'rss right': 210,\n",
       " 'right wing': 199,\n",
       " 'wing hindu': 240,\n",
       " 'hindu nationalist': 92,\n",
       " 'nationalist paramilitary': 161,\n",
       " 'paramilitary volunteer': 169,\n",
       " 'volunteer organisation': 239,\n",
       " 'member bharatiya janata': 131,\n",
       " 'bharatiya janata party': 25,\n",
       " 'janata party bjp': 113,\n",
       " 'party bjp rashtriya': 174,\n",
       " 'bjp rashtriya swayamsevak': 27,\n",
       " 'rashtriya swayamsevak sangh': 196,\n",
       " 'swayamsevak sangh rss': 230,\n",
       " 'sangh rss right': 213,\n",
       " 'rss right wing': 211,\n",
       " 'right wing hindu': 200,\n",
       " 'wing hindu nationalist': 241,\n",
       " 'hindu nationalist paramilitary': 93,\n",
       " 'nationalist paramilitary volunteer': 162,\n",
       " 'paramilitary volunteer organisation': 170,\n",
       " 'longest serving': 125,\n",
       " 'minister outside': 141,\n",
       " 'outside indian': 167,\n",
       " 'indian national': 102,\n",
       " 'national congress': 160,\n",
       " 'longest serving prime': 126,\n",
       " 'prime minister outside': 187,\n",
       " 'minister outside indian': 142,\n",
       " 'outside indian national': 168,\n",
       " 'indian national congress': 103,\n",
       " 'born raised': 30,\n",
       " 'raised vadnagar': 193,\n",
       " 'vadnagar northeastern': 237,\n",
       " 'northeastern gujarat': 163,\n",
       " 'gujarat completed': 80,\n",
       " 'completed secondary': 37,\n",
       " 'secondary education': 214,\n",
       " 'modi born raised': 150,\n",
       " 'born raised vadnagar': 31,\n",
       " 'raised vadnagar northeastern': 194,\n",
       " 'vadnagar northeastern gujarat': 238,\n",
       " 'northeastern gujarat completed': 164,\n",
       " 'gujarat completed secondary': 81,\n",
       " 'completed secondary education': 38,\n",
       " 'introduced rss': 108,\n",
       " 'rss age': 205,\n",
       " 'age eight': 10,\n",
       " 'introduced rss age': 109,\n",
       " 'rss age eight': 206,\n",
       " 'age married': 11,\n",
       " 'married jashodaben': 128,\n",
       " 'jashodaben modi': 114,\n",
       " 'modi abandoned': 143,\n",
       " 'abandoned soon': 0,\n",
       " 'soon publicly': 221,\n",
       " 'publicly acknowledging': 189,\n",
       " 'acknowledging four': 4,\n",
       " 'four decade': 73,\n",
       " 'decade later': 55,\n",
       " 'later legally': 118,\n",
       " 'legally required': 120,\n",
       " 'age married jashodaben': 12,\n",
       " 'married jashodaben modi': 129,\n",
       " 'jashodaben modi abandoned': 115,\n",
       " 'modi abandoned soon': 144,\n",
       " 'abandoned soon publicly': 1,\n",
       " 'soon publicly acknowledging': 222,\n",
       " 'publicly acknowledging four': 190,\n",
       " 'acknowledging four decade': 5,\n",
       " 'four decade later': 74,\n",
       " 'decade later legally': 56,\n",
       " 'later legally required': 119,\n",
       " 'modi became': 147,\n",
       " 'became full': 20,\n",
       " 'full time': 75,\n",
       " 'time worker': 235,\n",
       " 'worker rss': 242,\n",
       " 'rss gujarat': 209,\n",
       " 'modi became full': 148,\n",
       " 'became full time': 21,\n",
       " 'full time worker': 76,\n",
       " 'time worker rss': 236,\n",
       " 'worker rss gujarat': 243,\n",
       " 'rss assigned': 207,\n",
       " 'assigned bjp': 18,\n",
       " 'bjp rose': 28,\n",
       " 'rose party': 203,\n",
       " 'party hierarchy': 175,\n",
       " 'hierarchy becoming': 90,\n",
       " 'becoming general': 22,\n",
       " 'general secretary': 77,\n",
       " 'rss assigned bjp': 208,\n",
       " 'assigned bjp rose': 19,\n",
       " 'bjp rose party': 29,\n",
       " 'rose party hierarchy': 204,\n",
       " 'party hierarchy becoming': 176,\n",
       " 'hierarchy becoming general': 91,\n",
       " 'becoming general secretary': 23,\n",
       " 'modi appointed': 145,\n",
       " 'appointed chief': 13,\n",
       " 'gujarat elected': 82,\n",
       " 'elected legislative': 61,\n",
       " 'legislative assembly': 121,\n",
       " 'assembly soon': 17,\n",
       " 'modi appointed chief': 146,\n",
       " 'appointed chief minister': 14,\n",
       " 'minister gujarat elected': 137,\n",
       " 'gujarat elected legislative': 83,\n",
       " 'elected legislative assembly': 62,\n",
       " 'legislative assembly soon': 122,\n",
       " 'administration considered': 6,\n",
       " 'considered complicit': 41,\n",
       " 'complicit gujarat': 39,\n",
       " 'gujarat riot': 86,\n",
       " 'riot criticised': 201,\n",
       " 'criticised management': 49,\n",
       " 'management crisis': 127,\n",
       " 'administration considered complicit': 7,\n",
       " 'considered complicit gujarat': 42,\n",
       " 'complicit gujarat riot': 40,\n",
       " 'gujarat riot criticised': 87,\n",
       " 'riot criticised management': 202,\n",
       " 'criticised management crisis': 50,\n",
       " 'according official': 2,\n",
       " 'official record': 165,\n",
       " 'record little': 197,\n",
       " 'little people': 123,\n",
       " 'people killed': 177,\n",
       " 'killed three': 116,\n",
       " 'three quarter': 233,\n",
       " 'quarter muslim': 191,\n",
       " 'muslim independent': 156,\n",
       " 'independent source': 96,\n",
       " 'source estimated': 223,\n",
       " 'estimated death': 65,\n",
       " 'death mostly': 53,\n",
       " 'mostly muslim': 154,\n",
       " 'according official record': 3,\n",
       " 'official record little': 166,\n",
       " 'record little people': 198,\n",
       " 'little people killed': 124,\n",
       " 'people killed three': 178,\n",
       " 'killed three quarter': 117,\n",
       " 'three quarter muslim': 234,\n",
       " 'quarter muslim independent': 192,\n",
       " 'muslim independent source': 157,\n",
       " 'independent source estimated': 97,\n",
       " 'source estimated death': 224,\n",
       " 'estimated death mostly': 66,\n",
       " 'death mostly muslim': 54,\n",
       " 'special investigation': 225,\n",
       " 'investigation team': 110,\n",
       " 'team appointed': 231,\n",
       " 'appointed supreme': 15,\n",
       " 'supreme court': 227,\n",
       " 'court india': 43,\n",
       " 'india found': 99,\n",
       " 'found evidence': 71,\n",
       " 'evidence initiate': 67,\n",
       " 'initiate prosecution': 106,\n",
       " 'prosecution proceeding': 188,\n",
       " 'special investigation team': 226,\n",
       " 'investigation team appointed': 111,\n",
       " 'team appointed supreme': 232,\n",
       " 'appointed supreme court': 16,\n",
       " 'supreme court india': 228,\n",
       " 'court india found': 44,\n",
       " 'india found evidence': 100,\n",
       " 'found evidence initiate': 72,\n",
       " 'evidence initiate prosecution': 68,\n",
       " 'initiate prosecution proceeding': 107,\n",
       " 'policy chief': 179,\n",
       " 'minister credited': 134,\n",
       " 'credited encouraging': 45,\n",
       " 'encouraging economic': 63,\n",
       " 'economic growth': 57,\n",
       " 'growth administration': 78,\n",
       " 'administration criticised': 8,\n",
       " 'criticised failing': 47,\n",
       " 'failing significantly': 69,\n",
       " 'significantly improve': 219,\n",
       " 'improve health': 94,\n",
       " 'health poverty': 88,\n",
       " 'poverty education': 183,\n",
       " 'education index': 59,\n",
       " 'index state': 98,\n",
       " 'policy chief minister': 180,\n",
       " 'chief minister credited': 35,\n",
       " 'minister credited encouraging': 135,\n",
       " 'credited encouraging economic': 46,\n",
       " 'encouraging economic growth': 64,\n",
       " 'economic growth administration': 58,\n",
       " 'growth administration criticised': 79,\n",
       " 'administration criticised failing': 9,\n",
       " 'criticised failing significantly': 48,\n",
       " 'failing significantly improve': 70,\n",
       " 'significantly improve health': 220,\n",
       " 'improve health poverty': 95,\n",
       " 'health poverty education': 89,\n",
       " 'poverty education index': 184,\n",
       " 'education index state': 60}"
      ]
     },
     "execution_count": 21,
     "metadata": {},
     "output_type": "execute_result"
    }
   ],
   "source": [
    "cv.vocabulary_ # printing the vocabulary of the bag of words model with index\n",
    "\n",
    "# E.g., narendra is presented in the bag of words model at index 85."
   ]
  },
  {
   "cell_type": "markdown",
   "metadata": {},
   "source": [
    "#### Checking BOW for one sentence"
   ]
  },
  {
   "cell_type": "code",
   "execution_count": 22,
   "metadata": {},
   "outputs": [
    {
     "data": {
      "text/plain": [
       "'narendra damodardas modi born september b indian politician serving prime minister india since'"
      ]
     },
     "execution_count": 22,
     "metadata": {},
     "output_type": "execute_result"
    }
   ],
   "source": [
    "corpus[0]"
   ]
  },
  {
   "cell_type": "code",
   "execution_count": 23,
   "metadata": {},
   "outputs": [
    {
     "data": {
      "text/plain": [
       "array([[0, 0, 0, 0, 0, 0, 0, 0, 0, 0, 0, 0, 0, 0, 0, 0, 0, 0, 0, 0, 0, 0,\n",
       "        0, 0, 0, 0, 0, 0, 0, 0, 0, 0, 1, 1, 0, 0, 0, 0, 0, 0, 0, 0, 0, 0,\n",
       "        0, 0, 0, 0, 0, 0, 0, 1, 1, 0, 0, 0, 0, 0, 0, 0, 0, 0, 0, 0, 0, 0,\n",
       "        0, 0, 0, 0, 0, 0, 0, 0, 0, 0, 0, 0, 0, 0, 0, 0, 0, 0, 0, 0, 0, 0,\n",
       "        0, 0, 0, 0, 0, 0, 0, 0, 0, 0, 0, 0, 0, 1, 0, 0, 1, 1, 0, 0, 0, 0,\n",
       "        0, 0, 0, 0, 0, 0, 0, 0, 0, 0, 0, 0, 0, 0, 0, 0, 0, 0, 0, 0, 0, 0,\n",
       "        0, 0, 0, 0, 0, 0, 0, 1, 1, 0, 0, 0, 0, 0, 0, 0, 0, 1, 0, 1, 0, 0,\n",
       "        0, 0, 0, 0, 1, 1, 0, 0, 0, 0, 0, 0, 0, 0, 0, 0, 0, 0, 0, 0, 0, 0,\n",
       "        0, 0, 0, 0, 0, 1, 1, 0, 0, 1, 1, 0, 0, 0, 0, 0, 0, 0, 0, 0, 0, 0,\n",
       "        0, 0, 0, 0, 0, 0, 0, 0, 0, 0, 0, 0, 0, 0, 0, 0, 0, 1, 1, 1, 1, 0,\n",
       "        0, 0, 0, 0, 0, 0, 0, 0, 0, 0, 0, 0, 0, 0, 0, 0, 0, 0, 0, 0, 0, 0,\n",
       "        0, 0]])"
      ]
     },
     "execution_count": 23,
     "metadata": {},
     "output_type": "execute_result"
    }
   ],
   "source": [
    "X[0].toarray() # printing the bag of words model in the form of array"
   ]
  },
  {
   "cell_type": "markdown",
   "metadata": {},
   "source": [
    "## 3. N-grams"
   ]
  },
  {
   "cell_type": "markdown",
   "metadata": {},
   "source": [
    "N grams are considered an extension of bag of words (BoW) technique. It helps us to capture the semantic meaning in the given sentences. \n",
    "\n",
    "Let's reconsider the same example again. Earlier we only have three features \"good\", \"boy\", \"girl\". But understanding girl and boy seperately has no use. Hence, so we will create \"bigram\".\n",
    "\n",
    "For example, we will have two another features like \"good boy\" and \"good girl\". Also, some of the examples include like \"New York\", \"Artificial Intelligence\" instead of seperate words like New, York, Artificial, Intelligence. \n",
    "\n",
    "Here we have grouped only two words together so its a bigram, similarly if we group three words together then it is a trigram, like that the number of combinations we make it as n-gram."
   ]
  },
  {
   "cell_type": "markdown",
   "metadata": {},
   "source": [
    "### Example 1\n",
    "\n",
    "Consider a simple corpus containing three sentences: [\"*He* *is* *a* good boy\", \"*She* *is* *a* good girl\", \"Boy *and* Girl *is* good\"]\n",
    "\n",
    "**Step 1:** Remove the stop words, lower the sentences. Lets ignore stemming and lemmatization for now as its not required here. Then, the sentences/documents will be updated as:\n",
    "\n",
    "D1 -> [\"good\", \"boy\"]\n",
    "\n",
    "D2 -> [\"good\", \"girl\"]\n",
    "\n",
    "D3 -> [\"boy\", \"girl\", \"good\"]\n",
    "\n",
    "**Step 2:** Calculate the frequency of each word from the above corpus and arrange it in order from high to low\n",
    "\n",
    "f1 - good: 3,\n",
    "f2 - boy: 2, \n",
    "f3 - girl: 2,\n",
    " \n",
    "New features (bigrams) like \"good boy\" and \"good girl\" will be added.\n",
    "\n",
    "**Step 3:** Now, we need to perform the encoding for each sentence. Lets consider ours is a Binary BOW if the particular word is present in the sentence then it will be marked as 0 or 1. \n",
    "\n",
    "| Features/Documents| f1 (good) | f2 (boy) | f3 (girl) | f4 (good boy) | f5 (good girl) |\n",
    "| :---: | :---: | :---: | :---: | :--: | :--: | \n",
    "| D1 | 1 | 1 | 0 | 1 | 0 |\n",
    "| D2 | 1 | 0 | 1 | 0 | 1 |\n",
    "| D3 | 1 | 1 | 1 | 0 | 0 |"
   ]
  },
  {
   "cell_type": "markdown",
   "metadata": {},
   "source": [
    "### Example 2\n",
    "\n",
    "Sentence: Krish eats food \n",
    "\n",
    "Bigrams should be sequential in nature, here we cant form a bigram like Krish food.\n",
    "\n",
    "**Bigrams:** Krish eats, eats food"
   ]
  },
  {
   "cell_type": "markdown",
   "metadata": {},
   "source": [
    "### Example 3"
   ]
  },
  {
   "cell_type": "markdown",
   "metadata": {},
   "source": [
    "Sentence: I am not feeling well\n",
    "\n",
    "Trigrams should also be sequential in nature. \n",
    "\n",
    "**Trigrams:** I am not, am not feeling, not feeling well."
   ]
  },
  {
   "cell_type": "markdown",
   "metadata": {},
   "source": [
    "## 4. Term Frequency - Inverse Document Frequency (TF-IDF)"
   ]
  },
  {
   "cell_type": "markdown",
   "metadata": {},
   "source": [
    "### Understanding drawbacks in BOW "
   ]
  },
  {
   "cell_type": "markdown",
   "metadata": {},
   "source": [
    "If we observe in the Bag of words technique, while training the model we have initialized the object of CountVectorizer with two parameters named: `binary = True` and `ngram_range = (1, 3)`\n",
    "\n",
    "As mentioned earlier, once the pre-processed sentences are passed to the model the the bag of words model will first identity the unique words i.e., Vocabulary (dictionary having words linked with the index). Here since we have used ngrams it will create text with unigram, bigram and trigrams.\n",
    "\n",
    "Now, it marks as 1 or 0 if the particular word is present in the given sentence or document. \n",
    "\n",
    "**Drawback identified 1 (causing Sparsity):** Here, since we are using bigrams and trigrams mostly it will be 0 as all the sentences does not constitute tri or bigrams making the matrix look sparse.\n",
    "\n",
    "**Drawback identified 2 (Less cosine similarity):**\n",
    "It is the issue of neglible cosine similarity in some cases. For example, consider two sentences: \n",
    "\n",
    "Sentence 1: The food is good \n",
    "\n",
    "Sentence 2: The food is not good \n",
    "\n",
    "(is) will be removed as its part of stop word. Even (not) is also part of stopword but it should not be removed as it plays important role here in understanding the meaning of both the sentences. \n",
    "\n",
    "Let us convert the above sentences in form of vectors: \n",
    "\n",
    "| Sentences / features | f1 (The) | f2 (food) | f3 (good) | f4(not) |  \n",
    "| :--: | :--: | :--: | :--: | :--: | \n",
    "| Sentence 1 | 1 | 1 | 1 | 0 | \n",
    "| Sentence 2 | 1 | 1 | 1 | 1 |\n",
    "\n",
    "If we calculate the cosine similarity (will discuss seperately) then mostly the above two vectors looks the same whereas technically its not."
   ]
  },
  {
   "cell_type": "markdown",
   "metadata": {},
   "source": [
    "To overcome the above two drawbacks, Term Frequency - Inverse Document Frequency (TF-IDF) is introduced. "
   ]
  },
  {
   "cell_type": "markdown",
   "metadata": {},
   "source": [
    "### Introduction to TF - IDF"
   ]
  },
  {
   "cell_type": "markdown",
   "metadata": {},
   "source": [
    "Basic Funda of this word to vectors conversion technique is \n",
    "\n",
    "**\"More Weightage should be given to rare words/words with less frequency which are present in all the sentences or documents\"**"
   ]
  },
  {
   "cell_type": "markdown",
   "metadata": {},
   "source": [
    "### Example"
   ]
  },
  {
   "cell_type": "markdown",
   "metadata": {},
   "source": [
    "Consider three pre-processed sentences: \n",
    "\n",
    "D1 - good boy\n",
    "\n",
    "D2 - good girl\n",
    "\n",
    "D3 - boy girl good\n",
    "\n",
    "In the above documents, good is present in all the documents but boy and girl are considered rare as its only visible in either of the two sentences. \n",
    "\n",
    "So it means that we need to give more weightage to words having less frequency or rare words. Here, the more weight should be given to boy and girl. "
   ]
  },
  {
   "cell_type": "markdown",
   "metadata": {},
   "source": [
    "### Term Frequency (TF)\n",
    "\n",
    "It will take care of the frequency of the rare words identified in each and every sentence. Remember that term frequency will be calculated for each sentence. \n",
    "\n",
    "Below is the formula to calculate the Term Frequency:\n",
    "\n",
    "Term Frequency = $\\displaystyle \\frac {No of repetition of words in sentence}{Total no. of words in the sentence} $"
   ]
  },
  {
   "cell_type": "markdown",
   "metadata": {},
   "source": [
    "### Inverse Document Frequency (IDF)\n",
    "\n",
    "It will take care of the frequency of the common words. This frequency will be calculated for all the words in the corpus. \n",
    "\n",
    "Inverse Document Frequency = $\\displaystyle \\log_e ({\\frac {Total number of sentences}{No. of sentences containing the word}}) $"
   ]
  },
  {
   "cell_type": "markdown",
   "metadata": {},
   "source": [
    "### Calculating the Term Frequency "
   ]
  },
  {
   "cell_type": "markdown",
   "metadata": {},
   "source": [
    "| Document/word | D1 | D2 | D3 | \n",
    "| :--: | :--: | :--: | :--: |\n",
    "| good | 1/2 | 1/2 | 1/3 |\n",
    "| boy | 1/2 | 0 | 1/3 |\n",
    "| girl | 0 | 1/2 | 1/3 |"
   ]
  },
  {
   "cell_type": "markdown",
   "metadata": {},
   "source": [
    "### Calculating the Inverse Document Frequency "
   ]
  },
  {
   "cell_type": "markdown",
   "metadata": {},
   "source": [
    "| words | IDF | \n",
    "| :--: | :--: | \n",
    "| good | $\\ log_e (3/3) = 0 $ |\n",
    "| boy | $\\ log_e (3/2) $ |\n",
    "| girl | $\\ log_e (3/2) $|\n"
   ]
  },
  {
   "cell_type": "markdown",
   "metadata": {},
   "source": [
    "> ### Finally once both of them are calculated we need to multiply the TF with IDF (TF * IDF)"
   ]
  },
  {
   "cell_type": "markdown",
   "metadata": {},
   "source": [
    "Below table can be easily calculated by mutiplying the values of each document (calculated in IDF) with the word frequency (TF)."
   ]
  },
  {
   "cell_type": "markdown",
   "metadata": {},
   "source": [
    "| Word/Document | good | boy | girl | \n",
    "| :--: | :--: | :--: | :--: |\n",
    "| D1 | 0 | 1/2 * $\\ log_e (3/2) $ | 0 |\n",
    "| D2 | 0 | 0 | 1/2 * $\\ log_e (3/2) $ |\n",
    "| D3 | 1/3 * $\\ log_e (3/3) = 0 $| 1/3 * $\\ log_e (3/2) $ | 1/3 * $\\ log_e (3/2) $|"
   ]
  },
  {
   "cell_type": "markdown",
   "metadata": {},
   "source": [
    "If we observe carefully, for the word **\"good\"** the values are 0 for all the documents. This means that good should be given less weightage. \n",
    "\n",
    "Similarly for the words **\"boy\"** and **\"girl\"** we have some value present in the some of the documents. It depicts that we need to give weightage in the concerned or respective documents."
   ]
  },
  {
   "cell_type": "markdown",
   "metadata": {},
   "source": [
    "### Advantages"
   ]
  },
  {
   "cell_type": "markdown",
   "metadata": {},
   "source": [
    "- Simple and Intuitive \n",
    "\n",
    "- Able to capture the word importance"
   ]
  },
  {
   "cell_type": "markdown",
   "metadata": {},
   "source": [
    "### Disadvantages"
   ]
  },
  {
   "cell_type": "markdown",
   "metadata": {},
   "source": [
    "- Sparsity still exists\n",
    "\n",
    "- Inability to handle Out of Vocabulary (OOV)"
   ]
  },
  {
   "cell_type": "markdown",
   "metadata": {},
   "source": [
    "### Practical Implementation"
   ]
  },
  {
   "cell_type": "markdown",
   "metadata": {},
   "source": [
    "#### Importing TFIDF from sklearn library"
   ]
  },
  {
   "cell_type": "code",
   "execution_count": 46,
   "metadata": {},
   "outputs": [],
   "source": [
    "from sklearn.feature_extraction.text import TfidfVectorizer # library used for creating tf-idf model\n",
    "\n",
    "cv = TfidfVectorizer(ngram_range=(1,1), # considering unigrams\n",
    "                     max_features=10) # considering top 3 features means words having highest frequency in the corpus (ranged from top to bottom) we mostly do this because to ignore the words having very low frequency in the corpus\n",
    "\n",
    "X = cv.fit_transform(corpus) # creating tf-idf model"
   ]
  },
  {
   "cell_type": "code",
   "execution_count": 43,
   "metadata": {},
   "outputs": [
    {
     "data": {
      "text/plain": [
       "'narendra damodardas modi born september b indian politician serving prime minister india since'"
      ]
     },
     "execution_count": 43,
     "metadata": {},
     "output_type": "execute_result"
    }
   ],
   "source": [
    "corpus[0]"
   ]
  },
  {
   "cell_type": "code",
   "execution_count": 44,
   "metadata": {},
   "outputs": [
    {
     "data": {
      "text/plain": [
       "array([[0.        , 0.        , 0.        , 0.44652537, 0.44652537,\n",
       "        0.33077723, 0.30503572, 0.44652537, 0.        , 0.44652537]])"
      ]
     },
     "execution_count": 44,
     "metadata": {},
     "output_type": "execute_result"
    }
   ],
   "source": [
    "X[0].toarray() # printing the tf-idf model in the form of array"
   ]
  }
 ],
 "metadata": {
  "kernelspec": {
   "display_name": "Python 3",
   "language": "python",
   "name": "python3"
  },
  "language_info": {
   "codemirror_mode": {
    "name": "ipython",
    "version": 3
   },
   "file_extension": ".py",
   "mimetype": "text/x-python",
   "name": "python",
   "nbconvert_exporter": "python",
   "pygments_lexer": "ipython3",
   "version": "3.13.0"
  }
 },
 "nbformat": 4,
 "nbformat_minor": 2
}
