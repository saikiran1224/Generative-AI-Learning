{
 "cells": [
  {
   "cell_type": "markdown",
   "metadata": {},
   "source": [
    "# Word2Vec \n",
    "\n",
    "Among all the words to vectors conversion technique, Word2Vec stands efficient as of today. Another flavour of Word2Vec is AvgWord2Vec which looks more efficient than the traditional Word2Vec algorithm.\n",
    "\n",
    "Types of Word2Vec: \n",
    "\n",
    "1. Continous Bag of Words (CBOW)\n",
    "\n",
    "2. Skipgram"
   ]
  }
 ],
 "metadata": {
  "kernelspec": {
   "display_name": "Python 3",
   "language": "python",
   "name": "python3"
  },
  "language_info": {
   "codemirror_mode": {
    "name": "ipython",
    "version": 3
   },
   "file_extension": ".py",
   "mimetype": "text/x-python",
   "name": "python",
   "nbconvert_exporter": "python",
   "pygments_lexer": "ipython3",
   "version": "3.13.0"
  }
 },
 "nbformat": 4,
 "nbformat_minor": 2
}
