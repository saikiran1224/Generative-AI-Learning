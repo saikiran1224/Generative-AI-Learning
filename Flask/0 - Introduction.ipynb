{
 "cells": [
  {
   "cell_type": "markdown",
   "metadata": {},
   "source": [
    "# Introduction to Flask\n",
    "\n",
    "Flask is a web application framework written in python programming language.\n",
    "\n",
    "*Developed by Armin Ronacher*. \n",
    "\n",
    "It helps to develop web applications, create web APIs and develop end-to-end machine learning projects.\n",
    "\n",
    "Flask framework is based on Web Server Gateway Interface (WSGI)/Standard/protocol and Jinja2 template engine."
   ]
  },
  {
   "cell_type": "markdown",
   "metadata": {},
   "source": [
    "## What is Web Server Gateway Interface (WSGI)?\n",
    "\n",
    "It is a protocol used by web server (Apache/IIS) to communicate with the web application."
   ]
  },
  {
   "cell_type": "markdown",
   "metadata": {},
   "source": [
    "## What is Jinja2 template engine?\n",
    "\n",
    "Web Template <-> Data Sources\n",
    "\n",
    "Once any request is submitted in the web template; consider the form is submitted or image is uploaded, then the request is sent to the data sources/database at the backend. \n",
    "\n",
    "Now in the backend the data is processed, and it returns the response which **renders the web template and updates the data accordingly**."
   ]
  }
 ],
 "metadata": {
  "language_info": {
   "name": "python"
  }
 },
 "nbformat": 4,
 "nbformat_minor": 2
}
