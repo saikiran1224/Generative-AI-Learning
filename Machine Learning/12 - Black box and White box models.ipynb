{
 "cells": [
  {
   "cell_type": "markdown",
   "metadata": {},
   "source": [
    "# Black Box Model"
   ]
  },
  {
   "cell_type": "markdown",
   "metadata": {},
   "source": [
    "A model is said to be black box if we are UNABLE to visualize whats happening inside the model. Such models are called as Black Box models. Some of the examples are: \n",
    "- Random Forest (unable to visualize the number of trees getting generated)"
   ]
  },
  {
   "cell_type": "markdown",
   "metadata": {},
   "source": [
    "# White Box Model"
   ]
  },
  {
   "cell_type": "markdown",
   "metadata": {},
   "source": [
    "A model is said to be white box if we are ABLE to visualize whats happening inside the model. Such models are called as White Box models. Some of the examples are: \n",
    "- Linear Regression (we can see how values and best fit line looks alike)\n",
    "- Decision Tree (can be visualized on a paper and pen)"
   ]
  }
 ],
 "metadata": {
  "language_info": {
   "name": "python"
  }
 },
 "nbformat": 4,
 "nbformat_minor": 2
}
