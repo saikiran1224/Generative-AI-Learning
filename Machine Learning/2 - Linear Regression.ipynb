{
 "cells": [
  {
   "cell_type": "markdown",
   "metadata": {},
   "source": [
    "# Linear Regression\n",
    "\n",
    "We will re-consider the Age and weight example.\n",
    "\n",
    "Consider the `weight` is plotted on y axis as its a dependent variable and `age` is plotted on x axis (independent variable).\n",
    "\n",
    "Once we train the given dataset, and create a ML model. Post giving `Age` as input, the model will predict the `weight` of the individual."
   ]
  },
  {
   "cell_type": "markdown",
   "metadata": {},
   "source": [
    "In Regression problem, the graph which is plotted which shows the straight line is mostly equated with \n",
    "\n",
    "`y=mx+c`\n",
    "\n",
    "`y = beta0 + beta1  * x`\n",
    "\n",
    "`y = theta0 + theta1 * x`\n",
    "\n",
    "Its also called as the \n",
    "\n",
    "> **y is the linear function of x**"
   ]
  }
 ],
 "metadata": {
  "language_info": {
   "name": "python"
  }
 },
 "nbformat": 4,
 "nbformat_minor": 2
}
