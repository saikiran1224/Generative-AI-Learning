{
 "cells": [
  {
   "cell_type": "markdown",
   "metadata": {},
   "source": [
    "# Linear Regression\n",
    "\n",
    "We will re-consider the Age and weight example.\n",
    "\n",
    "Consider the `weight` is plotted on y axis as its a dependent variable and `age` is plotted on x axis (independent variable).\n",
    "\n",
    "Once we train the given dataset, and create a ML model. Post giving `Age` as input, the model will predict the `weight` of the individual."
   ]
  },
  {
   "cell_type": "markdown",
   "metadata": {},
   "source": [
    "In Regression problem, the graph which is plotted which shows the straight line is mostly equated with \n",
    "\n",
    "#### Hypothesis function\n",
    "\n",
    "`y=mx+c`\n",
    "\n",
    "`y = beta0 + beta1  * x`\n",
    "\n",
    "`h theta(x) = theta0 + theta1 * x` \n",
    "theta0 - intercept, theta1 - slope/coefficient\n",
    "\n",
    "**What is intercept?** - The point where are meeting the Y-axis.\n",
    "\n",
    "**What is slope?** - One unit movement towards x-axis, what is the movement towards y-axis.\n",
    "\n",
    "Its also called as the \n",
    "\n",
    "> **y is the linear function of x**"
   ]
  },
  {
   "cell_type": "markdown",
   "metadata": {},
   "source": [
    "## Main Aim of Linear Regression"
   ]
  },
  {
   "cell_type": "markdown",
   "metadata": {},
   "source": [
    "We need to find the **Best fit line**, so we can easily predict with the given input. \n",
    "\n",
    "A line can be termed as the Best fit line when the difference between the predicted and point on the line is Minimal.\n",
    "\n"
   ]
  },
  {
   "cell_type": "markdown",
   "metadata": {},
   "source": [
    "### Cost Function - To determine the best fit line\n",
    "\n",
    "This function is super important. Cost function helps to find the best fit line which is a average of summation of difference between the predicted and actual raw points. \n",
    "\n",
    "We will be calculating the cost function for all the points with different theta1 values, then the values will be plotted over the cost function graph."
   ]
  },
  {
   "cell_type": "markdown",
   "metadata": {},
   "source": [
    "### Gradient Descent in Cost function graph"
   ]
  },
  {
   "cell_type": "markdown",
   "metadata": {},
   "source": [
    "Once the cost function graph is plotted, then we may notice that there is a **Gradient Descent** identified in the graph. From that, we will be finding the global minima which will be our Best fit line."
   ]
  },
  {
   "cell_type": "markdown",
   "metadata": {},
   "source": []
  }
 ],
 "metadata": {
  "language_info": {
   "name": "python"
  }
 },
 "nbformat": 4,
 "nbformat_minor": 2
}
