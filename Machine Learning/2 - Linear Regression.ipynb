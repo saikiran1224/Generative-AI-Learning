{
 "cells": [
  {
   "cell_type": "markdown",
   "metadata": {},
   "source": [
    "# Linear Regression\n",
    "\n",
    "We will re-consider the Age and weight example.\n",
    "\n",
    "Consider the `weight` is plotted on y axis as its a dependent variable and `age` is plotted on x axis (independent variable).\n",
    "\n",
    "Once we train the given dataset, and create a ML model. Post giving `Age` as input, the model will predict the `weight` of the individual."
   ]
  },
  {
   "cell_type": "markdown",
   "metadata": {},
   "source": [
    "In Regression problem, the graph which is plotted which shows the straight line is mostly equated with \n",
    "\n",
    "#### Hypothesis function\n",
    "\n",
    "`y=mx+c`\n",
    "\n",
    "`y = beta0 + beta1  * x`\n",
    "\n",
    "`h theta(x) = theta0 + theta1 * x` \n",
    "theta0 - intercept, theta1 - slope/coefficient\n",
    "\n",
    "**What is intercept?** - The point where are meeting the Y-axis.\n",
    "\n",
    "**What is slope?** - One unit movement towards x-axis, what is the movement towards y-axis.\n",
    "\n",
    "Its also called as the \n",
    "\n",
    "> **y is the linear function of x**"
   ]
  },
  {
   "cell_type": "markdown",
   "metadata": {},
   "source": [
    "## Process of finding Best fit line"
   ]
  },
  {
   "cell_type": "markdown",
   "metadata": {},
   "source": [
    "We need to find the **Best fit line**, so we can easily predict with the given input. \n",
    "\n",
    "A line can be termed as the Best fit line when the sum of the differences between the predicted and point on the line is Minimal.\n",
    "\n",
    "But we can plot multiple lines in the graph with various points, so it will be very difficult to find which is the best fit line. Hence we have a concept called **Cost Function**.\n",
    "\n"
   ]
  },
  {
   "cell_type": "markdown",
   "metadata": {},
   "source": [
    "### Cost Function - Helps to determine the best fit line\n",
    "\n",
    "This function is super important. Cost function helps to find the best fit line which is a average of summation of difference between squares of the predicted and actual points. \n",
    "\n",
    "We will be calculating the cost function first by keeping theta0 = 0 and for different theta1 values, then the values will be plotted over the cost function graph. Over the graph, once we plot the points, we may observe there will be a **Gradient Descent** like structure."
   ]
  },
  {
   "cell_type": "markdown",
   "metadata": {},
   "source": [
    "### Gradient Descent in Cost function graph (U shaped structure)"
   ]
  },
  {
   "cell_type": "markdown",
   "metadata": {},
   "source": [
    "From the gradient descent graph, we will be finding the global minima which is the point which converges at the X-axis. \n",
    "\n",
    "But wait, are we sure every time we will get the global minima, since for a random theta1 value and x values, we may somewhere reach on left or right (+ve or -ve scope) on the gradient descent but will not reach the global minima. The beauty here is with one point that we plotted on the graph, we can reach to the global minima using a function called **Convergence Function**."
   ]
  },
  {
   "cell_type": "markdown",
   "metadata": {},
   "source": [
    "### Convergence Function - repeat until Convergence"
   ]
  },
  {
   "cell_type": "markdown",
   "metadata": {},
   "source": [
    "This function equation helps us to find the point where the graph gets converged on the X-axis where it is our global minima. The equation is very simple: \n",
    "\n",
    "theta0 = theta0 + alpha * ( +ve Slope/Derivative) If the first point we plotted is on the right side which is +ve slope.\n",
    "\n",
    "theta0 = theta0 - alpha * ( -ve Slope/Derivative) If the first point we plotted is on the left side which is -ve slope."
   ]
  },
  {
   "cell_type": "markdown",
   "metadata": {},
   "source": [
    "## Interview Question"
   ]
  },
  {
   "cell_type": "markdown",
   "metadata": {},
   "source": [
    "**Question:** Consider our data has multiple features like x1, x2, x3, ... xn then if we follow the above steps we may get multiple gradient descents and even in a 3D manner which is difficult to find the global minima hence finding best fit line is difficult. \n",
    "\n",
    "**Answer**: The cost function which we are using never gets multiple graphs or in 3D manner in Linear regression. We may face such type of scenario where in Deep Learning when working on the Artificial Neural Networks. We have some deep learning optimizers specifically to tackle/optimize the graph for the same."
   ]
  },
  {
   "cell_type": "markdown",
   "metadata": {},
   "source": [
    "## Performance Metrics - calculates how good the model works"
   ]
  },
  {
   "cell_type": "markdown",
   "metadata": {},
   "source": [
    "To calculate the performance metrics, we have two parameters - <b>R square</b> and <b>adjusted R square</b>.\n",
    "\n"
   ]
  },
  {
   "cell_type": "markdown",
   "metadata": {},
   "source": [
    "### R square"
   ]
  },
  {
   "cell_type": "markdown",
   "metadata": {},
   "source": [
    "It is calculated with an equation where we will subtract the divison of SSres/SStotal from 1. \n",
    "\n",
    "- `SSres` is the sum of the difference of squares between the actual and predicted values (denoted by y cap)\n",
    "\n",
    "- `SStotal` is the sum of the difference of squares between the actual and the mean value. (denoted by y bar)\n",
    "\n",
    "Mean value is nothing but the mean of the y axis, and we are calculating the difference between the actual points and the mean value. Definitely the SStotal value > SSres. Hence the output value of Rsquare will be high or big all the time. "
   ]
  },
  {
   "cell_type": "markdown",
   "metadata": {},
   "source": [
    "#### Drawback\n",
    "\n",
    "Upon multiple features in the dataset even if the feature doesn't have a correlation with the output variable, even though the Rsquare value will get increased where it should not be. Since the Rsquare value is high for this model, we tend to choose this model but whereas the other mode is the correct one to be chosen. \n",
    "\n",
    "To overcome this drawback of Rsquare we have concept of adjusted Rsquare."
   ]
  },
  {
   "cell_type": "markdown",
   "metadata": {},
   "source": [
    "### Adjusted R square"
   ]
  },
  {
   "cell_type": "markdown",
   "metadata": {},
   "source": [
    "The equation of the adjusted Rsquare is subtaction of division of ((1 - Rsquare)(N-1)/ (N-p-1)) from 1.\n",
    "\n",
    "N = no. of total datapoints\n",
    "      <br>p = predictors or features\n",
    "\n",
    "Here, if we compute the value as the **p value increases the adjusted Rsquare will decreases**. So, that we can find the perfect model."
   ]
  },
  {
   "cell_type": "markdown",
   "metadata": {},
   "source": [
    "### Interview Question\n",
    "\n",
    "**Question:** Among the Rsquare and the adjusted Rsquare which value gives more percentage? \n",
    "\n",
    "The answer is Rsquare. The reason is in the adjusted Rsquare if the p value increases the denominator will reduce leading to the overall decrease of the value. \n",
    "\n",
    "Whereas in the computation of Rsquare the value will be different and everytime SSres gets increased the value of Rsquare will increase."
   ]
  },
  {
   "cell_type": "markdown",
   "metadata": {},
   "source": []
  }
 ],
 "metadata": {
  "language_info": {
   "name": "python"
  }
 },
 "nbformat": 4,
 "nbformat_minor": 2
}
