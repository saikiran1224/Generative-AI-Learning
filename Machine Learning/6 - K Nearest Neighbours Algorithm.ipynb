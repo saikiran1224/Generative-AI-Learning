{
 "cells": [
  {
   "cell_type": "markdown",
   "metadata": {},
   "source": [
    "# K - Nearest Neighbours (KNN) Algorithm"
   ]
  },
  {
   "cell_type": "markdown",
   "metadata": {},
   "source": [
    "This is a Supervised Machine Learning algorithm which works for both Classification and Regression problems."
   ]
  },
  {
   "cell_type": "markdown",
   "metadata": {},
   "source": [
    "## Classification problem\n",
    "\n",
    "Consider a binary classification problem where all the points are plotted in the graph. There were two types of data points - Blue class and red class.\n",
    "\n",
    "Now once a new test data is given, for this we use the K Nearest neighbour for example we have set the value of K = 5 (Hyperparameter)\n",
    "\n",
    "That means we will calculate the **Euclidean** or **Manhattan** distance between our test point and already present test data. \n",
    "\n",
    "Then we will identify from which category, we are getting the maximum points. For example in this case, if our test point is near to 3 points in Blue class and 2 points in Red class. \n",
    "\n",
    "Then it means our point belongs to the Blue as its the maximum category."
   ]
  },
  {
   "cell_type": "markdown",
   "metadata": {},
   "source": [
    "> K value starts from 1 to 50. \n",
    "\n",
    "For which K value, the error rate is less we will consider that value."
   ]
  },
  {
   "cell_type": "markdown",
   "metadata": {},
   "source": [
    "### Euclidean Distance\n",
    "\n",
    "The distance between two coordinates (x1, y1) and (x2,y2) is defined as $\\sqrt(x_2 - x_1)^2 + (y_2 - y_1)^2$"
   ]
  },
  {
   "cell_type": "markdown",
   "metadata": {},
   "source": [
    "### Manhattan Distance\n",
    "\n",
    "The distance between two coordinates (x1, y1) and (x2, y2) is defined as $\\ |x_1 - x_2| + |y_1 - y_2|$"
   ]
  },
  {
   "cell_type": "markdown",
   "metadata": {},
   "source": [
    "## Regression problem"
   ]
  },
  {
   "cell_type": "markdown",
   "metadata": {},
   "source": [
    "Consider all the data points are plotted in the graph, and once the test point is given, we will calculate the distances between from the test point to all the K nearby points. \n",
    "\n",
    "Then we will do an average of all the target values corresponding to the data points, which will be our Output value. "
   ]
  },
  {
   "cell_type": "markdown",
   "metadata": {},
   "source": [
    "## Drawbacks of KNN"
   ]
  },
  {
   "cell_type": "markdown",
   "metadata": {},
   "source": [
    "- Dataset is Imbalanced. \n",
    "- Dataset contains outliers."
   ]
  }
 ],
 "metadata": {
  "language_info": {
   "name": "python"
  }
 },
 "nbformat": 4,
 "nbformat_minor": 2
}
