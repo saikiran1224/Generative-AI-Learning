{
 "cells": [
  {
   "cell_type": "markdown",
   "metadata": {},
   "source": [
    "# K Means Clustering Algorithm"
   ]
  },
  {
   "cell_type": "markdown",
   "metadata": {},
   "source": [
    "This is a Unsupervised Machine Learning Algorithm. Remember that these algorithms doesnt have specific output as in we have in Regression and Classification problems. \n",
    "\n",
    "The whole dataset gets grouped into clusters which contains the similar kind of data. For example, consider the dataset has nearly 20 row values, and if 15 rows are similar and 5 rows are similar, then the data gets divided into two clusters (Cluster - 1 and Cluster - 2)."
   ]
  },
  {
   "cell_type": "markdown",
   "metadata": {},
   "source": [
    "## Custom Ensemble Techniques"
   ]
  },
  {
   "cell_type": "markdown",
   "metadata": {},
   "source": [
    "Once the given dataset is converted into clusters based on the similarity of the data, then on each cluster a Supervised Machine Learning algorithms (Regression or Classification) will be applied."
   ]
  },
  {
   "cell_type": "markdown",
   "metadata": {},
   "source": [
    "## Understanding Algorithm"
   ]
  },
  {
   "cell_type": "markdown",
   "metadata": {},
   "source": [
    "Before deep diving into algorithm, lets understand what does K means? \n",
    "\n",
    "K determines the number of centroids. For example, if K = 6 it means the dataset is divided into 6 number of groups or cluster.s\n",
    "\n",
    "Now, lets understand the algorithm step by step:\n",
    "- **Step 1:** Consider some random number of K value. Usually, lets consider K = 2 and plot all the data points in the graph.\n",
    "\n",
    "\n",
    "- **Step 2:** Initialize K number of centroids.\n",
    "- **Step 3:** Since here we have initialized 2 centroids, there will be two points in the graph at some random vertices. Now, draw a line interesecting both the centroids. Similarly, draw a perpendicular line to the same. \n",
    "- **Step 4:** Once the perpendicular line is drawn, we can see the data points are equally divided and some points may be near to one centroid and the other points are near to the second centroid. \n",
    "- **Step 5:** The data points which are near to respective centroids will form into two seperate groups as we have two centroids. \n",
    "- **Step 6:** Now, the centroids that we initialized will mostly lie outside the datapoints even though its near to our group. Hence, we will calculate the average of all the datapoints within that particular group and update the centroid value. Now, the centroid will be exactly lie inside our group."
   ]
  },
  {
   "cell_type": "markdown",
   "metadata": {},
   "source": [
    "## Decision of K value"
   ]
  },
  {
   "cell_type": "markdown",
   "metadata": {},
   "source": [
    "In the above stated example, we have assumed K=2, but in real-time we use the help of **Elbow Method** to determine the K value. "
   ]
  },
  {
   "cell_type": "markdown",
   "metadata": {},
   "source": [
    "### Elbow Method"
   ]
  },
  {
   "cell_type": "markdown",
   "metadata": {},
   "source": [
    "We peform some iterations here using the K value. Let us plot a graph with WCSS (Within Cluster sum of square) on Y - axis and the K value on the X - axis. \n",
    "\n",
    "Next, consider our data points graph. If we assume the K = 1, then we have only one centroid in the data points graph, if we calculate the distance between all our data points to the centroid it will be very more, so WCSS is very high. \n",
    "\n",
    "In the second iteration for K = 2, we have two centroids in the data points, if we repeat the same steps by calculating the distance between the datapoints the WCSS will be somewhat less than before. \n",
    "\n",
    "Similarly we need to repeat the same steps for K = 3, 4, 5, 6, ... then the graph looks like somewhat Elbow curve. Now, the value of K which we need to consider is where the graph got abruptly changed. \n",
    "\n",
    "For example in the above case, at the point of K = 3, if the curve got abruptly down then its our K - value. "
   ]
  },
  {
   "cell_type": "markdown",
   "metadata": {},
   "source": [
    "## Drawbacks "
   ]
  },
  {
   "cell_type": "markdown",
   "metadata": {},
   "source": [
    "K means Clustering algorithm randomly initalizes the centroids. The placement of the centroids affects the final number of clusters. If in case the centroids are placed nearby then we will get broad clusters and if the K value is large then we might get too specific clusters which is also not expected. \n",
    "\n",
    "To solve this problem, we can use the help of K means ++ algorithm which uses a probabilistic approach to determine the optimal K value. This new algorithm helps us to identify the well-distributed clusters."
   ]
  }
 ],
 "metadata": {
  "language_info": {
   "name": "python"
  }
 },
 "nbformat": 4,
 "nbformat_minor": 2
}
