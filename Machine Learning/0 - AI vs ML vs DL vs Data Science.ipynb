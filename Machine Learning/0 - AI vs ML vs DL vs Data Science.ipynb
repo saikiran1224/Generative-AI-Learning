{
 "cells": [
  {
   "cell_type": "markdown",
   "metadata": {},
   "source": [
    "# Artificial Intelligence"
   ]
  },
  {
   "cell_type": "markdown",
   "metadata": {},
   "source": [
    "An AI application is something which can perform the tasks on its own without requirement of human intervention. \n",
    "\n",
    "**Eg.** Netflix has its recommendation system, Amazon.in recomments products, Youtube recommends Advertisements."
   ]
  },
  {
   "cell_type": "markdown",
   "metadata": {},
   "source": [
    "# Machine Learning"
   ]
  },
  {
   "cell_type": "markdown",
   "metadata": {},
   "source": [
    "> **Machine Learning is the subset of AI**\n",
    "\n",
    "Machine Learning provides statistics tool to analyze, visualize the data. It also helps in predictions and forecasting.\n",
    "\n"
   ]
  },
  {
   "cell_type": "markdown",
   "metadata": {},
   "source": [
    "# Deep Learning"
   ]
  },
  {
   "cell_type": "markdown",
   "metadata": {},
   "source": [
    "> **Deep Learning is the subset of ML**\n",
    "\n",
    "Deep Learning main aim is to mimic Human Brain. It has Multi-layered Neural networks which helps in great use cases."
   ]
  },
  {
   "cell_type": "markdown",
   "metadata": {},
   "source": [
    "# Data Scientist"
   ]
  },
  {
   "cell_type": "markdown",
   "metadata": {},
   "source": [
    "Data Scientist falls under the above all categories. The tasks which were given may fall under any one of the above categories."
   ]
  }
 ],
 "metadata": {
  "language_info": {
   "name": "python"
  }
 },
 "nbformat": 4,
 "nbformat_minor": 2
}
