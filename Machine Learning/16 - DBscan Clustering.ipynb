{
 "cells": [
  {
   "cell_type": "markdown",
   "metadata": {},
   "source": [
    "# DBscan Clustering"
   ]
  },
  {
   "cell_type": "markdown",
   "metadata": {},
   "source": [
    "Its abbreviated as **D**ensity **B**ased **S**patial **C**lustering of **A**pplications with **N**oise.\n",
    "\n",
    "Let us learn about some key terms which are important in DBScan clustering.\n",
    "\n",
    "1. Epsilon (Radius of circle)\n",
    "\n",
    "2. Minpts (Hyperparameter)\n",
    "3. Core points\n",
    "4. Border points\n",
    "5. Noise points (Outliers)"
   ]
  },
  {
   "cell_type": "markdown",
   "metadata": {},
   "source": []
  }
 ],
 "metadata": {
  "language_info": {
   "name": "python"
  }
 },
 "nbformat": 4,
 "nbformat_minor": 2
}
