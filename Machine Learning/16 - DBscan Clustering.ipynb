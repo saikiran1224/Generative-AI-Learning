{
 "cells": [
  {
   "cell_type": "markdown",
   "metadata": {},
   "source": [
    "# DBscan Clustering"
   ]
  },
  {
   "cell_type": "markdown",
   "metadata": {},
   "source": [
    "Its abbreviated as **D**ensity **B**ased **S**patial **C**lustering of **A**pplications with **N**oise.\n",
    "\n",
    "Before moving forward in the algorithm, let us learn about some key terms which are important in DBScan clustering."
   ]
  },
  {
   "cell_type": "markdown",
   "metadata": {},
   "source": [
    "## Key Terms"
   ]
  },
  {
   "cell_type": "markdown",
   "metadata": {},
   "source": [
    "\n",
    "1. **Epsilon (Radius of circle)**: \n",
    "   \n",
    "   Epsilon is the radius of the circle which is drawn around the data point. \n",
    "\n",
    "\n",
    "2. **Minpts (Hyperparameter):**\n",
    "   \n",
    "   Similar to the value of K (in K Means clustering algorithm), it helps us to identify a core point. It is also called as a Hyperparameter.\n",
    "   \n",
    "3. **Core points:**\n",
    "   \n",
    "   Consider there is a circle drawn around a datapoint and within the circle, if there are points as per 'minpts' then that point is considered as the core point. For example, if our minpts = 4, once the circle is drawn with epsilon, then if there are 4 number of points lying inside the cirle then that point is called as Core point. \n",
    "4. **Border points:**\n",
    "   \n",
    "   Same concept as in core point, but however inside the circle there will be only one point found.\n",
    "5. **Noise points (Outliers):**\n",
    "   \n",
    "   It is also called as Outlier, so once the circle is drawn with epsilon radius there will be no points found within inside. It means the point is outlier. It will be skipped by the algorithm and the cluster will not be formed with this point as its an outlier or noisy point."
   ]
  },
  {
   "cell_type": "markdown",
   "metadata": {},
   "source": [
    "## Advantages over K means and Hierarchial Clustering"
   ]
  },
  {
   "cell_type": "markdown",
   "metadata": {},
   "source": [
    "- Easily handles Outliers and does not include them in the clusters.\n",
    "\n",
    "- No need to provide the K value as in we declared before initialization.\n",
    "- Works very well with dataset having outliers and noise."
   ]
  }
 ],
 "metadata": {
  "language_info": {
   "name": "python"
  }
 },
 "nbformat": 4,
 "nbformat_minor": 2
}
