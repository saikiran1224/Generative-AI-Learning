{
 "cells": [
  {
   "cell_type": "markdown",
   "metadata": {},
   "source": [
    "# Understanding Bias and Variance \n",
    "\n",
    "Mostly models are evaluated based on their performance with training and testing dataset. Bias and Variance are two terms which helps us to learn about a model and its performance.\n",
    "\n",
    "Before understanding about these terms, let us have a quick recap of Overfitting and underfitting."
   ]
  },
  {
   "cell_type": "markdown",
   "metadata": {},
   "source": [
    "## Recap: Overfitting and Underfitting"
   ]
  },
  {
   "cell_type": "markdown",
   "metadata": {},
   "source": [
    "**Overfitting** - Scenario when our machine learning model works well for training data but not works well with testing data. A model is said to be overfitting if the model has Low Bias (works well with training data) and high variance (does not work well with testing data).\n",
    "\n",
    "**Underfitting** - Contrary of overfitting. Works well with testing dataset and not works good with training dataset. A model is said to be underfitting if the model has High Bias (does not work well with training data) and low variance (works well with testing data)."
   ]
  },
  {
   "cell_type": "markdown",
   "metadata": {},
   "source": [
    "## Bias"
   ]
  },
  {
   "cell_type": "markdown",
   "metadata": {},
   "source": [
    "It is a phenomenon that skews the result of an algorithm in favour of aganist an idea (Training dataset).\n",
    "\n",
    "Consider a machine learning model is trained upon a dataset, and if the model works well means its showing expected results with the training dataset then it means model has **Low Bias**, else if its not working as expected it means that it has **High Bias**. "
   ]
  },
  {
   "cell_type": "markdown",
   "metadata": {},
   "source": [
    "## Variance"
   ]
  },
  {
   "cell_type": "markdown",
   "metadata": {},
   "source": [
    "Refers to the changes in the model when using different portions of either the training or test data.\n",
    "\n",
    "Consider a fully trained machine learning model is given a test data to obtain some predictions, if the model provides expected output then it is said that model has **Low variance**, else on the contrary if the model is not working well it means that model has **high variance**."
   ]
  },
  {
   "cell_type": "markdown",
   "metadata": {},
   "source": [
    "## Example\n",
    "\n",
    "Consider there are three different machine learning models and given below are the accuracies of training and testing data. Determine the models based on variance and bias."
   ]
  },
  {
   "cell_type": "markdown",
   "metadata": {},
   "source": [
    "| Model 1 | Model 2 | Model 3 | \n",
    "| :-------: | :-------: | :-------: |\n",
    "| Training accuracy: **95%** | Training accuracy: 52% | Training accuracy: **93%** | \n",
    "| Testing accuracy: 60% | Testing accuracy: **92%** | Testing accuracy: **91%** |\n"
   ]
  },
  {
   "cell_type": "markdown",
   "metadata": {},
   "source": [
    "Comparing the above three ML models, we can depict the following:\n",
    "\n",
    "**Model 1** - Low Bias (high accuracy wrt Training data), High variance (low accuracy with testing data) - Overfitting\n",
    "\n",
    "**Model 2** - High Bias (low accruacy wrt Training data), Low variance (high accuracy with testing data) - Underfitting\n",
    "\n",
    "**Model 3** - Low Bias (high accuracy wrt Training data), Low variance (high accuracy with testing data) - Generalized model"
   ]
  }
 ],
 "metadata": {
  "language_info": {
   "name": "python"
  }
 },
 "nbformat": 4,
 "nbformat_minor": 2
}
