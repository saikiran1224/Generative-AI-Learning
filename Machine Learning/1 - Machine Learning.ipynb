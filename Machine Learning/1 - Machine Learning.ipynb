{
 "cells": [
  {
   "cell_type": "markdown",
   "metadata": {},
   "source": [
    "# Machine Learning\n",
    "\n",
    "Divided into three types\n",
    "\n",
    "- Supervised Machine Learning \n",
    "   - Regression problem\n",
    "   - Classification problem\n",
    "\n",
    "- Unsupervised Machine Learning\n",
    "   - Clustering\n",
    "   - Dimensionality Reduction\n",
    "\n",
    "- Re-inforcement Learning"
   ]
  },
  {
   "cell_type": "markdown",
   "metadata": {},
   "source": [
    "## Supervised Machine Learning"
   ]
  },
  {
   "cell_type": "markdown",
   "metadata": {},
   "source": [
    "Givem some data consisting of `Age` and `weight` columns. \n",
    "\n",
    "Our task is to predict the weight based on the age. It is also called as hypothesis. \n",
    "\n",
    "In this case,\n",
    "\n",
    "- Independent variable - `Age`\n",
    "\n",
    "- Dependent variable - `Weight`(Output variable)"
   ]
  },
  {
   "cell_type": "markdown",
   "metadata": {},
   "source": [
    "### Regression Problem\n",
    "\n",
    "In the above age/weight example, the `weight` variable is a continous variable. Hence, it falls under a Regression problem. \n",
    "\n",
    "In the regression proble, all the time the output variable will be a continous variable. It can be easily predicted with `y = mx + c`\n",
    "\n",
    "Here, `y` is the dependent variable (output variable) and `x` is the independent variable. If we plot a graph over X and y axis it will come as a straight line."
   ]
  },
  {
   "cell_type": "markdown",
   "metadata": {},
   "source": [
    "### Classification Problem\n",
    "\n",
    "Consider we have a dataset consisting of No. of hours, play hours, sleep and Pass/Fail. Here, the `Pass/Fail` will be the dependent variable.\n",
    "\n",
    "Whenever we have fixed output, then it will come under classification problem. Here, it will be **binary classification** as the answers can be two fixed variables - `Yes` or `No`\n",
    "\n",
    "If its more than two output values, it comes under **multiclass classification**"
   ]
  },
  {
   "cell_type": "markdown",
   "metadata": {},
   "source": [
    "## Unsupervised Machine Learning"
   ]
  },
  {
   "cell_type": "markdown",
   "metadata": {},
   "source": [
    "### Clustering - grouping algorithm"
   ]
  },
  {
   "cell_type": "markdown",
   "metadata": {},
   "source": [
    "Given a data of `Salary` and `Age`, where there is no any Output variable. \n",
    "\n",
    "Here, we can use the clustering problem to perform **Customer Segementation**. Clustering performs the **grouping** among the given data and helps us seperate them into different clusters. \n",
    "\n",
    "For example, if we run a marketing company to direct a particular group based on salary then we can target them based on this clusters."
   ]
  },
  {
   "cell_type": "markdown",
   "metadata": {},
   "source": [
    "### Dimensionality Reduction"
   ]
  },
  {
   "cell_type": "markdown",
   "metadata": {},
   "source": [
    "Consider we have 1000 features, we need to lower down to 100 features which decreases the dimensions of the dataset. \n",
    "\n",
    "We have multiple algorithms to decrease the dimensions - PCA, and LDA."
   ]
  }
 ],
 "metadata": {
  "language_info": {
   "name": "python"
  }
 },
 "nbformat": 4,
 "nbformat_minor": 2
}
