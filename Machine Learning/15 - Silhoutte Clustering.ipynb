{
 "cells": [
  {
   "cell_type": "markdown",
   "metadata": {},
   "source": [
    "# Silhoutte Clustering - Validating clustering models"
   ]
  },
  {
   "cell_type": "markdown",
   "metadata": {},
   "source": [
    "Its not a clustering algorithm instead it helps us to determine if the clustering model is good or bad or needs to be improved further."
   ]
  },
  {
   "cell_type": "markdown",
   "metadata": {},
   "source": [
    "## Steps involved"
   ]
  },
  {
   "cell_type": "markdown",
   "metadata": {},
   "source": [
    "Consider a clustering model where the data points are clustered already using the existing K means clustering or Hierarchial clustering. There are majorly three steps involved in the Silhoutte clustering to validate the performance of the clustering model."
   ]
  },
  {
   "cell_type": "markdown",
   "metadata": {},
   "source": [
    "### Step 1: Calculation of $\\ a(i)$ - Helps how well the centroid is assigned in the cluster"
   ]
  },
  {
   "cell_type": "markdown",
   "metadata": {},
   "source": [
    "It helps us to learn the placement of centroid. The smaller the value the better the assignment.\n",
    "\n",
    "$\\ a(i) $ is the average of distance between the centroid (i) and all the data points(j) inside the cluster ($\\ C_I $). It will be calculated using the below formula. $\\ |C_{I}| $ is the number of data points inside the cluster $\\ C_I $\n",
    "\n",
    "$ {\\displaystyle a(i)={\\frac {1}{|C_{I}|-1}}\\sum _{j\\in C_{I},i\\neq j}d(i,j)} $"
   ]
  },
  {
   "cell_type": "markdown",
   "metadata": {},
   "source": [
    "### Step 2: Calculation of $\\ b(i) $ - Mean distance of i to all points in the other cluster"
   ]
  },
  {
   "cell_type": "markdown",
   "metadata": {},
   "source": [
    "$\\ b(i) $ calculates the mean distance from one point $\\ i $ belonging to cluster $\\ C_I$, to all the other points in the cluster $\\ C_J $. The cluster with the smallest mean dissimilarity will be determined as the **Neighbouring** Cluster of $\\ i$ since its next best fit cluster to the point of $\\ i$.\n",
    "\n",
    "We can calculate the value of $\\ b(i) $ using the below formula:\n",
    "\n",
    "$\\ {\\displaystyle b(i)=\\min _{J\\neq I}{\\frac {1}{|C_{J}|}}\\sum _{j\\in C_{J}}d(i,j)} $"
   ]
  },
  {
   "cell_type": "markdown",
   "metadata": {},
   "source": [
    "### Step 3: Calculation of $\\ s(i)$ - Silhoutte(value) of data point $\\ i$"
   ]
  },
  {
   "cell_type": "markdown",
   "metadata": {},
   "source": [
    "Once having both the values of $\\ a(i)$ and $\\ b(i)$ computed, we can calculate the value of $\\ s(i)$ using the below formula:\n",
    "\n",
    "$\\ {\\displaystyle s(i)={\\frac {b(i)-a(i)}{\\max\\{a(i),b(i)\\}}}} $, if $\\ {\\displaystyle |C_{I}|>1} $\n",
    "\n",
    "The value of $\\ s(i)$ will mostly lie between $\\ -1 < s(i) < 1 $\n",
    "\n",
    "If the value of $\\ s(i)$ is -1, it means the clustering model needs improvement and the clusters formed are either more or incorrectly formed. \n",
    "\n",
    "If the value of $\\ s(i)$ is 1, it means the clustering model is good and correctly formed."
   ]
  }
 ],
 "metadata": {
  "language_info": {
   "name": "python"
  }
 },
 "nbformat": 4,
 "nbformat_minor": 2
}
