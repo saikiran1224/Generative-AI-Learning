{
 "cells": [
  {
   "cell_type": "markdown",
   "metadata": {},
   "source": [
    "# Hierarchial Clustering"
   ]
  },
  {
   "cell_type": "markdown",
   "metadata": {},
   "source": [
    "This is also a Unsupervised Machine Learning algorithm which groups the given similar data points into clusters."
   ]
  },
  {
   "cell_type": "markdown",
   "metadata": {},
   "source": [
    "## Algorithm"
   ]
  },
  {
   "cell_type": "markdown",
   "metadata": {},
   "source": [
    "Hierarchial Clustering is performed step-by-step. The following are the steps involved in this algorithm:\n",
    " \n",
    "- **Step 1:** Consider that we have data points P1, P2, P3, P4, ... P7 plotted on a graph. Let us identify the data points which are very near to each other and group them into a cluster. In our case we have P1 and P2 which are very near to each other. \n",
    "\n",
    "- **Step 2:** Plot another graph, having points P1, P2, ... P7 on the X - axis and the distance on Y - axis. Now, since we identified that P1 and P2 are near and formed as one cluster. So on the graph, draw a line combining both of them at their distance point on Y - axis.\n",
    "\n",
    "- **Step 3:** Next, repeat the above Step and form all the nearby points into clusters and mark them on the graph. Once everything is done, its time to check the points near to the already formed clusters. For example consider than P1 P2 cluster is nearby to the cluster of P3 P4 P7 then combining both forming a broader cluster, and update the graph accordingly.\n",
    "\n",
    "- **Step 4:** Once the above step is repeated and once we get the final broad cluster, our graph looks like straight lines. This representation is called as **Dendogram**."
   ]
  },
  {
   "cell_type": "markdown",
   "metadata": {},
   "source": [
    "## Finding the optimal number of clusters"
   ]
  },
  {
   "cell_type": "markdown",
   "metadata": {},
   "source": [
    "Now, to find the optimal number of clusters we need to follow the below process:\n",
    "\n",
    "**We need to find the longest vertical line that has no horizontal line (even extended) is passed through to it.** Now once the longest vertical line is identified, draw a perpendicular horizontal line. The points which are passing through the horizontal line is the number of identical clusters. "
   ]
  },
  {
   "cell_type": "markdown",
   "metadata": {},
   "source": [
    "## Interview Question: Which algorithm takes maximum time: K means Clustering or Hierarchial Clustering?"
   ]
  },
  {
   "cell_type": "markdown",
   "metadata": {},
   "source": [
    "Hierarchial Clustering is the answer. Since the more number of features and data points the clusters will be more and it takes more time to form the dendogram leading more computational time."
   ]
  }
 ],
 "metadata": {
  "language_info": {
   "name": "python"
  }
 },
 "nbformat": 4,
 "nbformat_minor": 2
}
