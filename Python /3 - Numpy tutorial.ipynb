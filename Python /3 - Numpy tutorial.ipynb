{
 "cells": [
  {
   "cell_type": "markdown",
   "metadata": {},
   "source": [
    "## Numpy Library \n",
    "\n",
    "Numpy is a powerful library used for mathematical calculations. It is mostly used for multidimensional arrays and one of the most used library for Machine Learning.\n",
    "\n",
    "Numpy has bindings of C++ language, hence the operations are very fast.\n",
    "\n",
    "In NumPy all the data is handled in the form of arrays. "
   ]
  },
  {
   "cell_type": "code",
   "execution_count": 4,
   "metadata": {
    "slideshow": {
     "slide_type": "skip"
    }
   },
   "outputs": [
    {
     "name": "stdout",
     "output_type": "stream",
     "text": [
      "Requirement already satisfied: numpy in /Library/Frameworks/Python.framework/Versions/3.13/lib/python3.13/site-packages (2.1.3)\n",
      "\n",
      "\u001b[1m[\u001b[0m\u001b[34;49mnotice\u001b[0m\u001b[1;39;49m]\u001b[0m\u001b[39;49m A new release of pip is available: \u001b[0m\u001b[31;49m24.2\u001b[0m\u001b[39;49m -> \u001b[0m\u001b[32;49m24.3.1\u001b[0m\n",
      "\u001b[1m[\u001b[0m\u001b[34;49mnotice\u001b[0m\u001b[1;39;49m]\u001b[0m\u001b[39;49m To update, run: \u001b[0m\u001b[32;49mpip3 install --upgrade pip\u001b[0m\n",
      "Note: you may need to restart the kernel to use updated packages.\n"
     ]
    }
   ],
   "source": [
    "pip install numpy"
   ]
  },
  {
   "cell_type": "markdown",
   "metadata": {},
   "source": [
    "## Array \n",
    "\n",
    "Array is a data structute that stores the values of the same data type unlike a list as in python. "
   ]
  },
  {
   "cell_type": "code",
   "execution_count": 1,
   "metadata": {},
   "outputs": [],
   "source": [
    "# Importing numpy library\n",
    "\n",
    "import numpy as np"
   ]
  },
  {
   "cell_type": "code",
   "execution_count": 2,
   "metadata": {},
   "outputs": [],
   "source": [
    "# Creating an python list\n",
    "li = [1, 4, 5, 6]\n",
    "\n",
    "# converting list into array using numpy\n",
    "arr = np.array(li) "
   ]
  },
  {
   "cell_type": "code",
   "execution_count": 3,
   "metadata": {},
   "outputs": [
    {
     "data": {
      "text/plain": [
       "numpy.ndarray"
      ]
     },
     "execution_count": 3,
     "metadata": {},
     "output_type": "execute_result"
    }
   ],
   "source": [
    "type(arr) # will show numpy.ndarray"
   ]
  },
  {
   "cell_type": "code",
   "execution_count": 4,
   "metadata": {},
   "outputs": [
    {
     "data": {
      "text/plain": [
       "array([1, 4, 5, 6])"
      ]
     },
     "execution_count": 4,
     "metadata": {},
     "output_type": "execute_result"
    }
   ],
   "source": [
    "# printing array - Its a One-dimensional array\n",
    "arr"
   ]
  },
  {
   "cell_type": "markdown",
   "metadata": {},
   "source": [
    "### Using array.shape method\n",
    "\n",
    "This method describes the array dimension whether its an one-dimensional, two-dimensional, etc.\n",
    "\n",
    "**Syntax** - array_obj.shape"
   ]
  },
  {
   "cell_type": "code",
   "execution_count": 5,
   "metadata": {},
   "outputs": [
    {
     "data": {
      "text/plain": [
       "(4,)"
      ]
     },
     "execution_count": 5,
     "metadata": {},
     "output_type": "execute_result"
    }
   ],
   "source": [
    "arr.shape # returns (4,) as its one-dimensional array"
   ]
  },
  {
   "cell_type": "markdown",
   "metadata": {},
   "source": [
    "### Creating two-dimensional array"
   ]
  },
  {
   "cell_type": "code",
   "execution_count": 7,
   "metadata": {},
   "outputs": [
    {
     "data": {
      "text/plain": [
       "array([[1, 2, 4, 5, 6],\n",
       "       [4, 5, 6, 7, 8],\n",
       "       [2, 1, 3, 9, 0]])"
      ]
     },
     "execution_count": 7,
     "metadata": {},
     "output_type": "execute_result"
    }
   ],
   "source": [
    "li1 = [1, 2, 4, 5, 6]\n",
    "li2 = [4, 5, 6, 7, 8]\n",
    "li3 = [2, 1, 3, 9, 0]\n",
    "\n",
    "# creating a two - dimensional array\n",
    "two_darray = np.array([li1, li2, li3])\n",
    "\n",
    "two_darray"
   ]
  },
  {
   "cell_type": "markdown",
   "metadata": {},
   "source": [
    "> Trick: In the above cell output, if we clearly observe since its a 2D array, at the start of the array object there were 2 opening brackets ([) and the ending also there were 2 opening brackets. \n",
    "\n",
    "Similarly for the 1D array there will be only one opening and one closing bracket. In the same way, the higher the dimension the opening and closing brackets will be the same."
   ]
  },
  {
   "cell_type": "code",
   "execution_count": 9,
   "metadata": {},
   "outputs": [
    {
     "data": {
      "text/plain": [
       "(3, 5)"
      ]
     },
     "execution_count": 9,
     "metadata": {},
     "output_type": "execute_result"
    }
   ],
   "source": [
    "two_darray.shape # Shows (3,5) meaning 3 rows * 5 columns - 2D Array"
   ]
  },
  {
   "cell_type": "markdown",
   "metadata": {},
   "source": [
    "### Re-shaping the array\n",
    "\n",
    "In the earlier cells, we have used the `shape` method where it showed the dimension of the particular array. \n",
    "\n",
    "But we can also re-share the array by simply passing the desired shape/dimension we need. \n",
    "\n",
    "**Syntax** - array.reshape(no.of rows, no. of cols)\n",
    "\n",
    "> Remember the total number of elements will not be changed"
   ]
  },
  {
   "cell_type": "code",
   "execution_count": 10,
   "metadata": {},
   "outputs": [
    {
     "data": {
      "text/plain": [
       "array([[1, 2, 4],\n",
       "       [5, 6, 4],\n",
       "       [5, 6, 7],\n",
       "       [8, 2, 1],\n",
       "       [3, 9, 0]])"
      ]
     },
     "execution_count": 10,
     "metadata": {},
     "output_type": "execute_result"
    }
   ],
   "source": [
    "# Re-shaping the array into (5, 3)\n",
    "\n",
    "two_darray.reshape(5, 3) "
   ]
  },
  {
   "cell_type": "code",
   "execution_count": 12,
   "metadata": {},
   "outputs": [
    {
     "ename": "ValueError",
     "evalue": "cannot reshape array of size 15 into shape (5,4)",
     "output_type": "error",
     "traceback": [
      "\u001b[0;31m---------------------------------------------------------------------------\u001b[0m",
      "\u001b[0;31mValueError\u001b[0m                                Traceback (most recent call last)",
      "Cell \u001b[0;32mIn[12], line 3\u001b[0m\n\u001b[1;32m      1\u001b[0m \u001b[38;5;66;03m# Re-shaping the array into (5, 4)\u001b[39;00m\n\u001b[0;32m----> 3\u001b[0m \u001b[43mtwo_darray\u001b[49m\u001b[38;5;241;43m.\u001b[39;49m\u001b[43mreshape\u001b[49m\u001b[43m(\u001b[49m\u001b[38;5;241;43m5\u001b[39;49m\u001b[43m,\u001b[49m\u001b[43m \u001b[49m\u001b[38;5;241;43m4\u001b[39;49m\u001b[43m)\u001b[49m \u001b[38;5;66;03m# throws an error since the number of elements are not equal\u001b[39;00m\n",
      "\u001b[0;31mValueError\u001b[0m: cannot reshape array of size 15 into shape (5,4)"
     ]
    }
   ],
   "source": [
    "# Re-shaping the array into (5, 4)\n",
    "\n",
    "two_darray.reshape(5, 4) # throws an error since the number of elements are not equal"
   ]
  },
  {
   "cell_type": "code",
   "execution_count": 13,
   "metadata": {},
   "outputs": [
    {
     "data": {
      "text/plain": [
       "array([[1, 2, 4, 5, 6, 4, 5, 6, 7, 8, 2, 1, 3, 9, 0]])"
      ]
     },
     "execution_count": 13,
     "metadata": {},
     "output_type": "execute_result"
    }
   ],
   "source": [
    "# Re-shaping the array into (1, 15)\n",
    "\n",
    "two_darray.reshape(1, 15) # worked since 1 * 15 = 15 (same number of elements)"
   ]
  },
  {
   "cell_type": "markdown",
   "metadata": {},
   "source": [
    "### Indexing\n",
    "\n",
    "Similar to the list indexing in python"
   ]
  },
  {
   "cell_type": "code",
   "execution_count": 15,
   "metadata": {},
   "outputs": [],
   "source": [
    "# Creating an one-dimensional array\n",
    "\n",
    "arr = np.array([23, 45, 67, 89, 25])"
   ]
  },
  {
   "cell_type": "code",
   "execution_count": 17,
   "metadata": {},
   "outputs": [
    {
     "name": "stdout",
     "output_type": "stream",
     "text": [
      "25\n"
     ]
    }
   ],
   "source": [
    "# accessing elements using index based technique\n",
    "\n",
    "print(arr[4])"
   ]
  },
  {
   "cell_type": "markdown",
   "metadata": {},
   "source": [
    "#### Indexing in 2D array \n",
    "\n",
    "**Syntax** `twod_array[no_of_rows, no_of_columns]`\n",
    "\n",
    "> Remember we can also use the slicing technique here to fetch the elements as required"
   ]
  },
  {
   "cell_type": "code",
   "execution_count": 19,
   "metadata": {},
   "outputs": [
    {
     "data": {
      "text/plain": [
       "array([[1, 2, 4, 5, 6],\n",
       "       [4, 5, 6, 7, 8],\n",
       "       [2, 1, 3, 9, 0]])"
      ]
     },
     "execution_count": 19,
     "metadata": {},
     "output_type": "execute_result"
    }
   ],
   "source": [
    "two_darray # printing the 2D array that we have created earlier"
   ]
  },
  {
   "cell_type": "code",
   "execution_count": 22,
   "metadata": {},
   "outputs": [
    {
     "data": {
      "text/plain": [
       "array([[1, 2, 4, 5, 6],\n",
       "       [4, 5, 6, 7, 8],\n",
       "       [2, 1, 3, 9, 0]])"
      ]
     },
     "execution_count": 22,
     "metadata": {},
     "output_type": "execute_result"
    }
   ],
   "source": [
    "# Accessing elements from 2D array \n",
    "\n",
    "two_darray[:, :] # Since we kept : it considered all the rows and cols"
   ]
  },
  {
   "cell_type": "code",
   "execution_count": 23,
   "metadata": {},
   "outputs": [
    {
     "data": {
      "text/plain": [
       "array([[1, 2],\n",
       "       [4, 5]])"
      ]
     },
     "execution_count": 23,
     "metadata": {},
     "output_type": "execute_result"
    }
   ],
   "source": [
    "# For example, if we want to fetch only [1, 2] from first row and [4, 5] from second row\n",
    "\n",
    "two_darray[0:2, 0:2]"
   ]
  },
  {
   "cell_type": "code",
   "execution_count": 26,
   "metadata": {},
   "outputs": [
    {
     "data": {
      "text/plain": [
       "array([[7, 8],\n",
       "       [9, 0]])"
      ]
     },
     "execution_count": 26,
     "metadata": {},
     "output_type": "execute_result"
    }
   ],
   "source": [
    "# For example, if we want to fetch only [7, 8] from second row and [9, 0] from third row\n",
    "\n",
    "two_darray[1:3,3:5]"
   ]
  },
  {
   "cell_type": "code",
   "execution_count": 28,
   "metadata": {},
   "outputs": [
    {
     "data": {
      "text/plain": [
       "array([[6, 7],\n",
       "       [3, 9]])"
      ]
     },
     "execution_count": 28,
     "metadata": {},
     "output_type": "execute_result"
    }
   ],
   "source": [
    "# Fetch [6,7] and [3,9] from second and third row\n",
    "\n",
    "two_darray[1:3, 2:4]"
   ]
  },
  {
   "cell_type": "code",
   "execution_count": 30,
   "metadata": {},
   "outputs": [
    {
     "data": {
      "text/plain": [
       "array([5, 6, 7])"
      ]
     },
     "execution_count": 30,
     "metadata": {},
     "output_type": "execute_result"
    }
   ],
   "source": [
    "# Fetching [5, 6, 7] from second row\n",
    "\n",
    "two_darray[1, 1:4]"
   ]
  },
  {
   "cell_type": "markdown",
   "metadata": {},
   "source": [
    "### Using np.arange() method\n",
    "\n",
    "We need to pass the range of the array we require into the `np.arange(start, end, step)` function. This creates a numpy array with the elements as mentioned in the range. "
   ]
  },
  {
   "cell_type": "code",
   "execution_count": 32,
   "metadata": {},
   "outputs": [
    {
     "data": {
      "text/plain": [
       "array([0, 1, 2, 3, 4, 5, 6, 7, 8, 9])"
      ]
     },
     "execution_count": 32,
     "metadata": {},
     "output_type": "execute_result"
    }
   ],
   "source": [
    "# Creating an array ranging from 1 to 10 \n",
    "\n",
    "arr_one = np.arange(0, 10)\n",
    "\n",
    "arr_one"
   ]
  },
  {
   "cell_type": "code",
   "execution_count": 34,
   "metadata": {},
   "outputs": [
    {
     "name": "stdout",
     "output_type": "stream",
     "text": [
      "[0 2 4 6 8]\n"
     ]
    }
   ],
   "source": [
    "# We can also use the step argument\n",
    "\n",
    "arr_one = np.arange(0, 10, 2)\n",
    "\n",
    "print(arr_one)"
   ]
  },
  {
   "cell_type": "markdown",
   "metadata": {},
   "source": [
    "### linspace() method\n",
    "\n",
    "This method helps us to provide equally divided points between the given range of values. \n",
    "\n",
    "We will be mostly using this in Deep learning where we will use if for creating equally divided points quickly using arrays"
   ]
  },
  {
   "cell_type": "code",
   "execution_count": 43,
   "metadata": {},
   "outputs": [
    {
     "data": {
      "text/plain": [
       "array([  0.        ,   2.04081633,   4.08163265,   6.12244898,\n",
       "         8.16326531,  10.20408163,  12.24489796,  14.28571429,\n",
       "        16.32653061,  18.36734694,  20.40816327,  22.44897959,\n",
       "        24.48979592,  26.53061224,  28.57142857,  30.6122449 ,\n",
       "        32.65306122,  34.69387755,  36.73469388,  38.7755102 ,\n",
       "        40.81632653,  42.85714286,  44.89795918,  46.93877551,\n",
       "        48.97959184,  51.02040816,  53.06122449,  55.10204082,\n",
       "        57.14285714,  59.18367347,  61.2244898 ,  63.26530612,\n",
       "        65.30612245,  67.34693878,  69.3877551 ,  71.42857143,\n",
       "        73.46938776,  75.51020408,  77.55102041,  79.59183673,\n",
       "        81.63265306,  83.67346939,  85.71428571,  87.75510204,\n",
       "        89.79591837,  91.83673469,  93.87755102,  95.91836735,\n",
       "        97.95918367, 100.        ])"
      ]
     },
     "execution_count": 43,
     "metadata": {},
     "output_type": "execute_result"
    }
   ],
   "source": [
    "divided_points = np.linspace(0, 100, 50)\n",
    "\n",
    "divided_points"
   ]
  },
  {
   "cell_type": "code",
   "execution_count": 47,
   "metadata": {},
   "outputs": [
    {
     "name": "stdout",
     "output_type": "stream",
     "text": [
      "[ 4  5  6  7  8  9 10]\n",
      "[  1   2   3 100 100 100 100 100 100 100]\n"
     ]
    }
   ],
   "source": [
    "# creating an array from 1 to 10\n",
    "arr = np.arange(1, 11)\n",
    "\n",
    "print(arr[3:]) # before replacing the values\n",
    "\n",
    "arr[3:] = 100 # replacing all the values after 3rd index with 100\n",
    "\n",
    "print(arr)"
   ]
  },
  {
   "cell_type": "code",
   "execution_count": 52,
   "metadata": {},
   "outputs": [
    {
     "name": "stdout",
     "output_type": "stream",
     "text": [
      "[  1   2   3 100 100 500 500 500 500 500]\n",
      "[  1   2   3 100 100 500 500 500 500 500]\n"
     ]
    }
   ],
   "source": [
    "# Assigning the arr to arr1 (new array)\n",
    "\n",
    "arr1 = arr \n",
    "\n",
    "# replacing arr1 elements with 500 after 5th index\n",
    "arr1[5:] = 500\n",
    "\n",
    "print(arr1) # printing arr1\n",
    "\n",
    "print(arr) # If we see clearly, even we performed the operation on arr1 it affected arr since there is a reference"
   ]
  },
  {
   "cell_type": "markdown",
   "metadata": {},
   "source": [
    "### copy() method and broadcasting\n",
    "\n",
    "This method helps us in creating an exact copy of the array, and performing any operations on the newly created array will not affect the old/earlier array"
   ]
  },
  {
   "cell_type": "code",
   "execution_count": 54,
   "metadata": {},
   "outputs": [
    {
     "name": "stdout",
     "output_type": "stream",
     "text": [
      "[ 1 20 20 20 20 20 20 20 20 20] [  1   2   3 100 100 500 500 500 500 500]\n"
     ]
    }
   ],
   "source": [
    "arr1 = arr.copy() # Now creating a copy of arr and storing it in arr1\n",
    "\n",
    "# performing operations on arr1\n",
    "arr1[1:] = 20\n",
    "\n",
    "print(arr1, arr) # If we observe there was no affect to arr array"
   ]
  },
  {
   "cell_type": "markdown",
   "metadata": {},
   "source": [
    "### Methods used in Exploratory Data Analysis (EDA)"
   ]
  },
  {
   "cell_type": "markdown",
   "metadata": {},
   "source": [
    "##### Performing Arithmetic operations\n",
    "\n",
    "We can simply perform basic arithmetic operations on the array without iterating over the array similar to python list. \n",
    "\n",
    "For example, if we want to check the elements which are less than 20 in the array, we can simply do the operation as below\n",
    "\n",
    "`arr_object < 20` - returns array in form of True and False\n",
    "\n",
    "Similar to this, we can perform multiple operations like such including divison, remainder, multiplication"
   ]
  },
  {
   "cell_type": "code",
   "execution_count": 55,
   "metadata": {},
   "outputs": [
    {
     "data": {
      "text/plain": [
       "array([  1,   2,   3, 100, 100, 500, 500, 500, 500, 500])"
      ]
     },
     "execution_count": 55,
     "metadata": {},
     "output_type": "execute_result"
    }
   ],
   "source": [
    "arr"
   ]
  },
  {
   "cell_type": "code",
   "execution_count": 56,
   "metadata": {},
   "outputs": [
    {
     "data": {
      "text/plain": [
       "array([ True,  True,  True, False, False, False, False, False, False,\n",
       "       False])"
      ]
     },
     "execution_count": 56,
     "metadata": {},
     "output_type": "execute_result"
    }
   ],
   "source": [
    "# performing less than 50 \n",
    "arr<50"
   ]
  },
  {
   "cell_type": "code",
   "execution_count": 57,
   "metadata": {},
   "outputs": [
    {
     "data": {
      "text/plain": [
       "array([1, 2, 3])"
      ]
     },
     "execution_count": 57,
     "metadata": {},
     "output_type": "execute_result"
    }
   ],
   "source": [
    "# if we want the exact numbers which are less than 50 from the array then\n",
    "\n",
    "arr[arr<50]"
   ]
  },
  {
   "cell_type": "code",
   "execution_count": 59,
   "metadata": {},
   "outputs": [
    {
     "data": {
      "text/plain": [
       "array([   2,    4,    6,  200,  200, 1000, 1000, 1000, 1000, 1000])"
      ]
     },
     "execution_count": 59,
     "metadata": {},
     "output_type": "execute_result"
    }
   ],
   "source": [
    "# performing multiplication\n",
    "arr * 2\n",
    "\n",
    "# Similarly we can perform divison, remainder, etc."
   ]
  },
  {
   "cell_type": "markdown",
   "metadata": {},
   "source": [
    "##### Using `np.ones(value, dtype=int/float)` method\n",
    "\n",
    "This method prints one's based on the value we passed. By default the ones will be displayed in float datatype, to modify that we need to explicitly change the datatype to 'int'"
   ]
  },
  {
   "cell_type": "code",
   "execution_count": 62,
   "metadata": {},
   "outputs": [
    {
     "name": "stdout",
     "output_type": "stream",
     "text": [
      "[1. 1. 1. 1. 1. 1. 1. 1. 1. 1.]\n",
      "[1 1 1 1 1 1 1 1 1 1]\n"
     ]
    }
   ],
   "source": [
    "print(np.ones(10)) # prints all ones in float datatype\n",
    "\n",
    "print(np.ones(10, dtype=int)) # prints in int datatype"
   ]
  },
  {
   "cell_type": "code",
   "execution_count": 64,
   "metadata": {},
   "outputs": [
    {
     "name": "stdout",
     "output_type": "stream",
     "text": [
      "[[1 1 1 1 1]\n",
      " [1 1 1 1 1]]\n"
     ]
    }
   ],
   "source": [
    "# printing ones in two dimensional array\n",
    "\n",
    "print(np.ones([2,5], dtype=int))"
   ]
  },
  {
   "cell_type": "markdown",
   "metadata": {},
   "source": [
    "##### Print Random values \n",
    "\n",
    "We can use multiple functions which are part of random class like \n",
    "\n",
    "`random.rand()` - gives random values in given shape\n",
    "\n",
    "`random.randn()` - gives random values in standard normal distribution\n",
    "\n",
    "`random.randint()` - gives integer values as per the given range\n",
    "\n",
    "`random.random_sample()` - provides random values between 0 and 1 in the given shape.\n"
   ]
  },
  {
   "cell_type": "code",
   "execution_count": 66,
   "metadata": {},
   "outputs": [
    {
     "data": {
      "text/plain": [
       "array([[0.44273135, 0.91233482, 0.40582049, 0.92192369],\n",
       "       [0.10769547, 0.51387653, 0.4444384 , 0.1134224 ]])"
      ]
     },
     "execution_count": 66,
     "metadata": {},
     "output_type": "execute_result"
    }
   ],
   "source": [
    "np.random.rand(2, 4) # random values in given shape"
   ]
  },
  {
   "cell_type": "code",
   "execution_count": 67,
   "metadata": {},
   "outputs": [
    {
     "data": {
      "text/plain": [
       "array([[ 0.01692048,  0.32691392,  0.76199817, -0.50760124,  1.07738217],\n",
       "       [-1.1581851 , -0.47807832,  1.07789881,  0.97798277,  0.71137287],\n",
       "       [-0.14253159, -0.20106364,  0.23286259,  0.16725101,  0.22874007]])"
      ]
     },
     "execution_count": 67,
     "metadata": {},
     "output_type": "execute_result"
    }
   ],
   "source": [
    "np.random.randn(3, 5) #Return a sample (or samples) from the \"standard normal\" distribution."
   ]
  },
  {
   "cell_type": "code",
   "execution_count": 78,
   "metadata": {},
   "outputs": [
    {
     "data": {
      "text/plain": [
       "array([[87, 58],\n",
       "       [58, 63],\n",
       "       [65, 93],\n",
       "       [40, 73]])"
      ]
     },
     "execution_count": 78,
     "metadata": {},
     "output_type": "execute_result"
    }
   ],
   "source": [
    "np.random.randint(10, 100,8).reshape(4,2) # returns values ranging from low to high along with the size "
   ]
  },
  {
   "cell_type": "code",
   "execution_count": 81,
   "metadata": {},
   "outputs": [
    {
     "data": {
      "text/plain": [
       "array([0.99838634, 0.18748798, 0.41248967, 0.42202119, 0.15682951,\n",
       "       0.85625196, 0.02152887, 0.83431489, 0.15593716, 0.28076599])"
      ]
     },
     "execution_count": 81,
     "metadata": {},
     "output_type": "execute_result"
    }
   ],
   "source": [
    "np.random.random_sample(10) # Return random floats in the half-open interval [0.0, 1.0) as per the given size."
   ]
  }
 ],
 "metadata": {
  "kernelspec": {
   "display_name": "Python 3",
   "language": "python",
   "name": "python3"
  },
  "language_info": {
   "codemirror_mode": {
    "name": "ipython",
    "version": 3
   },
   "file_extension": ".py",
   "mimetype": "text/x-python",
   "name": "python",
   "nbconvert_exporter": "python",
   "pygments_lexer": "ipython3",
   "version": "3.13.0"
  }
 },
 "nbformat": 4,
 "nbformat_minor": 2
}
