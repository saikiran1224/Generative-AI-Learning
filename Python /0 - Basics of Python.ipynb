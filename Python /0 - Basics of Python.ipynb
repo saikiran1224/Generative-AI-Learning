{
 "cells": [
  {
   "cell_type": "markdown",
   "metadata": {},
   "source": [
    "# Basics of Python"
   ]
  },
  {
   "cell_type": "markdown",
   "metadata": {},
   "source": [
    "## Arithmetic operators"
   ]
  },
  {
   "cell_type": "code",
   "execution_count": 3,
   "metadata": {},
   "outputs": [
    {
     "name": "stdout",
     "output_type": "stream",
     "text": [
      "2 1 5.5 5.5 3400 0 1024\n"
     ]
    }
   ],
   "source": [
    "a = 1 + 1 # addition \n",
    "b = 3 - 2 # subtraction\n",
    "c = 11 / 2 # floating division (5.5)\n",
    "d = 11 / 2 # integer division (5)\n",
    "e = 100 * 34 # multiplication\n",
    "f = 30 % 5 # remainder\n",
    "g = 2 ** 10 # power raised to 10 (2 ^ 10)\n",
    "\n",
    "print(a, b, c, d, e, f, g)"
   ]
  },
  {
   "cell_type": "markdown",
   "metadata": {},
   "source": [
    "## Data types"
   ]
  },
  {
   "cell_type": "code",
   "execution_count": 5,
   "metadata": {},
   "outputs": [
    {
     "name": "stdout",
     "output_type": "stream",
     "text": [
      "<class 'bool'> <class 'str'> <class 'int'> <class 'float'> <class 'complex'>\n"
     ]
    }
   ],
   "source": [
    "A = type(True) # Boolean\n",
    "B = type('Sai Kiran') # String\n",
    "C = type(10) # integer\n",
    "D = type(156.432) # float\n",
    "E = type(-13+39j) # complex\n",
    "\n",
    "print(A, B, C, D, E)"
   ]
  },
  {
   "cell_type": "markdown",
   "metadata": {},
   "source": [
    "## Variable Assignment"
   ]
  },
  {
   "cell_type": "code",
   "execution_count": 6,
   "metadata": {},
   "outputs": [
    {
     "name": "stdout",
     "output_type": "stream",
     "text": [
      "Hello 1000.45 Sai 456\n"
     ]
    }
   ],
   "source": [
    "a = \"Hello\" # storing string\n",
    "b = 1000.45 # storing float value\n",
    "\n",
    "# assigning two variables at a time\n",
    "c, d = \"Sai\", 456\n",
    "\n",
    "print(a, b, c, d)"
   ]
  },
  {
   "cell_type": "markdown",
   "metadata": {},
   "source": [
    "## Formatting print statements"
   ]
  },
  {
   "cell_type": "code",
   "execution_count": 8,
   "metadata": {},
   "outputs": [
    {
     "name": "stdout",
     "output_type": "stream",
     "text": [
      "Sai Kiran Kopparthi\n",
      "[Without params] My First Name is Sai and Last name is Kiran\n",
      "[Named params] My first name is Sai and my last name is Kiran\n"
     ]
    }
   ],
   "source": [
    "first_name = \"Sai Kiran Kopparthi\" # storing string\n",
    "print(first_name)\n",
    "\n",
    "a_val, b_val = \"Sai\", \"Kiran\"\n",
    "\n",
    "# 1st method of using format() method\n",
    "print(\"[Without params] My First Name is {} and Last name is {}\".format(a_val, b_val))\n",
    "\n",
    "# 2nd method of using format() method using named parameters\n",
    "print(\"[Named params] My first name is {first_name} and my last name is {last_name}\".format(last_name = b_val,first_name = a_val))"
   ]
  },
  {
   "cell_type": "code",
   "execution_count": 9,
   "metadata": {},
   "outputs": [
    {
     "name": "stdout",
     "output_type": "stream",
     "text": [
      "1 ** 3 ** 5\n",
      "1 3 5\n"
     ]
    }
   ],
   "source": [
    "# Escape Sequence characters\n",
    "\n",
    "a, b, c = 1, 3, 5\n",
    "\n",
    "print(a, b, c, sep=\" ** \") # using sep paramter adds ** in between\n",
    "\n",
    "print(a, b, c, end=\"\\n\") # prints each number in new line."
   ]
  },
  {
   "cell_type": "markdown",
   "metadata": {},
   "source": [
    "## Explicit Type conversion\n",
    "\n",
    "We can explicitly specify the data type of a variable by passing the variable into any of the following desired function. \n",
    "\n",
    "`str()`\n",
    "\n",
    "`int()`\n",
    "\n",
    "`float()`"
   ]
  },
  {
   "cell_type": "code",
   "execution_count": 1,
   "metadata": {},
   "outputs": [
    {
     "name": "stdout",
     "output_type": "stream",
     "text": [
      "5 <class 'int'>\n",
      "5.0 <class 'float'>\n"
     ]
    }
   ],
   "source": [
    "a = 5\n",
    "\n",
    "print(a, type(a))\n",
    "\n",
    "# Typecasting a to float\n",
    "a = float(a)\n",
    "print(a, type(a))"
   ]
  },
  {
   "cell_type": "code",
   "execution_count": 2,
   "metadata": {},
   "outputs": [
    {
     "name": "stdout",
     "output_type": "stream",
     "text": [
      "5672294 <class 'str'>\n",
      "5672294 <class 'int'>\n"
     ]
    }
   ],
   "source": [
    "b = \"5672294\"\n",
    "\n",
    "print(b, type(b)) # returns string\n",
    "\n",
    "# Typecasting b to integer\n",
    "b = int(b)\n",
    "\n",
    "print(b, type(b))"
   ]
  },
  {
   "cell_type": "markdown",
   "metadata": {},
   "source": [
    "## Taking User Input\n",
    "\n",
    "We can use the `input(message = \"\")` function in the code wherever we require the user input. \n",
    "\n",
    "The message can also be passed inside the `input()` function which will be displayed in the runtime to the user.\n",
    "\n",
    "**Note**: The value returned by `input()` function will always be in string format. If we are reading a number, we need to typecast it to `int()`"
   ]
  },
  {
   "cell_type": "code",
   "execution_count": 1,
   "metadata": {},
   "outputs": [],
   "source": [
    "n = input(\"Enter number n: \")\n",
    "\n",
    "print(n, type(n))"
   ]
  },
  {
   "cell_type": "markdown",
   "metadata": {},
   "source": [
    "## Conditional Statements - If...else\n",
    "\n",
    "These statements are used to direct the control to either if or the else block based on the given condition. \n",
    "\n",
    "There are three main keywords where we mostly use in the conditional statements. \n",
    "\n",
    "1. `if` \n",
    "2. `elif` \n",
    "3. `else`"
   ]
  },
  {
   "cell_type": "markdown",
   "metadata": {},
   "source": [
    "### Simple statement using if condition"
   ]
  },
  {
   "cell_type": "code",
   "execution_count": 1,
   "metadata": {},
   "outputs": [
    {
     "name": "stdout",
     "output_type": "stream",
     "text": [
      "True\n"
     ]
    }
   ],
   "source": [
    "\n",
    "a, b = 10, 3\n",
    "\n",
    "if (a > b): print(True)"
   ]
  },
  {
   "cell_type": "markdown",
   "metadata": {},
   "source": [
    "### Using if and else blocks"
   ]
  },
  {
   "cell_type": "code",
   "execution_count": 2,
   "metadata": {},
   "outputs": [
    {
     "name": "stdout",
     "output_type": "stream",
     "text": [
      "a greater than b\n"
     ]
    }
   ],
   "source": [
    "\n",
    "a, b = 10, 3\n",
    "\n",
    "if (a < b): \n",
    "    print(\"a less than b\")\n",
    "else: \n",
    "    print(\"a greater than b\")"
   ]
  },
  {
   "cell_type": "markdown",
   "metadata": {},
   "source": [
    "### Nested if else ladder using `elif` keyword"
   ]
  },
  {
   "cell_type": "code",
   "execution_count": 3,
   "metadata": {},
   "outputs": [
    {
     "name": "stdout",
     "output_type": "stream",
     "text": [
      "a greater than b and c\n"
     ]
    }
   ],
   "source": [
    "a, b, c = 10, 4, 2\n",
    "\n",
    "if (a > b and a > c):\n",
    "    print(\"a greater than b and c\")\n",
    "elif (b > c and b > a):\n",
    "    print(\"b greater than a and c\")\n",
    "else:\n",
    "    print(\"c greater than a and b\")"
   ]
  }
 ],
 "metadata": {
  "kernelspec": {
   "display_name": "Python 3",
   "language": "python",
   "name": "python3"
  },
  "language_info": {
   "codemirror_mode": {
    "name": "ipython",
    "version": 3
   },
   "file_extension": ".py",
   "mimetype": "text/x-python",
   "name": "python",
   "nbconvert_exporter": "python",
   "pygments_lexer": "ipython3",
   "version": "3.13.0"
  }
 },
 "nbformat": 4,
 "nbformat_minor": 2
}
