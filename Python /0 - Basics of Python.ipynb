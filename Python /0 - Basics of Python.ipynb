{
 "cells": [
  {
   "cell_type": "markdown",
   "metadata": {},
   "source": [
    "# Basics of Python"
   ]
  },
  {
   "cell_type": "markdown",
   "metadata": {},
   "source": [
    "### Arithmetic operators"
   ]
  },
  {
   "cell_type": "code",
   "execution_count": 3,
   "metadata": {},
   "outputs": [
    {
     "name": "stdout",
     "output_type": "stream",
     "text": [
      "2 1 5.5 5.5 3400 0 1024\n"
     ]
    }
   ],
   "source": [
    "a = 1 + 1 # addition \n",
    "b = 3 - 2 # subtraction\n",
    "c = 11 / 2 # floating division (5.5)\n",
    "d = 11 / 2 # integer division (5)\n",
    "e = 100 * 34 # multiplication\n",
    "f = 30 % 5 # remainder\n",
    "g = 2 ** 10 # power raised to 10 (2 ^ 10)\n",
    "\n",
    "print(a, b, c, d, e, f, g)"
   ]
  },
  {
   "cell_type": "markdown",
   "metadata": {},
   "source": [
    "### Data types"
   ]
  },
  {
   "cell_type": "code",
   "execution_count": 5,
   "metadata": {},
   "outputs": [
    {
     "name": "stdout",
     "output_type": "stream",
     "text": [
      "<class 'bool'> <class 'str'> <class 'int'> <class 'float'> <class 'complex'>\n"
     ]
    }
   ],
   "source": [
    "A = type(True) # Boolean\n",
    "B = type('Sai Kiran') # String\n",
    "C = type(10) # integer\n",
    "D = type(156.432) # float\n",
    "E = type(-13+39j) # complex\n",
    "\n",
    "print(A, B, C, D, E)"
   ]
  },
  {
   "cell_type": "markdown",
   "metadata": {},
   "source": [
    "### Variable Assignment"
   ]
  },
  {
   "cell_type": "code",
   "execution_count": 6,
   "metadata": {},
   "outputs": [
    {
     "name": "stdout",
     "output_type": "stream",
     "text": [
      "Hello 1000.45 Sai 456\n"
     ]
    }
   ],
   "source": [
    "a = \"Hello\" # storing string\n",
    "b = 1000.45 # storing float value\n",
    "\n",
    "# assigning two variables at a time\n",
    "c, d = \"Sai\", 456\n",
    "\n",
    "print(a, b, c, d)"
   ]
  },
  {
   "cell_type": "markdown",
   "metadata": {},
   "source": [
    "### Formatting print statements"
   ]
  },
  {
   "cell_type": "code",
   "execution_count": 8,
   "metadata": {},
   "outputs": [
    {
     "name": "stdout",
     "output_type": "stream",
     "text": [
      "Sai Kiran Kopparthi\n",
      "[Without params] My First Name is Sai and Last name is Kiran\n",
      "[Named params] My first name is Sai and my last name is Kiran\n"
     ]
    }
   ],
   "source": [
    "first_name = \"Sai Kiran Kopparthi\" # storing string\n",
    "print(first_name)\n",
    "\n",
    "a_val, b_val = \"Sai\", \"Kiran\"\n",
    "\n",
    "# 1st method of using format() method\n",
    "print(\"[Without params] My First Name is {} and Last name is {}\".format(a_val, b_val))\n",
    "\n",
    "# 2nd method of using format() method using named parameters\n",
    "print(\"[Named params] My first name is {first_name} and my last name is {last_name}\".format(last_name = b_val,first_name = a_val))"
   ]
  },
  {
   "cell_type": "code",
   "execution_count": 9,
   "metadata": {},
   "outputs": [
    {
     "name": "stdout",
     "output_type": "stream",
     "text": [
      "1 ** 3 ** 5\n",
      "1 3 5\n"
     ]
    }
   ],
   "source": [
    "# Escape Sequence characters\n",
    "\n",
    "a, b, c = 1, 3, 5\n",
    "\n",
    "print(a, b, c, sep=\" ** \") # using sep paramter adds ** in between\n",
    "\n",
    "print(a, b, c, end=\"\\n\") # prints each number in new line."
   ]
  }
 ],
 "metadata": {
  "kernelspec": {
   "display_name": "Python 3",
   "language": "python",
   "name": "python3"
  },
  "language_info": {
   "codemirror_mode": {
    "name": "ipython",
    "version": 3
   },
   "file_extension": ".py",
   "mimetype": "text/x-python",
   "name": "python",
   "nbconvert_exporter": "python",
   "pygments_lexer": "ipython3",
   "version": "3.13.0"
  }
 },
 "nbformat": 4,
 "nbformat_minor": 2
}
