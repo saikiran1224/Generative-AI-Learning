{
 "cells": [
  {
   "cell_type": "markdown",
   "metadata": {},
   "source": [
    "## Built-in Data Structures and Boolean"
   ]
  },
  {
   "cell_type": "markdown",
   "metadata": {},
   "source": [
    "### Boolean variables"
   ]
  },
  {
   "cell_type": "markdown",
   "metadata": {},
   "source": [
    "In python, boolean variables are considered as `True` and `False` a.k.a truth values.\n",
    "\n",
    "`bool()` is the function where we can typecast anything data to boolean data type. \n"
   ]
  },
  {
   "cell_type": "code",
   "execution_count": 29,
   "metadata": {},
   "outputs": [
    {
     "name": "stdout",
     "output_type": "stream",
     "text": [
      "True False\n"
     ]
    },
    {
     "data": {
      "text/plain": [
       "(bool, bool)"
      ]
     },
     "execution_count": 29,
     "metadata": {},
     "output_type": "execute_result"
    }
   ],
   "source": [
    "a = True\n",
    "b = False\n",
    "\n",
    "print(a, b)\n",
    "\n",
    "type(a), type(b)"
   ]
  },
  {
   "cell_type": "markdown",
   "metadata": {},
   "source": [
    "### In-built functions returning bool object"
   ]
  },
  {
   "cell_type": "markdown",
   "metadata": {},
   "source": [
    "We can use built-in functions for strings, where we-can do some \n",
    "basic operations like isalpha(), isalnum(), islower(), isupper(),\n",
    "endswith() and startswith(), etc."
   ]
  },
  {
   "cell_type": "code",
   "execution_count": 30,
   "metadata": {},
   "outputs": [
    {
     "name": "stdout",
     "output_type": "stream",
     "text": [
      "checks if all chars are alphabetic False\n",
      "checks if all chars are numbers True\n",
      "checks if string contains digits False\n",
      "checks if string is lower case False\n",
      "checks if string is upper case False\n",
      "True\n",
      "False\n"
     ]
    }
   ],
   "source": [
    "string = \"HiIamfromKakinada1234\"\n",
    "string_2 = \"123\"\n",
    "print(\"checks if all chars are alphabetic\",string.isalpha()) # checks if all chars are alphabetic \n",
    "print(\"checks if all chars are numbers\",string.isalnum()) # checks if all chars are numbers\n",
    "print(\"checks if string contains digits\",string.isdigit()) # checks if string is digit\n",
    "print(\"checks if string is lower case\",string.islower()) # checks if string is lower case\n",
    "print(\"checks if string is upper case\",string.isupper()) # checks if string is upper case\n",
    "\n",
    "print(string.startswith('Hi')) \n",
    "print(string.endswith('a'))"
   ]
  },
  {
   "cell_type": "markdown",
   "metadata": {},
   "source": [
    "### Logical Operators"
   ]
  },
  {
   "cell_type": "markdown",
   "metadata": {},
   "source": [
    "**AND** - returns True only if both condition satisfied\n",
    "\n",
    "**OR** - returns True even if atleast one condition satisfied\n",
    "\n",
    "**NOT** - negation of the current result"
   ]
  },
  {
   "cell_type": "code",
   "execution_count": 31,
   "metadata": {},
   "outputs": [
    {
     "name": "stdout",
     "output_type": "stream",
     "text": [
      "True\n",
      "False\n",
      "False\n",
      "False\n"
     ]
    }
   ],
   "source": [
    "# Both are same values \n",
    "print(True and True) # returns True\n",
    "print(False and False) # returns False as both are not satisifed\n",
    "\n",
    "# Both are different values - returns False since one condition is not satisfied.\n",
    "print(True and False)\n",
    "print(False and True)"
   ]
  },
  {
   "cell_type": "code",
   "execution_count": 32,
   "metadata": {},
   "outputs": [
    {
     "name": "stdout",
     "output_type": "stream",
     "text": [
      "True\n",
      "False\n",
      "True\n",
      "True\n"
     ]
    }
   ],
   "source": [
    "# Both are same values \n",
    "print(True or True) # returns True\n",
    "print(False or False) # returns False as both are not satisifed\n",
    "\n",
    "# Both are different values - returns True since atleast one condition is satisfied.\n",
    "print(True or False)\n",
    "print(False or True)"
   ]
  },
  {
   "cell_type": "code",
   "execution_count": 33,
   "metadata": {},
   "outputs": [
    {
     "name": "stdout",
     "output_type": "stream",
     "text": [
      "False\n",
      "True\n"
     ]
    }
   ],
   "source": [
    "print(not True)\n",
    "\n",
    "print(not (True and False))"
   ]
  },
  {
   "cell_type": "markdown",
   "metadata": {},
   "source": [
    "## Lists\n",
    "\n",
    "List is a data structure which is mutable, changeable ordered sequence of elements. All the items (elements in the list) are seperated by commas."
   ]
  },
  {
   "cell_type": "markdown",
   "metadata": {},
   "source": [
    "### append() method"
   ]
  },
  {
   "cell_type": "code",
   "execution_count": 34,
   "metadata": {},
   "outputs": [
    {
     "name": "stdout",
     "output_type": "stream",
     "text": [
      "[231, [342, 'Sai Kiran']]\n"
     ]
    }
   ],
   "source": [
    "# initializing a list - two ways\n",
    "li_one = list()\n",
    "li_two = []\n",
    "\n",
    "# storing elements we can add it using append() method\n",
    "li_one.append(\"Hi Hello Ram\")\n",
    "\n",
    "li_two.append(231)\n",
    "\n",
    "li_two.append([342, 'Sai Kiran'])\n",
    "\n",
    "print(li_two)"
   ]
  },
  {
   "cell_type": "markdown",
   "metadata": {},
   "source": [
    "### Accessing array elements"
   ]
  },
  {
   "cell_type": "code",
   "execution_count": 35,
   "metadata": {},
   "outputs": [
    {
     "name": "stdout",
     "output_type": "stream",
     "text": [
      "Hi Hello Ram\n",
      "[342, 'Sai Kiran']\n"
     ]
    }
   ],
   "source": [
    "# Indexing in list\n",
    "print(li_one[0])\n",
    "\n",
    "print(li_two[1])"
   ]
  },
  {
   "cell_type": "markdown",
   "metadata": {},
   "source": [
    "### insert() method"
   ]
  },
  {
   "cell_type": "code",
   "execution_count": 36,
   "metadata": {},
   "outputs": [
    {
     "name": "stdout",
     "output_type": "stream",
     "text": [
      "['Sai Kiran is boy']\n",
      "[3456]\n"
     ]
    }
   ],
   "source": [
    "# Clearing two lists before inserting the elements\n",
    "li_one.clear()\n",
    "li_two.clear()\n",
    "\n",
    "li_one.insert(3, \"Sai Kiran is boy\")\n",
    "\n",
    "li_two.insert(1, 3456)\n",
    "\n",
    "\n",
    "print(li_one, li_two, sep=\"\\n\")"
   ]
  },
  {
   "cell_type": "markdown",
   "metadata": {},
   "source": [
    "### extend() method"
   ]
  },
  {
   "cell_type": "code",
   "execution_count": 37,
   "metadata": {},
   "outputs": [
    {
     "name": "stdout",
     "output_type": "stream",
     "text": [
      "[12, 45, 63, 74, 32, 32, 345, 10000]\n"
     ]
    }
   ],
   "source": [
    "li = [12, 45, 63, 74, 32]\n",
    "\n",
    "li.extend([32, 345, 10000])\n",
    "\n",
    "print(li)"
   ]
  },
  {
   "cell_type": "markdown",
   "metadata": {},
   "source": [
    "### Slicing operations\n",
    "\n",
    "Used to fetch elements based on the start and end indexes. \n",
    "If we want to access elements at the last, we can accesss it simply specifying by -1, -2, etc.\n",
    "\n",
    "Syntax for slicing operation = `list_var[start_index : end_index + 1 : increment/decrement]`"
   ]
  },
  {
   "cell_type": "code",
   "execution_count": 55,
   "metadata": {},
   "outputs": [
    {
     "name": "stdout",
     "output_type": "stream",
     "text": [
      "[1, 2, 3, 4, 5, 6, 7, 8, 9, 10]\n",
      "[100, 99, 98, 97, 96, 95, 94, 93, 92, 91, 90, 89, 88, 87, 86, 85, 84, 83, 82, 81]\n",
      "[100, 99, 98, 97, 96, 95, 94, 93, 92, 91, 90, 89, 88, 87, 86, 85, 84, 83, 82, 81, 80, 79, 78, 77, 76, 75, 74, 73, 72, 71, 70, 69, 68, 67, 66, 65, 64, 63, 62, 61, 60, 59, 58, 57, 56, 55, 54, 53, 52, 51, 50, 49, 48, 47, 46, 45, 44, 43, 42, 41, 40, 39, 38, 37, 36, 35, 34, 33, 32, 31, 30, 29, 28, 27, 26, 25, 24, 23, 22, 21, 20, 19, 18, 17, 16, 15, 14, 13, 12, 11, 10, 9, 8, 7, 6, 5, 4, 3, 2]\n",
      "[1, 3, 5, 7, 9]\n"
     ]
    }
   ],
   "source": [
    "li = list(range(1, 100+1)) # storing 1 ... 100 numbers in list. \n",
    "\n",
    "# printing numbers only from 1 to 10\n",
    "print(li[0:10])  \n",
    "\n",
    "# print 20 numbers from the end of the list\n",
    "print(li[-1:-21:-1])\n",
    "\n",
    "# reverse the elements in the list\n",
    "print(li[-1:0:-1])\n",
    "\n",
    "# print alternate numbers\n",
    "print(li[0:10:2])"
   ]
  },
  {
   "cell_type": "markdown",
   "metadata": {},
   "source": [
    "### Miscellaneous operations"
   ]
  },
  {
   "cell_type": "code",
   "execution_count": 38,
   "metadata": {},
   "outputs": [
    {
     "name": "stdout",
     "output_type": "stream",
     "text": [
      "10603 1\n",
      "[12, 45, 63, 74, 32, 32, 345, 10000]\n",
      "[12, 45, 63, 74, 32, 32, 345]\n",
      "[12, 45, 74, 32, 32, 345]\n"
     ]
    }
   ],
   "source": [
    "# Sum of array\n",
    "sum_li = sum(li)\n",
    "\n",
    "print(sum_li, li.count(74)) # counting occurence of element\n",
    "\n",
    "# Before popping out element\n",
    "print(li)\n",
    "\n",
    "# To remove the last element in the list\n",
    "li.pop()\n",
    "print(li)\n",
    "\n",
    "# If we want to delete element based on specific index, pass it on\n",
    "# to pop(index) method\n",
    "li.pop(2) # 63 element at index 2 will be deleted.\n",
    "\n",
    "print(li)"
   ]
  },
  {
   "cell_type": "markdown",
   "metadata": {},
   "source": [
    "## Sets\n",
    "\n",
    "Sets are un-ordered collection data type where it only stores the unique elements. It is also mutable and iterable.\n",
    "\n",
    "It is developed based on data structure known as hash table, and it resemebles the mathematical representation of set."
   ]
  },
  {
   "cell_type": "code",
   "execution_count": 58,
   "metadata": {},
   "outputs": [
    {
     "name": "stdout",
     "output_type": "stream",
     "text": [
      "{1, 3, 4, 5, 21}\n"
     ]
    }
   ],
   "source": [
    "# Initializing set\n",
    "my_set = set()\n",
    "\n",
    "# Adding data in set\n",
    "my_set = {1, 3, 4, 5, 3, 21, 5, 3} # Set auto-trims duplicate elements inside. \n",
    "\n",
    "print(my_set)"
   ]
  },
  {
   "cell_type": "markdown",
   "metadata": {},
   "source": [
    "### Performing basic set operations"
   ]
  },
  {
   "cell_type": "code",
   "execution_count": 65,
   "metadata": {},
   "outputs": [
    {
     "name": "stdout",
     "output_type": "stream",
     "text": [
      "{8, 9, 10}\n",
      "None\n",
      "set()\n",
      "None\n"
     ]
    }
   ],
   "source": [
    "a = {1, 2, 3, 4, 5, 6, 7}\n",
    "b = {8, 9, 10, 1, 2, 3, 4}\n",
    "\n",
    "# a - b\n",
    "print(b.difference(a))\n",
    "\n",
    "print(b.difference_update(a)) # updates the b set \n",
    "\n",
    "# a intersection b\n",
    "print(a.intersection(b))\n",
    "\n",
    "print(a.intersection_update(b))"
   ]
  },
  {
   "cell_type": "markdown",
   "metadata": {},
   "source": [
    "## Dictionaries\n",
    "\n",
    "Dictionary is a data structure where it is un-ordered, stores data in form of key-value pairs.\n",
    "\n",
    "It is mutable, changeable and can be easily indexed."
   ]
  },
  {
   "cell_type": "code",
   "execution_count": 67,
   "metadata": {},
   "outputs": [
    {
     "name": "stdout",
     "output_type": "stream",
     "text": [
      "Sai\n"
     ]
    }
   ],
   "source": [
    "# initializing dictionary\n",
    "my_dict = {}\n",
    "\n",
    "type(my_dict)\n",
    "\n",
    "# Storing elements inside dictionary\n",
    "my_dict = {'Name' : 'Sai', 'Age' : 22, 'Place' : 'Kakinada', 'Pin' : 533003}\n",
    "\n",
    "# accessing data from dictionary\n",
    "print(my_dict['Name'])"
   ]
  },
  {
   "cell_type": "markdown",
   "metadata": {},
   "source": [
    "### Iterating over the dictionary"
   ]
  },
  {
   "cell_type": "code",
   "execution_count": 70,
   "metadata": {},
   "outputs": [
    {
     "name": "stdout",
     "output_type": "stream",
     "text": [
      "Name : Sai\n",
      "Age : 22\n",
      "Place : Kakinada\n",
      "Pin : 533003\n"
     ]
    }
   ],
   "source": [
    "for key, values in my_dict.items():\n",
    "\n",
    "    print(key, \":\",values)"
   ]
  },
  {
   "cell_type": "markdown",
   "metadata": {},
   "source": [
    "### Modifying data in dictionary"
   ]
  },
  {
   "cell_type": "code",
   "execution_count": 71,
   "metadata": {},
   "outputs": [
    {
     "name": "stdout",
     "output_type": "stream",
     "text": [
      "{'Name': 'Sai Kiran Kopparthi', 'Age': 22, 'Place': 'Kakinada', 'Pin': 533003, 'Company': 'Accenture, Bangalore'}\n"
     ]
    }
   ],
   "source": [
    "my_dict['Name'] = 'Sai Kiran Kopparthi'\n",
    "\n",
    "# adding a new pair \n",
    "my_dict['Company'] = 'Accenture, Bangalore'\n",
    "\n",
    "print(my_dict)"
   ]
  },
  {
   "cell_type": "markdown",
   "metadata": {},
   "source": [
    "### Nested dictionary"
   ]
  },
  {
   "cell_type": "code",
   "execution_count": 73,
   "metadata": {},
   "outputs": [
    {
     "name": "stdout",
     "output_type": "stream",
     "text": [
      "{'Name': 'Sai Kiran Kopparthi', 'Age': 22, 'Place': 'Kakinada', 'Pin': 533003, 'Company': 'Accenture, Bangalore', 'payroll details': {'Salary': 60000, 'YoE': '2+ years'}}\n",
      "60000\n"
     ]
    }
   ],
   "source": [
    "# Creating a sub-dictionary\n",
    "sub_dict_1 = {'Salary': 60000, 'YoE': '2+ years'}\n",
    "\n",
    "# Adding nested dictionary inside\n",
    "my_dict['payroll details'] = sub_dict_1\n",
    "\n",
    "# printing the main dictionary\n",
    "print(my_dict)\n",
    "\n",
    "# Accessing data from nested dictionary\n",
    "print(my_dict['payroll details']['Salary'])"
   ]
  },
  {
   "cell_type": "markdown",
   "metadata": {},
   "source": [
    "## Tuples\n",
    "\n",
    "Tuples are immutable data structures. Mostly tuples are used to store data which cannot be changed once initialized. "
   ]
  },
  {
   "cell_type": "code",
   "execution_count": 79,
   "metadata": {},
   "outputs": [
    {
     "name": "stdout",
     "output_type": "stream",
     "text": [
      "(100, 'Sai Kiran', 456, 100, 432.56, 100, 100)\n"
     ]
    }
   ],
   "source": [
    "# initializing tuple\n",
    "my_tuple = tuple()\n",
    "\n",
    "type(my_tuple)\n",
    "\n",
    "# Adding data inside tuple\n",
    "my_tuple = (100, \"Sai Kiran\", 456, 100, 432.56, 100, 100)\n",
    "\n",
    "print(my_tuple)"
   ]
  },
  {
   "cell_type": "markdown",
   "metadata": {},
   "source": [
    "### Attempting to modify data in tuple"
   ]
  },
  {
   "cell_type": "code",
   "execution_count": 80,
   "metadata": {},
   "outputs": [
    {
     "ename": "TypeError",
     "evalue": "'tuple' object does not support item assignment",
     "output_type": "error",
     "traceback": [
      "\u001b[0;31m---------------------------------------------------------------------------\u001b[0m",
      "\u001b[0;31mTypeError\u001b[0m                                 Traceback (most recent call last)",
      "Cell \u001b[0;32mIn[80], line 1\u001b[0m\n\u001b[0;32m----> 1\u001b[0m \u001b[43mmy_tuple\u001b[49m\u001b[43m[\u001b[49m\u001b[38;5;241;43m0\u001b[39;49m\u001b[43m]\u001b[49m \u001b[38;5;241m=\u001b[39m \u001b[38;5;124m\"\u001b[39m\u001b[38;5;124mSai\u001b[39m\u001b[38;5;124m\"\u001b[39m \u001b[38;5;66;03m# throws an error as its not supported\u001b[39;00m\n",
      "\u001b[0;31mTypeError\u001b[0m: 'tuple' object does not support item assignment"
     ]
    }
   ],
   "source": [
    "my_tuple[0] = \"Sai\" # throws an error as its not supported"
   ]
  },
  {
   "cell_type": "markdown",
   "metadata": {},
   "source": [
    "### Using count() and index() methods"
   ]
  },
  {
   "cell_type": "code",
   "execution_count": 81,
   "metadata": {},
   "outputs": [
    {
     "name": "stdout",
     "output_type": "stream",
     "text": [
      "4\n",
      "1\n"
     ]
    }
   ],
   "source": [
    "# Counting occurence using count() method\n",
    "print(my_tuple.count(100))\n",
    "\n",
    "# Finding the index of the item by passing the value\n",
    "print(my_tuple.index('Sai Kiran'))"
   ]
  }
 ],
 "metadata": {
  "kernelspec": {
   "display_name": "Python 3",
   "language": "python",
   "name": "python3"
  },
  "language_info": {
   "codemirror_mode": {
    "name": "ipython",
    "version": 3
   },
   "file_extension": ".py",
   "mimetype": "text/x-python",
   "name": "python",
   "nbconvert_exporter": "python",
   "pygments_lexer": "ipython3",
   "version": "3.13.0"
  }
 },
 "nbformat": 4,
 "nbformat_minor": 2
}
