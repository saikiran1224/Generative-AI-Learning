{
 "cells": [
  {
   "cell_type": "markdown",
   "metadata": {},
   "source": [
    "## Data Structures and Boolean"
   ]
  },
  {
   "cell_type": "markdown",
   "metadata": {},
   "source": [
    "### Boolean variables"
   ]
  },
  {
   "cell_type": "markdown",
   "metadata": {},
   "source": [
    "In python, boolean variables are considered as `True` and `False` a.k.a truth values.\n",
    "\n",
    "`bool()` is the function where we can typecast anything data to boolean data type. \n"
   ]
  },
  {
   "cell_type": "code",
   "execution_count": 2,
   "metadata": {},
   "outputs": [
    {
     "name": "stdout",
     "output_type": "stream",
     "text": [
      "True False\n"
     ]
    },
    {
     "data": {
      "text/plain": [
       "(bool, bool)"
      ]
     },
     "execution_count": 2,
     "metadata": {},
     "output_type": "execute_result"
    }
   ],
   "source": [
    "a = True\n",
    "b = False\n",
    "\n",
    "print(a, b)\n",
    "\n",
    "type(a), type(b)"
   ]
  },
  {
   "cell_type": "markdown",
   "metadata": {},
   "source": [
    "### In-built functions returning bool object"
   ]
  },
  {
   "cell_type": "markdown",
   "metadata": {},
   "source": [
    "We can use built-in functions for strings, where we-can do some \n",
    "basic operations like isalpha(), isalnum(), islower(), isupper(),\n",
    "endswith() and startswith(), etc."
   ]
  },
  {
   "cell_type": "code",
   "execution_count": 20,
   "metadata": {},
   "outputs": [
    {
     "name": "stdout",
     "output_type": "stream",
     "text": [
      "checks if all chars are alphabetic False\n",
      "checks if all chars are numbers True\n",
      "checks if string contains digits False\n",
      "checks if string is lower case False\n",
      "checks if string is upper case False\n",
      "True\n",
      "False\n"
     ]
    }
   ],
   "source": [
    "string = \"HiIamfromKakinada1234\"\n",
    "string_2 = \"123\"\n",
    "print(\"checks if all chars are alphabetic\",string.isalpha()) # checks if all chars are alphabetic \n",
    "print(\"checks if all chars are numbers\",string.isalnum()) # checks if all chars are numbers\n",
    "print(\"checks if string contains digits\",string.isdigit()) # checks if string is digit\n",
    "print(\"checks if string is lower case\",string.islower()) # checks if string is lower case\n",
    "print(\"checks if string is upper case\",string.isupper()) # checks if string is upper case\n",
    "\n",
    "print(string.startswith('Hi')) \n",
    "print(string.endswith('a'))"
   ]
  },
  {
   "cell_type": "markdown",
   "metadata": {},
   "source": [
    "### Logical Operators"
   ]
  },
  {
   "cell_type": "markdown",
   "metadata": {},
   "source": [
    "**AND** - returns True only if both condition satisfied\n",
    "\n",
    "**OR** - returns True even if atleast one condition satisfied\n",
    "\n",
    "**NOT** - negation of the current result"
   ]
  },
  {
   "cell_type": "code",
   "execution_count": 23,
   "metadata": {},
   "outputs": [
    {
     "name": "stdout",
     "output_type": "stream",
     "text": [
      "True\n",
      "False\n",
      "False\n",
      "False\n"
     ]
    }
   ],
   "source": [
    "# Both are same values \n",
    "print(True and True) # returns True\n",
    "print(False and False) # returns False as both are not satisifed\n",
    "\n",
    "# Both are different values - returns False since one condition is not satisfied.\n",
    "print(True and False)\n",
    "print(False and True)"
   ]
  },
  {
   "cell_type": "code",
   "execution_count": 24,
   "metadata": {},
   "outputs": [
    {
     "name": "stdout",
     "output_type": "stream",
     "text": [
      "True\n",
      "False\n",
      "True\n",
      "True\n"
     ]
    }
   ],
   "source": [
    "# Both are same values \n",
    "print(True or True) # returns True\n",
    "print(False or False) # returns False as both are not satisifed\n",
    "\n",
    "# Both are different values - returns True since atleast one condition is satisfied.\n",
    "print(True or False)\n",
    "print(False or True)"
   ]
  },
  {
   "cell_type": "code",
   "execution_count": 25,
   "metadata": {},
   "outputs": [
    {
     "name": "stdout",
     "output_type": "stream",
     "text": [
      "False\n",
      "True\n"
     ]
    }
   ],
   "source": [
    "print(not True)\n",
    "\n",
    "print(not (True and False))"
   ]
  }
 ],
 "metadata": {
  "kernelspec": {
   "display_name": "Python 3",
   "language": "python",
   "name": "python3"
  },
  "language_info": {
   "codemirror_mode": {
    "name": "ipython",
    "version": 3
   },
   "file_extension": ".py",
   "mimetype": "text/x-python",
   "name": "python",
   "nbconvert_exporter": "python",
   "pygments_lexer": "ipython3",
   "version": "3.13.0"
  }
 },
 "nbformat": 4,
 "nbformat_minor": 2
}
