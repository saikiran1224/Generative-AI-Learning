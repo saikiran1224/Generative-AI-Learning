{
 "cells": [
  {
   "cell_type": "markdown",
   "metadata": {},
   "source": [
    "## Loops and Functions"
   ]
  },
  {
   "cell_type": "markdown",
   "metadata": {},
   "source": [
    "### Loops\n",
    "\n",
    "Loops are block of statements which are executed repeatedly until the given condition gets satisfied.\n",
    "\n",
    "In python, we have two type of loops:\n",
    "1. `for` loop\n",
    "2. `while` loop"
   ]
  },
  {
   "cell_type": "markdown",
   "metadata": {},
   "source": [
    "#### For loop \n",
    "\n",
    "This loop is used when we know the start pointer. For example, if we need to print numbers from 1 to n, so the loop initialises with 1. \n",
    "\n",
    "for loop syntax is much easy and self-explanatory. In python, we have a special operation where we have the `step` parameter. \n",
    "\n",
    "Using the step parameter, we can either do the increment or decrement.\n",
    "\n",
    "***Syntax***\n",
    "\n",
    "`for iterator in range(start, end, step):\n",
    "    statements`\n"
   ]
  },
  {
   "cell_type": "code",
   "execution_count": 3,
   "metadata": {},
   "outputs": [
    {
     "name": "stdout",
     "output_type": "stream",
     "text": [
      "1 2 3 4 5 6 7 8 9 10 \n",
      "\n",
      "1 3 5 7 9 "
     ]
    }
   ],
   "source": [
    "# printing numbers from 1 to 10\n",
    "for i in range(1, 11, 1): # Note: loop runs from start to end-1\n",
    "    print(i, end=\" \")\n",
    "\n",
    "print(\"\\n\")\n",
    "\n",
    "# printing numbers from 1 to 10 with step 2\n",
    "for i in range(1, 11, 2):\n",
    "    print(i, end=\" \")"
   ]
  },
  {
   "cell_type": "markdown",
   "metadata": {},
   "source": [
    "#### Iterating list using for loop\n",
    "\n",
    "While handling list, we can use different syntax where we can ditectly iterate without specifying the range.\n",
    "\n",
    "`for iterator in list_variable: \n",
    "    print(iterator)`"
   ]
  },
  {
   "cell_type": "code",
   "execution_count": 4,
   "metadata": {},
   "outputs": [
    {
     "name": "stdout",
     "output_type": "stream",
     "text": [
      "53\n",
      "32\n",
      "21\n",
      "67\n",
      "90\n"
     ]
    }
   ],
   "source": [
    "# initializing a list\n",
    "li = [53, 32, 21, 67, 90]\n",
    "\n",
    "# looping over list\n",
    "for i in li:\n",
    "    print(i)"
   ]
  },
  {
   "cell_type": "markdown",
   "metadata": {},
   "source": [
    "### While loop \n",
    "\n",
    "On the contrary of for loop, `while` loop can be used if we are unaware of the start index or not sure where the loop can be initialized. \n",
    "\n",
    "Here the while loop runs until the condition gets false, or we can terminate the loop using the `break` statement. \n",
    "\n",
    "***Syntax***\n",
    "\n",
    "`while(condition): statements`"
   ]
  },
  {
   "cell_type": "code",
   "execution_count": 7,
   "metadata": {},
   "outputs": [
    {
     "name": "stdout",
     "output_type": "stream",
     "text": [
      "10 9 8 7 6 5 4 3 2 1 "
     ]
    }
   ],
   "source": [
    "# printing n numbers backwards from n to 1\n",
    "n = 10\n",
    "\n",
    "while(n >= 1):\n",
    "    print(n, end=\" \")\n",
    "    n-=1"
   ]
  },
  {
   "cell_type": "markdown",
   "metadata": {},
   "source": [
    "#### Using `else` block in while loop\n",
    "\n",
    "`else` block will execute whenever the while loop condition gets failed or an exception occurs."
   ]
  },
  {
   "cell_type": "code",
   "execution_count": 10,
   "metadata": {},
   "outputs": [
    {
     "name": "stdout",
     "output_type": "stream",
     "text": [
      "10 9 8 7 6 5 4 3 2 1 0\n"
     ]
    }
   ],
   "source": [
    "# Using the same example shown above\n",
    "\n",
    "# printing n numbers backwards from n to 1\n",
    "n = 10\n",
    "\n",
    "while(n >= 1):\n",
    "    print(n, end=\" \")\n",
    "    n-=1\n",
    "else: # gets executed when above condition fails.\n",
    "    print(0) "
   ]
  },
  {
   "cell_type": "markdown",
   "metadata": {},
   "source": [
    "### Functions\n",
    "\n",
    "Functions are defined as block of code which only runs when its called."
   ]
  },
  {
   "cell_type": "markdown",
   "metadata": {},
   "source": [
    "#### Creating a generic function"
   ]
  },
  {
   "cell_type": "code",
   "execution_count": 1,
   "metadata": {},
   "outputs": [
    {
     "name": "stdout",
     "output_type": "stream",
     "text": [
      "Hello World\n"
     ]
    }
   ],
   "source": [
    "def sample_function():\n",
    "    print(\"Hello World\")\n",
    "\n",
    "sample_function()"
   ]
  },
  {
   "cell_type": "markdown",
   "metadata": {},
   "source": [
    "#### Passing arguments to the function"
   ]
  },
  {
   "cell_type": "code",
   "execution_count": 3,
   "metadata": {},
   "outputs": [
    {
     "name": "stdout",
     "output_type": "stream",
     "text": [
      "Hello Sai Kiran\n"
     ]
    }
   ],
   "source": [
    "def sample_function(name): # in functions POV, name is considered as a parameter \n",
    "    print(\"Hello\", name)\n",
    "\n",
    "sample_function(name = \"Sai Kiran\") # The data which we are passing in the function call is said to be argument."
   ]
  },
  {
   "cell_type": "markdown",
   "metadata": {},
   "source": [
    "#### Keyword arguments "
   ]
  },
  {
   "cell_type": "code",
   "execution_count": 6,
   "metadata": {},
   "outputs": [
    {
     "name": "stdout",
     "output_type": "stream",
     "text": [
      "My name is Sai Kiran and last name is Kopparthi with age 25\n"
     ]
    }
   ],
   "source": [
    "def sample_function(firstname, lastname, age):\n",
    "    print(\"My name is \" + firstname + \" and last name is \" + lastname + \" with age \" + str(age))\n",
    "\n",
    "sample_function(firstname=\"Sai Kiran\", age = 25, lastname=\"Kopparthi\") # Notice the change in the sequence"
   ]
  },
  {
   "cell_type": "markdown",
   "metadata": {},
   "source": [
    "#### Default parameter value\n",
    "\n",
    "Mostly useful when the parameter is not passed to the function. Hence, control prints the default value. \n",
    "\n",
    "**Note:** If any argument is passed, then it gets overridden with the default value."
   ]
  },
  {
   "cell_type": "code",
   "execution_count": 7,
   "metadata": {},
   "outputs": [
    {
     "name": "stdout",
     "output_type": "stream",
     "text": [
      "Hello, Sai Kiran\n",
      "Hello, Sai Gowtham\n"
     ]
    }
   ],
   "source": [
    "def sample_function(firstname=\"Sai Kiran\"):\n",
    "    print(\"Hello,\", firstname)\n",
    "\n",
    "sample_function() # not passing any parameter.\n",
    "\n",
    "sample_function(\"Sai Gowtham\") # overriding the default parameter"
   ]
  },
  {
   "cell_type": "markdown",
   "metadata": {},
   "source": [
    "#### Return value"
   ]
  },
  {
   "cell_type": "code",
   "execution_count": 8,
   "metadata": {},
   "outputs": [
    {
     "name": "stdout",
     "output_type": "stream",
     "text": [
      "9\n"
     ]
    }
   ],
   "source": [
    "def add(a, b, c):\n",
    "    return a + b + c\n",
    "\n",
    "print(add(3, 2, 4))"
   ]
  },
  {
   "cell_type": "markdown",
   "metadata": {},
   "source": [
    "#### Pass statement\n",
    "\n",
    "This statement can be used when the function block is empty and no statements are written inside. To avoid error, after function declaration we can keep this statement inside."
   ]
  },
  {
   "cell_type": "code",
   "execution_count": 9,
   "metadata": {},
   "outputs": [],
   "source": [
    "def sample_function():\n",
    "    pass"
   ]
  }
 ],
 "metadata": {
  "kernelspec": {
   "display_name": "Python 3",
   "language": "python",
   "name": "python3"
  },
  "language_info": {
   "codemirror_mode": {
    "name": "ipython",
    "version": 3
   },
   "file_extension": ".py",
   "mimetype": "text/x-python",
   "name": "python",
   "nbconvert_exporter": "python",
   "pygments_lexer": "ipython3",
   "version": "3.13.0"
  }
 },
 "nbformat": 4,
 "nbformat_minor": 2
}
