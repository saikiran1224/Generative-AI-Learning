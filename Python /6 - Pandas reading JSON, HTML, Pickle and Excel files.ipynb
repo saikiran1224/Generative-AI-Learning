{
 "cells": [
  {
   "cell_type": "markdown",
   "metadata": {},
   "source": [
    "# Reading JSON, HTML, Pickle and Excel files using Pandas library\n",
    "\n",
    "We will be using the pandas library for reading JSON, HTML, Pickle and excel files."
   ]
  },
  {
   "cell_type": "code",
   "execution_count": 2,
   "metadata": {},
   "outputs": [],
   "source": [
    "import pandas as pd\n",
    "import numpy as np"
   ]
  },
  {
   "cell_type": "markdown",
   "metadata": {},
   "source": [
    "## Reading JSON "
   ]
  },
  {
   "cell_type": "code",
   "execution_count": 3,
   "metadata": {},
   "outputs": [
    {
     "name": "stderr",
     "output_type": "stream",
     "text": [
      "/var/folders/46/93r9g3kj69s0c5zhwfq5y_s40000gn/T/ipykernel_1319/1450547549.py:3: FutureWarning: Passing literal json to 'read_json' is deprecated and will be removed in a future version. To read from a literal string, wrap it in a 'StringIO' object.\n",
      "  df = pd.read_json(data)\n"
     ]
    },
    {
     "data": {
      "text/html": [
       "<div>\n",
       "<style scoped>\n",
       "    .dataframe tbody tr th:only-of-type {\n",
       "        vertical-align: middle;\n",
       "    }\n",
       "\n",
       "    .dataframe tbody tr th {\n",
       "        vertical-align: top;\n",
       "    }\n",
       "\n",
       "    .dataframe thead th {\n",
       "        text-align: right;\n",
       "    }\n",
       "</style>\n",
       "<table border=\"1\" class=\"dataframe\">\n",
       "  <thead>\n",
       "    <tr style=\"text-align: right;\">\n",
       "      <th></th>\n",
       "      <th>employee_name</th>\n",
       "      <th>email</th>\n",
       "      <th>job_profile</th>\n",
       "    </tr>\n",
       "  </thead>\n",
       "  <tbody>\n",
       "    <tr>\n",
       "      <th>0</th>\n",
       "      <td>Sai Kiran</td>\n",
       "      <td>knvrssaikiran@gmail.com</td>\n",
       "      <td>{'title1': 'Teamlead', 'title2': 'Senior devel...</td>\n",
       "    </tr>\n",
       "  </tbody>\n",
       "</table>\n",
       "</div>"
      ],
      "text/plain": [
       "  employee_name                    email  \\\n",
       "0     Sai Kiran  knvrssaikiran@gmail.com   \n",
       "\n",
       "                                         job_profile  \n",
       "0  {'title1': 'Teamlead', 'title2': 'Senior devel...  "
      ]
     },
     "execution_count": 3,
     "metadata": {},
     "output_type": "execute_result"
    }
   ],
   "source": [
    "data = '{\"employee_name\" : \"Sai Kiran\", \"email\" : \"knvrssaikiran@gmail.com\", \"job_profile\" : [{\"title1\" : \"Teamlead\", \"title2\" : \"Senior developer\"}]}'\n",
    "\n",
    "df = pd.read_json(data)\n",
    "\n",
    "df"
   ]
  },
  {
   "cell_type": "code",
   "execution_count": 4,
   "metadata": {},
   "outputs": [
    {
     "data": {
      "text/plain": [
       "'{\"employee_name\":{\"0\":\"Sai Kiran\"},\"email\":{\"0\":\"knvrssaikiran@gmail.com\"},\"job_profile\":{\"0\":{\"title1\":\"Teamlead\",\"title2\":\"Senior developer\"}}}'"
      ]
     },
     "execution_count": 4,
     "metadata": {},
     "output_type": "execute_result"
    }
   ],
   "source": [
    "# converting json to different formats\n",
    "\n",
    "df.to_json()"
   ]
  },
  {
   "cell_type": "code",
   "execution_count": 5,
   "metadata": {},
   "outputs": [
    {
     "data": {
      "text/plain": [
       "'[{\"employee_name\":\"Sai Kiran\",\"email\":\"knvrssaikiran@gmail.com\",\"job_profile\":{\"title1\":\"Teamlead\",\"title2\":\"Senior developer\"}}]'"
      ]
     },
     "execution_count": 5,
     "metadata": {},
     "output_type": "execute_result"
    }
   ],
   "source": [
    "# converts json in form of records or else the data will be considered in the form of key-value pairs\n",
    "\n",
    "df.to_json(orient=\"records\") "
   ]
  },
  {
   "cell_type": "markdown",
   "metadata": {},
   "source": [
    "## Reading HTML"
   ]
  },
  {
   "cell_type": "code",
   "execution_count": 6,
   "metadata": {},
   "outputs": [
    {
     "name": "stdout",
     "output_type": "stream",
     "text": [
      "Requirement already satisfied: lxml in /Library/Frameworks/Python.framework/Versions/3.13/lib/python3.13/site-packages (5.3.0)\n",
      "\n",
      "\u001b[1m[\u001b[0m\u001b[34;49mnotice\u001b[0m\u001b[1;39;49m]\u001b[0m\u001b[39;49m A new release of pip is available: \u001b[0m\u001b[31;49m24.2\u001b[0m\u001b[39;49m -> \u001b[0m\u001b[32;49m24.3.1\u001b[0m\n",
      "\u001b[1m[\u001b[0m\u001b[34;49mnotice\u001b[0m\u001b[1;39;49m]\u001b[0m\u001b[39;49m To update, run: \u001b[0m\u001b[32;49mpip3 install --upgrade pip\u001b[0m\n",
      "Note: you may need to restart the kernel to use updated packages.\n"
     ]
    }
   ],
   "source": [
    "pip install lxml # library required to read html page from internet"
   ]
  },
  {
   "cell_type": "code",
   "execution_count": 7,
   "metadata": {},
   "outputs": [
    {
     "data": {
      "text/plain": [
       "[   MCC  MNC Brand      Operator       Status Bands (MHz)  \\\n",
       " 0    1    1  TEST  Test network  Operational         any   \n",
       " 1    1    1  TEST  Test network  Operational         any   \n",
       " 2  999   99   NaN  Internal use  Operational         any   \n",
       " 3  999  999   NaN  Internal use  Operational         any   \n",
       " \n",
       "                               References and notes  \n",
       " 0                                              NaN  \n",
       " 1                                              NaN  \n",
       " 2  Internal use in private networks, no roaming[6]  \n",
       " 3  Internal use in private networks, no roaming[6]  ,\n",
       "      Mobile country code                                    Country ISO 3166  \\\n",
       " 0                    289                                 A Abkhazia    GE-AB   \n",
       " 1                    412                                Afghanistan       AF   \n",
       " 2                    276                                    Albania       AL   \n",
       " 3                    603                                    Algeria       DZ   \n",
       " 4                    544  American Samoa (United States of America)       AS   \n",
       " ..                   ...                                        ...      ...   \n",
       " 247                  452                                    Vietnam       VN   \n",
       " 248                  543                        W Wallis and Futuna       WF   \n",
       " 249                  421                                    Y Yemen       YE   \n",
       " 250                  645                                   Z Zambia       ZM   \n",
       " 251                  648                                   Zimbabwe       ZW   \n",
       " \n",
       "                                   Mobile network codes National MNC authority  \\\n",
       " 0             List of mobile network codes in Abkhazia                    NaN   \n",
       " 1          List of mobile network codes in Afghanistan                    NaN   \n",
       " 2              List of mobile network codes in Albania                    NaN   \n",
       " 3              List of mobile network codes in Algeria                    NaN   \n",
       " 4       List of mobile network codes in American Samoa                    NaN   \n",
       " ..                                                 ...                    ...   \n",
       " 247        List of mobile network codes in the Vietnam                    NaN   \n",
       " 248  List of mobile network codes in Wallis and Futuna                    NaN   \n",
       " 249          List of mobile network codes in the Yemen                    NaN   \n",
       " 250             List of mobile network codes in Zambia                    NaN   \n",
       " 251           List of mobile network codes in Zimbabwe                    NaN   \n",
       " \n",
       "                       Remarks  \n",
       " 0    MCC is not listed by ITU  \n",
       " 1                         NaN  \n",
       " 2                         NaN  \n",
       " 3                         NaN  \n",
       " 4                         NaN  \n",
       " ..                        ...  \n",
       " 247                       NaN  \n",
       " 248                       NaN  \n",
       " 249                       NaN  \n",
       " 250                       NaN  \n",
       " 251                       NaN  \n",
       " \n",
       " [252 rows x 6 columns],\n",
       "      MCC  MNC     Brand                  Operator           Status  \\\n",
       " 0    901    1       NaN                   Webbing          Unknown   \n",
       " 1    901    2       NaN            GlobalmatiX AG          Unknown   \n",
       " 2    901    3   Iridium                       NaN      Operational   \n",
       " 3    901    4       NaN  BBIX Singapore Pte. Ltd.          Unknown   \n",
       " 4    901    5       NaN      Thuraya RMSS Network      Operational   \n",
       " ..   ...  ...       ...                       ...              ...   \n",
       " 99   902    1       NaN        MulteFire Alliance      Operational   \n",
       " 100  991    1       NaN    World's Global Telecom  Not operational   \n",
       " 101  991    2  5G Croco               Orange S.A.  Not operational   \n",
       " 102  991    3       NaN                 Halys SAS  Not operational   \n",
       " 103  991    4       NaN              E-Space Inc.          Unknown   \n",
       " \n",
       "     Bands (MHz)                               References and notes  \n",
       " 0          MVNO            Former ICO Satellite Management[51][52]  \n",
       " 1       Unknown  Former Sense Communications International; veh...  \n",
       " 2     Satellite                                                NaN  \n",
       " 3       Unknown                              Former Globalstar[54]  \n",
       " 4     Satellite                                                NaN  \n",
       " ..          ...                                                ...  \n",
       " 99          LTE                                           [6][123]  \n",
       " 100     Unknown  temporarily assigned until 15 January 2021[102...  \n",
       " 101          5G  temporarily assigned until 6 August 2022[125][...  \n",
       " 102     Unknown  temporary assignment for trial until 5 April 2...  \n",
       " 103   Satellite  temporary assignment for trial until 17 Oct 20...  \n",
       " \n",
       " [104 rows x 7 columns],\n",
       "    MCC  MNC     Brand                 Operator       Status Bands (MHz)  \\\n",
       " 0  995    1  FonePlus  Sure (Diego Garcia) Ltd  Operational     GSM 900   \n",
       " \n",
       "                                 References and notes  \n",
       " 0  There appears to be no officially assigned MCC...  ,\n",
       "                                vteTelecommunications  \\\n",
       " 0                                            History   \n",
       " 1                                           Pioneers   \n",
       " 2                                 Transmission media   \n",
       " 3                     Network topology and switching   \n",
       " 4                                       Multiplexing   \n",
       " 5                                           Concepts   \n",
       " 6                                   Types of network   \n",
       " 7                                   Notable networks   \n",
       " 8                                          Locations   \n",
       " 9  Telecommunication portal  Category  Outline  C...   \n",
       " \n",
       "                              vteTelecommunications.1  \n",
       " 0  Beacon Broadcasting Cable protection system Ca...  \n",
       " 1  Nasir Ahmed Edwin Howard Armstrong Mohamed M. ...  \n",
       " 2  Coaxial cable Fiber-optic communication optica...  \n",
       " 3  Bandwidth Links Nodes terminal Network switchi...  \n",
       " 4  Space-division Frequency-division Time-divisio...  \n",
       " 5  Communication protocol Computer network Data t...  \n",
       " 6  Cellular network Ethernet ISDN LAN Mobile NGN ...  \n",
       " 7  ARPANET BITNET CYCLADES FidoNet Internet Inter...  \n",
       " 8  Africa Americas North South Antarctica Asia Eu...  \n",
       " 9  Telecommunication portal  Category  Outline  C...  ]"
      ]
     },
     "execution_count": 7,
     "metadata": {},
     "output_type": "execute_result"
    }
   ],
   "source": [
    "url = 'http://en.wikipedia.org/wiki/Mobile_country_code'\n",
    "\n",
    "pd.read_html(url)"
   ]
  },
  {
   "cell_type": "markdown",
   "metadata": {},
   "source": [
    "## Reading Excel file\n",
    "\n",
    "Similar to CSV file, we can simply read the data from Excel using the pandas in-built `pd.read_excel(filename)` function."
   ]
  },
  {
   "cell_type": "code",
   "execution_count": 22,
   "metadata": {},
   "outputs": [
    {
     "data": {
      "text/html": [
       "<div>\n",
       "<style scoped>\n",
       "    .dataframe tbody tr th:only-of-type {\n",
       "        vertical-align: middle;\n",
       "    }\n",
       "\n",
       "    .dataframe tbody tr th {\n",
       "        vertical-align: top;\n",
       "    }\n",
       "\n",
       "    .dataframe thead th {\n",
       "        text-align: right;\n",
       "    }\n",
       "</style>\n",
       "<table border=\"1\" class=\"dataframe\">\n",
       "  <thead>\n",
       "    <tr style=\"text-align: right;\">\n",
       "      <th></th>\n",
       "      <th>Name</th>\n",
       "      <th>City</th>\n",
       "      <th>Column 3</th>\n",
       "      <th>Column 4</th>\n",
       "      <th>Column 5</th>\n",
       "      <th>Column 6</th>\n",
       "    </tr>\n",
       "  </thead>\n",
       "  <tbody>\n",
       "    <tr>\n",
       "      <th>0</th>\n",
       "      <td>Sai</td>\n",
       "      <td>Kakinada</td>\n",
       "      <td>NaN</td>\n",
       "      <td>NaN</td>\n",
       "      <td>NaN</td>\n",
       "      <td>NaN</td>\n",
       "    </tr>\n",
       "    <tr>\n",
       "      <th>1</th>\n",
       "      <td>Kiran</td>\n",
       "      <td>Visakhapatnam</td>\n",
       "      <td>NaN</td>\n",
       "      <td>NaN</td>\n",
       "      <td>NaN</td>\n",
       "      <td>NaN</td>\n",
       "    </tr>\n",
       "    <tr>\n",
       "      <th>2</th>\n",
       "      <td>Gowtham</td>\n",
       "      <td>Vijayawada</td>\n",
       "      <td>NaN</td>\n",
       "      <td>NaN</td>\n",
       "      <td>NaN</td>\n",
       "      <td>NaN</td>\n",
       "    </tr>\n",
       "  </tbody>\n",
       "</table>\n",
       "</div>"
      ],
      "text/plain": [
       "      Name           City  Column 3  Column 4  Column 5  Column 6\n",
       "0      Sai       Kakinada       NaN       NaN       NaN       NaN\n",
       "1    Kiran  Visakhapatnam       NaN       NaN       NaN       NaN\n",
       "2  Gowtham     Vijayawada       NaN       NaN       NaN       NaN"
      ]
     },
     "execution_count": 22,
     "metadata": {},
     "output_type": "execute_result"
    }
   ],
   "source": [
    "# importing excel file\n",
    "\n",
    "df = pd.read_excel(\"persons.xlsx\")\n",
    "\n",
    "df"
   ]
  },
  {
   "cell_type": "markdown",
   "metadata": {},
   "source": [
    "## Pickling\n",
    "\n",
    "This concept will be mostly helpful for Machine Learning algorithms. Pickling helps us to store any data structure in form of pickle, and for which later on we can easily import it. Be it an algorithm, excel, CSV file, etc.\n",
    "\n",
    "Once Kernel is re-started the whole data or memory gets erased, to avoid this if we use pickle we can easily import the data from the file. "
   ]
  },
  {
   "cell_type": "code",
   "execution_count": 23,
   "metadata": {},
   "outputs": [],
   "source": [
    "df.to_pickle(\"excel_pickle\") # converting the above data structure into pickle."
   ]
  },
  {
   "cell_type": "code",
   "execution_count": 24,
   "metadata": {},
   "outputs": [
    {
     "data": {
      "text/html": [
       "<div>\n",
       "<style scoped>\n",
       "    .dataframe tbody tr th:only-of-type {\n",
       "        vertical-align: middle;\n",
       "    }\n",
       "\n",
       "    .dataframe tbody tr th {\n",
       "        vertical-align: top;\n",
       "    }\n",
       "\n",
       "    .dataframe thead th {\n",
       "        text-align: right;\n",
       "    }\n",
       "</style>\n",
       "<table border=\"1\" class=\"dataframe\">\n",
       "  <thead>\n",
       "    <tr style=\"text-align: right;\">\n",
       "      <th></th>\n",
       "      <th>Name</th>\n",
       "      <th>City</th>\n",
       "      <th>Column 3</th>\n",
       "      <th>Column 4</th>\n",
       "      <th>Column 5</th>\n",
       "      <th>Column 6</th>\n",
       "    </tr>\n",
       "  </thead>\n",
       "  <tbody>\n",
       "    <tr>\n",
       "      <th>0</th>\n",
       "      <td>Sai</td>\n",
       "      <td>Kakinada</td>\n",
       "      <td>NaN</td>\n",
       "      <td>NaN</td>\n",
       "      <td>NaN</td>\n",
       "      <td>NaN</td>\n",
       "    </tr>\n",
       "    <tr>\n",
       "      <th>1</th>\n",
       "      <td>Kiran</td>\n",
       "      <td>Visakhapatnam</td>\n",
       "      <td>NaN</td>\n",
       "      <td>NaN</td>\n",
       "      <td>NaN</td>\n",
       "      <td>NaN</td>\n",
       "    </tr>\n",
       "    <tr>\n",
       "      <th>2</th>\n",
       "      <td>Gowtham</td>\n",
       "      <td>Vijayawada</td>\n",
       "      <td>NaN</td>\n",
       "      <td>NaN</td>\n",
       "      <td>NaN</td>\n",
       "      <td>NaN</td>\n",
       "    </tr>\n",
       "  </tbody>\n",
       "</table>\n",
       "</div>"
      ],
      "text/plain": [
       "      Name           City  Column 3  Column 4  Column 5  Column 6\n",
       "0      Sai       Kakinada       NaN       NaN       NaN       NaN\n",
       "1    Kiran  Visakhapatnam       NaN       NaN       NaN       NaN\n",
       "2  Gowtham     Vijayawada       NaN       NaN       NaN       NaN"
      ]
     },
     "execution_count": 24,
     "metadata": {},
     "output_type": "execute_result"
    }
   ],
   "source": [
    "# reading back the data that we saved in form of pickle.\n",
    "\n",
    "pd.read_pickle(\"excel_pickle\")"
   ]
  }
 ],
 "metadata": {
  "kernelspec": {
   "display_name": "Python 3",
   "language": "python",
   "name": "python3"
  },
  "language_info": {
   "codemirror_mode": {
    "name": "ipython",
    "version": 3
   },
   "file_extension": ".py",
   "mimetype": "text/x-python",
   "name": "python",
   "nbconvert_exporter": "python",
   "pygments_lexer": "ipython3",
   "version": "3.13.0"
  }
 },
 "nbformat": 4,
 "nbformat_minor": 2
}
