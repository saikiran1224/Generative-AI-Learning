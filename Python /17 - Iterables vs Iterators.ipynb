{
 "cells": [
  {
   "cell_type": "markdown",
   "metadata": {},
   "source": [
    "# List Iterables vs Iterators\n",
    "\n",
    "## Iterable \n",
    "For example, list is an iterable where all the memory gets initialized at once. For example, we need to store 1000 elements at once, so all the data gets stored in memory. \n",
    "\n",
    "## Iterator\n",
    "Consider the same example as above, the whole data 1000 elements will not be stored in memory at once. Instead, if we convert the list into iterator we can extract one element by one using the next function, so everytime we call the next function then only the memory gets initialized. \n",
    "\n",
    "> ### In short, Iterator is like a dynamic memory allocation."
   ]
  },
  {
   "cell_type": "markdown",
   "metadata": {},
   "source": [
    "## List is Iterable.\n",
    "\n",
    "It means that all the values are locating in some memory location. While executing the loop, we are iterating over the memory location."
   ]
  },
  {
   "cell_type": "code",
   "execution_count": 8,
   "metadata": {},
   "outputs": [
    {
     "name": "stdout",
     "output_type": "stream",
     "text": [
      "0 1 2 3 4 5 6 7 8 9 "
     ]
    }
   ],
   "source": [
    "# iterating a list\n",
    "\n",
    "li = list(range(10))\n",
    "\n",
    "for i in li: \n",
    "    print(i, end=\" \")"
   ]
  },
  {
   "cell_type": "markdown",
   "metadata": {},
   "source": [
    "# Using List with iter\n",
    "\n",
    "`iter()` creates a list_iterator, but to access the next element we need to use `next()` function.\n",
    "\n",
    "In this case, the whole memory wont be initialized at once compared to list.\n",
    "\n",
    "**This mostly helps when we have more data and to avoid storing all data at once, we can use the iterator i.e., iter() to extract element one by one.**\n",
    "\n",
    "<b><u>Note:</u></b> While accessing elements one by one using the next function, and once the elements in the list is completed, then it will throw an error. \n",
    "\n",
    "In for loop, this exception handling for this error is already in-place."
   ]
  },
  {
   "cell_type": "code",
   "execution_count": 5,
   "metadata": {},
   "outputs": [
    {
     "data": {
      "text/plain": [
       "<list_iterator at 0x10489fe50>"
      ]
     },
     "execution_count": 5,
     "metadata": {},
     "output_type": "execute_result"
    }
   ],
   "source": [
    "# creating iter for the above list\n",
    "\n",
    "list1 = iter(li)\n",
    "\n",
    "list1 # creates an list_iterator"
   ]
  },
  {
   "cell_type": "code",
   "execution_count": 6,
   "metadata": {},
   "outputs": [
    {
     "data": {
      "text/plain": [
       "0"
      ]
     },
     "execution_count": 6,
     "metadata": {},
     "output_type": "execute_result"
    }
   ],
   "source": [
    "# Using next(iter) to access the next element\n",
    "\n",
    "next(list1)"
   ]
  },
  {
   "cell_type": "code",
   "execution_count": 7,
   "metadata": {},
   "outputs": [
    {
     "data": {
      "text/plain": [
       "1"
      ]
     },
     "execution_count": 7,
     "metadata": {},
     "output_type": "execute_result"
    }
   ],
   "source": [
    "next(list1)\n"
   ]
  }
 ],
 "metadata": {
  "kernelspec": {
   "display_name": "Python 3",
   "language": "python",
   "name": "python3"
  },
  "language_info": {
   "codemirror_mode": {
    "name": "ipython",
    "version": 3
   },
   "file_extension": ".py",
   "mimetype": "text/x-python",
   "name": "python",
   "nbconvert_exporter": "python",
   "pygments_lexer": "ipython3",
   "version": "3.13.0"
  }
 },
 "nbformat": 4,
 "nbformat_minor": 2
}
