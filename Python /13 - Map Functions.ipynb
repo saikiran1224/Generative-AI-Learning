{
 "cells": [
  {
   "cell_type": "markdown",
   "metadata": {},
   "source": [
    "# Map Functions\n",
    "\n",
    "It is very handy function in python."
   ]
  },
  {
   "cell_type": "markdown",
   "metadata": {},
   "source": [
    "## Function to determine even or odd"
   ]
  },
  {
   "cell_type": "code",
   "execution_count": 2,
   "metadata": {},
   "outputs": [],
   "source": [
    "def even_or_odd(num): \n",
    "\n",
    "    if num%2 == 0:\n",
    "        print(\"Given number {} is even\".format(num))\n",
    "    else:\n",
    "        print(\"Given number {} is odd\".format(num))"
   ]
  },
  {
   "cell_type": "markdown",
   "metadata": {},
   "source": [
    "## Problem statement\n",
    "\n",
    "Given a list of elements, apply the `even_or_odd` function on all the list elements and provide output."
   ]
  },
  {
   "cell_type": "code",
   "execution_count": 3,
   "metadata": {},
   "outputs": [],
   "source": [
    "li = [1, 2, 3, 56, 43, 21, 6, 78, 95, 42, 22]"
   ]
  },
  {
   "cell_type": "code",
   "execution_count": 8,
   "metadata": {},
   "outputs": [
    {
     "data": {
      "text/plain": [
       "<map at 0x10829fc10>"
      ]
     },
     "execution_count": 8,
     "metadata": {},
     "output_type": "execute_result"
    }
   ],
   "source": [
    "# Syntax: map(function_to_be_applied, iterable)\n",
    "\n",
    "map(even_or_odd, li) # Uses lazy loading technique so memory wont get instantiated."
   ]
  },
  {
   "cell_type": "code",
   "execution_count": 9,
   "metadata": {},
   "outputs": [
    {
     "name": "stdout",
     "output_type": "stream",
     "text": [
      "Given number 1 is odd\n",
      "Given number 2 is even\n",
      "Given number 3 is odd\n",
      "Given number 56 is even\n",
      "Given number 43 is odd\n",
      "Given number 21 is odd\n",
      "Given number 6 is even\n",
      "Given number 78 is even\n",
      "Given number 95 is odd\n",
      "Given number 42 is even\n",
      "Given number 22 is even\n"
     ]
    },
    {
     "data": {
      "text/plain": [
       "[None, None, None, None, None, None, None, None, None, None, None]"
      ]
     },
     "execution_count": 9,
     "metadata": {},
     "output_type": "execute_result"
    }
   ],
   "source": [
    "# To instantiate the memory, we are passing this in form of list.\n",
    "list(map(even_or_odd, li)) "
   ]
  }
 ],
 "metadata": {
  "kernelspec": {
   "display_name": "Python 3",
   "language": "python",
   "name": "python3"
  },
  "language_info": {
   "codemirror_mode": {
    "name": "ipython",
    "version": 3
   },
   "file_extension": ".py",
   "mimetype": "text/x-python",
   "name": "python",
   "nbconvert_exporter": "python",
   "pygments_lexer": "ipython3",
   "version": "3.13.0"
  }
 },
 "nbformat": 4,
 "nbformat_minor": 2
}
