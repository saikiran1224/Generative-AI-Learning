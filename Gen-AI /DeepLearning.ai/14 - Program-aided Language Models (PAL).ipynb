{
 "cells": [
  {
   "cell_type": "markdown",
   "metadata": {},
   "source": [
    "# Program-aided Language Model (PAL)"
   ]
  },
  {
   "cell_type": "markdown",
   "metadata": {},
   "source": [
    "By using Chain-of-thought approach we are able to solve some complex reasoning problems but still there are cases where the Chain-of-thought approach might fail and not provide the required results. \n",
    "\n",
    "Basically when a question like **What is 500/23?** is asked to an LLM, it simply predicts the next nearest token but it wont do any Mathematical Calculation in the inference.\n",
    "\n",
    "To solve this and improve the LLMs capability of handling such complex mathematical calculations, Program-aided Language Model (PAL) is introduced.\n",
    "\n"
   ]
  },
  {
   "cell_type": "markdown",
   "metadata": {},
   "source": [
    "## Introduction of PAL\n",
    "\n",
    "- It uses the combined power of Chain-of-thought approach along with an external Interpreter. \n",
    "\n",
    "- In our one-shot prompt we will prvoide python statements along with our thought process. Similarly LLM also produces the same during the CoT approach in its completion.\n",
    "\n",
    "- We will then extract the statements and execute in an Python interpreter and return the result back to the LLM, which helps the LLM to produce a best and correct answer."
   ]
  },
  {
   "cell_type": "markdown",
   "metadata": {},
   "source": [
    "Below picture shows better understanding of PAL: \n",
    "\n",
    "![Image](https://reasonwithpal.com/static/images/pal_overview.png)"
   ]
  },
  {
   "cell_type": "markdown",
   "metadata": {},
   "source": [
    "<a href=\"https://reasonwithpal.com/static/images/pal_overview.png\">Image Credits</a>"
   ]
  },
  {
   "cell_type": "markdown",
   "metadata": {},
   "source": [
    "## Key points"
   ]
  },
  {
   "cell_type": "markdown",
   "metadata": {},
   "source": [
    "- While Chain of thought approach is solving the reasoning but its failing in solving some major mathematical calculations.\n",
    "\n",
    "- PAL is proven to be successful in doing Complex Mathematical calculations such as: \n",
    "\n",
    "  - Trignometry\n",
    "  \n",
    "  - Calculus\n",
    "  - Integration, etc. \n",
    "\n"
   ]
  }
 ],
 "metadata": {
  "language_info": {
   "name": "python"
  }
 },
 "nbformat": 4,
 "nbformat_minor": 2
}
