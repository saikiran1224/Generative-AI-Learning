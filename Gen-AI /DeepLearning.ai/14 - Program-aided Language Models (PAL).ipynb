{
 "cells": [
  {
   "cell_type": "markdown",
   "metadata": {},
   "source": [
    "# Program-aided Language Model (PAL)"
   ]
  },
  {
   "cell_type": "markdown",
   "metadata": {},
   "source": [
    "By using Chain-of-thought approach we are able to solve some complex reasoning problems but still there are cases where the Chain-of-thought approach might fail and not provide the required results. \n",
    "\n",
    "Basically when a question like **What is 500/23?** is asked to an LLM, it simply predicts the next nearest token but it wont do any Mathematical Calculation in the inference.\n",
    "\n",
    "To solve this and improve the LLMs capability of handling such complex mathematical calculations, Program-aided Language Model (PAL) is introduced.\n",
    "\n"
   ]
  },
  {
   "cell_type": "markdown",
   "metadata": {},
   "source": [
    "## Introduction of PAL"
   ]
  },
  {
   "cell_type": "markdown",
   "metadata": {},
   "source": [
    "Program-aided Language Model (PAL) is a novel approach introduced to enhance the capabilities of Language Models (LMs) in handling complex mathematical calculations. While traditional LMs excel at predicting the next token in a sequence, they often struggle with performing actual mathematical computations during inference.\n",
    "\n",
    "PAL leverages a Chain-of-thought approach to tackle intricate reasoning problems. However, there are scenarios where this approach may fall short and fail to provide accurate results. For instance, when faced with a question like \"What is 500/23?\", a standard LM would predict the next token without performing the necessary mathematical calculation.\n",
    "\n",
    "To address this limitation, PAL integrates program-like functionalities into the LM architecture. By incorporating elements of programming logic, PAL empowers LMs to execute mathematical operations directly, thereby improving their ability to handle complex mathematical tasks. This innovative approach enhances the LM's capacity to engage in sophisticated reasoning and problem-solving, making it a valuable tool for a wide range of applications."
   ]
  },
  {
   "cell_type": "markdown",
   "metadata": {},
   "source": []
  }
 ],
 "metadata": {
  "language_info": {
   "name": "python"
  }
 },
 "nbformat": 4,
 "nbformat_minor": 2
}
