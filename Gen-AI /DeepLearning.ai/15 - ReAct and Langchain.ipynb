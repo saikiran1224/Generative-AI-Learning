{
 "cells": [
  {
   "cell_type": "markdown",
   "metadata": {},
   "source": [
    "# ReAct Framework"
   ]
  },
  {
   "cell_type": "markdown",
   "metadata": {},
   "source": [
    "- ReAct is a framework that combines reasoning with acting. It was designed to improve the accuracy and reliability of large language models (LLMs) by allowing them to dynamically reason, take actions, and observe the results of those actions.\n",
    "\n",
    "- This iterative process, imitates how humans solve problems, helps LLMs make more informed decisions and generate more relevant output.\n",
    "\n",
    "- ReAct agents can use search engines, databases, and other resources to gather information and refine their responses.\n",
    "\n",
    "- Start's with a thought (e.g., a complex question), take an action (e.g., a search), observe the result, and then use the result to further refine the reasoning and decide on the next action to be taken."
   ]
  },
  {
   "cell_type": "markdown",
   "metadata": {},
   "source": [
    "## How it works? \n",
    "\n",
    "The whole process is completely Iterative. ReAct operates on a cycle of thinking, acting, observing, and adapting.\n",
    "\n",
    "- **Step 1 - Reasoning** - LLM uses its language understanding capabilities to analyze the problem and develop a strategy.\n",
    "\n",
    "- **Step 2 - Acting (Action Planning and Execution):** Based on its reasoning, LLM plans and executes specific actions, such as fetching data from external sources.\n",
    "\n",
    "- **Step 3 - Observing:** LLM observes the results of its actions and uses this information to refine its reasoning and plan its next actions. \n",
    "\n",
    "- **Step 4 - Adapting:** LLM adapts its strategy based on the observations it makes. \n"
   ]
  },
  {
   "cell_type": "markdown",
   "metadata": {},
   "source": [
    "> ### Note: PAL and ReAct frameworks works well when used with Large models having atleast more than 1 Billion parameters since they have a higher context window and good understanding capability."
   ]
  },
  {
   "cell_type": "markdown",
   "metadata": {},
   "source": [
    "# Langchain"
   ]
  },
  {
   "cell_type": "markdown",
   "metadata": {},
   "source": [
    "- LangChain is an open-source framework which is primarily used to simplify the development of applications that leverage Large Language Models (LLMs). \n",
    "\n",
    "- It provides tools and abstractions to make it easier to connect LLMs with external data sources and other applications, allowing developers to build more complex and context-aware AI applications. \n",
    "\n",
    "- LangChain provides a standard interface for interacting with various LLMs, making it easier to switch between different models or integrate them into existing workflows. \n",
    "\n",
    "- Langchain has three main components - Prompt Template, Tools and Memory combinely called as \"Chain\". \n",
    "\n",
    "- The main feature of Langhchain is its Tools. It provides lot of tools which we can directly use in our application without thinking about the integration, etc. with our application. "
   ]
  }
 ],
 "metadata": {
  "language_info": {
   "name": "python"
  }
 },
 "nbformat": 4,
 "nbformat_minor": 2
}
