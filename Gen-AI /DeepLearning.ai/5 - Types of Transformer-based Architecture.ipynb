{
 "cells": [
  {
   "cell_type": "markdown",
   "metadata": {},
   "source": [
    "# Types of Transformer Based Architecture"
   ]
  },
  {
   "cell_type": "markdown",
   "metadata": {},
   "source": [
    "Having many types of models available in the Internet but not sure which model needs to be used for our purpose. We need to chose the LLM based on our usecase or the solution which we are developing. \n",
    "\n",
    "Before that, as we know the LLMs are developed using Transformer based Architecture. But there are three types of Transformer based Architecture, they are: \n",
    "\n",
    "1. Encoder-only or Autoencoder\n",
    "\n",
    "2. Decoder-only or Autoregressor\n",
    "\n",
    "3. Encoder and Decoder or Seq2Seq "
   ]
  },
  {
   "cell_type": "markdown",
   "metadata": {},
   "source": []
  }
 ],
 "metadata": {
  "language_info": {
   "name": "python"
  }
 },
 "nbformat": 4,
 "nbformat_minor": 2
}
