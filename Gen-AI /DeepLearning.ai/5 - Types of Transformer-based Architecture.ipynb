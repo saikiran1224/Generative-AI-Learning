{
 "cells": [
  {
   "cell_type": "markdown",
   "metadata": {},
   "source": [
    "# Types of Transformer Based Architecture"
   ]
  },
  {
   "cell_type": "markdown",
   "metadata": {},
   "source": [
    "Having many types of models available in the Internet but not sure which model needs to be used for our purpose. We need to chose the LLM based on our usecase or the solution which we are developing. \n",
    "\n",
    "Before that, as we know the LLMs are developed using Transformer based Architecture. But there are three types of Transformer based Architecture, they are: \n",
    "\n",
    "1. Encoder-only or Autoencoder\n",
    "\n",
    "2. Decoder-only or Autoregressor\n",
    "\n",
    "3. Encoder and Decoder or Seq2Seq "
   ]
  },
  {
   "cell_type": "markdown",
   "metadata": {},
   "source": [
    "## Encoder-only or Auto Encoder Models\n",
    "\n",
    "They are pre-trained using Masked Language Modeling (MLM). It has Bi-directional Context. Main objective is to \"Reconstruct Text\".\n",
    "\n",
    "These models works best and can used in Sentiment Analysis, Named Entity Recognition and Word classification tasks.\n",
    "\n",
    "Eg., BERT and ROBERTA."
   ]
  },
  {
   "cell_type": "markdown",
   "metadata": {},
   "source": [
    "## Decoder-only or Auto Regressor Models"
   ]
  },
  {
   "cell_type": "markdown",
   "metadata": {},
   "source": [
    "They are pre-trained using Causual Language Modeling (CLM). These models have uni-directional context. Main objective is to \"Predict Next Token\".\n",
    "\n",
    "These models are best-suited in use cases like - Text Generation, etc.\n",
    "\n",
    "Eg., GPT, BLOOM"
   ]
  },
  {
   "cell_type": "markdown",
   "metadata": {},
   "source": [
    "## Encoder and Decoder or Sequence-to-Sequence Models"
   ]
  },
  {
   "cell_type": "markdown",
   "metadata": {},
   "source": [
    "These models main objective is to \"Reconstruct Span\" and uses Span Corruption.\n",
    "\n",
    "These models main use cases are Translation, Text Summarization and Question Answering, etc. \n",
    "\n",
    "Eg., T5 and BART."
   ]
  }
 ],
 "metadata": {
  "language_info": {
   "name": "python"
  }
 },
 "nbformat": 4,
 "nbformat_minor": 2
}
