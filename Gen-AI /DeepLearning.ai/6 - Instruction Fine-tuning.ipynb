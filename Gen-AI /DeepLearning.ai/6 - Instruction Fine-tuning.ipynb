{
 "cells": [
  {
   "cell_type": "markdown",
   "metadata": {},
   "source": [
    "# Instruction Fine-tuning"
   ]
  },
  {
   "cell_type": "markdown",
   "metadata": {},
   "source": [
    "Before understanding about fine-tuning, let us have a look on the drawbacks of the in-context learning. \n",
    "\n",
    "## Drawbacks of In-context learning\n",
    "\n",
    "- Smaller models with less parameters will not be able to understand the in-context learning as they are already trained on less amount of data and lacks the ability to idenify the patterns. \n",
    "\n",
    "- Context window will be filled with this examples leaving no space for the instructions to be filled. "
   ]
  },
  {
   "cell_type": "markdown",
   "metadata": {},
   "source": []
  }
 ],
 "metadata": {
  "language_info": {
   "name": "python"
  }
 },
 "nbformat": 4,
 "nbformat_minor": 2
}
