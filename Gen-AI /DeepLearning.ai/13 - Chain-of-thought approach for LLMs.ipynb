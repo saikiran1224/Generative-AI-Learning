{
 "cells": [
  {
   "cell_type": "markdown",
   "metadata": {},
   "source": [
    "# Chain of thought Approach for LLMs"
   ]
  },
  {
   "cell_type": "markdown",
   "metadata": {},
   "source": [
    "Note that LLMs individually are not capable of handling complex reasoning, and mathematical tasks. Hence even if we provide one-shot or few-shot inference we will not get the desired output and we often get a wrong answer. \n",
    "\n",
    "This Chain-of-thought approach helps the LLMs to improve their reasoning of all types of problems. It helps the LLM to think like a human by breaking down the tasks one-by-one. \n",
    "\n",
    "This technique vastly improves the LLM thought process thus providing a best and correct answer.\n",
    "\n",
    "We will better understand about this approach by going-through the below examples: \n",
    "\n",
    "## Case 1 - Without Chain of thought approach\n",
    "\n",
    "Below is an prompt pair using One-shot inference\n",
    "\n",
    "| Prompt | Response | \n",
    "| :-- | :-- |\n",
    "| Roger has 5 Tennis balls. He buys 2 more cans of tennis balls. Each can will have 3 balls. How many Tennis balls does Roger have now? | The answer is 11 (One-shot Example) | \n",
    "| The cafeteria has 23 apples. They brought another 2 crates each containing 10 apples each. How many total apples does the restaurant have? | **The answer is 30 (LLM Generated completion)** | \n"
   ]
  },
  {
   "cell_type": "markdown",
   "metadata": {},
   "source": [
    "Its very clear that LLM was not able to understand the second question even though we provided it with an example. Hence in the next case, we will use the Chain of thought approach and observe how it affects the completion."
   ]
  },
  {
   "cell_type": "markdown",
   "metadata": {},
   "source": [
    "## Case 2 - With Chain of thought approach\n",
    "\n",
    "Below is an prompt pair using One-shot inference\n",
    "\n",
    "| Prompt | Response | \n",
    "| :-- | :-- |\n",
    "| Roger has 5 Tennis balls. He buys 2 more cans of tennis balls. Each can will have 3 balls. How many Tennis balls does Roger have now? | Roger started with 5 balls. 2 Cans of 3 balls each is 6. Hence total balls is 11. | \n",
    "| The cafeteria has 23 apples. They brought another 2 crates each containing 10 apples each. How many total apples does the restaurant have? | **Restaurant has 23 apples. 2 crates each having 10 apples equals to 20 apples. Total will be 43 apples (LLM generated completion)** | "
   ]
  },
  {
   "cell_type": "markdown",
   "metadata": {},
   "source": [
    "As we see, LLM is now able to breakdown the task the way we did in our one-shot example and provided the correct answer. This is how the chain of thought approach makes the LLM solves complex problems in an easy way. "
   ]
  }
 ],
 "metadata": {
  "language_info": {
   "name": "python"
  }
 },
 "nbformat": 4,
 "nbformat_minor": 2
}
