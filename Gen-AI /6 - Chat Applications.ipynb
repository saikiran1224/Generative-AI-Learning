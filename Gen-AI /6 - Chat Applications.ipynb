{
 "cells": [
  {
   "cell_type": "markdown",
   "metadata": {},
   "source": [
    "# Building Chat Applications"
   ]
  },
  {
   "cell_type": "markdown",
   "metadata": {},
   "source": [
    "In our day-to-day life we will use the chatbots in many areas such as Technical support, Customer service, etc. \n",
    "\n",
    "It became a integral part of our human life. We can integrate the Generative AI to these chat applications which makes them look more powerful and so as the new challenges. \n",
    "\n",
    "Two main factors which we need to consider while integrating the Generative AI are:\n",
    "\n",
    "- Building the app from sratch using AI \n",
    "\n",
    "- Monitoring the application - Whether they are working based on the six principles of responsible AI"
   ]
  },
  {
   "cell_type": "markdown",
   "metadata": {},
   "source": [
    "## Integrating Generative AI into chat applications"
   ]
  },
  {
   "cell_type": "markdown",
   "metadata": {},
   "source": [
    "By integrating Gen AI to the existing chatbots improves many things. Starting from \n",
    "- Improving the architecture\n",
    "\n",
    "- Performance\n",
    "- Better User Experience\n",
    "\n",
    "Let's first identify the key differences between \"Chatbot\" and \"Chat Application\"."
   ]
  },
  {
   "cell_type": "markdown",
   "metadata": {},
   "source": [
    "### Chatbot vs Chat Application (powered by AI)"
   ]
  },
  {
   "cell_type": "markdown",
   "metadata": {},
   "source": [
    "**Chatbot** - It's main purpose is to automate specific conversational tasks such as answering FAQs, viewing invoices, tracking a package, etc. Often build on text or rule-based logic.\n",
    "\n",
    "**AI powered Chat Application** - Unlike traditional chatbot, its capable of handling various forms of digital communication such as text, audio, video and images. Incorporating GenAI helps it to provide human-like conversations and produce high-quality responses.\n",
    "\n",
    "Below are some of the key differences between the Chatbots and AI powered chat applications:\n",
    "\n",
    "| Chatbot | Generative AI - powered Chat Application | \n",
    "| :---- | :--- |\n",
    "| Mostly developed using rule-based or text-based | Remembers the context | \n",
    "| Integrated into larger systems | Supports one or multiple chatbots |\n",
    "| Works as its programmed | Using generative AI models | \n",
    "| Limited domain interaction | Will work for open domain discussion |"
   ]
  },
  {
   "cell_type": "markdown",
   "metadata": {},
   "source": [
    "### Using pre-built functionalities with SDKs and APIs"
   ]
  },
  {
   "cell_type": "markdown",
   "metadata": {},
   "source": [
    "While building our chat applications, it is very essential to have a look on the already available APIs and SDKs which we can leverage to implement our chat application. \n",
    "\n",
    "By employing this, we will save more time on building the application and instead we can utilize the same on our business logic. Below are some of the key points:\n",
    "\n",
    "- **Fast development process and reduces overhead** - as we will use the prebuilt functionality there will be lot of time saved in the development of the chat application.\n",
    "\n",
    "- **Better performance** - APIs and SDKs are well-designed to handle scaling issues making them to auto-scale when necessary. \n",
    "- **Easy maintenance** - Updates can be done very easily just by upgrading the version to the latest version.\n",
    "- **Access latest technology innovations** - by using the Fine-tuned models in our chat applications."
   ]
  },
  {
   "cell_type": "markdown",
   "metadata": {},
   "source": [
    "### User Experience (UX)"
   ]
  },
  {
   "cell_type": "markdown",
   "metadata": {},
   "source": [
    "As per the industry standards, general User Experience principles are applied to chat applications. But apart from the same, there were some more fuunctionalities that needs to be considered such as: \n",
    "\n",
    "- Ambiguous answers needs to be addressed by enabling a feature where users can re-check the response for accuracy. \n",
    "\n",
    "- Generative AI retains the context of the chat. However, enabling a feature where users can control and manage the context will be more helpful.\n",
    "\n",
    "- Personalization offers individualized experience for an user."
   ]
  },
  {
   "cell_type": "markdown",
   "metadata": {},
   "source": [
    "## Code for ChatCompletion API"
   ]
  },
  {
   "cell_type": "code",
   "execution_count": null,
   "metadata": {},
   "outputs": [],
   "source": [
    "import os\n",
    "from openai import OpenAI\n",
    "\n",
    "API_KEY = os.getenv(\"OPENAI_API_KEY\",\"\")\n",
    "\n",
    "client = OpenAI(\n",
    "    api_key=API_KEY\n",
    "    )\n",
    "\n",
    "chat_completion = client.chat.completions.create(\n",
    "    model=\"gpt-3.5-turbo\", \n",
    "    messages=[{\"role\": \"user\", \n",
    "               \"content\": \"Suggest two titles for an instructional lesson on chat applications for generative AI.\"\n",
    "               }])"
   ]
  }
 ],
 "metadata": {
  "language_info": {
   "name": "python"
  }
 },
 "nbformat": 4,
 "nbformat_minor": 2
}
