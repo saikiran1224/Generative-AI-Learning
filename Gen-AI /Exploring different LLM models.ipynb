{
 "cells": [
  {
   "cell_type": "markdown",
   "metadata": {},
   "source": [
    "# Exploring Different LLM Models"
   ]
  },
  {
   "cell_type": "markdown",
   "metadata": {},
   "source": [
    "LLMs are differntiated based on many aspects. Be it Architecture, Training data and use case, etc. Its very important to chose the right LLM model based on our use case or the project that we are trying to develop. \n",
    "\n",
    "Lets see some basic model types based on some use-cases: \n",
    "\n",
    "### 1. Audio and Speech Recognition\n",
    "We can use Whisper-type models for this purpose. These models helps us to recognize the voice in various different languages which it was trained upon. \n",
    "\n",
    "These models are trained on diverse audio and can perform multi-lingual speech recognition. \n",
    "\n",
    "### 2. Image Generation\n",
    "Dall-E, Bing Image creator and Midjourney were one of the famous models which can be used for Image creation. DALL-E is an offering by OpenAI.\n",
    "\n",
    "### 3. Text Generation\n",
    "There are many models available in the market which is capable of producting text as an output. OpenAI's GPT 3.5 to 4.0 is one of the latest model. \n",
    "\n",
    "GPT 4.0 is expensive model and GPT 3.5 comes at good price. \n",
    "\n",
    "### 4. Multi-modality\n",
    "\n",
    "It means the same model is capable of doing multiple tasks. The latest releases of OpenAI models which are capable of combining visual understanding text based.\n"
   ]
  },
  {
   "cell_type": "markdown",
   "metadata": {},
   "source": [
    "## Foundation Models vs LLMs"
   ]
  },
  {
   "cell_type": "markdown",
   "metadata": {},
   "source": [
    "- Foundation models are considered as a Superset and LLMs are part of Foundation model like a Subset. \n",
    "\n",
    "- Foundation models (FMs) are trained on large versatile data and they are trained using either **Unsupervised Learning or Self-supervised learning**. \n",
    "\n",
    "- These Foundation models are **capable of handling different types of modalities including Images, Audio, text, etc.**\n",
    "\n",
    "- These models are developed using **Complex Deep Neural Networks with Billions of parameters**. \n",
    "\n",
    "- All the other models are built on-top of these Foundation models meaning they can be used as a starting point for other models. "
   ]
  }
 ],
 "metadata": {
  "language_info": {
   "name": "python"
  }
 },
 "nbformat": 4,
 "nbformat_minor": 2
}
